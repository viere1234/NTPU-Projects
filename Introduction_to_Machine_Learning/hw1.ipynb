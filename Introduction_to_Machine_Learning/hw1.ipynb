{
  "nbformat": 4,
  "nbformat_minor": 0,
  "metadata": {
    "colab": {
      "provenance": []
    },
    "kernelspec": {
      "name": "python3",
      "display_name": "Python 3"
    },
    "accelerator": "GPU"
  },
  "cells": [
    {
      "cell_type": "markdown",
      "metadata": {
        "id": "mz0_QVkxCrX3"
      },
      "source": [
        "# **Homework 1: COVID-19 Cases Prediction (Regression)**"
      ]
    },
    {
      "cell_type": "markdown",
      "metadata": {
        "id": "ZeZnPAiwDRWG"
      },
      "source": [
        "Author: Heng-Jui Chang\n",
        "\n",
        "Objectives:\n",
        "* Solve a regression problem with deep neural networks (DNN).\n",
        "* Understand basic DNN training tips.\n",
        "* Get familiar with PyTorch.\n",
        "\n",
        "If any questions, please contact the TAs via TA hours, or email.\n"
      ]
    },
    {
      "cell_type": "code",
      "source": [
        "!nvidia-smi # Check GPU\n",
        "\n",
        "import os\n",
        "from google.colab import drive\n",
        "drive.mount('/content/drive') # Mount to google drive\n",
        "os.chdir('/content/drive/MyDrive/ML2023Spring/hw1')\n",
        "os.listdir() # Check Dir"
      ],
      "metadata": {
        "id": "Qp6qAhr6mezT",
        "colab": {
          "base_uri": "https://localhost:8080/"
        },
        "outputId": "9d912a73-44af-4952-bb68-ff9930164572"
      },
      "execution_count": 132,
      "outputs": [
        {
          "output_type": "stream",
          "name": "stdout",
          "text": [
            "Mon Mar 13 09:04:51 2023       \n",
            "+-----------------------------------------------------------------------------+\n",
            "| NVIDIA-SMI 525.85.12    Driver Version: 525.85.12    CUDA Version: 12.0     |\n",
            "|-------------------------------+----------------------+----------------------+\n",
            "| GPU  Name        Persistence-M| Bus-Id        Disp.A | Volatile Uncorr. ECC |\n",
            "| Fan  Temp  Perf  Pwr:Usage/Cap|         Memory-Usage | GPU-Util  Compute M. |\n",
            "|                               |                      |               MIG M. |\n",
            "|===============================+======================+======================|\n",
            "|   0  Tesla T4            Off  | 00000000:00:04.0 Off |                    0 |\n",
            "| N/A   56C    P0    29W /  70W |    805MiB / 15360MiB |      0%      Default |\n",
            "|                               |                      |                  N/A |\n",
            "+-------------------------------+----------------------+----------------------+\n",
            "                                                                               \n",
            "+-----------------------------------------------------------------------------+\n",
            "| Processes:                                                                  |\n",
            "|  GPU   GI   CI        PID   Type   Process name                  GPU Memory |\n",
            "|        ID   ID                                                   Usage      |\n",
            "|=============================================================================|\n",
            "+-----------------------------------------------------------------------------+\n",
            "Drive already mounted at /content/drive; to attempt to forcibly remount, call drive.mount(\"/content/drive\", force_remount=True).\n"
          ]
        },
        {
          "output_type": "execute_result",
          "data": {
            "text/plain": [
              "['ML2021Spring_HW1 2.ipynb',\n",
              " 'data',\n",
              " '.ipynb_checkpoints',\n",
              " 'models',\n",
              " 'results',\n",
              " 'sample',\n",
              " 'ML_411185050_HW1.ipynb']"
            ]
          },
          "metadata": {},
          "execution_count": 132
        }
      ]
    },
    {
      "cell_type": "markdown",
      "metadata": {
        "id": "Jx3x1nDkG-Uy"
      },
      "source": [
        "# **Download Data**\n",
        "\n",
        "\n",
        "If the Google drive links are dead, you can download data from [kaggle](https://www.kaggle.com/c/ntpucsie-ml2022spring-hw1-v2), and upload data manually to the workspace.\n",
        "\n",
        "如果需要邀請，邀請連結，這是[邀請連結](https://www.kaggle.com/t/7d7a965ceab54a46b9ec76973c25149a)"
      ]
    },
    {
      "cell_type": "code",
      "metadata": {
        "colab": {
          "base_uri": "https://localhost:8080/"
        },
        "id": "tMj55YDKG6ch",
        "outputId": "35302fe8-d43c-4c90-b98e-432ea5c9d20b"
      },
      "source": [
        "tr_path = 'data/covid.train_v2.csv'  # path to training data\n",
        "tt_path = 'data/covid.test_v2.csv'   # path to testing data\n",
        "\n",
        "!gdown '1Wweg6vyFs2GbLzbi4CLA64cWb1gQafPA' --output data/covid.train_v2.csv\n",
        "!gdown '1VtQ8E3cy6gatnYPkJZ7f4BkLA7BmQhyd' --output data/covid.test_v2.csv"
      ],
      "execution_count": 133,
      "outputs": [
        {
          "output_type": "stream",
          "name": "stdout",
          "text": [
            "Downloading...\n",
            "From: https://drive.google.com/uc?id=1Wweg6vyFs2GbLzbi4CLA64cWb1gQafPA\n",
            "To: /content/drive/MyDrive/ML2023Spring/hw1/data/covid.train_v2.csv\n",
            "100% 1.58M/1.58M [00:00<00:00, 138MB/s]\n",
            "Downloading...\n",
            "From: https://drive.google.com/uc?id=1VtQ8E3cy6gatnYPkJZ7f4BkLA7BmQhyd\n",
            "To: /content/drive/MyDrive/ML2023Spring/hw1/data/covid.test_v2.csv\n",
            "100% 408k/408k [00:00<00:00, 66.8MB/s]\n"
          ]
        }
      ]
    },
    {
      "cell_type": "markdown",
      "metadata": {
        "id": "wS_4-77xHk44"
      },
      "source": [
        "# **Import Some Packages**"
      ]
    },
    {
      "cell_type": "code",
      "metadata": {
        "id": "k-onQd4JNA5H"
      },
      "source": [
        "# Custom Packages\n",
        "import time # For file name\n",
        "\n",
        "# PyTorch\n",
        "import torch\n",
        "import torch.nn as nn\n",
        "from torch.utils.data import Dataset, DataLoader\n",
        "\n",
        "# For data preprocess\n",
        "import numpy as np\n",
        "import csv\n",
        "\n",
        "# For plotting\n",
        "import matplotlib.pyplot as plt\n",
        "from matplotlib.pyplot import figure\n",
        "\n",
        "myseed = 53489  # set a random seed for reproducibility\n",
        "torch.backends.cudnn.deterministic = True\n",
        "torch.backends.cudnn.benchmark = False\n",
        "np.random.seed(myseed)\n",
        "torch.manual_seed(myseed)\n",
        "if torch.cuda.is_available():\n",
        "    torch.cuda.manual_seed_all(myseed)"
      ],
      "execution_count": 134,
      "outputs": []
    },
    {
      "cell_type": "markdown",
      "metadata": {
        "id": "BtE3b6JEH7rw"
      },
      "source": [
        "# **Some Utilities**\n",
        "\n",
        "You do not need to modify this part."
      ]
    },
    {
      "cell_type": "code",
      "metadata": {
        "id": "FWMT3uf1NGQp"
      },
      "source": [
        "def get_device():\n",
        "    ''' Get device (if GPU is available, use GPU) '''\n",
        "    return 'cuda' if torch.cuda.is_available() else 'cpu'\n",
        "\n",
        "def plot_learning_curve(loss_record, title=''):\n",
        "    ''' Plot learning curve of your DNN (train & dev loss) '''\n",
        "    total_steps = len(loss_record['train'])\n",
        "    x_1 = range(total_steps)\n",
        "    x_2 = x_1[::len(loss_record['train']) // len(loss_record['dev'])]\n",
        "    figure(figsize=(6, 4))\n",
        "    plt.plot(x_1, loss_record['train'], c='tab:red', label='train')\n",
        "    plt.plot(x_2, loss_record['dev'], c='tab:cyan', label='dev')\n",
        "    plt.ylim(0.0, 4.)\n",
        "    plt.xlabel('Training steps')\n",
        "    plt.ylabel('MSE loss')\n",
        "    plt.title('Learning curve of {}'.format(title))\n",
        "    plt.legend()\n",
        "    plt.show()\n",
        "\n",
        "\n",
        "def plot_pred(dv_set, model, device, lim=35., preds=None, targets=None):\n",
        "    ''' Plot prediction of your DNN '''\n",
        "    if preds is None or targets is None:\n",
        "        model.eval()\n",
        "        preds, targets = [], []\n",
        "        for x, y in dv_set:\n",
        "            x, y = x.to(device), y.to(device)\n",
        "            with torch.no_grad():\n",
        "                pred = model(x)\n",
        "                preds.append(pred.detach().cpu())\n",
        "                targets.append(y.detach().cpu())\n",
        "        preds = torch.cat(preds, dim=0).numpy()\n",
        "        targets = torch.cat(targets, dim=0).numpy()\n",
        "\n",
        "    figure(figsize=(5, 5))\n",
        "    plt.scatter(targets, preds, c='r', alpha=0.5)\n",
        "    plt.plot([-0.2, lim], [-0.2, lim], c='b')\n",
        "    plt.xlim(-0.2, lim)\n",
        "    plt.ylim(-0.2, lim)\n",
        "    plt.xlabel('ground truth value')\n",
        "    plt.ylabel('predicted value')\n",
        "    plt.title('Ground Truth v.s. Prediction')\n",
        "    plt.show()"
      ],
      "execution_count": 135,
      "outputs": []
    },
    {
      "cell_type": "markdown",
      "metadata": {
        "id": "39U_XFX6KOoj"
      },
      "source": [
        "# **Preprocess**\n",
        "\n",
        "We have three kinds of datasets:\n",
        "* `train`: for training\n",
        "* `dev`: for validation\n",
        "* `test`: for testing (w/o target value)"
      ]
    },
    {
      "cell_type": "markdown",
      "source": [
        "# Feature Selection"
      ],
      "metadata": {
        "id": "vC9t6BAs0TYu"
      }
    },
    {
      "cell_type": "code",
      "source": [
        "import pandas as pd\n",
        "from sklearn.feature_selection import SelectKBest\n",
        "from sklearn.feature_selection import f_regression\n",
        "\n",
        "def FeatureSelection(num = 20):\n",
        "  data = pd.read_csv(tr_path)\n",
        "  x = data[data.columns[1:94]]\n",
        "  y = data[data.columns[-1]]\n",
        "  best = SelectKBest(score_func=f_regression, k='all')\n",
        "  fit = best.fit(x, y)\n",
        "  scores = pd.DataFrame(fit.scores_)\n",
        "  columns = pd.DataFrame(x.columns)\n",
        "  table = pd.concat([scores, columns], axis=1)\n",
        "  table.columns = ['Score', 'Feature']\n",
        "  print(table.nlargest(num, 'Score'))\n",
        "  selectedFeatures = list(scores.nlargest(20, 0).index)\n",
        "  return selectedFeatures\n",
        "\n",
        "# num = 20: (epoch =  471, loss = 0.8643)\n",
        "# num = 15: (epoch =  471, loss = 0.8643)\n",
        "selectedFeatures = FeatureSelection(14) # Fixed features\n",
        "print('Selected Features: {}'.format(selectedFeatures))"
      ],
      "metadata": {
        "colab": {
          "base_uri": "https://localhost:8080/"
        },
        "id": "EQA_63lQ0bvW",
        "outputId": "6e059a1b-8dcd-4091-ad14-dc38ca4e59a1"
      },
      "execution_count": 136,
      "outputs": [
        {
          "output_type": "stream",
          "name": "stdout",
          "text": [
            "            Score            Feature\n",
            "75  125451.082667  tested_positive.1\n",
            "57   60306.597235    tested_positive\n",
            "42    7434.712354       hh_cmnty_cli\n",
            "60    7350.677778     hh_cmnty_cli.1\n",
            "78    7241.555065     hh_cmnty_cli.2\n",
            "43    6761.973441     nohh_cmnty_cli\n",
            "61    6683.693337   nohh_cmnty_cli.1\n",
            "79    6569.078833   nohh_cmnty_cli.2\n",
            "40    5284.981344                cli\n",
            "58    5279.286705              cli.1\n",
            "76    5157.855546              cli.2\n",
            "41    4992.650580                ili\n",
            "59    4945.501701              ili.1\n",
            "77    4798.580200              ili.2\n",
            "Selected Features: [75, 57, 42, 60, 78, 43, 61, 79, 40, 58, 76, 41, 59, 77, 92, 74, 56, 87, 69, 83]\n"
          ]
        }
      ]
    },
    {
      "cell_type": "markdown",
      "metadata": {
        "id": "TQ-MdwpLL7Dt"
      },
      "source": [
        "## **Dataset**\n",
        "\n",
        "The `COVID19Dataset` below does:\n",
        "* read `.csv` files\n",
        "* extract features\n",
        "* split `covid.train.csv` into train/dev sets\n",
        "* normalize features\n",
        "\n",
        "Finishing `TODO` below might make you pass medium baseline."
      ]
    },
    {
      "cell_type": "code",
      "metadata": {
        "id": "0zlpIp9ANJRU"
      },
      "source": [
        "class COVID19Dataset(Dataset):\n",
        "    ''' Dataset for loading and preprocessing the COVID19 dataset '''\n",
        "    def __init__(self,\n",
        "                 path,\n",
        "                 mode='train',\n",
        "                 target_only=False):\n",
        "        self.mode = mode\n",
        "\n",
        "        # Read data into numpy arrays\n",
        "        with open(path, 'r') as fp:\n",
        "            data = list(csv.reader(fp))\n",
        "            data = np.array(data[1:])[:, 1:].astype(float)\n",
        "        \n",
        "        if not target_only:\n",
        "            feats = list(range(93))\n",
        "        else:\n",
        "            #feats = list(range(1, 41)) + [57, 75]\n",
        "            feats = selectedFeatures # Use sklearn's result to help choose better features\n",
        "\n",
        "        if mode == 'test':\n",
        "            # Testing data\n",
        "            # data: 560 x 93 (40 states + day 1 (18) + day 2 (18) + day 3 (17))\n",
        "            data = data[:, feats]\n",
        "            self.data = torch.FloatTensor(data)\n",
        "        else:\n",
        "            # Training data (train/dev sets)\n",
        "            # data: 2140 x 94 (40 states + day 1 (18) + day 2 (18) + day 3 (18))\n",
        "            target = data[:, -1]\n",
        "            data = data[:, feats]\n",
        "\n",
        "            self.mean = torch.FloatTensor(data).mean(dim=0, keepdim=True)\n",
        "            self.std = torch.FloatTensor(data).std(dim=0, keepdim=True)\n",
        "            \n",
        "            # Splitting training data into train & dev sets\n",
        "            if mode == 'train':\n",
        "                indices = [i for i in range(len(data)) if i % 5 != 0]\n",
        "                #indices = [i for i in range(len(data))]\n",
        "            elif mode == 'dev':\n",
        "                indices = [i for i in range(len(data)) if i % 5 == 0]\n",
        "                #indices = [i for i in range(len(data))]\n",
        "            \n",
        "            # Convert data into PyTorch tensors\n",
        "            self.data = torch.FloatTensor(data[indices])\n",
        "            self.target = torch.FloatTensor(target[indices])\n",
        "\n",
        "        self.dim = self.data.shape[1]\n",
        "\n",
        "        print('Finished reading the {} set of COVID19 Dataset ({} samples found, each dim = {})'\n",
        "              .format(mode, len(self.data), self.dim))\n",
        "\n",
        "    def __getitem__(self, index):\n",
        "        # Returns one sample at a time\n",
        "        if self.mode in ['train', 'dev']:\n",
        "            # For training\n",
        "            return self.data[index], self.target[index]\n",
        "        else:\n",
        "            # For testing (no target)\n",
        "            return self.data[index]\n",
        "\n",
        "    def __len__(self):\n",
        "        # Returns the size of the dataset\n",
        "        return len(self.data)\n",
        "\n",
        "    def normalization(self, mean=None, std=None):\n",
        "        if self.mode == 'train' or self.mode =='dev':\n",
        "            mean = self.mean\n",
        "            std = self.std \n",
        "            self.data =  (self.data-mean) / std\n",
        "        else:\n",
        "            self.data =  (self.data-mean) / std\n",
        "            \n",
        "        return mean, std"
      ],
      "execution_count": 137,
      "outputs": []
    },
    {
      "cell_type": "markdown",
      "metadata": {
        "id": "AlhTlkE7MDo3"
      },
      "source": [
        "## **DataLoader**\n",
        "\n",
        "A `DataLoader` loads data from a given `Dataset` into batches.\n"
      ]
    },
    {
      "cell_type": "code",
      "metadata": {
        "id": "hlhLk5t6MBX3"
      },
      "source": [
        "def prep_dataloader(path, mode, batch_size, n_jobs=0, target_only=False, mean=None, std=None):\n",
        "    ''' Generates a dataset, then is put into a dataloader. '''\n",
        "    dataset = COVID19Dataset(path, mode=mode, target_only=target_only)  # Construct dataset\n",
        "    mean, std = dataset.normalization(mean, std)\n",
        "    dataloader = DataLoader(\n",
        "        dataset, batch_size,\n",
        "        shuffle=(mode == 'train'), drop_last=False,\n",
        "        num_workers=n_jobs, pin_memory=True)                            # Construct dataloader\n",
        "    return dataloader, mean, std"
      ],
      "execution_count": 138,
      "outputs": []
    },
    {
      "cell_type": "markdown",
      "metadata": {
        "id": "SGuycwR0MeQB"
      },
      "source": [
        "# **Deep Neural Network**\n",
        "\n",
        "`NeuralNet` is an `nn.Module` designed for regression.\n",
        "The DNN consists of 2 fully-connected layers with ReLU activation.\n",
        "This module also included a function `cal_loss` for calculating loss.\n"
      ]
    },
    {
      "cell_type": "code",
      "metadata": {
        "id": "49-uXYovOAI0"
      },
      "source": [
        "class NeuralNet(nn.Module):\n",
        "    ''' A simple fully-connected deep neural network '''\n",
        "    def __init__(self, input_dim):\n",
        "        super(NeuralNet, self).__init__()\n",
        "\n",
        "        # Define your neural network here\n",
        "        # TODO: How to modify this model to achieve better performance?\n",
        "        self.net = nn.Sequential( # Smaller better?\n",
        "            nn.Linear(input_dim, 20),\n",
        "            nn.Dropout(p=0.2), # 0.1 with 0.8192 public 1.06312 0.2 with 0.8354\n",
        "            nn.LeakyReLU(),\n",
        "            nn.Linear(20, 1)\n",
        "        )\n",
        "\n",
        "        # Mean squared error loss\n",
        "        self.criterion = nn.MSELoss(reduction='mean')\n",
        "\n",
        "    def forward(self, x):\n",
        "        ''' Given input of size (batch_size x input_dim), compute output of the network '''\n",
        "        return self.net(x).squeeze(1)\n",
        "\n",
        "    def cal_loss(self, pred, target, l1_lambda):\n",
        "        # L1\n",
        "        l1_regulation = torch.tensor(0.).to(device)\n",
        "        for parameter in model.parameters():\n",
        "          l1_regulation += torch.sum(torch.abs(parameter))\n",
        "        return self.criterion(pred, target) + (l1_lambda * l1_regulation)"
      ],
      "execution_count": 139,
      "outputs": []
    },
    {
      "cell_type": "markdown",
      "metadata": {
        "id": "DvFWVjZ5Nvga"
      },
      "source": [
        "# **Train/Dev/Test**"
      ]
    },
    {
      "cell_type": "markdown",
      "metadata": {
        "id": "MAM8QecJOyqn"
      },
      "source": [
        "## **Training**"
      ]
    },
    {
      "cell_type": "code",
      "metadata": {
        "id": "lOqcmYzMO7jB"
      },
      "source": [
        "def train(tr_set, dv_set, model, config, device):\n",
        "    ''' DNN training '''\n",
        "\n",
        "    n_epochs = config['n_epochs']  # Maximum number of epochs\n",
        "\n",
        "    # Setup optimizer\n",
        "    optimizer = getattr(torch.optim, config['optimizer'])(\n",
        "        model.parameters(), **config['optim_hparas'])\n",
        "\n",
        "    min_mse = 1000.\n",
        "    loss_record = {'train': [], 'dev': []}      # for recording training loss\n",
        "    early_stop_cnt = 0\n",
        "    epoch = 0\n",
        "    while epoch < n_epochs:\n",
        "        model.train()                           # set model to training mode\n",
        "        for x, y in tr_set:                     # iterate through the dataloader\n",
        "            optimizer.zero_grad()               # set gradient to zero\n",
        "            x, y = x.to(device), y.to(device)   # move data to device (cpu/cuda)\n",
        "            pred = model(x)                     # forward pass (compute output)\n",
        "            mse_loss = model.cal_loss(pred, y, config['l1_lambda'])  # compute loss\n",
        "            mse_loss.backward()                 # compute gradient (backpropagation)\n",
        "            optimizer.step()                    # update model with optimizer\n",
        "            loss_record['train'].append(mse_loss.detach().cpu().item())\n",
        "\n",
        "        # After each epoch, test your model on the validation (development) set.\n",
        "        dev_mse = dev(dv_set, model, device)\n",
        "        if dev_mse < min_mse:\n",
        "            # Save model if your model improved\n",
        "            min_mse = dev_mse\n",
        "            print('Saving model (epoch = {:4d}, loss = {:.4f})'\n",
        "                .format(epoch + 1, min_mse))\n",
        "            torch.save(model.state_dict(), config['save_path'])  # Save model to specified path\n",
        "            early_stop_cnt = 0\n",
        "        else:\n",
        "            early_stop_cnt += 1\n",
        "\n",
        "        epoch += 1\n",
        "        loss_record['dev'].append(dev_mse)\n",
        "        if early_stop_cnt > config['early_stop']:\n",
        "            # Stop training if your model stops improving for \"config['early_stop']\" epochs.\n",
        "            break\n",
        "\n",
        "    print('Finished training after {} epochs'.format(epoch))\n",
        "    return min_mse, loss_record"
      ],
      "execution_count": 140,
      "outputs": []
    },
    {
      "cell_type": "markdown",
      "metadata": {
        "id": "0hSd4Bn3O2PL"
      },
      "source": [
        "## **Validation**"
      ]
    },
    {
      "cell_type": "code",
      "metadata": {
        "id": "yrxrD3YsN3U2"
      },
      "source": [
        "def dev(dv_set, model, device):\n",
        "    model.eval()                                # set model to evalutation mode\n",
        "    total_loss = 0\n",
        "    for x, y in dv_set:                         # iterate through the dataloader\n",
        "        x, y = x.to(device), y.to(device)       # move data to device (cpu/cuda)\n",
        "        with torch.no_grad():                   # disable gradient calculation\n",
        "            pred = model(x)                     # forward pass (compute output)\n",
        "            mse_loss = model.cal_loss(pred, y, config['l1_lambda'])  # compute loss\n",
        "        total_loss += mse_loss.detach().cpu().item() * len(x)  # accumulate loss\n",
        "    total_loss = total_loss / len(dv_set.dataset)              # compute averaged loss\n",
        "\n",
        "    return total_loss"
      ],
      "execution_count": 141,
      "outputs": []
    },
    {
      "cell_type": "markdown",
      "metadata": {
        "id": "g0pdrhQAO41L"
      },
      "source": [
        "## **Testing**"
      ]
    },
    {
      "cell_type": "code",
      "metadata": {
        "id": "aSBMRFlYN5tB"
      },
      "source": [
        "def test(tt_set, model, device):\n",
        "    model.eval()                                # set model to evalutation mode\n",
        "    preds = []\n",
        "    for x in tt_set:                            # iterate through the dataloader\n",
        "        x = x.to(device)                        # move data to device (cpu/cuda)\n",
        "        with torch.no_grad():                   # disable gradient calculation\n",
        "            pred = model(x)                     # forward pass (compute output)\n",
        "            preds.append(pred.detach().cpu())   # collect prediction\n",
        "    preds = torch.cat(preds, dim=0).numpy()     # concatenate all predictions and convert to a numpy array\n",
        "    return preds"
      ],
      "execution_count": 142,
      "outputs": []
    },
    {
      "cell_type": "markdown",
      "metadata": {
        "id": "SvckkF5dvf0j"
      },
      "source": [
        "# **Setup Hyper-parameters**\n",
        "\n",
        "`config` contains hyper-parameters for training and the path to save your model."
      ]
    },
    {
      "cell_type": "code",
      "metadata": {
        "id": "NPXpdumwPjE7"
      },
      "source": [
        "device = get_device()                 # get the current available device ('cpu' or 'cuda')\n",
        "os.makedirs('models', exist_ok=True)  # The trained model will be saved to ./models/\n",
        "target_only = True                   # TODO: Using 40 states & 2 tested_positive features\n",
        "time_stamp = str(int(time.time()))\n",
        "# TODO: How to tune these hyper-parameters to improve your model's performance?\n",
        "config = {\n",
        "    'n_epochs': 10000,                # maximum number of epochs\n",
        "    'batch_size': 200,               # mini-batch size for dataloader\n",
        "    'optimizer': 'RAdam',              # optimization algorithm (optimizer in torch.optim)\n",
        "    'optim_hparas': {                # hyper-parameters for the optimizer (depends on which optimizer you are using)\n",
        "        'lr': 0.003,                 # learning rate of SGD\n",
        "        #'weight_decay': 1e-5          # L2\n",
        "        #'momentum': 0.9              # momentum for SGD\n",
        "    },\n",
        "    'l1_lambda': 1e-5,                # L1\n",
        "    'early_stop': 200,               # early stopping epochs (the number epochs since your model's last improvement)\n",
        "    'save_path': 'models/model_{}.pth'.format(time_stamp)  # your model will be saved here\n",
        "}"
      ],
      "execution_count": 143,
      "outputs": []
    },
    {
      "cell_type": "markdown",
      "metadata": {
        "id": "6j1eOV3TOH-j"
      },
      "source": [
        "# **Load data and model**"
      ]
    },
    {
      "cell_type": "code",
      "metadata": {
        "colab": {
          "base_uri": "https://localhost:8080/"
        },
        "id": "eNrYBMmePLKm",
        "outputId": "e4c46f12-daee-4e29-d123-c352fd16ba8c"
      },
      "source": [
        "tr_set, mean, std = prep_dataloader(tr_path, 'train', config['batch_size'], target_only=target_only)\n",
        "dv_set, _, _ = prep_dataloader(tr_path, 'dev', config['batch_size'], target_only=target_only, mean=mean, std=std)\n",
        "tt_set, _, _ = prep_dataloader(tt_path, 'test', config['batch_size'], target_only=target_only, mean=mean, std=std)"
      ],
      "execution_count": 144,
      "outputs": [
        {
          "output_type": "stream",
          "name": "stdout",
          "text": [
            "Finished reading the train set of COVID19 Dataset (1712 samples found, each dim = 20)\n",
            "Finished reading the dev set of COVID19 Dataset (428 samples found, each dim = 20)\n",
            "Finished reading the test set of COVID19 Dataset (560 samples found, each dim = 20)\n"
          ]
        }
      ]
    },
    {
      "cell_type": "code",
      "metadata": {
        "id": "FHylSirLP9oh"
      },
      "source": [
        "model = NeuralNet(tr_set.dataset.dim).to(device)  # Construct model and move to device"
      ],
      "execution_count": 145,
      "outputs": []
    },
    {
      "cell_type": "markdown",
      "metadata": {
        "id": "sX2B_zgSOPTJ"
      },
      "source": [
        "# **Start Training!**"
      ]
    },
    {
      "cell_type": "code",
      "metadata": {
        "colab": {
          "base_uri": "https://localhost:8080/"
        },
        "id": "GrEbUxazQAAZ",
        "outputId": "46a4c9e0-7e98-4293-ca48-7a9cd8ba408a"
      },
      "source": [
        "model_loss, model_loss_record = train(tr_set, dv_set, model, config, device)"
      ],
      "execution_count": 146,
      "outputs": [
        {
          "output_type": "stream",
          "name": "stdout",
          "text": [
            "Saving model (epoch =    1, loss = 235.8565)\n",
            "Saving model (epoch =    2, loss = 234.2047)\n",
            "Saving model (epoch =    3, loss = 231.7642)\n",
            "Saving model (epoch =    4, loss = 228.6868)\n",
            "Saving model (epoch =    5, loss = 224.9763)\n",
            "Saving model (epoch =    6, loss = 220.6514)\n",
            "Saving model (epoch =    7, loss = 215.6914)\n",
            "Saving model (epoch =    8, loss = 210.1659)\n",
            "Saving model (epoch =    9, loss = 204.0141)\n",
            "Saving model (epoch =   10, loss = 197.3191)\n",
            "Saving model (epoch =   11, loss = 190.0470)\n",
            "Saving model (epoch =   12, loss = 182.3263)\n",
            "Saving model (epoch =   13, loss = 174.2173)\n",
            "Saving model (epoch =   14, loss = 165.7544)\n",
            "Saving model (epoch =   15, loss = 157.0649)\n",
            "Saving model (epoch =   16, loss = 148.2729)\n",
            "Saving model (epoch =   17, loss = 139.4373)\n",
            "Saving model (epoch =   18, loss = 130.8675)\n",
            "Saving model (epoch =   19, loss = 122.5559)\n",
            "Saving model (epoch =   20, loss = 114.8198)\n",
            "Saving model (epoch =   21, loss = 107.6488)\n",
            "Saving model (epoch =   22, loss = 101.1361)\n",
            "Saving model (epoch =   23, loss = 95.4053)\n",
            "Saving model (epoch =   24, loss = 90.4165)\n",
            "Saving model (epoch =   25, loss = 86.2785)\n",
            "Saving model (epoch =   26, loss = 82.8289)\n",
            "Saving model (epoch =   27, loss = 80.0139)\n",
            "Saving model (epoch =   28, loss = 77.7205)\n",
            "Saving model (epoch =   29, loss = 75.8519)\n",
            "Saving model (epoch =   30, loss = 74.2483)\n",
            "Saving model (epoch =   31, loss = 72.8173)\n",
            "Saving model (epoch =   32, loss = 71.5012)\n",
            "Saving model (epoch =   33, loss = 70.2959)\n",
            "Saving model (epoch =   34, loss = 69.1286)\n",
            "Saving model (epoch =   35, loss = 67.9852)\n",
            "Saving model (epoch =   36, loss = 66.8766)\n",
            "Saving model (epoch =   37, loss = 65.7131)\n",
            "Saving model (epoch =   38, loss = 64.5437)\n",
            "Saving model (epoch =   39, loss = 63.2606)\n",
            "Saving model (epoch =   40, loss = 62.0300)\n",
            "Saving model (epoch =   41, loss = 60.7056)\n",
            "Saving model (epoch =   42, loss = 59.3451)\n",
            "Saving model (epoch =   43, loss = 57.8954)\n",
            "Saving model (epoch =   44, loss = 56.4162)\n",
            "Saving model (epoch =   45, loss = 54.8443)\n",
            "Saving model (epoch =   46, loss = 53.2437)\n",
            "Saving model (epoch =   47, loss = 51.5858)\n",
            "Saving model (epoch =   48, loss = 49.9209)\n",
            "Saving model (epoch =   49, loss = 48.2723)\n",
            "Saving model (epoch =   50, loss = 46.6390)\n",
            "Saving model (epoch =   51, loss = 45.0107)\n",
            "Saving model (epoch =   52, loss = 43.3813)\n",
            "Saving model (epoch =   53, loss = 41.7347)\n",
            "Saving model (epoch =   54, loss = 40.0978)\n",
            "Saving model (epoch =   55, loss = 38.5199)\n",
            "Saving model (epoch =   56, loss = 36.9624)\n",
            "Saving model (epoch =   57, loss = 35.3964)\n",
            "Saving model (epoch =   58, loss = 33.7819)\n",
            "Saving model (epoch =   59, loss = 32.1231)\n",
            "Saving model (epoch =   60, loss = 30.4917)\n",
            "Saving model (epoch =   61, loss = 28.9048)\n",
            "Saving model (epoch =   62, loss = 27.3677)\n",
            "Saving model (epoch =   63, loss = 25.8754)\n",
            "Saving model (epoch =   64, loss = 24.4047)\n",
            "Saving model (epoch =   65, loss = 23.0527)\n",
            "Saving model (epoch =   66, loss = 21.7705)\n",
            "Saving model (epoch =   67, loss = 20.5631)\n",
            "Saving model (epoch =   68, loss = 19.4543)\n",
            "Saving model (epoch =   69, loss = 18.4212)\n",
            "Saving model (epoch =   70, loss = 17.4743)\n",
            "Saving model (epoch =   71, loss = 16.5923)\n",
            "Saving model (epoch =   72, loss = 15.7772)\n",
            "Saving model (epoch =   73, loss = 15.0236)\n",
            "Saving model (epoch =   74, loss = 14.2811)\n",
            "Saving model (epoch =   75, loss = 13.6129)\n",
            "Saving model (epoch =   76, loss = 12.9643)\n",
            "Saving model (epoch =   77, loss = 12.3845)\n",
            "Saving model (epoch =   78, loss = 11.8279)\n",
            "Saving model (epoch =   79, loss = 11.3278)\n",
            "Saving model (epoch =   80, loss = 10.8734)\n",
            "Saving model (epoch =   81, loss = 10.4538)\n",
            "Saving model (epoch =   82, loss = 10.1006)\n",
            "Saving model (epoch =   83, loss = 9.7212)\n",
            "Saving model (epoch =   84, loss = 9.4126)\n",
            "Saving model (epoch =   85, loss = 9.0615)\n",
            "Saving model (epoch =   86, loss = 8.7138)\n",
            "Saving model (epoch =   87, loss = 8.4226)\n",
            "Saving model (epoch =   88, loss = 8.1554)\n",
            "Saving model (epoch =   89, loss = 7.9305)\n",
            "Saving model (epoch =   90, loss = 7.6752)\n",
            "Saving model (epoch =   91, loss = 7.4551)\n",
            "Saving model (epoch =   92, loss = 7.2210)\n",
            "Saving model (epoch =   93, loss = 7.0427)\n",
            "Saving model (epoch =   94, loss = 6.7978)\n",
            "Saving model (epoch =   95, loss = 6.5661)\n",
            "Saving model (epoch =   96, loss = 6.3416)\n",
            "Saving model (epoch =   97, loss = 6.2223)\n",
            "Saving model (epoch =   98, loss = 5.9619)\n",
            "Saving model (epoch =   99, loss = 5.7722)\n",
            "Saving model (epoch =  100, loss = 5.5692)\n",
            "Saving model (epoch =  101, loss = 5.4046)\n",
            "Saving model (epoch =  102, loss = 5.2709)\n",
            "Saving model (epoch =  103, loss = 5.1213)\n",
            "Saving model (epoch =  104, loss = 4.9519)\n",
            "Saving model (epoch =  105, loss = 4.7786)\n",
            "Saving model (epoch =  106, loss = 4.6375)\n",
            "Saving model (epoch =  107, loss = 4.5180)\n",
            "Saving model (epoch =  108, loss = 4.3795)\n",
            "Saving model (epoch =  109, loss = 4.2912)\n",
            "Saving model (epoch =  110, loss = 4.0946)\n",
            "Saving model (epoch =  111, loss = 4.0040)\n",
            "Saving model (epoch =  112, loss = 3.8424)\n",
            "Saving model (epoch =  113, loss = 3.7717)\n",
            "Saving model (epoch =  114, loss = 3.6733)\n",
            "Saving model (epoch =  115, loss = 3.5787)\n",
            "Saving model (epoch =  116, loss = 3.4672)\n",
            "Saving model (epoch =  117, loss = 3.3613)\n",
            "Saving model (epoch =  118, loss = 3.2214)\n",
            "Saving model (epoch =  119, loss = 3.1429)\n",
            "Saving model (epoch =  120, loss = 3.1382)\n",
            "Saving model (epoch =  121, loss = 2.9836)\n",
            "Saving model (epoch =  122, loss = 2.9167)\n",
            "Saving model (epoch =  123, loss = 2.8458)\n",
            "Saving model (epoch =  124, loss = 2.7792)\n",
            "Saving model (epoch =  125, loss = 2.7283)\n",
            "Saving model (epoch =  126, loss = 2.6366)\n",
            "Saving model (epoch =  127, loss = 2.5920)\n",
            "Saving model (epoch =  128, loss = 2.5363)\n",
            "Saving model (epoch =  129, loss = 2.4712)\n",
            "Saving model (epoch =  130, loss = 2.4575)\n",
            "Saving model (epoch =  131, loss = 2.3793)\n",
            "Saving model (epoch =  132, loss = 2.2810)\n",
            "Saving model (epoch =  133, loss = 2.2292)\n",
            "Saving model (epoch =  134, loss = 2.1963)\n",
            "Saving model (epoch =  135, loss = 2.1929)\n",
            "Saving model (epoch =  136, loss = 2.1876)\n",
            "Saving model (epoch =  137, loss = 2.1618)\n",
            "Saving model (epoch =  138, loss = 2.0794)\n",
            "Saving model (epoch =  139, loss = 2.0076)\n",
            "Saving model (epoch =  140, loss = 1.9704)\n",
            "Saving model (epoch =  141, loss = 1.9439)\n",
            "Saving model (epoch =  142, loss = 1.9004)\n",
            "Saving model (epoch =  143, loss = 1.8631)\n",
            "Saving model (epoch =  145, loss = 1.8205)\n",
            "Saving model (epoch =  147, loss = 1.7923)\n",
            "Saving model (epoch =  149, loss = 1.7418)\n",
            "Saving model (epoch =  150, loss = 1.7107)\n",
            "Saving model (epoch =  152, loss = 1.7106)\n",
            "Saving model (epoch =  153, loss = 1.6516)\n",
            "Saving model (epoch =  154, loss = 1.6281)\n",
            "Saving model (epoch =  155, loss = 1.6243)\n",
            "Saving model (epoch =  156, loss = 1.5804)\n",
            "Saving model (epoch =  159, loss = 1.5456)\n",
            "Saving model (epoch =  160, loss = 1.5288)\n",
            "Saving model (epoch =  162, loss = 1.5199)\n",
            "Saving model (epoch =  163, loss = 1.4992)\n",
            "Saving model (epoch =  164, loss = 1.4641)\n",
            "Saving model (epoch =  166, loss = 1.4421)\n",
            "Saving model (epoch =  167, loss = 1.3915)\n",
            "Saving model (epoch =  168, loss = 1.3841)\n",
            "Saving model (epoch =  169, loss = 1.3611)\n",
            "Saving model (epoch =  174, loss = 1.3559)\n",
            "Saving model (epoch =  175, loss = 1.3142)\n",
            "Saving model (epoch =  177, loss = 1.3047)\n",
            "Saving model (epoch =  179, loss = 1.2811)\n",
            "Saving model (epoch =  181, loss = 1.2561)\n",
            "Saving model (epoch =  184, loss = 1.2427)\n",
            "Saving model (epoch =  185, loss = 1.2234)\n",
            "Saving model (epoch =  186, loss = 1.2137)\n",
            "Saving model (epoch =  187, loss = 1.2085)\n",
            "Saving model (epoch =  195, loss = 1.1727)\n",
            "Saving model (epoch =  197, loss = 1.1570)\n",
            "Saving model (epoch =  198, loss = 1.1447)\n",
            "Saving model (epoch =  199, loss = 1.1309)\n",
            "Saving model (epoch =  207, loss = 1.1145)\n",
            "Saving model (epoch =  208, loss = 1.1053)\n",
            "Saving model (epoch =  214, loss = 1.0970)\n",
            "Saving model (epoch =  216, loss = 1.0858)\n",
            "Saving model (epoch =  218, loss = 1.0654)\n",
            "Saving model (epoch =  219, loss = 1.0552)\n",
            "Saving model (epoch =  222, loss = 1.0466)\n",
            "Saving model (epoch =  227, loss = 1.0427)\n",
            "Saving model (epoch =  232, loss = 1.0321)\n",
            "Saving model (epoch =  233, loss = 1.0216)\n",
            "Saving model (epoch =  242, loss = 0.9937)\n",
            "Saving model (epoch =  244, loss = 0.9776)\n",
            "Saving model (epoch =  261, loss = 0.9721)\n",
            "Saving model (epoch =  262, loss = 0.9522)\n",
            "Saving model (epoch =  272, loss = 0.9375)\n",
            "Saving model (epoch =  281, loss = 0.9287)\n",
            "Saving model (epoch =  318, loss = 0.9223)\n",
            "Saving model (epoch =  336, loss = 0.9006)\n",
            "Saving model (epoch =  350, loss = 0.8943)\n",
            "Saving model (epoch =  351, loss = 0.8884)\n",
            "Saving model (epoch =  394, loss = 0.8705)\n",
            "Saving model (epoch =  442, loss = 0.8670)\n",
            "Saving model (epoch =  470, loss = 0.8513)\n",
            "Saving model (epoch =  663, loss = 0.8464)\n",
            "Finished training after 864 epochs\n"
          ]
        }
      ]
    },
    {
      "cell_type": "code",
      "metadata": {
        "colab": {
          "base_uri": "https://localhost:8080/",
          "height": 295
        },
        "id": "hsNO9nnXQBvP",
        "outputId": "ab9cd1dd-36ac-4949-84de-dd20df346ab9"
      },
      "source": [
        "plot_learning_curve(model_loss_record, title='deep model')"
      ],
      "execution_count": 147,
      "outputs": [
        {
          "output_type": "display_data",
          "data": {
            "text/plain": [
              "<Figure size 432x288 with 1 Axes>"
            ],
            "image/png": "[encoded data removed]"
          },
          "metadata": {
            "needs_background": "light"
          }
        }
      ]
    },
    {
      "cell_type": "code",
      "metadata": {
        "colab": {
          "base_uri": "https://localhost:8080/",
          "height": 350
        },
        "id": "3iZTVn5WQFpX",
        "outputId": "bacd2e50-0be6-4f3a-a389-f52865cb964d"
      },
      "source": [
        "del model\n",
        "model = NeuralNet(tr_set.dataset.dim).to(device)\n",
        "ckpt = torch.load(config['save_path'], map_location='cpu')  # Load your best model\n",
        "model.load_state_dict(ckpt)\n",
        "plot_pred(dv_set, model, device)  # Show prediction on the validation set"
      ],
      "execution_count": 148,
      "outputs": [
        {
          "output_type": "display_data",
          "data": {
            "text/plain": [
              "<Figure size 360x360 with 1 Axes>"
            ],
            "image/png": "[encoded data removed]"
          },
          "metadata": {
            "needs_background": "light"
          }
        }
      ]
    },
    {
      "cell_type": "markdown",
      "metadata": {
        "id": "aQikz3IPiyPf"
      },
      "source": [
        "# **Testing**\n",
        "The predictions of your model on testing set will be stored at `pred.csv`."
      ]
    },
    {
      "cell_type": "code",
      "metadata": {
        "colab": {
          "base_uri": "https://localhost:8080/"
        },
        "id": "O8cTuQjQQOon",
        "outputId": "31940a92-5d8f-4261-cb5f-5e2c9a9db609"
      },
      "source": [
        "def save_pred(preds, file):\n",
        "    ''' Save predictions to specified file '''\n",
        "    print('Saving results to {}'.format(file))\n",
        "    with open(file, 'w') as fp:\n",
        "        writer = csv.writer(fp)\n",
        "        writer.writerow(['id', 'tested_positive'])\n",
        "        for i, p in enumerate(preds):\n",
        "            writer.writerow([i, p])\n",
        "preds = test(tt_set, model, device)  # predict COVID-19 cases with your model\n",
        "save_pred(preds, 'results/pred_{}.csv'.format(time_stamp))         # save prediction file to pred.csv\n"
      ],
      "execution_count": 149,
      "outputs": [
        {
          "output_type": "stream",
          "name": "stdout",
          "text": [
            "Saving results to results/pred_1678698297.csv\n"
          ]
        }
      ]
    },
    {
      "cell_type": "markdown",
      "metadata": {
        "id": "nfrVxqJanGpE"
      },
      "source": [
        "# **Hints**\n",
        "\n",
        "## **Simple Baseline**\n",
        "* Run sample code\n",
        "\n",
        "## **Medium Baseline**\n",
        "* Feature selection: 40 states + 2 `tested_positive` (`TODO` in dataset)\n",
        "* 注意註解，或許可以發現隱藏在code裡的bug。\n",
        "\n",
        "## **Strong Baseline**\n",
        "* Feature selection (what other features are useful?)\n",
        "* DNN architecture (layers? dimension? activation function?)\n",
        "* Training (mini-batch? optimizer? learning rate?)\n",
        "* L2 regularization\n",
        "* There are some mistakes in the sample code, can you find them?"
      ]
    },
    {
      "cell_type": "markdown",
      "metadata": {
        "id": "9tmCwXgpot3t"
      },
      "source": [
        "# **Reference**\n",
        "This code is completely written by Heng-Jui Chang @ NTUEE.  \n",
        "Copying or reusing this code is required to specify the original author. \n",
        "\n",
        "E.g.  \n",
        "Source: Heng-Jui Chang @ NTUEE (https://github.com/ga642381/ML2021-Spring/blob/main/HW01/HW01.ipynb)\n"
      ]
    }
  ]
}