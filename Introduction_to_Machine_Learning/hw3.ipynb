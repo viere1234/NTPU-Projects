{
  "cells": [
    {
      "cell_type": "markdown",
      "metadata": {
        "id": "D_a2USyd4giE"
      },
      "source": [
        "# **Homework 3 - Convolutional Neural Network**\n",
        "\n",
        "This is the example code of homework 3 of the machine learning course by Prof. Hung-yi Lee.\n",
        "\n",
        "In this homework, you are required to build a convolutional neural network for image classification, possibly with some advanced training tips.\n",
        "\n",
        "\n",
        "There are three levels here:\n",
        "\n",
        "**Easy**: Build a simple convolutional neural network as the baseline. (2 pts)\n",
        "\n",
        "**Medium**: Design a better architecture or adopt different data augmentations to improve the performance. (2 pts)\n",
        "\n",
        "**Hard**: Utilize provided unlabeled data to obtain better results. (2 pts)"
      ]
    },
    {
      "cell_type": "markdown",
      "metadata": {
        "id": "VHpJocsDr6iA"
      },
      "source": [
        "## **About the Dataset**\n",
        "\n",
        "The dataset used here is food-11, a collection of food images in 11 classes.\n",
        "\n",
        "For the requirement in the homework, TAs slightly modified the data.\n",
        "Please DO NOT access the original fully-labeled training data or testing labels.\n",
        "\n",
        "Also, the modified dataset is for this course only, and any further distribution or commercial use is forbidden."
      ]
    },
    {
      "cell_type": "code",
      "execution_count": 1,
      "metadata": {
        "colab": {
          "base_uri": "https://localhost:8080/"
        },
        "id": "zhzdomRTOKoJ",
        "outputId": "c2f56e52-a757-40dd-f64a-87a463f449b4"
      },
      "outputs": [
        {
          "output_type": "stream",
          "name": "stdout",
          "text": [
            "\u001b[1;30;43m串流輸出內容已截斷至最後 5000 行。\u001b[0m\n",
            "  inflating: food-11/training/unlabeled/00/5451.jpg  \n",
            "  inflating: food-11/training/unlabeled/00/5454.jpg  \n",
            "  inflating: food-11/training/unlabeled/00/5459.jpg  \n",
            "  inflating: food-11/training/unlabeled/00/5462.jpg  \n",
            "  inflating: food-11/training/unlabeled/00/5470.jpg  \n",
            "  inflating: food-11/training/unlabeled/00/5479.jpg  \n",
            "  inflating: food-11/training/unlabeled/00/5497.jpg  \n",
            "  inflating: food-11/training/unlabeled/00/5498.jpg  \n",
            "  inflating: food-11/training/unlabeled/00/5502.jpg  \n",
            "  inflating: food-11/training/unlabeled/00/5505.jpg  \n",
            "  inflating: food-11/training/unlabeled/00/5515.jpg  \n",
            "  inflating: food-11/training/unlabeled/00/5520.jpg  \n",
            "  inflating: food-11/training/unlabeled/00/5530.jpg  \n",
            "  inflating: food-11/training/unlabeled/00/5531.jpg  \n",
            "  inflating: food-11/training/unlabeled/00/5541.jpg  \n",
            "  inflating: food-11/training/unlabeled/00/5548.jpg  \n",
            "  inflating: food-11/training/unlabeled/00/5549.jpg  \n",
            "  inflating: food-11/training/unlabeled/00/5565.jpg  \n",
            "  inflating: food-11/training/unlabeled/00/5572.jpg  \n",
            "  inflating: food-11/training/unlabeled/00/5573.jpg  \n",
            "  inflating: food-11/training/unlabeled/00/5576.jpg  \n",
            "  inflating: food-11/training/unlabeled/00/5578.jpg  \n",
            "  inflating: food-11/training/unlabeled/00/5595.jpg  \n",
            "  inflating: food-11/training/unlabeled/00/5596.jpg  \n",
            "  inflating: food-11/training/unlabeled/00/5600.jpg  \n",
            "  inflating: food-11/training/unlabeled/00/5602.jpg  \n",
            "  inflating: food-11/training/unlabeled/00/5603.jpg  \n",
            "  inflating: food-11/training/unlabeled/00/5607.jpg  \n",
            "  inflating: food-11/training/unlabeled/00/5617.jpg  \n",
            "  inflating: food-11/training/unlabeled/00/5621.jpg  \n",
            "  inflating: food-11/training/unlabeled/00/5629.jpg  \n",
            "  inflating: food-11/training/unlabeled/00/5635.jpg  \n",
            "  inflating: food-11/training/unlabeled/00/5642.jpg  \n",
            "  inflating: food-11/training/unlabeled/00/5645.jpg  \n",
            "  inflating: food-11/training/unlabeled/00/5651.jpg  \n",
            "  inflating: food-11/training/unlabeled/00/5656.jpg  \n",
            "  inflating: food-11/training/unlabeled/00/5664.jpg  \n",
            "  inflating: food-11/training/unlabeled/00/5672.jpg  \n",
            "  inflating: food-11/training/unlabeled/00/5683.jpg  \n",
            "  inflating: food-11/training/unlabeled/00/5687.jpg  \n",
            "  inflating: food-11/training/unlabeled/00/5692.jpg  \n",
            "  inflating: food-11/training/unlabeled/00/5704.jpg  \n",
            "  inflating: food-11/training/unlabeled/00/5725.jpg  \n",
            "  inflating: food-11/training/unlabeled/00/5743.jpg  \n",
            "  inflating: food-11/training/unlabeled/00/5747.jpg  \n",
            "  inflating: food-11/training/unlabeled/00/5751.jpg  \n",
            "  inflating: food-11/training/unlabeled/00/5752.jpg  \n",
            "  inflating: food-11/training/unlabeled/00/5760.jpg  \n",
            "  inflating: food-11/training/unlabeled/00/5761.jpg  \n",
            "  inflating: food-11/training/unlabeled/00/5765.jpg  \n",
            "  inflating: food-11/training/unlabeled/00/5766.jpg  \n",
            "  inflating: food-11/training/unlabeled/00/5784.jpg  \n",
            "  inflating: food-11/training/unlabeled/00/5787.jpg  \n",
            "  inflating: food-11/training/unlabeled/00/5795.jpg  \n",
            "  inflating: food-11/training/unlabeled/00/5796.jpg  \n",
            "  inflating: food-11/training/unlabeled/00/5800.jpg  \n",
            "  inflating: food-11/training/unlabeled/00/5801.jpg  \n",
            "  inflating: food-11/training/unlabeled/00/5804.jpg  \n",
            "  inflating: food-11/training/unlabeled/00/5819.jpg  \n",
            "  inflating: food-11/training/unlabeled/00/5833.jpg  \n",
            "  inflating: food-11/training/unlabeled/00/5852.jpg  \n",
            "  inflating: food-11/training/unlabeled/00/5867.jpg  \n",
            "  inflating: food-11/training/unlabeled/00/5892.jpg  \n",
            "  inflating: food-11/training/unlabeled/00/5894.jpg  \n",
            "  inflating: food-11/training/unlabeled/00/5902.jpg  \n",
            "  inflating: food-11/training/unlabeled/00/5916.jpg  \n",
            "  inflating: food-11/training/unlabeled/00/5920.jpg  \n",
            "  inflating: food-11/training/unlabeled/00/5921.jpg  \n",
            "  inflating: food-11/training/unlabeled/00/5928.jpg  \n",
            "  inflating: food-11/training/unlabeled/00/5938.jpg  \n",
            "  inflating: food-11/training/unlabeled/00/5954.jpg  \n",
            "  inflating: food-11/training/unlabeled/00/5958.jpg  \n",
            "  inflating: food-11/training/unlabeled/00/5999.jpg  \n",
            "  inflating: food-11/training/unlabeled/00/6002.jpg  \n",
            "  inflating: food-11/training/unlabeled/00/6008.jpg  \n",
            "  inflating: food-11/training/unlabeled/00/6013.jpg  \n",
            "  inflating: food-11/training/unlabeled/00/6027.jpg  \n",
            "  inflating: food-11/training/unlabeled/00/6029.jpg  \n",
            "  inflating: food-11/training/unlabeled/00/6030.jpg  \n",
            "  inflating: food-11/training/unlabeled/00/6032.jpg  \n",
            "  inflating: food-11/training/unlabeled/00/6039.jpg  \n",
            "  inflating: food-11/training/unlabeled/00/6042.jpg  \n",
            "  inflating: food-11/training/unlabeled/00/6055.jpg  \n",
            "  inflating: food-11/training/unlabeled/00/6060.jpg  \n",
            "  inflating: food-11/training/unlabeled/00/6065.jpg  \n",
            "  inflating: food-11/training/unlabeled/00/6066.jpg  \n",
            "  inflating: food-11/training/unlabeled/00/6081.jpg  \n",
            "  inflating: food-11/training/unlabeled/00/6083.jpg  \n",
            "  inflating: food-11/training/unlabeled/00/6088.jpg  \n",
            "  inflating: food-11/training/unlabeled/00/6090.jpg  \n",
            "  inflating: food-11/training/unlabeled/00/6092.jpg  \n",
            "  inflating: food-11/training/unlabeled/00/6097.jpg  \n",
            "  inflating: food-11/training/unlabeled/00/6101.jpg  \n",
            "  inflating: food-11/training/unlabeled/00/6111.jpg  \n",
            "  inflating: food-11/training/unlabeled/00/6116.jpg  \n",
            "  inflating: food-11/training/unlabeled/00/6118.jpg  \n",
            "  inflating: food-11/training/unlabeled/00/6133.jpg  \n",
            "  inflating: food-11/training/unlabeled/00/6135.jpg  \n",
            "  inflating: food-11/training/unlabeled/00/6147.jpg  \n",
            "  inflating: food-11/training/unlabeled/00/6149.jpg  \n",
            "  inflating: food-11/training/unlabeled/00/6150.jpg  \n",
            "  inflating: food-11/training/unlabeled/00/6151.jpg  \n",
            "  inflating: food-11/training/unlabeled/00/6154.jpg  \n",
            "  inflating: food-11/training/unlabeled/00/6158.jpg  \n",
            "  inflating: food-11/training/unlabeled/00/6160.jpg  \n",
            "  inflating: food-11/training/unlabeled/00/6167.jpg  \n",
            "  inflating: food-11/training/unlabeled/00/6169.jpg  \n",
            "  inflating: food-11/training/unlabeled/00/6179.jpg  \n",
            "  inflating: food-11/training/unlabeled/00/6197.jpg  \n",
            "  inflating: food-11/training/unlabeled/00/6207.jpg  \n",
            "  inflating: food-11/training/unlabeled/00/6213.jpg  \n",
            "  inflating: food-11/training/unlabeled/00/6216.jpg  \n",
            "  inflating: food-11/training/unlabeled/00/6220.jpg  \n",
            "  inflating: food-11/training/unlabeled/00/6225.jpg  \n",
            "  inflating: food-11/training/unlabeled/00/6237.jpg  \n",
            "  inflating: food-11/training/unlabeled/00/6239.jpg  \n",
            "  inflating: food-11/training/unlabeled/00/6244.jpg  \n",
            "  inflating: food-11/training/unlabeled/00/6245.jpg  \n",
            "  inflating: food-11/training/unlabeled/00/6258.jpg  \n",
            "  inflating: food-11/training/unlabeled/00/6289.jpg  \n",
            "  inflating: food-11/training/unlabeled/00/6295.jpg  \n",
            "  inflating: food-11/training/unlabeled/00/6302.jpg  \n",
            "  inflating: food-11/training/unlabeled/00/6304.jpg  \n",
            "  inflating: food-11/training/unlabeled/00/6308.jpg  \n",
            "  inflating: food-11/training/unlabeled/00/6309.jpg  \n",
            "  inflating: food-11/training/unlabeled/00/6314.jpg  \n",
            "  inflating: food-11/training/unlabeled/00/6317.jpg  \n",
            "  inflating: food-11/training/unlabeled/00/6324.jpg  \n",
            "  inflating: food-11/training/unlabeled/00/6333.jpg  \n",
            "  inflating: food-11/training/unlabeled/00/6354.jpg  \n",
            "  inflating: food-11/training/unlabeled/00/6356.jpg  \n",
            "  inflating: food-11/training/unlabeled/00/6366.jpg  \n",
            "  inflating: food-11/training/unlabeled/00/6375.jpg  \n",
            "  inflating: food-11/training/unlabeled/00/6389.jpg  \n",
            "  inflating: food-11/training/unlabeled/00/6403.jpg  \n",
            "  inflating: food-11/training/unlabeled/00/6411.jpg  \n",
            "  inflating: food-11/training/unlabeled/00/6416.jpg  \n",
            "  inflating: food-11/training/unlabeled/00/6419.jpg  \n",
            "  inflating: food-11/training/unlabeled/00/6420.jpg  \n",
            "  inflating: food-11/training/unlabeled/00/6422.jpg  \n",
            "  inflating: food-11/training/unlabeled/00/6436.jpg  \n",
            "  inflating: food-11/training/unlabeled/00/6439.jpg  \n",
            "  inflating: food-11/training/unlabeled/00/6440.jpg  \n",
            "  inflating: food-11/training/unlabeled/00/6444.jpg  \n",
            "  inflating: food-11/training/unlabeled/00/6445.jpg  \n",
            "  inflating: food-11/training/unlabeled/00/6448.jpg  \n",
            "  inflating: food-11/training/unlabeled/00/6463.jpg  \n",
            "  inflating: food-11/training/unlabeled/00/6466.jpg  \n",
            "  inflating: food-11/training/unlabeled/00/6474.jpg  \n",
            "  inflating: food-11/training/unlabeled/00/6482.jpg  \n",
            "  inflating: food-11/training/unlabeled/00/6490.jpg  \n",
            "  inflating: food-11/training/unlabeled/00/6493.jpg  \n",
            "  inflating: food-11/training/unlabeled/00/6499.jpg  \n",
            "  inflating: food-11/training/unlabeled/00/6512.jpg  \n",
            "  inflating: food-11/training/unlabeled/00/6514.jpg  \n",
            "  inflating: food-11/training/unlabeled/00/6515.jpg  \n",
            "  inflating: food-11/training/unlabeled/00/6534.jpg  \n",
            "  inflating: food-11/training/unlabeled/00/6535.jpg  \n",
            "  inflating: food-11/training/unlabeled/00/6548.jpg  \n",
            "  inflating: food-11/training/unlabeled/00/6553.jpg  \n",
            "  inflating: food-11/training/unlabeled/00/6555.jpg  \n",
            "  inflating: food-11/training/unlabeled/00/6557.jpg  \n",
            "  inflating: food-11/training/unlabeled/00/6561.jpg  \n",
            "  inflating: food-11/training/unlabeled/00/6564.jpg  \n",
            "  inflating: food-11/training/unlabeled/00/6584.jpg  \n",
            "  inflating: food-11/training/unlabeled/00/6591.jpg  \n",
            "  inflating: food-11/training/unlabeled/00/6596.jpg  \n",
            "  inflating: food-11/training/unlabeled/00/6599.jpg  \n",
            "  inflating: food-11/training/unlabeled/00/6610.jpg  \n",
            "  inflating: food-11/training/unlabeled/00/6613.jpg  \n",
            "  inflating: food-11/training/unlabeled/00/6617.jpg  \n",
            "  inflating: food-11/training/unlabeled/00/6621.jpg  \n",
            "  inflating: food-11/training/unlabeled/00/6622.jpg  \n",
            "  inflating: food-11/training/unlabeled/00/6641.jpg  \n",
            "  inflating: food-11/training/unlabeled/00/6649.jpg  \n",
            "  inflating: food-11/training/unlabeled/00/6652.jpg  \n",
            "  inflating: food-11/training/unlabeled/00/6653.jpg  \n",
            "  inflating: food-11/training/unlabeled/00/6667.jpg  \n",
            "  inflating: food-11/training/unlabeled/00/6681.jpg  \n",
            "  inflating: food-11/training/unlabeled/00/6689.jpg  \n",
            "  inflating: food-11/training/unlabeled/00/6693.jpg  \n",
            "  inflating: food-11/training/unlabeled/00/6700.jpg  \n",
            "  inflating: food-11/training/unlabeled/00/6706.jpg  \n",
            "  inflating: food-11/training/unlabeled/00/6714.jpg  \n",
            "  inflating: food-11/training/unlabeled/00/6716.jpg  \n",
            "  inflating: food-11/training/unlabeled/00/6731.jpg  \n",
            "  inflating: food-11/training/unlabeled/00/6740.jpg  \n",
            "  inflating: food-11/training/unlabeled/00/6746.jpg  \n",
            "  inflating: food-11/training/unlabeled/00/6749.jpg  \n",
            "  inflating: food-11/training/unlabeled/00/6764.jpg  \n",
            "  inflating: food-11/training/unlabeled/00/6775.jpg  \n",
            "  inflating: food-11/training/unlabeled/00/6777.jpg  \n",
            "  inflating: food-11/training/unlabeled/00/6783.jpg  \n",
            "  inflating: food-11/training/unlabeled/00/0006.jpg  \n",
            "  inflating: food-11/training/unlabeled/00/0021.jpg  \n",
            "  inflating: food-11/training/unlabeled/00/0028.jpg  \n",
            "  inflating: food-11/training/unlabeled/00/0033.jpg  \n",
            "  inflating: food-11/training/unlabeled/00/0038.jpg  \n",
            "  inflating: food-11/training/unlabeled/00/0040.jpg  \n",
            "  inflating: food-11/training/unlabeled/00/0062.jpg  \n",
            "  inflating: food-11/training/unlabeled/00/0073.jpg  \n",
            "  inflating: food-11/training/unlabeled/00/0083.jpg  \n",
            "  inflating: food-11/training/unlabeled/00/0084.jpg  \n",
            "  inflating: food-11/training/unlabeled/00/0091.jpg  \n",
            "  inflating: food-11/training/unlabeled/00/0095.jpg  \n",
            "  inflating: food-11/training/unlabeled/00/0099.jpg  \n",
            "  inflating: food-11/training/unlabeled/00/0104.jpg  \n",
            "  inflating: food-11/training/unlabeled/00/0106.jpg  \n",
            "  inflating: food-11/training/unlabeled/00/0119.jpg  \n",
            "  inflating: food-11/training/unlabeled/00/0122.jpg  \n",
            "  inflating: food-11/training/unlabeled/00/0135.jpg  \n",
            "  inflating: food-11/training/unlabeled/00/0157.jpg  \n",
            "  inflating: food-11/training/unlabeled/00/0169.jpg  \n",
            "  inflating: food-11/training/unlabeled/00/0183.jpg  \n",
            "  inflating: food-11/training/unlabeled/00/0188.jpg  \n",
            "  inflating: food-11/training/unlabeled/00/0199.jpg  \n",
            "  inflating: food-11/training/unlabeled/00/0213.jpg  \n",
            "  inflating: food-11/training/unlabeled/00/0229.jpg  \n",
            "  inflating: food-11/training/unlabeled/00/0233.jpg  \n",
            "  inflating: food-11/training/unlabeled/00/0235.jpg  \n",
            "  inflating: food-11/training/unlabeled/00/0252.jpg  \n",
            "  inflating: food-11/training/unlabeled/00/0257.jpg  \n",
            "  inflating: food-11/training/unlabeled/00/0259.jpg  \n",
            "  inflating: food-11/training/unlabeled/00/0283.jpg  \n",
            "  inflating: food-11/training/unlabeled/00/0295.jpg  \n",
            "  inflating: food-11/training/unlabeled/00/0311.jpg  \n",
            "  inflating: food-11/training/unlabeled/00/0318.jpg  \n",
            "  inflating: food-11/training/unlabeled/00/0363.jpg  \n",
            "  inflating: food-11/training/unlabeled/00/0364.jpg  \n",
            "  inflating: food-11/training/unlabeled/00/0370.jpg  \n",
            "  inflating: food-11/training/unlabeled/00/0372.jpg  \n",
            "  inflating: food-11/training/unlabeled/00/0392.jpg  \n",
            "  inflating: food-11/training/unlabeled/00/0403.jpg  \n",
            "  inflating: food-11/training/unlabeled/00/0412.jpg  \n",
            "  inflating: food-11/training/unlabeled/00/0426.jpg  \n",
            "  inflating: food-11/training/unlabeled/00/0449.jpg  \n",
            "  inflating: food-11/training/unlabeled/00/0459.jpg  \n",
            "  inflating: food-11/training/unlabeled/00/0463.jpg  \n",
            "  inflating: food-11/training/unlabeled/00/0468.jpg  \n",
            "  inflating: food-11/training/unlabeled/00/0471.jpg  \n",
            "  inflating: food-11/training/unlabeled/00/0482.jpg  \n",
            "  inflating: food-11/training/unlabeled/00/0490.jpg  \n",
            "  inflating: food-11/training/unlabeled/00/0496.jpg  \n",
            "  inflating: food-11/training/unlabeled/00/0503.jpg  \n",
            "  inflating: food-11/training/unlabeled/00/0517.jpg  \n",
            "  inflating: food-11/training/unlabeled/00/0524.jpg  \n",
            "  inflating: food-11/training/unlabeled/00/0525.jpg  \n",
            "  inflating: food-11/training/unlabeled/00/0547.jpg  \n",
            "  inflating: food-11/training/unlabeled/00/0555.jpg  \n",
            "  inflating: food-11/training/unlabeled/00/0561.jpg  \n",
            "  inflating: food-11/training/unlabeled/00/0572.jpg  \n",
            "  inflating: food-11/training/unlabeled/00/0584.jpg  \n",
            "  inflating: food-11/training/unlabeled/00/0590.jpg  \n",
            "  inflating: food-11/training/unlabeled/00/0606.jpg  \n",
            "  inflating: food-11/training/unlabeled/00/0608.jpg  \n",
            "  inflating: food-11/training/unlabeled/00/0609.jpg  \n",
            "  inflating: food-11/training/unlabeled/00/0620.jpg  \n",
            "  inflating: food-11/training/unlabeled/00/0634.jpg  \n",
            "  inflating: food-11/training/unlabeled/00/0635.jpg  \n",
            "  inflating: food-11/training/unlabeled/00/0647.jpg  \n",
            "  inflating: food-11/training/unlabeled/00/0661.jpg  \n",
            "  inflating: food-11/training/unlabeled/00/0671.jpg  \n",
            "  inflating: food-11/training/unlabeled/00/0672.jpg  \n",
            "  inflating: food-11/training/unlabeled/00/0689.jpg  \n",
            "  inflating: food-11/training/unlabeled/00/0716.jpg  \n",
            "  inflating: food-11/training/unlabeled/00/0727.jpg  \n",
            "  inflating: food-11/training/unlabeled/00/0736.jpg  \n",
            "  inflating: food-11/training/unlabeled/00/0740.jpg  \n",
            "  inflating: food-11/training/unlabeled/00/0749.jpg  \n",
            "  inflating: food-11/training/unlabeled/00/0752.jpg  \n",
            "  inflating: food-11/training/unlabeled/00/0780.jpg  \n",
            "  inflating: food-11/training/unlabeled/00/0794.jpg  \n",
            "  inflating: food-11/training/unlabeled/00/0796.jpg  \n",
            "  inflating: food-11/training/unlabeled/00/0810.jpg  \n",
            "  inflating: food-11/training/unlabeled/00/0813.jpg  \n",
            "  inflating: food-11/training/unlabeled/00/0816.jpg  \n",
            "  inflating: food-11/training/unlabeled/00/0822.jpg  \n",
            "  inflating: food-11/training/unlabeled/00/0840.jpg  \n",
            "  inflating: food-11/training/unlabeled/00/0850.jpg  \n",
            "  inflating: food-11/training/unlabeled/00/0851.jpg  \n",
            "  inflating: food-11/training/unlabeled/00/0858.jpg  \n",
            "  inflating: food-11/training/unlabeled/00/0860.jpg  \n",
            "  inflating: food-11/training/unlabeled/00/0864.jpg  \n",
            "  inflating: food-11/training/unlabeled/00/0883.jpg  \n",
            "  inflating: food-11/training/unlabeled/00/0897.jpg  \n",
            "  inflating: food-11/training/unlabeled/00/0906.jpg  \n",
            "  inflating: food-11/training/unlabeled/00/0908.jpg  \n",
            "  inflating: food-11/training/unlabeled/00/0917.jpg  \n",
            "  inflating: food-11/training/unlabeled/00/0952.jpg  \n",
            "  inflating: food-11/training/unlabeled/00/0972.jpg  \n",
            "  inflating: food-11/training/unlabeled/00/0975.jpg  \n",
            "  inflating: food-11/training/unlabeled/00/0978.jpg  \n",
            "  inflating: food-11/training/unlabeled/00/0986.jpg  \n",
            "  inflating: food-11/training/unlabeled/00/0993.jpg  \n",
            "  inflating: food-11/training/unlabeled/00/0994.jpg  \n",
            "  inflating: food-11/training/unlabeled/00/1021.jpg  \n",
            "  inflating: food-11/training/unlabeled/00/1035.jpg  \n",
            "  inflating: food-11/training/unlabeled/00/1038.jpg  \n",
            "  inflating: food-11/training/unlabeled/00/1048.jpg  \n",
            "  inflating: food-11/training/unlabeled/00/1052.jpg  \n",
            "  inflating: food-11/training/unlabeled/00/1089.jpg  \n",
            "  inflating: food-11/training/unlabeled/00/1094.jpg  \n",
            "  inflating: food-11/training/unlabeled/00/1102.jpg  \n",
            "  inflating: food-11/training/unlabeled/00/1113.jpg  \n",
            "  inflating: food-11/training/unlabeled/00/1114.jpg  \n",
            "  inflating: food-11/training/unlabeled/00/1123.jpg  \n",
            "  inflating: food-11/training/unlabeled/00/1146.jpg  \n",
            "  inflating: food-11/training/unlabeled/00/1154.jpg  \n",
            "  inflating: food-11/training/unlabeled/00/1155.jpg  \n",
            "  inflating: food-11/training/unlabeled/00/1156.jpg  \n",
            "  inflating: food-11/training/unlabeled/00/1164.jpg  \n",
            "  inflating: food-11/training/unlabeled/00/1173.jpg  \n",
            "  inflating: food-11/training/unlabeled/00/1176.jpg  \n",
            "  inflating: food-11/training/unlabeled/00/1181.jpg  \n",
            "  inflating: food-11/training/unlabeled/00/1191.jpg  \n",
            "  inflating: food-11/training/unlabeled/00/1216.jpg  \n",
            "  inflating: food-11/training/unlabeled/00/1217.jpg  \n",
            "  inflating: food-11/training/unlabeled/00/1226.jpg  \n",
            "  inflating: food-11/training/unlabeled/00/1249.jpg  \n",
            "  inflating: food-11/training/unlabeled/00/1256.jpg  \n",
            "  inflating: food-11/training/unlabeled/00/1268.jpg  \n",
            "  inflating: food-11/training/unlabeled/00/1282.jpg  \n",
            "  inflating: food-11/training/unlabeled/00/1295.jpg  \n",
            "  inflating: food-11/training/unlabeled/00/1297.jpg  \n",
            "  inflating: food-11/training/unlabeled/00/1300.jpg  \n",
            "  inflating: food-11/training/unlabeled/00/1301.jpg  \n",
            "  inflating: food-11/training/unlabeled/00/1310.jpg  \n",
            "  inflating: food-11/training/unlabeled/00/1311.jpg  \n",
            "  inflating: food-11/training/unlabeled/00/1315.jpg  \n",
            "  inflating: food-11/training/unlabeled/00/1317.jpg  \n",
            "  inflating: food-11/training/unlabeled/00/1338.jpg  \n",
            "  inflating: food-11/training/unlabeled/00/1340.jpg  \n",
            "  inflating: food-11/training/unlabeled/00/1345.jpg  \n",
            "  inflating: food-11/training/unlabeled/00/1349.jpg  \n",
            "  inflating: food-11/training/unlabeled/00/1354.jpg  \n",
            "  inflating: food-11/training/unlabeled/00/1359.jpg  \n",
            "  inflating: food-11/training/unlabeled/00/1368.jpg  \n",
            "  inflating: food-11/training/unlabeled/00/1378.jpg  \n",
            "  inflating: food-11/training/unlabeled/00/1380.jpg  \n",
            "  inflating: food-11/training/unlabeled/00/1387.jpg  \n",
            "  inflating: food-11/training/unlabeled/00/1388.jpg  \n",
            "  inflating: food-11/training/unlabeled/00/1402.jpg  \n",
            "  inflating: food-11/training/unlabeled/00/1409.jpg  \n",
            "  inflating: food-11/training/unlabeled/00/1412.jpg  \n",
            "  inflating: food-11/training/unlabeled/00/1421.jpg  \n",
            "  inflating: food-11/training/unlabeled/00/1436.jpg  \n",
            "  inflating: food-11/training/unlabeled/00/1441.jpg  \n",
            "  inflating: food-11/training/unlabeled/00/1452.jpg  \n",
            "  inflating: food-11/training/unlabeled/00/1453.jpg  \n",
            "  inflating: food-11/training/unlabeled/00/1455.jpg  \n",
            "  inflating: food-11/training/unlabeled/00/1477.jpg  \n",
            "  inflating: food-11/training/unlabeled/00/1480.jpg  \n",
            "  inflating: food-11/training/unlabeled/00/1499.jpg  \n",
            "  inflating: food-11/training/unlabeled/00/1510.jpg  \n",
            "  inflating: food-11/training/unlabeled/00/1521.jpg  \n",
            "  inflating: food-11/training/unlabeled/00/1524.jpg  \n",
            "  inflating: food-11/training/unlabeled/00/1535.jpg  \n",
            "  inflating: food-11/training/unlabeled/00/1541.jpg  \n",
            "  inflating: food-11/training/unlabeled/00/1548.jpg  \n",
            "  inflating: food-11/training/unlabeled/00/1562.jpg  \n",
            "  inflating: food-11/training/unlabeled/00/1567.jpg  \n",
            "  inflating: food-11/training/unlabeled/00/1580.jpg  \n",
            "  inflating: food-11/training/unlabeled/00/1585.jpg  \n",
            "  inflating: food-11/training/unlabeled/00/1586.jpg  \n",
            "  inflating: food-11/training/unlabeled/00/1587.jpg  \n",
            "  inflating: food-11/training/unlabeled/00/1597.jpg  \n",
            "  inflating: food-11/training/unlabeled/00/1599.jpg  \n",
            "  inflating: food-11/training/unlabeled/00/1600.jpg  \n",
            "  inflating: food-11/training/unlabeled/00/1605.jpg  \n",
            "  inflating: food-11/training/unlabeled/00/1612.jpg  \n",
            "  inflating: food-11/training/unlabeled/00/1627.jpg  \n",
            "  inflating: food-11/training/unlabeled/00/1671.jpg  \n",
            "  inflating: food-11/training/unlabeled/00/1677.jpg  \n",
            "  inflating: food-11/training/unlabeled/00/1691.jpg  \n",
            "  inflating: food-11/training/unlabeled/00/1697.jpg  \n",
            "  inflating: food-11/training/unlabeled/00/1721.jpg  \n",
            "  inflating: food-11/training/unlabeled/00/1722.jpg  \n",
            "  inflating: food-11/training/unlabeled/00/1729.jpg  \n",
            "  inflating: food-11/training/unlabeled/00/1747.jpg  \n",
            "  inflating: food-11/training/unlabeled/00/1751.jpg  \n",
            "  inflating: food-11/training/unlabeled/00/1753.jpg  \n",
            "  inflating: food-11/training/unlabeled/00/1756.jpg  \n",
            "  inflating: food-11/training/unlabeled/00/1767.jpg  \n",
            "  inflating: food-11/training/unlabeled/00/1774.jpg  \n",
            "  inflating: food-11/training/unlabeled/00/1778.jpg  \n",
            "  inflating: food-11/training/unlabeled/00/1783.jpg  \n",
            "  inflating: food-11/training/unlabeled/00/1786.jpg  \n",
            "  inflating: food-11/training/unlabeled/00/1817.jpg  \n",
            "  inflating: food-11/training/unlabeled/00/1881.jpg  \n",
            "  inflating: food-11/training/unlabeled/00/1890.jpg  \n",
            "  inflating: food-11/training/unlabeled/00/1898.jpg  \n",
            "  inflating: food-11/training/unlabeled/00/1899.jpg  \n",
            "  inflating: food-11/training/unlabeled/00/1925.jpg  \n",
            "  inflating: food-11/training/unlabeled/00/1933.jpg  \n",
            "  inflating: food-11/training/unlabeled/00/1937.jpg  \n",
            "  inflating: food-11/training/unlabeled/00/1942.jpg  \n",
            "  inflating: food-11/training/unlabeled/00/1945.jpg  \n",
            "  inflating: food-11/training/unlabeled/00/1957.jpg  \n",
            "  inflating: food-11/training/unlabeled/00/1958.jpg  \n",
            "  inflating: food-11/training/unlabeled/00/1959.jpg  \n",
            "  inflating: food-11/training/unlabeled/00/1962.jpg  \n",
            "  inflating: food-11/training/unlabeled/00/1973.jpg  \n",
            "  inflating: food-11/training/unlabeled/00/1977.jpg  \n",
            "  inflating: food-11/training/unlabeled/00/1979.jpg  \n",
            "  inflating: food-11/training/unlabeled/00/1980.jpg  \n",
            "  inflating: food-11/training/unlabeled/00/1982.jpg  \n",
            "  inflating: food-11/training/unlabeled/00/1983.jpg  \n",
            "  inflating: food-11/training/unlabeled/00/2007.jpg  \n",
            "  inflating: food-11/training/unlabeled/00/2026.jpg  \n",
            "  inflating: food-11/training/unlabeled/00/2029.jpg  \n",
            "  inflating: food-11/training/unlabeled/00/2030.jpg  \n",
            "  inflating: food-11/training/unlabeled/00/2041.jpg  \n",
            "  inflating: food-11/training/unlabeled/00/2047.jpg  \n",
            "  inflating: food-11/training/unlabeled/00/2051.jpg  \n",
            "  inflating: food-11/training/unlabeled/00/2065.jpg  \n",
            "  inflating: food-11/training/unlabeled/00/2085.jpg  \n",
            "  inflating: food-11/training/unlabeled/00/2092.jpg  \n",
            "  inflating: food-11/training/unlabeled/00/2106.jpg  \n",
            "  inflating: food-11/training/unlabeled/00/2126.jpg  \n",
            "  inflating: food-11/training/unlabeled/00/2136.jpg  \n",
            "  inflating: food-11/training/unlabeled/00/2137.jpg  \n",
            "  inflating: food-11/training/unlabeled/00/2147.jpg  \n",
            "  inflating: food-11/training/unlabeled/00/2148.jpg  \n",
            "  inflating: food-11/training/unlabeled/00/2160.jpg  \n",
            "  inflating: food-11/training/unlabeled/00/2179.jpg  \n",
            "  inflating: food-11/training/unlabeled/00/2182.jpg  \n",
            "  inflating: food-11/training/unlabeled/00/2200.jpg  \n",
            "  inflating: food-11/training/unlabeled/00/2202.jpg  \n",
            "  inflating: food-11/training/unlabeled/00/2205.jpg  \n",
            "  inflating: food-11/training/unlabeled/00/2206.jpg  \n",
            "  inflating: food-11/training/unlabeled/00/2213.jpg  \n",
            "  inflating: food-11/training/unlabeled/00/2237.jpg  \n",
            "  inflating: food-11/training/unlabeled/00/2244.jpg  \n",
            "  inflating: food-11/training/unlabeled/00/2251.jpg  \n",
            "  inflating: food-11/training/unlabeled/00/2256.jpg  \n",
            "  inflating: food-11/training/unlabeled/00/2274.jpg  \n",
            "  inflating: food-11/training/unlabeled/00/2296.jpg  \n",
            "  inflating: food-11/training/unlabeled/00/2304.jpg  \n",
            "  inflating: food-11/training/unlabeled/00/2333.jpg  \n",
            "  inflating: food-11/training/unlabeled/00/2336.jpg  \n",
            "  inflating: food-11/training/unlabeled/00/2344.jpg  \n",
            "  inflating: food-11/training/unlabeled/00/2365.jpg  \n",
            "  inflating: food-11/training/unlabeled/00/2366.jpg  \n",
            "  inflating: food-11/training/unlabeled/00/2368.jpg  \n",
            "  inflating: food-11/training/unlabeled/00/2369.jpg  \n",
            "  inflating: food-11/training/unlabeled/00/2379.jpg  \n",
            "  inflating: food-11/training/unlabeled/00/2383.jpg  \n",
            "  inflating: food-11/training/unlabeled/00/2402.jpg  \n",
            "  inflating: food-11/training/unlabeled/00/2413.jpg  \n",
            "  inflating: food-11/training/unlabeled/00/2417.jpg  \n",
            "  inflating: food-11/training/unlabeled/00/2419.jpg  \n",
            "  inflating: food-11/training/unlabeled/00/2427.jpg  \n",
            "  inflating: food-11/training/unlabeled/00/2428.jpg  \n",
            "  inflating: food-11/training/unlabeled/00/2443.jpg  \n",
            "  inflating: food-11/training/unlabeled/00/2444.jpg  \n",
            "  inflating: food-11/training/unlabeled/00/2488.jpg  \n",
            "  inflating: food-11/training/unlabeled/00/2495.jpg  \n",
            "  inflating: food-11/training/unlabeled/00/2499.jpg  \n",
            "  inflating: food-11/training/unlabeled/00/2500.jpg  \n",
            "  inflating: food-11/training/unlabeled/00/2507.jpg  \n",
            "  inflating: food-11/training/unlabeled/00/2516.jpg  \n",
            "  inflating: food-11/training/unlabeled/00/2529.jpg  \n",
            "  inflating: food-11/training/unlabeled/00/2536.jpg  \n",
            "  inflating: food-11/training/unlabeled/00/2553.jpg  \n",
            "  inflating: food-11/training/unlabeled/00/2556.jpg  \n",
            "  inflating: food-11/training/unlabeled/00/2566.jpg  \n",
            "  inflating: food-11/training/unlabeled/00/2567.jpg  \n",
            "  inflating: food-11/training/unlabeled/00/2569.jpg  \n",
            "  inflating: food-11/training/unlabeled/00/2601.jpg  \n",
            "  inflating: food-11/training/unlabeled/00/2606.jpg  \n",
            "  inflating: food-11/training/unlabeled/00/2615.jpg  \n",
            "  inflating: food-11/training/unlabeled/00/2623.jpg  \n",
            "  inflating: food-11/training/unlabeled/00/2625.jpg  \n",
            "  inflating: food-11/training/unlabeled/00/2629.jpg  \n",
            "  inflating: food-11/training/unlabeled/00/2630.jpg  \n",
            "  inflating: food-11/training/unlabeled/00/2637.jpg  \n",
            "  inflating: food-11/training/unlabeled/00/2645.jpg  \n",
            "  inflating: food-11/training/unlabeled/00/2660.jpg  \n",
            "  inflating: food-11/training/unlabeled/00/2689.jpg  \n",
            "  inflating: food-11/training/unlabeled/00/2692.jpg  \n",
            "  inflating: food-11/training/unlabeled/00/2696.jpg  \n",
            "  inflating: food-11/training/unlabeled/00/2697.jpg  \n",
            "  inflating: food-11/training/unlabeled/00/2703.jpg  \n",
            "  inflating: food-11/training/unlabeled/00/2706.jpg  \n",
            "  inflating: food-11/training/unlabeled/00/2711.jpg  \n",
            "  inflating: food-11/training/unlabeled/00/2712.jpg  \n",
            "  inflating: food-11/training/unlabeled/00/2737.jpg  \n",
            "  inflating: food-11/training/unlabeled/00/2739.jpg  \n",
            "  inflating: food-11/training/unlabeled/00/2764.jpg  \n",
            "  inflating: food-11/training/unlabeled/00/2768.jpg  \n",
            "  inflating: food-11/training/unlabeled/00/2772.jpg  \n",
            "  inflating: food-11/training/unlabeled/00/2793.jpg  \n",
            "  inflating: food-11/training/unlabeled/00/2820.jpg  \n",
            "  inflating: food-11/training/unlabeled/00/2825.jpg  \n",
            "  inflating: food-11/training/unlabeled/00/2837.jpg  \n",
            "  inflating: food-11/training/unlabeled/00/2838.jpg  \n",
            "  inflating: food-11/training/unlabeled/00/2842.jpg  \n",
            "  inflating: food-11/training/unlabeled/00/2843.jpg  \n",
            "  inflating: food-11/training/unlabeled/00/2848.jpg  \n",
            "  inflating: food-11/training/unlabeled/00/2860.jpg  \n",
            "  inflating: food-11/training/unlabeled/00/2867.jpg  \n",
            "  inflating: food-11/training/unlabeled/00/2871.jpg  \n",
            "  inflating: food-11/training/unlabeled/00/2877.jpg  \n",
            "  inflating: food-11/training/unlabeled/00/2904.jpg  \n",
            "  inflating: food-11/training/unlabeled/00/2906.jpg  \n",
            "  inflating: food-11/training/unlabeled/00/2914.jpg  \n",
            "  inflating: food-11/training/unlabeled/00/2920.jpg  \n",
            "  inflating: food-11/training/unlabeled/00/2934.jpg  \n",
            "  inflating: food-11/training/unlabeled/00/2959.jpg  \n",
            "  inflating: food-11/training/unlabeled/00/2989.jpg  \n",
            "  inflating: food-11/training/unlabeled/00/3018.jpg  \n",
            "  inflating: food-11/training/unlabeled/00/3027.jpg  \n",
            "  inflating: food-11/training/unlabeled/00/3030.jpg  \n",
            "  inflating: food-11/training/unlabeled/00/3039.jpg  \n",
            "  inflating: food-11/training/unlabeled/00/3046.jpg  \n",
            "  inflating: food-11/training/unlabeled/00/3054.jpg  \n",
            "  inflating: food-11/training/unlabeled/00/3067.jpg  \n",
            "  inflating: food-11/training/unlabeled/00/3076.jpg  \n",
            "  inflating: food-11/training/unlabeled/00/3078.jpg  \n",
            "  inflating: food-11/training/unlabeled/00/3092.jpg  \n",
            "  inflating: food-11/training/unlabeled/00/3111.jpg  \n",
            "  inflating: food-11/training/unlabeled/00/3127.jpg  \n",
            "  inflating: food-11/training/unlabeled/00/3137.jpg  \n",
            "  inflating: food-11/training/unlabeled/00/3140.jpg  \n",
            "  inflating: food-11/training/unlabeled/00/3145.jpg  \n",
            "  inflating: food-11/training/unlabeled/00/3148.jpg  \n",
            "  inflating: food-11/training/unlabeled/00/3164.jpg  \n",
            "  inflating: food-11/training/unlabeled/00/3175.jpg  \n",
            "  inflating: food-11/training/unlabeled/00/3176.jpg  \n",
            "  inflating: food-11/training/unlabeled/00/3181.jpg  \n",
            "  inflating: food-11/training/unlabeled/00/3185.jpg  \n",
            "  inflating: food-11/training/unlabeled/00/3186.jpg  \n",
            "  inflating: food-11/training/unlabeled/00/3192.jpg  \n",
            "  inflating: food-11/training/unlabeled/00/3200.jpg  \n",
            "  inflating: food-11/training/unlabeled/00/3205.jpg  \n",
            "  inflating: food-11/training/unlabeled/00/3209.jpg  \n",
            "  inflating: food-11/training/unlabeled/00/3228.jpg  \n",
            "  inflating: food-11/training/unlabeled/00/3239.jpg  \n",
            "  inflating: food-11/training/unlabeled/00/3257.jpg  \n",
            "  inflating: food-11/training/unlabeled/00/3260.jpg  \n",
            "  inflating: food-11/training/unlabeled/00/3279.jpg  \n",
            "  inflating: food-11/training/unlabeled/00/3280.jpg  \n",
            "  inflating: food-11/training/unlabeled/00/3290.jpg  \n",
            "  inflating: food-11/training/unlabeled/00/3291.jpg  \n",
            "  inflating: food-11/training/unlabeled/00/3302.jpg  \n",
            "  inflating: food-11/training/unlabeled/00/3310.jpg  \n",
            "  inflating: food-11/training/unlabeled/00/3311.jpg  \n",
            "  inflating: food-11/training/unlabeled/00/3312.jpg  \n",
            "  inflating: food-11/training/unlabeled/00/3314.jpg  \n",
            "  inflating: food-11/training/unlabeled/00/3322.jpg  \n",
            "  inflating: food-11/training/unlabeled/00/3328.jpg  \n",
            "  inflating: food-11/training/unlabeled/00/3332.jpg  \n",
            "  inflating: food-11/training/unlabeled/00/3333.jpg  \n",
            "  inflating: food-11/training/unlabeled/00/3334.jpg  \n",
            "  inflating: food-11/training/unlabeled/00/3341.jpg  \n",
            "  inflating: food-11/training/unlabeled/00/3343.jpg  \n",
            "  inflating: food-11/training/unlabeled/00/3348.jpg  \n",
            "  inflating: food-11/training/unlabeled/00/3363.jpg  \n",
            "  inflating: food-11/training/unlabeled/00/3376.jpg  \n",
            "  inflating: food-11/training/unlabeled/00/3378.jpg  \n",
            "  inflating: food-11/training/unlabeled/00/3401.jpg  \n",
            "  inflating: food-11/training/unlabeled/00/3406.jpg  \n",
            "  inflating: food-11/training/unlabeled/00/3419.jpg  \n",
            "  inflating: food-11/training/unlabeled/00/3422.jpg  \n",
            "  inflating: food-11/training/unlabeled/00/3427.jpg  \n",
            "  inflating: food-11/training/unlabeled/00/3430.jpg  \n",
            "  inflating: food-11/training/unlabeled/00/3437.jpg  \n",
            "  inflating: food-11/training/unlabeled/00/3438.jpg  \n",
            "  inflating: food-11/training/unlabeled/00/3439.jpg  \n",
            "  inflating: food-11/training/unlabeled/00/3440.jpg  \n",
            "  inflating: food-11/training/unlabeled/00/3459.jpg  \n",
            "  inflating: food-11/training/unlabeled/00/3476.jpg  \n",
            "  inflating: food-11/training/unlabeled/00/3487.jpg  \n",
            "  inflating: food-11/training/unlabeled/00/3496.jpg  \n",
            "  inflating: food-11/training/unlabeled/00/3501.jpg  \n",
            "  inflating: food-11/training/unlabeled/00/3510.jpg  \n",
            "  inflating: food-11/training/unlabeled/00/3513.jpg  \n",
            "  inflating: food-11/training/unlabeled/00/3514.jpg  \n",
            "  inflating: food-11/training/unlabeled/00/3516.jpg  \n",
            "  inflating: food-11/training/unlabeled/00/3530.jpg  \n",
            "  inflating: food-11/training/unlabeled/00/3539.jpg  \n",
            "  inflating: food-11/training/unlabeled/00/3547.jpg  \n",
            "  inflating: food-11/training/unlabeled/00/3554.jpg  \n",
            "  inflating: food-11/training/unlabeled/00/3570.jpg  \n",
            "  inflating: food-11/training/unlabeled/00/3579.jpg  \n",
            "  inflating: food-11/training/unlabeled/00/3585.jpg  \n",
            "  inflating: food-11/training/unlabeled/00/3610.jpg  \n",
            "  inflating: food-11/training/unlabeled/00/3612.jpg  \n",
            "  inflating: food-11/training/unlabeled/00/3625.jpg  \n",
            "  inflating: food-11/training/unlabeled/00/3626.jpg  \n",
            "  inflating: food-11/training/unlabeled/00/3628.jpg  \n",
            "  inflating: food-11/training/unlabeled/00/3636.jpg  \n",
            "  inflating: food-11/training/unlabeled/00/3641.jpg  \n",
            "  inflating: food-11/training/unlabeled/00/3642.jpg  \n",
            "  inflating: food-11/training/unlabeled/00/3644.jpg  \n",
            "  inflating: food-11/training/unlabeled/00/3645.jpg  \n",
            "  inflating: food-11/training/unlabeled/00/3662.jpg  \n",
            "  inflating: food-11/training/unlabeled/00/3665.jpg  \n",
            "  inflating: food-11/training/unlabeled/00/3669.jpg  \n",
            "  inflating: food-11/training/unlabeled/00/3672.jpg  \n",
            "  inflating: food-11/training/unlabeled/00/3681.jpg  \n",
            "  inflating: food-11/training/unlabeled/00/3684.jpg  \n",
            "  inflating: food-11/training/unlabeled/00/3697.jpg  \n",
            "  inflating: food-11/training/unlabeled/00/3704.jpg  \n",
            "  inflating: food-11/training/unlabeled/00/3719.jpg  \n",
            "  inflating: food-11/training/unlabeled/00/3724.jpg  \n",
            "  inflating: food-11/training/unlabeled/00/3725.jpg  \n",
            "  inflating: food-11/training/unlabeled/00/3728.jpg  \n",
            "  inflating: food-11/training/unlabeled/00/3731.jpg  \n",
            "  inflating: food-11/training/unlabeled/00/3738.jpg  \n",
            "  inflating: food-11/training/unlabeled/00/3739.jpg  \n",
            "  inflating: food-11/training/unlabeled/00/3748.jpg  \n",
            "  inflating: food-11/training/unlabeled/00/3769.jpg  \n",
            "  inflating: food-11/training/unlabeled/00/3774.jpg  \n",
            "  inflating: food-11/training/unlabeled/00/3781.jpg  \n",
            "  inflating: food-11/training/unlabeled/00/3784.jpg  \n",
            "  inflating: food-11/training/unlabeled/00/3786.jpg  \n",
            "  inflating: food-11/training/unlabeled/00/3787.jpg  \n",
            "  inflating: food-11/training/unlabeled/00/3799.jpg  \n",
            "  inflating: food-11/training/unlabeled/00/3807.jpg  \n",
            "  inflating: food-11/training/unlabeled/00/3811.jpg  \n",
            "  inflating: food-11/training/unlabeled/00/3812.jpg  \n",
            "  inflating: food-11/training/unlabeled/00/3815.jpg  \n",
            "  inflating: food-11/training/unlabeled/00/3827.jpg  \n",
            "  inflating: food-11/training/unlabeled/00/3844.jpg  \n",
            "  inflating: food-11/training/unlabeled/00/3847.jpg  \n",
            "  inflating: food-11/training/unlabeled/00/3850.jpg  \n",
            "  inflating: food-11/training/unlabeled/00/3854.jpg  \n",
            "  inflating: food-11/training/unlabeled/00/3860.jpg  \n",
            "  inflating: food-11/training/unlabeled/00/3866.jpg  \n",
            "  inflating: food-11/training/unlabeled/00/3873.jpg  \n",
            "  inflating: food-11/training/unlabeled/00/3881.jpg  \n",
            "  inflating: food-11/training/unlabeled/00/3889.jpg  \n",
            "  inflating: food-11/training/unlabeled/00/3896.jpg  \n",
            "  inflating: food-11/training/unlabeled/00/3897.jpg  \n",
            "  inflating: food-11/training/unlabeled/00/3901.jpg  \n",
            "  inflating: food-11/training/unlabeled/00/3905.jpg  \n",
            "  inflating: food-11/training/unlabeled/00/3908.jpg  \n",
            "  inflating: food-11/training/unlabeled/00/3915.jpg  \n",
            "  inflating: food-11/training/unlabeled/00/3951.jpg  \n",
            "  inflating: food-11/training/unlabeled/00/3955.jpg  \n",
            "  inflating: food-11/training/unlabeled/00/3962.jpg  \n",
            "  inflating: food-11/training/unlabeled/00/3969.jpg  \n",
            "  inflating: food-11/training/unlabeled/00/3970.jpg  \n",
            "  inflating: food-11/training/unlabeled/00/3983.jpg  \n",
            "  inflating: food-11/training/unlabeled/00/3985.jpg  \n",
            "  inflating: food-11/training/unlabeled/00/3993.jpg  \n",
            "  inflating: food-11/training/unlabeled/00/3996.jpg  \n",
            "  inflating: food-11/training/unlabeled/00/4002.jpg  \n",
            "  inflating: food-11/training/unlabeled/00/4005.jpg  \n",
            "  inflating: food-11/training/unlabeled/00/4008.jpg  \n",
            "  inflating: food-11/training/unlabeled/00/4010.jpg  \n",
            "  inflating: food-11/training/unlabeled/00/4020.jpg  \n",
            "  inflating: food-11/training/unlabeled/00/4027.jpg  \n",
            "  inflating: food-11/training/unlabeled/00/4038.jpg  \n",
            "  inflating: food-11/training/unlabeled/00/4054.jpg  \n",
            "  inflating: food-11/training/unlabeled/00/4056.jpg  \n",
            "  inflating: food-11/training/unlabeled/00/4060.jpg  \n",
            "  inflating: food-11/training/unlabeled/00/4069.jpg  \n",
            "  inflating: food-11/training/unlabeled/00/4081.jpg  \n",
            "  inflating: food-11/training/unlabeled/00/4097.jpg  \n",
            "  inflating: food-11/training/unlabeled/00/4122.jpg  \n",
            "  inflating: food-11/training/unlabeled/00/4129.jpg  \n",
            "  inflating: food-11/training/unlabeled/00/4134.jpg  \n",
            "  inflating: food-11/training/unlabeled/00/4135.jpg  \n",
            "  inflating: food-11/training/unlabeled/00/4162.jpg  \n",
            "  inflating: food-11/training/unlabeled/00/4164.jpg  \n",
            "  inflating: food-11/training/unlabeled/00/4165.jpg  \n",
            "  inflating: food-11/training/unlabeled/00/4166.jpg  \n",
            "  inflating: food-11/training/unlabeled/00/4197.jpg  \n",
            "  inflating: food-11/training/unlabeled/00/4206.jpg  \n",
            "  inflating: food-11/training/unlabeled/00/4214.jpg  \n",
            "  inflating: food-11/training/unlabeled/00/4219.jpg  \n",
            "  inflating: food-11/training/unlabeled/00/4232.jpg  \n",
            "  inflating: food-11/training/unlabeled/00/4250.jpg  \n",
            "  inflating: food-11/training/unlabeled/00/4255.jpg  \n",
            "  inflating: food-11/training/unlabeled/00/4267.jpg  \n",
            "  inflating: food-11/training/unlabeled/00/4269.jpg  \n",
            "  inflating: food-11/training/unlabeled/00/4283.jpg  \n",
            "  inflating: food-11/training/unlabeled/00/4293.jpg  \n",
            "  inflating: food-11/training/unlabeled/00/4301.jpg  \n",
            "  inflating: food-11/training/unlabeled/00/4311.jpg  \n",
            "  inflating: food-11/training/unlabeled/00/4315.jpg  \n",
            "  inflating: food-11/training/unlabeled/00/4322.jpg  \n",
            "  inflating: food-11/training/unlabeled/00/4331.jpg  \n",
            "  inflating: food-11/training/unlabeled/00/4367.jpg  \n",
            "  inflating: food-11/training/unlabeled/00/4371.jpg  \n",
            "  inflating: food-11/training/unlabeled/00/4375.jpg  \n",
            "  inflating: food-11/training/unlabeled/00/4393.jpg  \n",
            "  inflating: food-11/training/unlabeled/00/4404.jpg  \n",
            "  inflating: food-11/training/unlabeled/00/4423.jpg  \n",
            "  inflating: food-11/training/unlabeled/00/4441.jpg  \n",
            "  inflating: food-11/training/unlabeled/00/4444.jpg  \n",
            "  inflating: food-11/training/unlabeled/00/4452.jpg  \n",
            "  inflating: food-11/training/unlabeled/00/4454.jpg  \n",
            "  inflating: food-11/training/unlabeled/00/4456.jpg  \n",
            "  inflating: food-11/training/unlabeled/00/4484.jpg  \n",
            "  inflating: food-11/training/unlabeled/00/4509.jpg  \n",
            "  inflating: food-11/training/unlabeled/00/4513.jpg  \n",
            "  inflating: food-11/training/unlabeled/00/4521.jpg  \n",
            "  inflating: food-11/training/unlabeled/00/4527.jpg  \n",
            "  inflating: food-11/training/unlabeled/00/4528.jpg  \n",
            "  inflating: food-11/training/unlabeled/00/4532.jpg  \n",
            "  inflating: food-11/training/unlabeled/00/4535.jpg  \n",
            "  inflating: food-11/training/unlabeled/00/4540.jpg  \n",
            "  inflating: food-11/training/unlabeled/00/4542.jpg  \n",
            "  inflating: food-11/training/unlabeled/00/4553.jpg  \n",
            "  inflating: food-11/training/unlabeled/00/4573.jpg  \n",
            "  inflating: food-11/training/unlabeled/00/4577.jpg  \n",
            "  inflating: food-11/training/unlabeled/00/4580.jpg  \n",
            "  inflating: food-11/training/unlabeled/00/4584.jpg  \n",
            "  inflating: food-11/training/unlabeled/00/4585.jpg  \n",
            "  inflating: food-11/training/unlabeled/00/4593.jpg  \n",
            "  inflating: food-11/training/unlabeled/00/4606.jpg  \n",
            "  inflating: food-11/training/unlabeled/00/4607.jpg  \n",
            "  inflating: food-11/training/unlabeled/00/4617.jpg  \n",
            "  inflating: food-11/training/unlabeled/00/4635.jpg  \n",
            "  inflating: food-11/training/unlabeled/00/4653.jpg  \n",
            "  inflating: food-11/training/unlabeled/00/4674.jpg  \n",
            "  inflating: food-11/training/unlabeled/00/4689.jpg  \n",
            "  inflating: food-11/training/unlabeled/00/4692.jpg  \n",
            "  inflating: food-11/training/unlabeled/00/4695.jpg  \n",
            "  inflating: food-11/training/unlabeled/00/4707.jpg  \n",
            "  inflating: food-11/training/unlabeled/00/4708.jpg  \n",
            "  inflating: food-11/training/unlabeled/00/4709.jpg  \n",
            "  inflating: food-11/training/unlabeled/00/4726.jpg  \n",
            "  inflating: food-11/training/unlabeled/00/4740.jpg  \n",
            "  inflating: food-11/training/unlabeled/00/4749.jpg  \n",
            "  inflating: food-11/training/unlabeled/00/4755.jpg  \n",
            "  inflating: food-11/training/unlabeled/00/4766.jpg  \n",
            "  inflating: food-11/training/unlabeled/00/4776.jpg  \n",
            "  inflating: food-11/training/unlabeled/00/4780.jpg  \n",
            "  inflating: food-11/training/unlabeled/00/4782.jpg  \n",
            "  inflating: food-11/training/unlabeled/00/4788.jpg  \n",
            "  inflating: food-11/training/unlabeled/00/4789.jpg  \n",
            "  inflating: food-11/training/unlabeled/00/4790.jpg  \n",
            "  inflating: food-11/training/unlabeled/00/4795.jpg  \n",
            "  inflating: food-11/training/unlabeled/00/4801.jpg  \n",
            "  inflating: food-11/training/unlabeled/00/4807.jpg  \n",
            "  inflating: food-11/training/unlabeled/00/4810.jpg  \n",
            "  inflating: food-11/training/unlabeled/00/4820.jpg  \n",
            "  inflating: food-11/training/unlabeled/00/4835.jpg  \n",
            "  inflating: food-11/training/unlabeled/00/4863.jpg  \n",
            "  inflating: food-11/training/unlabeled/00/4864.jpg  \n",
            "  inflating: food-11/training/unlabeled/00/4865.jpg  \n",
            "  inflating: food-11/training/unlabeled/00/4887.jpg  \n",
            "  inflating: food-11/training/unlabeled/00/4888.jpg  \n",
            "  inflating: food-11/training/unlabeled/00/4892.jpg  \n",
            "  inflating: food-11/training/unlabeled/00/4919.jpg  \n",
            "  inflating: food-11/training/unlabeled/00/4920.jpg  \n",
            "  inflating: food-11/training/unlabeled/00/4925.jpg  \n",
            "  inflating: food-11/training/unlabeled/00/4926.jpg  \n",
            "  inflating: food-11/training/unlabeled/00/4927.jpg  \n",
            "  inflating: food-11/training/unlabeled/00/4934.jpg  \n",
            "  inflating: food-11/training/unlabeled/00/4936.jpg  \n",
            "  inflating: food-11/training/unlabeled/00/4940.jpg  \n",
            "  inflating: food-11/training/unlabeled/00/4973.jpg  \n",
            "  inflating: food-11/training/unlabeled/00/5003.jpg  \n",
            "  inflating: food-11/training/unlabeled/00/5007.jpg  \n",
            "  inflating: food-11/training/unlabeled/00/5022.jpg  \n",
            "  inflating: food-11/training/unlabeled/00/5030.jpg  \n",
            "  inflating: food-11/training/unlabeled/00/5039.jpg  \n",
            "  inflating: food-11/training/unlabeled/00/5048.jpg  \n",
            "  inflating: food-11/training/unlabeled/00/5050.jpg  \n",
            "  inflating: food-11/training/unlabeled/00/5051.jpg  \n",
            "  inflating: food-11/training/unlabeled/00/5053.jpg  \n",
            "  inflating: food-11/training/unlabeled/00/5063.jpg  \n",
            "  inflating: food-11/training/unlabeled/00/5069.jpg  \n",
            "  inflating: food-11/training/unlabeled/00/5078.jpg  \n",
            "  inflating: food-11/training/unlabeled/00/5080.jpg  \n",
            "  inflating: food-11/training/unlabeled/00/5083.jpg  \n",
            "  inflating: food-11/training/unlabeled/00/5090.jpg  \n",
            "  inflating: food-11/training/unlabeled/00/5106.jpg  \n",
            "  inflating: food-11/training/unlabeled/00/5107.jpg  \n",
            "  inflating: food-11/training/unlabeled/00/5111.jpg  \n",
            "  inflating: food-11/training/unlabeled/00/5114.jpg  \n",
            "  inflating: food-11/training/unlabeled/00/5118.jpg  \n",
            "  inflating: food-11/training/unlabeled/00/5127.jpg  \n",
            "  inflating: food-11/training/unlabeled/00/5130.jpg  \n",
            "  inflating: food-11/training/unlabeled/00/5143.jpg  \n",
            "  inflating: food-11/training/unlabeled/00/5157.jpg  \n",
            "  inflating: food-11/training/unlabeled/00/5179.jpg  \n",
            "  inflating: food-11/training/unlabeled/00/5186.jpg  \n",
            "  inflating: food-11/training/unlabeled/00/5188.jpg  \n",
            "  inflating: food-11/training/unlabeled/00/5194.jpg  \n",
            "  inflating: food-11/training/unlabeled/00/5216.jpg  \n",
            "  inflating: food-11/training/unlabeled/00/5233.jpg  \n",
            "  inflating: food-11/training/unlabeled/00/5235.jpg  \n",
            "  inflating: food-11/training/unlabeled/00/5247.jpg  \n",
            "  inflating: food-11/training/unlabeled/00/5260.jpg  \n",
            "  inflating: food-11/training/unlabeled/00/5286.jpg  \n",
            "  inflating: food-11/training/unlabeled/00/5288.jpg  \n",
            "  inflating: food-11/training/unlabeled/00/5297.jpg  \n",
            "  inflating: food-11/training/unlabeled/00/5317.jpg  \n",
            "  inflating: food-11/training/unlabeled/00/5321.jpg  \n",
            "  inflating: food-11/training/unlabeled/00/5326.jpg  \n",
            "  inflating: food-11/training/unlabeled/00/5334.jpg  \n",
            "  inflating: food-11/training/unlabeled/00/5342.jpg  \n",
            "  inflating: food-11/training/unlabeled/00/5345.jpg  \n",
            "  inflating: food-11/training/unlabeled/00/5356.jpg  \n",
            "  inflating: food-11/training/unlabeled/00/5366.jpg  \n",
            "  inflating: food-11/training/unlabeled/00/5382.jpg  \n",
            "  inflating: food-11/training/unlabeled/00/5387.jpg  \n",
            "  inflating: food-11/training/unlabeled/00/5398.jpg  \n",
            "  inflating: food-11/training/unlabeled/00/5411.jpg  \n",
            "  inflating: food-11/training/unlabeled/00/5413.jpg  \n",
            "  inflating: food-11/training/unlabeled/00/5426.jpg  \n",
            "  inflating: food-11/training/unlabeled/00/5429.jpg  \n",
            "  inflating: food-11/training/unlabeled/00/5434.jpg  \n",
            "  inflating: food-11/training/unlabeled/00/5437.jpg  \n",
            "  inflating: food-11/training/unlabeled/00/5456.jpg  \n",
            "  inflating: food-11/training/unlabeled/00/5463.jpg  \n",
            "  inflating: food-11/training/unlabeled/00/5464.jpg  \n",
            "  inflating: food-11/training/unlabeled/00/5468.jpg  \n",
            "  inflating: food-11/training/unlabeled/00/5469.jpg  \n",
            "  inflating: food-11/training/unlabeled/00/5471.jpg  \n",
            "  inflating: food-11/training/unlabeled/00/5478.jpg  \n",
            "  inflating: food-11/training/unlabeled/00/5493.jpg  \n",
            "  inflating: food-11/training/unlabeled/00/5504.jpg  \n",
            "  inflating: food-11/training/unlabeled/00/5510.jpg  \n",
            "  inflating: food-11/training/unlabeled/00/5512.jpg  \n",
            "  inflating: food-11/training/unlabeled/00/5527.jpg  \n",
            "  inflating: food-11/training/unlabeled/00/5537.jpg  \n",
            "  inflating: food-11/training/unlabeled/00/5550.jpg  \n",
            "  inflating: food-11/training/unlabeled/00/5554.jpg  \n",
            "  inflating: food-11/training/unlabeled/00/5558.jpg  \n",
            "  inflating: food-11/training/unlabeled/00/5559.jpg  \n",
            "  inflating: food-11/training/unlabeled/00/5561.jpg  \n",
            "  inflating: food-11/training/unlabeled/00/5568.jpg  \n",
            "  inflating: food-11/training/unlabeled/00/5569.jpg  \n",
            "  inflating: food-11/training/unlabeled/00/5574.jpg  \n",
            "  inflating: food-11/training/unlabeled/00/5588.jpg  \n",
            "  inflating: food-11/training/unlabeled/00/5594.jpg  \n",
            "  inflating: food-11/training/unlabeled/00/5598.jpg  \n",
            "  inflating: food-11/training/unlabeled/00/5608.jpg  \n",
            "  inflating: food-11/training/unlabeled/00/5612.jpg  \n",
            "  inflating: food-11/training/unlabeled/00/5616.jpg  \n",
            "  inflating: food-11/training/unlabeled/00/5632.jpg  \n",
            "  inflating: food-11/training/unlabeled/00/5638.jpg  \n",
            "  inflating: food-11/training/unlabeled/00/5640.jpg  \n",
            "  inflating: food-11/training/unlabeled/00/5648.jpg  \n",
            "  inflating: food-11/training/unlabeled/00/5659.jpg  \n",
            "  inflating: food-11/training/unlabeled/00/5661.jpg  \n",
            "  inflating: food-11/training/unlabeled/00/5670.jpg  \n",
            "  inflating: food-11/training/unlabeled/00/5686.jpg  \n",
            "  inflating: food-11/training/unlabeled/00/5688.jpg  \n",
            "  inflating: food-11/training/unlabeled/00/5698.jpg  \n",
            "  inflating: food-11/training/unlabeled/00/5699.jpg  \n",
            "  inflating: food-11/training/unlabeled/00/5700.jpg  \n",
            "  inflating: food-11/training/unlabeled/00/5703.jpg  \n",
            "  inflating: food-11/training/unlabeled/00/5733.jpg  \n",
            "  inflating: food-11/training/unlabeled/00/5737.jpg  \n",
            "  inflating: food-11/training/unlabeled/00/5738.jpg  \n",
            "  inflating: food-11/training/unlabeled/00/5750.jpg  \n",
            "  inflating: food-11/training/unlabeled/00/5753.jpg  \n",
            "  inflating: food-11/training/unlabeled/00/5774.jpg  \n",
            "  inflating: food-11/training/unlabeled/00/5782.jpg  \n",
            "  inflating: food-11/training/unlabeled/00/5786.jpg  \n",
            "  inflating: food-11/training/unlabeled/00/5791.jpg  \n",
            "  inflating: food-11/training/unlabeled/00/5802.jpg  \n",
            "  inflating: food-11/training/unlabeled/00/5811.jpg  \n",
            "  inflating: food-11/training/unlabeled/00/5816.jpg  \n",
            "  inflating: food-11/training/unlabeled/00/5818.jpg  \n",
            "  inflating: food-11/training/unlabeled/00/5826.jpg  \n",
            "  inflating: food-11/training/unlabeled/00/5851.jpg  \n",
            "  inflating: food-11/training/unlabeled/00/5853.jpg  \n",
            "  inflating: food-11/training/unlabeled/00/5860.jpg  \n",
            "  inflating: food-11/training/unlabeled/00/5861.jpg  \n",
            "  inflating: food-11/training/unlabeled/00/5869.jpg  \n",
            "  inflating: food-11/training/unlabeled/00/5873.jpg  \n",
            "  inflating: food-11/training/unlabeled/00/5875.jpg  \n",
            "  inflating: food-11/training/unlabeled/00/5877.jpg  \n",
            "  inflating: food-11/training/unlabeled/00/5878.jpg  \n",
            "  inflating: food-11/training/unlabeled/00/5883.jpg  \n",
            "  inflating: food-11/training/unlabeled/00/5884.jpg  \n",
            "  inflating: food-11/training/unlabeled/00/5886.jpg  \n",
            "  inflating: food-11/training/unlabeled/00/5891.jpg  \n",
            "  inflating: food-11/training/unlabeled/00/5901.jpg  \n",
            "  inflating: food-11/training/unlabeled/00/5904.jpg  \n",
            "  inflating: food-11/training/unlabeled/00/5908.jpg  \n",
            "  inflating: food-11/training/unlabeled/00/5922.jpg  \n",
            "  inflating: food-11/training/unlabeled/00/5925.jpg  \n",
            "  inflating: food-11/training/unlabeled/00/5933.jpg  \n",
            "  inflating: food-11/training/unlabeled/00/5935.jpg  \n",
            "  inflating: food-11/training/unlabeled/00/5949.jpg  \n",
            "  inflating: food-11/training/unlabeled/00/5959.jpg  \n",
            "  inflating: food-11/training/unlabeled/00/5966.jpg  \n",
            "  inflating: food-11/training/unlabeled/00/5977.jpg  \n",
            "  inflating: food-11/training/unlabeled/00/5982.jpg  \n",
            "  inflating: food-11/training/unlabeled/00/6001.jpg  \n",
            "  inflating: food-11/training/unlabeled/00/6015.jpg  \n",
            "  inflating: food-11/training/unlabeled/00/6025.jpg  \n",
            "  inflating: food-11/training/unlabeled/00/6031.jpg  \n",
            "  inflating: food-11/training/unlabeled/00/6034.jpg  \n",
            "  inflating: food-11/training/unlabeled/00/6038.jpg  \n",
            "  inflating: food-11/training/unlabeled/00/6041.jpg  \n",
            "  inflating: food-11/training/unlabeled/00/6064.jpg  \n",
            "  inflating: food-11/training/unlabeled/00/6073.jpg  \n",
            "  inflating: food-11/training/unlabeled/00/6085.jpg  \n",
            "  inflating: food-11/training/unlabeled/00/6087.jpg  \n",
            "  inflating: food-11/training/unlabeled/00/6091.jpg  \n",
            "  inflating: food-11/training/unlabeled/00/6106.jpg  \n",
            "  inflating: food-11/training/unlabeled/00/6110.jpg  \n",
            "  inflating: food-11/training/unlabeled/00/6114.jpg  \n",
            "  inflating: food-11/training/unlabeled/00/6120.jpg  \n",
            "  inflating: food-11/training/unlabeled/00/6128.jpg  \n",
            "  inflating: food-11/training/unlabeled/00/6142.jpg  \n",
            "  inflating: food-11/training/unlabeled/00/6152.jpg  \n",
            "  inflating: food-11/training/unlabeled/00/6157.jpg  \n",
            "  inflating: food-11/training/unlabeled/00/6172.jpg  \n",
            "  inflating: food-11/training/unlabeled/00/6181.jpg  \n",
            "  inflating: food-11/training/unlabeled/00/6193.jpg  \n",
            "  inflating: food-11/training/unlabeled/00/6198.jpg  \n",
            "  inflating: food-11/training/unlabeled/00/6229.jpg  \n",
            "  inflating: food-11/training/unlabeled/00/6234.jpg  \n",
            "  inflating: food-11/training/unlabeled/00/6235.jpg  \n",
            "  inflating: food-11/training/unlabeled/00/6243.jpg  \n",
            "  inflating: food-11/training/unlabeled/00/6246.jpg  \n",
            "  inflating: food-11/training/unlabeled/00/6249.jpg  \n",
            "  inflating: food-11/training/unlabeled/00/6274.jpg  \n",
            "  inflating: food-11/training/unlabeled/00/6284.jpg  \n",
            "  inflating: food-11/training/unlabeled/00/6298.jpg  \n",
            "  inflating: food-11/training/unlabeled/00/6300.jpg  \n",
            "  inflating: food-11/training/unlabeled/00/6307.jpg  \n",
            "  inflating: food-11/training/unlabeled/00/6310.jpg  \n",
            "  inflating: food-11/training/unlabeled/00/6318.jpg  \n",
            "  inflating: food-11/training/unlabeled/00/6322.jpg  \n",
            "  inflating: food-11/training/unlabeled/00/6325.jpg  \n",
            "  inflating: food-11/training/unlabeled/00/6343.jpg  \n",
            "  inflating: food-11/training/unlabeled/00/6346.jpg  \n",
            "  inflating: food-11/training/unlabeled/00/6363.jpg  \n",
            "  inflating: food-11/training/unlabeled/00/6371.jpg  \n",
            "  inflating: food-11/training/unlabeled/00/6376.jpg  \n",
            "  inflating: food-11/training/unlabeled/00/6377.jpg  \n",
            "  inflating: food-11/training/unlabeled/00/6384.jpg  \n",
            "  inflating: food-11/training/unlabeled/00/6387.jpg  \n",
            "  inflating: food-11/training/unlabeled/00/6392.jpg  \n",
            "  inflating: food-11/training/unlabeled/00/6395.jpg  \n",
            "  inflating: food-11/training/unlabeled/00/6404.jpg  \n",
            "  inflating: food-11/training/unlabeled/00/6406.jpg  \n",
            "  inflating: food-11/training/unlabeled/00/6414.jpg  \n",
            "  inflating: food-11/training/unlabeled/00/6424.jpg  \n",
            "  inflating: food-11/training/unlabeled/00/6427.jpg  \n",
            "  inflating: food-11/training/unlabeled/00/6442.jpg  \n",
            "  inflating: food-11/training/unlabeled/00/6459.jpg  \n",
            "  inflating: food-11/training/unlabeled/00/6469.jpg  \n",
            "  inflating: food-11/training/unlabeled/00/6477.jpg  \n",
            "  inflating: food-11/training/unlabeled/00/6487.jpg  \n",
            "  inflating: food-11/training/unlabeled/00/6495.jpg  \n",
            "  inflating: food-11/training/unlabeled/00/6505.jpg  \n",
            "  inflating: food-11/training/unlabeled/00/6508.jpg  \n",
            "  inflating: food-11/training/unlabeled/00/6509.jpg  \n",
            "  inflating: food-11/training/unlabeled/00/6516.jpg  \n",
            "  inflating: food-11/training/unlabeled/00/6527.jpg  \n",
            "  inflating: food-11/training/unlabeled/00/6533.jpg  \n",
            "  inflating: food-11/training/unlabeled/00/6540.jpg  \n",
            "  inflating: food-11/training/unlabeled/00/6552.jpg  \n",
            "  inflating: food-11/training/unlabeled/00/6558.jpg  \n",
            "  inflating: food-11/training/unlabeled/00/6559.jpg  \n",
            "  inflating: food-11/training/unlabeled/00/6563.jpg  \n",
            "  inflating: food-11/training/unlabeled/00/6575.jpg  \n",
            "  inflating: food-11/training/unlabeled/00/6585.jpg  \n",
            "  inflating: food-11/training/unlabeled/00/6598.jpg  \n",
            "  inflating: food-11/training/unlabeled/00/6606.jpg  \n",
            "  inflating: food-11/training/unlabeled/00/6615.jpg  \n",
            "  inflating: food-11/training/unlabeled/00/6623.jpg  \n",
            "  inflating: food-11/training/unlabeled/00/6624.jpg  \n",
            "  inflating: food-11/training/unlabeled/00/6625.jpg  \n",
            "  inflating: food-11/training/unlabeled/00/6646.jpg  \n",
            "  inflating: food-11/training/unlabeled/00/6683.jpg  \n",
            "  inflating: food-11/training/unlabeled/00/6705.jpg  \n",
            "  inflating: food-11/training/unlabeled/00/6719.jpg  \n",
            "  inflating: food-11/training/unlabeled/00/6720.jpg  \n",
            "  inflating: food-11/training/unlabeled/00/6729.jpg  \n",
            "  inflating: food-11/training/unlabeled/00/6736.jpg  \n",
            "  inflating: food-11/training/unlabeled/00/6742.jpg  \n",
            "  inflating: food-11/training/unlabeled/00/6747.jpg  \n",
            "  inflating: food-11/training/unlabeled/00/6761.jpg  \n",
            "  inflating: food-11/training/unlabeled/00/6781.jpg  \n",
            "   creating: food-11/validation/\n",
            "   creating: food-11/validation/00/\n",
            "  inflating: food-11/validation/00/0_0.jpg  \n",
            "  inflating: food-11/validation/00/0_1.jpg  \n",
            "  inflating: food-11/validation/00/0_10.jpg  \n",
            "  inflating: food-11/validation/00/0_11.jpg  \n",
            "  inflating: food-11/validation/00/0_12.jpg  \n",
            "  inflating: food-11/validation/00/0_13.jpg  \n",
            "  inflating: food-11/validation/00/0_14.jpg  \n",
            "  inflating: food-11/validation/00/0_15.jpg  \n",
            "  inflating: food-11/validation/00/0_16.jpg  \n",
            "  inflating: food-11/validation/00/0_17.jpg  \n",
            "  inflating: food-11/validation/00/0_18.jpg  \n",
            "  inflating: food-11/validation/00/0_19.jpg  \n",
            "  inflating: food-11/validation/00/0_2.jpg  \n",
            "  inflating: food-11/validation/00/0_20.jpg  \n",
            "  inflating: food-11/validation/00/0_21.jpg  \n",
            "  inflating: food-11/validation/00/0_22.jpg  \n",
            "  inflating: food-11/validation/00/0_23.jpg  \n",
            "  inflating: food-11/validation/00/0_24.jpg  \n",
            "  inflating: food-11/validation/00/0_25.jpg  \n",
            "  inflating: food-11/validation/00/0_26.jpg  \n",
            "  inflating: food-11/validation/00/0_27.jpg  \n",
            "  inflating: food-11/validation/00/0_28.jpg  \n",
            "  inflating: food-11/validation/00/0_29.jpg  \n",
            "  inflating: food-11/validation/00/0_3.jpg  \n",
            "  inflating: food-11/validation/00/0_30.jpg  \n",
            "  inflating: food-11/validation/00/0_31.jpg  \n",
            "  inflating: food-11/validation/00/0_32.jpg  \n",
            "  inflating: food-11/validation/00/0_33.jpg  \n",
            "  inflating: food-11/validation/00/0_34.jpg  \n",
            "  inflating: food-11/validation/00/0_35.jpg  \n",
            "  inflating: food-11/validation/00/0_36.jpg  \n",
            "  inflating: food-11/validation/00/0_37.jpg  \n",
            "  inflating: food-11/validation/00/0_38.jpg  \n",
            "  inflating: food-11/validation/00/0_39.jpg  \n",
            "  inflating: food-11/validation/00/0_4.jpg  \n",
            "  inflating: food-11/validation/00/0_40.jpg  \n",
            "  inflating: food-11/validation/00/0_41.jpg  \n",
            "  inflating: food-11/validation/00/0_42.jpg  \n",
            "  inflating: food-11/validation/00/0_43.jpg  \n",
            "  inflating: food-11/validation/00/0_44.jpg  \n",
            "  inflating: food-11/validation/00/0_45.jpg  \n",
            "  inflating: food-11/validation/00/0_46.jpg  \n",
            "  inflating: food-11/validation/00/0_47.jpg  \n",
            "  inflating: food-11/validation/00/0_48.jpg  \n",
            "  inflating: food-11/validation/00/0_49.jpg  \n",
            "  inflating: food-11/validation/00/0_5.jpg  \n",
            "  inflating: food-11/validation/00/0_50.jpg  \n",
            "  inflating: food-11/validation/00/0_51.jpg  \n",
            "  inflating: food-11/validation/00/0_52.jpg  \n",
            "  inflating: food-11/validation/00/0_53.jpg  \n",
            "  inflating: food-11/validation/00/0_54.jpg  \n",
            "  inflating: food-11/validation/00/0_55.jpg  \n",
            "  inflating: food-11/validation/00/0_56.jpg  \n",
            "  inflating: food-11/validation/00/0_57.jpg  \n",
            "  inflating: food-11/validation/00/0_58.jpg  \n",
            "  inflating: food-11/validation/00/0_59.jpg  \n",
            "  inflating: food-11/validation/00/0_6.jpg  \n",
            "  inflating: food-11/validation/00/0_7.jpg  \n",
            "  inflating: food-11/validation/00/0_8.jpg  \n",
            "  inflating: food-11/validation/00/0_9.jpg  \n",
            "   creating: food-11/validation/01/\n",
            "  inflating: food-11/validation/01/1_0.jpg  \n",
            "  inflating: food-11/validation/01/1_1.jpg  \n",
            "  inflating: food-11/validation/01/1_10.jpg  \n",
            "  inflating: food-11/validation/01/1_11.jpg  \n",
            "  inflating: food-11/validation/01/1_12.jpg  \n",
            "  inflating: food-11/validation/01/1_13.jpg  \n",
            "  inflating: food-11/validation/01/1_14.jpg  \n",
            "  inflating: food-11/validation/01/1_15.jpg  \n",
            "  inflating: food-11/validation/01/1_16.jpg  \n",
            "  inflating: food-11/validation/01/1_17.jpg  \n",
            "  inflating: food-11/validation/01/1_18.jpg  \n",
            "  inflating: food-11/validation/01/1_19.jpg  \n",
            "  inflating: food-11/validation/01/1_2.jpg  \n",
            "  inflating: food-11/validation/01/1_20.jpg  \n",
            "  inflating: food-11/validation/01/1_21.jpg  \n",
            "  inflating: food-11/validation/01/1_22.jpg  \n",
            "  inflating: food-11/validation/01/1_23.jpg  \n",
            "  inflating: food-11/validation/01/1_24.jpg  \n",
            "  inflating: food-11/validation/01/1_25.jpg  \n",
            "  inflating: food-11/validation/01/1_26.jpg  \n",
            "  inflating: food-11/validation/01/1_27.jpg  \n",
            "  inflating: food-11/validation/01/1_28.jpg  \n",
            "  inflating: food-11/validation/01/1_29.jpg  \n",
            "  inflating: food-11/validation/01/1_3.jpg  \n",
            "  inflating: food-11/validation/01/1_30.jpg  \n",
            "  inflating: food-11/validation/01/1_31.jpg  \n",
            "  inflating: food-11/validation/01/1_32.jpg  \n",
            "  inflating: food-11/validation/01/1_33.jpg  \n",
            "  inflating: food-11/validation/01/1_34.jpg  \n",
            "  inflating: food-11/validation/01/1_35.jpg  \n",
            "  inflating: food-11/validation/01/1_36.jpg  \n",
            "  inflating: food-11/validation/01/1_37.jpg  \n",
            "  inflating: food-11/validation/01/1_38.jpg  \n",
            "  inflating: food-11/validation/01/1_39.jpg  \n",
            "  inflating: food-11/validation/01/1_4.jpg  \n",
            "  inflating: food-11/validation/01/1_40.jpg  \n",
            "  inflating: food-11/validation/01/1_41.jpg  \n",
            "  inflating: food-11/validation/01/1_42.jpg  \n",
            "  inflating: food-11/validation/01/1_43.jpg  \n",
            "  inflating: food-11/validation/01/1_44.jpg  \n",
            "  inflating: food-11/validation/01/1_45.jpg  \n",
            "  inflating: food-11/validation/01/1_46.jpg  \n",
            "  inflating: food-11/validation/01/1_47.jpg  \n",
            "  inflating: food-11/validation/01/1_48.jpg  \n",
            "  inflating: food-11/validation/01/1_49.jpg  \n",
            "  inflating: food-11/validation/01/1_5.jpg  \n",
            "  inflating: food-11/validation/01/1_50.jpg  \n",
            "  inflating: food-11/validation/01/1_51.jpg  \n",
            "  inflating: food-11/validation/01/1_52.jpg  \n",
            "  inflating: food-11/validation/01/1_53.jpg  \n",
            "  inflating: food-11/validation/01/1_54.jpg  \n",
            "  inflating: food-11/validation/01/1_55.jpg  \n",
            "  inflating: food-11/validation/01/1_56.jpg  \n",
            "  inflating: food-11/validation/01/1_57.jpg  \n",
            "  inflating: food-11/validation/01/1_58.jpg  \n",
            "  inflating: food-11/validation/01/1_59.jpg  \n",
            "  inflating: food-11/validation/01/1_6.jpg  \n",
            "  inflating: food-11/validation/01/1_7.jpg  \n",
            "  inflating: food-11/validation/01/1_8.jpg  \n",
            "  inflating: food-11/validation/01/1_9.jpg  \n",
            "   creating: food-11/validation/02/\n",
            "  inflating: food-11/validation/02/2_0.jpg  \n",
            "  inflating: food-11/validation/02/2_1.jpg  \n",
            "  inflating: food-11/validation/02/2_10.jpg  \n",
            "  inflating: food-11/validation/02/2_11.jpg  \n",
            "  inflating: food-11/validation/02/2_12.jpg  \n",
            "  inflating: food-11/validation/02/2_13.jpg  \n",
            "  inflating: food-11/validation/02/2_14.jpg  \n",
            "  inflating: food-11/validation/02/2_15.jpg  \n",
            "  inflating: food-11/validation/02/2_16.jpg  \n",
            "  inflating: food-11/validation/02/2_17.jpg  \n",
            "  inflating: food-11/validation/02/2_18.jpg  \n",
            "  inflating: food-11/validation/02/2_19.jpg  \n",
            "  inflating: food-11/validation/02/2_2.jpg  \n",
            "  inflating: food-11/validation/02/2_20.jpg  \n",
            "  inflating: food-11/validation/02/2_21.jpg  \n",
            "  inflating: food-11/validation/02/2_22.jpg  \n",
            "  inflating: food-11/validation/02/2_23.jpg  \n",
            "  inflating: food-11/validation/02/2_24.jpg  \n",
            "  inflating: food-11/validation/02/2_25.jpg  \n",
            "  inflating: food-11/validation/02/2_26.jpg  \n",
            "  inflating: food-11/validation/02/2_27.jpg  \n",
            "  inflating: food-11/validation/02/2_28.jpg  \n",
            "  inflating: food-11/validation/02/2_29.jpg  \n",
            "  inflating: food-11/validation/02/2_3.jpg  \n",
            "  inflating: food-11/validation/02/2_30.jpg  \n",
            "  inflating: food-11/validation/02/2_31.jpg  \n",
            "  inflating: food-11/validation/02/2_32.jpg  \n",
            "  inflating: food-11/validation/02/2_33.jpg  \n",
            "  inflating: food-11/validation/02/2_34.jpg  \n",
            "  inflating: food-11/validation/02/2_35.jpg  \n",
            "  inflating: food-11/validation/02/2_36.jpg  \n",
            "  inflating: food-11/validation/02/2_37.jpg  \n",
            "  inflating: food-11/validation/02/2_38.jpg  \n",
            "  inflating: food-11/validation/02/2_39.jpg  \n",
            "  inflating: food-11/validation/02/2_4.jpg  \n",
            "  inflating: food-11/validation/02/2_40.jpg  \n",
            "  inflating: food-11/validation/02/2_41.jpg  \n",
            "  inflating: food-11/validation/02/2_42.jpg  \n",
            "  inflating: food-11/validation/02/2_43.jpg  \n",
            "  inflating: food-11/validation/02/2_44.jpg  \n",
            "  inflating: food-11/validation/02/2_45.jpg  \n",
            "  inflating: food-11/validation/02/2_46.jpg  \n",
            "  inflating: food-11/validation/02/2_47.jpg  \n",
            "  inflating: food-11/validation/02/2_48.jpg  \n",
            "  inflating: food-11/validation/02/2_49.jpg  \n",
            "  inflating: food-11/validation/02/2_5.jpg  \n",
            "  inflating: food-11/validation/02/2_50.jpg  \n",
            "  inflating: food-11/validation/02/2_51.jpg  \n",
            "  inflating: food-11/validation/02/2_52.jpg  \n",
            "  inflating: food-11/validation/02/2_53.jpg  \n",
            "  inflating: food-11/validation/02/2_54.jpg  \n",
            "  inflating: food-11/validation/02/2_55.jpg  \n",
            "  inflating: food-11/validation/02/2_56.jpg  \n",
            "  inflating: food-11/validation/02/2_57.jpg  \n",
            "  inflating: food-11/validation/02/2_58.jpg  \n",
            "  inflating: food-11/validation/02/2_59.jpg  \n",
            "  inflating: food-11/validation/02/2_6.jpg  \n",
            "  inflating: food-11/validation/02/2_7.jpg  \n",
            "  inflating: food-11/validation/02/2_8.jpg  \n",
            "  inflating: food-11/validation/02/2_9.jpg  \n",
            "   creating: food-11/validation/03/\n",
            "  inflating: food-11/validation/03/3_0.jpg  \n",
            "  inflating: food-11/validation/03/3_1.jpg  \n",
            "  inflating: food-11/validation/03/3_10.jpg  \n",
            "  inflating: food-11/validation/03/3_11.jpg  \n",
            "  inflating: food-11/validation/03/3_12.jpg  \n",
            "  inflating: food-11/validation/03/3_13.jpg  \n",
            "  inflating: food-11/validation/03/3_14.jpg  \n",
            "  inflating: food-11/validation/03/3_15.jpg  \n",
            "  inflating: food-11/validation/03/3_16.jpg  \n",
            "  inflating: food-11/validation/03/3_17.jpg  \n",
            "  inflating: food-11/validation/03/3_18.jpg  \n",
            "  inflating: food-11/validation/03/3_19.jpg  \n",
            "  inflating: food-11/validation/03/3_2.jpg  \n",
            "  inflating: food-11/validation/03/3_20.jpg  \n",
            "  inflating: food-11/validation/03/3_21.jpg  \n",
            "  inflating: food-11/validation/03/3_22.jpg  \n",
            "  inflating: food-11/validation/03/3_23.jpg  \n",
            "  inflating: food-11/validation/03/3_24.jpg  \n",
            "  inflating: food-11/validation/03/3_25.jpg  \n",
            "  inflating: food-11/validation/03/3_26.jpg  \n",
            "  inflating: food-11/validation/03/3_27.jpg  \n",
            "  inflating: food-11/validation/03/3_28.jpg  \n",
            "  inflating: food-11/validation/03/3_29.jpg  \n",
            "  inflating: food-11/validation/03/3_3.jpg  \n",
            "  inflating: food-11/validation/03/3_30.jpg  \n",
            "  inflating: food-11/validation/03/3_31.jpg  \n",
            "  inflating: food-11/validation/03/3_32.jpg  \n",
            "  inflating: food-11/validation/03/3_33.jpg  \n",
            "  inflating: food-11/validation/03/3_34.jpg  \n",
            "  inflating: food-11/validation/03/3_35.jpg  \n",
            "  inflating: food-11/validation/03/3_36.jpg  \n",
            "  inflating: food-11/validation/03/3_37.jpg  \n",
            "  inflating: food-11/validation/03/3_38.jpg  \n",
            "  inflating: food-11/validation/03/3_39.jpg  \n",
            "  inflating: food-11/validation/03/3_4.jpg  \n",
            "  inflating: food-11/validation/03/3_40.jpg  \n",
            "  inflating: food-11/validation/03/3_41.jpg  \n",
            "  inflating: food-11/validation/03/3_42.jpg  \n",
            "  inflating: food-11/validation/03/3_43.jpg  \n",
            "  inflating: food-11/validation/03/3_44.jpg  \n",
            "  inflating: food-11/validation/03/3_45.jpg  \n",
            "  inflating: food-11/validation/03/3_46.jpg  \n",
            "  inflating: food-11/validation/03/3_47.jpg  \n",
            "  inflating: food-11/validation/03/3_48.jpg  \n",
            "  inflating: food-11/validation/03/3_49.jpg  \n",
            "  inflating: food-11/validation/03/3_5.jpg  \n",
            "  inflating: food-11/validation/03/3_50.jpg  \n",
            "  inflating: food-11/validation/03/3_51.jpg  \n",
            "  inflating: food-11/validation/03/3_52.jpg  \n",
            "  inflating: food-11/validation/03/3_53.jpg  \n",
            "  inflating: food-11/validation/03/3_54.jpg  \n",
            "  inflating: food-11/validation/03/3_55.jpg  \n",
            "  inflating: food-11/validation/03/3_56.jpg  \n",
            "  inflating: food-11/validation/03/3_57.jpg  \n",
            "  inflating: food-11/validation/03/3_58.jpg  \n",
            "  inflating: food-11/validation/03/3_59.jpg  \n",
            "  inflating: food-11/validation/03/3_6.jpg  \n",
            "  inflating: food-11/validation/03/3_7.jpg  \n",
            "  inflating: food-11/validation/03/3_8.jpg  \n",
            "  inflating: food-11/validation/03/3_9.jpg  \n",
            "   creating: food-11/validation/04/\n",
            "  inflating: food-11/validation/04/4_0.jpg  \n",
            "  inflating: food-11/validation/04/4_1.jpg  \n",
            "  inflating: food-11/validation/04/4_10.jpg  \n",
            "  inflating: food-11/validation/04/4_11.jpg  \n",
            "  inflating: food-11/validation/04/4_12.jpg  \n",
            "  inflating: food-11/validation/04/4_13.jpg  \n",
            "  inflating: food-11/validation/04/4_14.jpg  \n",
            "  inflating: food-11/validation/04/4_15.jpg  \n",
            "  inflating: food-11/validation/04/4_16.jpg  \n",
            "  inflating: food-11/validation/04/4_17.jpg  \n",
            "  inflating: food-11/validation/04/4_18.jpg  \n",
            "  inflating: food-11/validation/04/4_19.jpg  \n",
            "  inflating: food-11/validation/04/4_2.jpg  \n",
            "  inflating: food-11/validation/04/4_20.jpg  \n",
            "  inflating: food-11/validation/04/4_21.jpg  \n",
            "  inflating: food-11/validation/04/4_22.jpg  \n",
            "  inflating: food-11/validation/04/4_23.jpg  \n",
            "  inflating: food-11/validation/04/4_24.jpg  \n",
            "  inflating: food-11/validation/04/4_25.jpg  \n",
            "  inflating: food-11/validation/04/4_26.jpg  \n",
            "  inflating: food-11/validation/04/4_27.jpg  \n",
            "  inflating: food-11/validation/04/4_28.jpg  \n",
            "  inflating: food-11/validation/04/4_29.jpg  \n",
            "  inflating: food-11/validation/04/4_3.jpg  \n",
            "  inflating: food-11/validation/04/4_30.jpg  \n",
            "  inflating: food-11/validation/04/4_31.jpg  \n",
            "  inflating: food-11/validation/04/4_32.jpg  \n",
            "  inflating: food-11/validation/04/4_33.jpg  \n",
            "  inflating: food-11/validation/04/4_34.jpg  \n",
            "  inflating: food-11/validation/04/4_35.jpg  \n",
            "  inflating: food-11/validation/04/4_36.jpg  \n",
            "  inflating: food-11/validation/04/4_37.jpg  \n",
            "  inflating: food-11/validation/04/4_38.jpg  \n",
            "  inflating: food-11/validation/04/4_39.jpg  \n",
            "  inflating: food-11/validation/04/4_4.jpg  \n",
            "  inflating: food-11/validation/04/4_40.jpg  \n",
            "  inflating: food-11/validation/04/4_41.jpg  \n",
            "  inflating: food-11/validation/04/4_42.jpg  \n",
            "  inflating: food-11/validation/04/4_43.jpg  \n",
            "  inflating: food-11/validation/04/4_44.jpg  \n",
            "  inflating: food-11/validation/04/4_45.jpg  \n",
            "  inflating: food-11/validation/04/4_46.jpg  \n",
            "  inflating: food-11/validation/04/4_47.jpg  \n",
            "  inflating: food-11/validation/04/4_48.jpg  \n",
            "  inflating: food-11/validation/04/4_49.jpg  \n",
            "  inflating: food-11/validation/04/4_5.jpg  \n",
            "  inflating: food-11/validation/04/4_50.jpg  \n",
            "  inflating: food-11/validation/04/4_51.jpg  \n",
            "  inflating: food-11/validation/04/4_52.jpg  \n",
            "  inflating: food-11/validation/04/4_53.jpg  \n",
            "  inflating: food-11/validation/04/4_54.jpg  \n",
            "  inflating: food-11/validation/04/4_55.jpg  \n",
            "  inflating: food-11/validation/04/4_56.jpg  \n",
            "  inflating: food-11/validation/04/4_57.jpg  \n",
            "  inflating: food-11/validation/04/4_58.jpg  \n",
            "  inflating: food-11/validation/04/4_59.jpg  \n",
            "  inflating: food-11/validation/04/4_6.jpg  \n",
            "  inflating: food-11/validation/04/4_7.jpg  \n",
            "  inflating: food-11/validation/04/4_8.jpg  \n",
            "  inflating: food-11/validation/04/4_9.jpg  \n",
            "   creating: food-11/validation/05/\n",
            "  inflating: food-11/validation/05/5_0.jpg  \n",
            "  inflating: food-11/validation/05/5_1.jpg  \n",
            "  inflating: food-11/validation/05/5_10.jpg  \n",
            "  inflating: food-11/validation/05/5_11.jpg  \n",
            "  inflating: food-11/validation/05/5_12.jpg  \n",
            "  inflating: food-11/validation/05/5_13.jpg  \n",
            "  inflating: food-11/validation/05/5_14.jpg  \n",
            "  inflating: food-11/validation/05/5_15.jpg  \n",
            "  inflating: food-11/validation/05/5_16.jpg  \n",
            "  inflating: food-11/validation/05/5_17.jpg  \n",
            "  inflating: food-11/validation/05/5_18.jpg  \n",
            "  inflating: food-11/validation/05/5_19.jpg  \n",
            "  inflating: food-11/validation/05/5_2.jpg  \n",
            "  inflating: food-11/validation/05/5_20.jpg  \n",
            "  inflating: food-11/validation/05/5_21.jpg  \n",
            "  inflating: food-11/validation/05/5_22.jpg  \n",
            "  inflating: food-11/validation/05/5_23.jpg  \n",
            "  inflating: food-11/validation/05/5_24.jpg  \n",
            "  inflating: food-11/validation/05/5_25.jpg  \n",
            "  inflating: food-11/validation/05/5_26.jpg  \n",
            "  inflating: food-11/validation/05/5_27.jpg  \n",
            "  inflating: food-11/validation/05/5_28.jpg  \n",
            "  inflating: food-11/validation/05/5_29.jpg  \n",
            "  inflating: food-11/validation/05/5_3.jpg  \n",
            "  inflating: food-11/validation/05/5_30.jpg  \n",
            "  inflating: food-11/validation/05/5_31.jpg  \n",
            "  inflating: food-11/validation/05/5_32.jpg  \n",
            "  inflating: food-11/validation/05/5_33.jpg  \n",
            "  inflating: food-11/validation/05/5_34.jpg  \n",
            "  inflating: food-11/validation/05/5_35.jpg  \n",
            "  inflating: food-11/validation/05/5_36.jpg  \n",
            "  inflating: food-11/validation/05/5_37.jpg  \n",
            "  inflating: food-11/validation/05/5_38.jpg  \n",
            "  inflating: food-11/validation/05/5_39.jpg  \n",
            "  inflating: food-11/validation/05/5_4.jpg  \n",
            "  inflating: food-11/validation/05/5_40.jpg  \n",
            "  inflating: food-11/validation/05/5_41.jpg  \n",
            "  inflating: food-11/validation/05/5_42.jpg  \n",
            "  inflating: food-11/validation/05/5_43.jpg  \n",
            "  inflating: food-11/validation/05/5_44.jpg  \n",
            "  inflating: food-11/validation/05/5_45.jpg  \n",
            "  inflating: food-11/validation/05/5_46.jpg  \n",
            "  inflating: food-11/validation/05/5_47.jpg  \n",
            "  inflating: food-11/validation/05/5_48.jpg  \n",
            "  inflating: food-11/validation/05/5_49.jpg  \n",
            "  inflating: food-11/validation/05/5_5.jpg  \n",
            "  inflating: food-11/validation/05/5_50.jpg  \n",
            "  inflating: food-11/validation/05/5_51.jpg  \n",
            "  inflating: food-11/validation/05/5_52.jpg  \n",
            "  inflating: food-11/validation/05/5_53.jpg  \n",
            "  inflating: food-11/validation/05/5_54.jpg  \n",
            "  inflating: food-11/validation/05/5_55.jpg  \n",
            "  inflating: food-11/validation/05/5_56.jpg  \n",
            "  inflating: food-11/validation/05/5_57.jpg  \n",
            "  inflating: food-11/validation/05/5_58.jpg  \n",
            "  inflating: food-11/validation/05/5_59.jpg  \n",
            "  inflating: food-11/validation/05/5_6.jpg  \n",
            "  inflating: food-11/validation/05/5_7.jpg  \n",
            "  inflating: food-11/validation/05/5_8.jpg  \n",
            "  inflating: food-11/validation/05/5_9.jpg  \n",
            "   creating: food-11/validation/06/\n",
            "  inflating: food-11/validation/06/6_0.jpg  \n",
            "  inflating: food-11/validation/06/6_1.jpg  \n",
            "  inflating: food-11/validation/06/6_10.jpg  \n",
            "  inflating: food-11/validation/06/6_11.jpg  \n",
            "  inflating: food-11/validation/06/6_12.jpg  \n",
            "  inflating: food-11/validation/06/6_13.jpg  \n",
            "  inflating: food-11/validation/06/6_14.jpg  \n",
            "  inflating: food-11/validation/06/6_15.jpg  \n",
            "  inflating: food-11/validation/06/6_16.jpg  \n",
            "  inflating: food-11/validation/06/6_17.jpg  \n",
            "  inflating: food-11/validation/06/6_18.jpg  \n",
            "  inflating: food-11/validation/06/6_19.jpg  \n",
            "  inflating: food-11/validation/06/6_2.jpg  \n",
            "  inflating: food-11/validation/06/6_20.jpg  \n",
            "  inflating: food-11/validation/06/6_21.jpg  \n",
            "  inflating: food-11/validation/06/6_22.jpg  \n",
            "  inflating: food-11/validation/06/6_23.jpg  \n",
            "  inflating: food-11/validation/06/6_24.jpg  \n",
            "  inflating: food-11/validation/06/6_25.jpg  \n",
            "  inflating: food-11/validation/06/6_26.jpg  \n",
            "  inflating: food-11/validation/06/6_27.jpg  \n",
            "  inflating: food-11/validation/06/6_28.jpg  \n",
            "  inflating: food-11/validation/06/6_29.jpg  \n",
            "  inflating: food-11/validation/06/6_3.jpg  \n",
            "  inflating: food-11/validation/06/6_30.jpg  \n",
            "  inflating: food-11/validation/06/6_31.jpg  \n",
            "  inflating: food-11/validation/06/6_32.jpg  \n",
            "  inflating: food-11/validation/06/6_33.jpg  \n",
            "  inflating: food-11/validation/06/6_34.jpg  \n",
            "  inflating: food-11/validation/06/6_35.jpg  \n",
            "  inflating: food-11/validation/06/6_36.jpg  \n",
            "  inflating: food-11/validation/06/6_37.jpg  \n",
            "  inflating: food-11/validation/06/6_38.jpg  \n",
            "  inflating: food-11/validation/06/6_39.jpg  \n",
            "  inflating: food-11/validation/06/6_4.jpg  \n",
            "  inflating: food-11/validation/06/6_40.jpg  \n",
            "  inflating: food-11/validation/06/6_41.jpg  \n",
            "  inflating: food-11/validation/06/6_42.jpg  \n",
            "  inflating: food-11/validation/06/6_43.jpg  \n",
            "  inflating: food-11/validation/06/6_44.jpg  \n",
            "  inflating: food-11/validation/06/6_45.jpg  \n",
            "  inflating: food-11/validation/06/6_46.jpg  \n",
            "  inflating: food-11/validation/06/6_47.jpg  \n",
            "  inflating: food-11/validation/06/6_48.jpg  \n",
            "  inflating: food-11/validation/06/6_49.jpg  \n",
            "  inflating: food-11/validation/06/6_5.jpg  \n",
            "  inflating: food-11/validation/06/6_50.jpg  \n",
            "  inflating: food-11/validation/06/6_51.jpg  \n",
            "  inflating: food-11/validation/06/6_52.jpg  \n",
            "  inflating: food-11/validation/06/6_53.jpg  \n",
            "  inflating: food-11/validation/06/6_54.jpg  \n",
            "  inflating: food-11/validation/06/6_55.jpg  \n",
            "  inflating: food-11/validation/06/6_56.jpg  \n",
            "  inflating: food-11/validation/06/6_57.jpg  \n",
            "  inflating: food-11/validation/06/6_58.jpg  \n",
            "  inflating: food-11/validation/06/6_59.jpg  \n",
            "  inflating: food-11/validation/06/6_6.jpg  \n",
            "  inflating: food-11/validation/06/6_7.jpg  \n",
            "  inflating: food-11/validation/06/6_8.jpg  \n",
            "  inflating: food-11/validation/06/6_9.jpg  \n",
            "   creating: food-11/validation/07/\n",
            "  inflating: food-11/validation/07/7_0.jpg  \n",
            "  inflating: food-11/validation/07/7_1.jpg  \n",
            "  inflating: food-11/validation/07/7_10.jpg  \n",
            "  inflating: food-11/validation/07/7_11.jpg  \n",
            "  inflating: food-11/validation/07/7_12.jpg  \n",
            "  inflating: food-11/validation/07/7_13.jpg  \n",
            "  inflating: food-11/validation/07/7_14.jpg  \n",
            "  inflating: food-11/validation/07/7_15.jpg  \n",
            "  inflating: food-11/validation/07/7_16.jpg  \n",
            "  inflating: food-11/validation/07/7_17.jpg  \n",
            "  inflating: food-11/validation/07/7_18.jpg  \n",
            "  inflating: food-11/validation/07/7_19.jpg  \n",
            "  inflating: food-11/validation/07/7_2.jpg  \n",
            "  inflating: food-11/validation/07/7_20.jpg  \n",
            "  inflating: food-11/validation/07/7_21.jpg  \n",
            "  inflating: food-11/validation/07/7_22.jpg  \n",
            "  inflating: food-11/validation/07/7_23.jpg  \n",
            "  inflating: food-11/validation/07/7_24.jpg  \n",
            "  inflating: food-11/validation/07/7_25.jpg  \n",
            "  inflating: food-11/validation/07/7_26.jpg  \n",
            "  inflating: food-11/validation/07/7_27.jpg  \n",
            "  inflating: food-11/validation/07/7_28.jpg  \n",
            "  inflating: food-11/validation/07/7_29.jpg  \n",
            "  inflating: food-11/validation/07/7_3.jpg  \n",
            "  inflating: food-11/validation/07/7_30.jpg  \n",
            "  inflating: food-11/validation/07/7_31.jpg  \n",
            "  inflating: food-11/validation/07/7_32.jpg  \n",
            "  inflating: food-11/validation/07/7_33.jpg  \n",
            "  inflating: food-11/validation/07/7_34.jpg  \n",
            "  inflating: food-11/validation/07/7_35.jpg  \n",
            "  inflating: food-11/validation/07/7_36.jpg  \n",
            "  inflating: food-11/validation/07/7_37.jpg  \n",
            "  inflating: food-11/validation/07/7_38.jpg  \n",
            "  inflating: food-11/validation/07/7_39.jpg  \n",
            "  inflating: food-11/validation/07/7_4.jpg  \n",
            "  inflating: food-11/validation/07/7_40.jpg  \n",
            "  inflating: food-11/validation/07/7_41.jpg  \n",
            "  inflating: food-11/validation/07/7_42.jpg  \n",
            "  inflating: food-11/validation/07/7_43.jpg  \n",
            "  inflating: food-11/validation/07/7_44.jpg  \n",
            "  inflating: food-11/validation/07/7_45.jpg  \n",
            "  inflating: food-11/validation/07/7_46.jpg  \n",
            "  inflating: food-11/validation/07/7_47.jpg  \n",
            "  inflating: food-11/validation/07/7_48.jpg  \n",
            "  inflating: food-11/validation/07/7_49.jpg  \n",
            "  inflating: food-11/validation/07/7_5.jpg  \n",
            "  inflating: food-11/validation/07/7_50.jpg  \n",
            "  inflating: food-11/validation/07/7_51.jpg  \n",
            "  inflating: food-11/validation/07/7_52.jpg  \n",
            "  inflating: food-11/validation/07/7_53.jpg  \n",
            "  inflating: food-11/validation/07/7_54.jpg  \n",
            "  inflating: food-11/validation/07/7_55.jpg  \n",
            "  inflating: food-11/validation/07/7_56.jpg  \n",
            "  inflating: food-11/validation/07/7_57.jpg  \n",
            "  inflating: food-11/validation/07/7_58.jpg  \n",
            "  inflating: food-11/validation/07/7_59.jpg  \n",
            "  inflating: food-11/validation/07/7_6.jpg  \n",
            "  inflating: food-11/validation/07/7_7.jpg  \n",
            "  inflating: food-11/validation/07/7_8.jpg  \n",
            "  inflating: food-11/validation/07/7_9.jpg  \n",
            "   creating: food-11/validation/08/\n",
            "  inflating: food-11/validation/08/8_0.jpg  \n",
            "  inflating: food-11/validation/08/8_1.jpg  \n",
            "  inflating: food-11/validation/08/8_10.jpg  \n",
            "  inflating: food-11/validation/08/8_11.jpg  \n",
            "  inflating: food-11/validation/08/8_12.jpg  \n",
            "  inflating: food-11/validation/08/8_13.jpg  \n",
            "  inflating: food-11/validation/08/8_14.jpg  \n",
            "  inflating: food-11/validation/08/8_15.jpg  \n",
            "  inflating: food-11/validation/08/8_16.jpg  \n",
            "  inflating: food-11/validation/08/8_17.jpg  \n",
            "  inflating: food-11/validation/08/8_18.jpg  \n",
            "  inflating: food-11/validation/08/8_19.jpg  \n",
            "  inflating: food-11/validation/08/8_2.jpg  \n",
            "  inflating: food-11/validation/08/8_20.jpg  \n",
            "  inflating: food-11/validation/08/8_21.jpg  \n",
            "  inflating: food-11/validation/08/8_22.jpg  \n",
            "  inflating: food-11/validation/08/8_23.jpg  \n",
            "  inflating: food-11/validation/08/8_24.jpg  \n",
            "  inflating: food-11/validation/08/8_25.jpg  \n",
            "  inflating: food-11/validation/08/8_26.jpg  \n",
            "  inflating: food-11/validation/08/8_27.jpg  \n",
            "  inflating: food-11/validation/08/8_28.jpg  \n",
            "  inflating: food-11/validation/08/8_29.jpg  \n",
            "  inflating: food-11/validation/08/8_3.jpg  \n",
            "  inflating: food-11/validation/08/8_30.jpg  \n",
            "  inflating: food-11/validation/08/8_31.jpg  \n",
            "  inflating: food-11/validation/08/8_32.jpg  \n",
            "  inflating: food-11/validation/08/8_33.jpg  \n",
            "  inflating: food-11/validation/08/8_34.jpg  \n",
            "  inflating: food-11/validation/08/8_35.jpg  \n",
            "  inflating: food-11/validation/08/8_36.jpg  \n",
            "  inflating: food-11/validation/08/8_37.jpg  \n",
            "  inflating: food-11/validation/08/8_38.jpg  \n",
            "  inflating: food-11/validation/08/8_39.jpg  \n",
            "  inflating: food-11/validation/08/8_4.jpg  \n",
            "  inflating: food-11/validation/08/8_40.jpg  \n",
            "  inflating: food-11/validation/08/8_41.jpg  \n",
            "  inflating: food-11/validation/08/8_42.jpg  \n",
            "  inflating: food-11/validation/08/8_43.jpg  \n",
            "  inflating: food-11/validation/08/8_44.jpg  \n",
            "  inflating: food-11/validation/08/8_45.jpg  \n",
            "  inflating: food-11/validation/08/8_46.jpg  \n",
            "  inflating: food-11/validation/08/8_47.jpg  \n",
            "  inflating: food-11/validation/08/8_48.jpg  \n",
            "  inflating: food-11/validation/08/8_49.jpg  \n",
            "  inflating: food-11/validation/08/8_5.jpg  \n",
            "  inflating: food-11/validation/08/8_50.jpg  \n",
            "  inflating: food-11/validation/08/8_51.jpg  \n",
            "  inflating: food-11/validation/08/8_52.jpg  \n",
            "  inflating: food-11/validation/08/8_53.jpg  \n",
            "  inflating: food-11/validation/08/8_54.jpg  \n",
            "  inflating: food-11/validation/08/8_55.jpg  \n",
            "  inflating: food-11/validation/08/8_56.jpg  \n",
            "  inflating: food-11/validation/08/8_57.jpg  \n",
            "  inflating: food-11/validation/08/8_58.jpg  \n",
            "  inflating: food-11/validation/08/8_59.jpg  \n",
            "  inflating: food-11/validation/08/8_6.jpg  \n",
            "  inflating: food-11/validation/08/8_7.jpg  \n",
            "  inflating: food-11/validation/08/8_8.jpg  \n",
            "  inflating: food-11/validation/08/8_9.jpg  \n",
            "   creating: food-11/validation/09/\n",
            "  inflating: food-11/validation/09/9_0.jpg  \n",
            "  inflating: food-11/validation/09/9_1.jpg  \n",
            "  inflating: food-11/validation/09/9_10.jpg  \n",
            "  inflating: food-11/validation/09/9_11.jpg  \n",
            "  inflating: food-11/validation/09/9_12.jpg  \n",
            "  inflating: food-11/validation/09/9_13.jpg  \n",
            "  inflating: food-11/validation/09/9_14.jpg  \n",
            "  inflating: food-11/validation/09/9_15.jpg  \n",
            "  inflating: food-11/validation/09/9_16.jpg  \n",
            "  inflating: food-11/validation/09/9_17.jpg  \n",
            "  inflating: food-11/validation/09/9_18.jpg  \n",
            "  inflating: food-11/validation/09/9_19.jpg  \n",
            "  inflating: food-11/validation/09/9_2.jpg  \n",
            "  inflating: food-11/validation/09/9_20.jpg  \n",
            "  inflating: food-11/validation/09/9_21.jpg  \n",
            "  inflating: food-11/validation/09/9_22.jpg  \n",
            "  inflating: food-11/validation/09/9_23.jpg  \n",
            "  inflating: food-11/validation/09/9_24.jpg  \n",
            "  inflating: food-11/validation/09/9_25.jpg  \n",
            "  inflating: food-11/validation/09/9_26.jpg  \n",
            "  inflating: food-11/validation/09/9_27.jpg  \n",
            "  inflating: food-11/validation/09/9_28.jpg  \n",
            "  inflating: food-11/validation/09/9_29.jpg  \n",
            "  inflating: food-11/validation/09/9_3.jpg  \n",
            "  inflating: food-11/validation/09/9_30.jpg  \n",
            "  inflating: food-11/validation/09/9_31.jpg  \n",
            "  inflating: food-11/validation/09/9_32.jpg  \n",
            "  inflating: food-11/validation/09/9_33.jpg  \n",
            "  inflating: food-11/validation/09/9_34.jpg  \n",
            "  inflating: food-11/validation/09/9_35.jpg  \n",
            "  inflating: food-11/validation/09/9_36.jpg  \n",
            "  inflating: food-11/validation/09/9_37.jpg  \n",
            "  inflating: food-11/validation/09/9_38.jpg  \n",
            "  inflating: food-11/validation/09/9_39.jpg  \n",
            "  inflating: food-11/validation/09/9_4.jpg  \n",
            "  inflating: food-11/validation/09/9_40.jpg  \n",
            "  inflating: food-11/validation/09/9_41.jpg  \n",
            "  inflating: food-11/validation/09/9_42.jpg  \n",
            "  inflating: food-11/validation/09/9_43.jpg  \n",
            "  inflating: food-11/validation/09/9_44.jpg  \n",
            "  inflating: food-11/validation/09/9_45.jpg  \n",
            "  inflating: food-11/validation/09/9_46.jpg  \n",
            "  inflating: food-11/validation/09/9_47.jpg  \n",
            "  inflating: food-11/validation/09/9_48.jpg  \n",
            "  inflating: food-11/validation/09/9_49.jpg  \n",
            "  inflating: food-11/validation/09/9_5.jpg  \n",
            "  inflating: food-11/validation/09/9_50.jpg  \n",
            "  inflating: food-11/validation/09/9_51.jpg  \n",
            "  inflating: food-11/validation/09/9_52.jpg  \n",
            "  inflating: food-11/validation/09/9_53.jpg  \n",
            "  inflating: food-11/validation/09/9_54.jpg  \n",
            "  inflating: food-11/validation/09/9_55.jpg  \n",
            "  inflating: food-11/validation/09/9_56.jpg  \n",
            "  inflating: food-11/validation/09/9_57.jpg  \n",
            "  inflating: food-11/validation/09/9_58.jpg  \n",
            "  inflating: food-11/validation/09/9_59.jpg  \n",
            "  inflating: food-11/validation/09/9_6.jpg  \n",
            "  inflating: food-11/validation/09/9_7.jpg  \n",
            "  inflating: food-11/validation/09/9_8.jpg  \n",
            "  inflating: food-11/validation/09/9_9.jpg  \n",
            "   creating: food-11/validation/10/\n",
            "  inflating: food-11/validation/10/10_0.jpg  \n",
            "  inflating: food-11/validation/10/10_1.jpg  \n",
            "  inflating: food-11/validation/10/10_10.jpg  \n",
            "  inflating: food-11/validation/10/10_11.jpg  \n",
            "  inflating: food-11/validation/10/10_12.jpg  \n",
            "  inflating: food-11/validation/10/10_13.jpg  \n",
            "  inflating: food-11/validation/10/10_14.jpg  \n",
            "  inflating: food-11/validation/10/10_15.jpg  \n",
            "  inflating: food-11/validation/10/10_16.jpg  \n",
            "  inflating: food-11/validation/10/10_17.jpg  \n",
            "  inflating: food-11/validation/10/10_18.jpg  \n",
            "  inflating: food-11/validation/10/10_19.jpg  \n",
            "  inflating: food-11/validation/10/10_2.jpg  \n",
            "  inflating: food-11/validation/10/10_20.jpg  \n",
            "  inflating: food-11/validation/10/10_21.jpg  \n",
            "  inflating: food-11/validation/10/10_22.jpg  \n",
            "  inflating: food-11/validation/10/10_23.jpg  \n",
            "  inflating: food-11/validation/10/10_24.jpg  \n",
            "  inflating: food-11/validation/10/10_25.jpg  \n",
            "  inflating: food-11/validation/10/10_26.jpg  \n",
            "  inflating: food-11/validation/10/10_27.jpg  \n",
            "  inflating: food-11/validation/10/10_28.jpg  \n",
            "  inflating: food-11/validation/10/10_29.jpg  \n",
            "  inflating: food-11/validation/10/10_3.jpg  \n",
            "  inflating: food-11/validation/10/10_30.jpg  \n",
            "  inflating: food-11/validation/10/10_31.jpg  \n",
            "  inflating: food-11/validation/10/10_32.jpg  \n",
            "  inflating: food-11/validation/10/10_33.jpg  \n",
            "  inflating: food-11/validation/10/10_34.jpg  \n",
            "  inflating: food-11/validation/10/10_35.jpg  \n",
            "  inflating: food-11/validation/10/10_36.jpg  \n",
            "  inflating: food-11/validation/10/10_37.jpg  \n",
            "  inflating: food-11/validation/10/10_38.jpg  \n",
            "  inflating: food-11/validation/10/10_39.jpg  \n",
            "  inflating: food-11/validation/10/10_4.jpg  \n",
            "  inflating: food-11/validation/10/10_40.jpg  \n",
            "  inflating: food-11/validation/10/10_41.jpg  \n",
            "  inflating: food-11/validation/10/10_42.jpg  \n",
            "  inflating: food-11/validation/10/10_43.jpg  \n",
            "  inflating: food-11/validation/10/10_44.jpg  \n",
            "  inflating: food-11/validation/10/10_45.jpg  \n",
            "  inflating: food-11/validation/10/10_46.jpg  \n",
            "  inflating: food-11/validation/10/10_47.jpg  \n",
            "  inflating: food-11/validation/10/10_48.jpg  \n",
            "  inflating: food-11/validation/10/10_49.jpg  \n",
            "  inflating: food-11/validation/10/10_5.jpg  \n",
            "  inflating: food-11/validation/10/10_50.jpg  \n",
            "  inflating: food-11/validation/10/10_51.jpg  \n",
            "  inflating: food-11/validation/10/10_52.jpg  \n",
            "  inflating: food-11/validation/10/10_53.jpg  \n",
            "  inflating: food-11/validation/10/10_54.jpg  \n",
            "  inflating: food-11/validation/10/10_55.jpg  \n",
            "  inflating: food-11/validation/10/10_56.jpg  \n",
            "  inflating: food-11/validation/10/10_57.jpg  \n",
            "  inflating: food-11/validation/10/10_58.jpg  \n",
            "  inflating: food-11/validation/10/10_59.jpg  \n",
            "  inflating: food-11/validation/10/10_6.jpg  \n",
            "  inflating: food-11/validation/10/10_7.jpg  \n",
            "  inflating: food-11/validation/10/10_8.jpg  \n",
            "  inflating: food-11/validation/10/10_9.jpg  \n",
            "   creating: food-11/testing/\n",
            "   creating: food-11/testing/00/\n",
            "  inflating: food-11/testing/00/0000.jpg  \n",
            "  inflating: food-11/testing/00/0001.jpg  \n",
            "  inflating: food-11/testing/00/0008.jpg  \n",
            "  inflating: food-11/testing/00/0011.jpg  \n",
            "  inflating: food-11/testing/00/0013.jpg  \n",
            "  inflating: food-11/testing/00/0015.jpg  \n",
            "  inflating: food-11/testing/00/0019.jpg  \n",
            "  inflating: food-11/testing/00/0020.jpg  \n",
            "  inflating: food-11/testing/00/0025.jpg  \n",
            "  inflating: food-11/testing/00/0026.jpg  \n",
            "  inflating: food-11/testing/00/0031.jpg  \n",
            "  inflating: food-11/testing/00/0039.jpg  \n",
            "  inflating: food-11/testing/00/0041.jpg  \n",
            "  inflating: food-11/testing/00/0042.jpg  \n",
            "  inflating: food-11/testing/00/0043.jpg  \n",
            "  inflating: food-11/testing/00/0044.jpg  \n",
            "  inflating: food-11/testing/00/0045.jpg  \n",
            "  inflating: food-11/testing/00/0051.jpg  \n",
            "  inflating: food-11/testing/00/0055.jpg  \n",
            "  inflating: food-11/testing/00/0057.jpg  \n",
            "  inflating: food-11/testing/00/0058.jpg  \n",
            "  inflating: food-11/testing/00/0063.jpg  \n",
            "  inflating: food-11/testing/00/0064.jpg  \n",
            "  inflating: food-11/testing/00/0066.jpg  \n",
            "  inflating: food-11/testing/00/0068.jpg  \n",
            "  inflating: food-11/testing/00/0071.jpg  \n",
            "  inflating: food-11/testing/00/0072.jpg  \n",
            "  inflating: food-11/testing/00/0079.jpg  \n",
            "  inflating: food-11/testing/00/0087.jpg  \n",
            "  inflating: food-11/testing/00/0097.jpg  \n",
            "  inflating: food-11/testing/00/0102.jpg  \n",
            "  inflating: food-11/testing/00/0115.jpg  \n",
            "  inflating: food-11/testing/00/0116.jpg  \n",
            "  inflating: food-11/testing/00/0121.jpg  \n",
            "  inflating: food-11/testing/00/0125.jpg  \n",
            "  inflating: food-11/testing/00/0126.jpg  \n",
            "  inflating: food-11/testing/00/0129.jpg  \n",
            "  inflating: food-11/testing/00/0134.jpg  \n",
            "  inflating: food-11/testing/00/0139.jpg  \n",
            "  inflating: food-11/testing/00/0140.jpg  \n",
            "  inflating: food-11/testing/00/0142.jpg  \n",
            "  inflating: food-11/testing/00/0143.jpg  \n",
            "  inflating: food-11/testing/00/0150.jpg  \n",
            "  inflating: food-11/testing/00/0152.jpg  \n",
            "  inflating: food-11/testing/00/0155.jpg  \n",
            "  inflating: food-11/testing/00/0160.jpg  \n",
            "  inflating: food-11/testing/00/0162.jpg  \n",
            "  inflating: food-11/testing/00/0164.jpg  \n",
            "  inflating: food-11/testing/00/0167.jpg  \n",
            "  inflating: food-11/testing/00/0168.jpg  \n",
            "  inflating: food-11/testing/00/0173.jpg  \n",
            "  inflating: food-11/testing/00/0174.jpg  \n",
            "  inflating: food-11/testing/00/0180.jpg  \n",
            "  inflating: food-11/testing/00/0186.jpg  \n",
            "  inflating: food-11/testing/00/0187.jpg  \n",
            "  inflating: food-11/testing/00/0189.jpg  \n",
            "  inflating: food-11/testing/00/0190.jpg  \n",
            "  inflating: food-11/testing/00/0191.jpg  \n",
            "  inflating: food-11/testing/00/0202.jpg  \n",
            "  inflating: food-11/testing/00/0207.jpg  \n",
            "  inflating: food-11/testing/00/0209.jpg  \n",
            "  inflating: food-11/testing/00/0210.jpg  \n",
            "  inflating: food-11/testing/00/0211.jpg  \n",
            "  inflating: food-11/testing/00/0212.jpg  \n",
            "  inflating: food-11/testing/00/0219.jpg  \n",
            "  inflating: food-11/testing/00/0220.jpg  \n",
            "  inflating: food-11/testing/00/0225.jpg  \n",
            "  inflating: food-11/testing/00/0234.jpg  \n",
            "  inflating: food-11/testing/00/0238.jpg  \n",
            "  inflating: food-11/testing/00/0239.jpg  \n",
            "  inflating: food-11/testing/00/0245.jpg  \n",
            "  inflating: food-11/testing/00/0255.jpg  \n",
            "  inflating: food-11/testing/00/0256.jpg  \n",
            "  inflating: food-11/testing/00/0260.jpg  \n",
            "  inflating: food-11/testing/00/0267.jpg  \n",
            "  inflating: food-11/testing/00/0269.jpg  \n",
            "  inflating: food-11/testing/00/0271.jpg  \n",
            "  inflating: food-11/testing/00/0277.jpg  \n",
            "  inflating: food-11/testing/00/0288.jpg  \n",
            "  inflating: food-11/testing/00/0290.jpg  \n",
            "  inflating: food-11/testing/00/0302.jpg  \n",
            "  inflating: food-11/testing/00/0303.jpg  \n",
            "  inflating: food-11/testing/00/0307.jpg  \n",
            "  inflating: food-11/testing/00/0309.jpg  \n",
            "  inflating: food-11/testing/00/0312.jpg  \n",
            "  inflating: food-11/testing/00/0313.jpg  \n",
            "  inflating: food-11/testing/00/0315.jpg  \n",
            "  inflating: food-11/testing/00/0316.jpg  \n",
            "  inflating: food-11/testing/00/0319.jpg  \n",
            "  inflating: food-11/testing/00/0320.jpg  \n",
            "  inflating: food-11/testing/00/0323.jpg  \n",
            "  inflating: food-11/testing/00/0328.jpg  \n",
            "  inflating: food-11/testing/00/0329.jpg  \n",
            "  inflating: food-11/testing/00/0334.jpg  \n",
            "  inflating: food-11/testing/00/0335.jpg  \n",
            "  inflating: food-11/testing/00/0336.jpg  \n",
            "  inflating: food-11/testing/00/0340.jpg  \n",
            "  inflating: food-11/testing/00/0341.jpg  \n",
            "  inflating: food-11/testing/00/0342.jpg  \n",
            "  inflating: food-11/testing/00/0344.jpg  \n",
            "  inflating: food-11/testing/00/0345.jpg  \n",
            "  inflating: food-11/testing/00/0348.jpg  \n",
            "  inflating: food-11/testing/00/0353.jpg  \n",
            "  inflating: food-11/testing/00/0356.jpg  \n",
            "  inflating: food-11/testing/00/0357.jpg  \n",
            "  inflating: food-11/testing/00/0360.jpg  \n",
            "  inflating: food-11/testing/00/0361.jpg  \n",
            "  inflating: food-11/testing/00/0362.jpg  \n",
            "  inflating: food-11/testing/00/0365.jpg  \n",
            "  inflating: food-11/testing/00/0367.jpg  \n",
            "  inflating: food-11/testing/00/0373.jpg  \n",
            "  inflating: food-11/testing/00/0378.jpg  \n",
            "  inflating: food-11/testing/00/0379.jpg  \n",
            "  inflating: food-11/testing/00/0380.jpg  \n",
            "  inflating: food-11/testing/00/0382.jpg  \n",
            "  inflating: food-11/testing/00/0386.jpg  \n",
            "  inflating: food-11/testing/00/0387.jpg  \n",
            "  inflating: food-11/testing/00/0390.jpg  \n",
            "  inflating: food-11/testing/00/0396.jpg  \n",
            "  inflating: food-11/testing/00/0398.jpg  \n",
            "  inflating: food-11/testing/00/0399.jpg  \n",
            "  inflating: food-11/testing/00/0401.jpg  \n",
            "  inflating: food-11/testing/00/0404.jpg  \n",
            "  inflating: food-11/testing/00/0407.jpg  \n",
            "  inflating: food-11/testing/00/0408.jpg  \n",
            "  inflating: food-11/testing/00/0411.jpg  \n",
            "  inflating: food-11/testing/00/0414.jpg  \n",
            "  inflating: food-11/testing/00/0417.jpg  \n",
            "  inflating: food-11/testing/00/0421.jpg  \n",
            "  inflating: food-11/testing/00/0422.jpg  \n",
            "  inflating: food-11/testing/00/0423.jpg  \n",
            "  inflating: food-11/testing/00/0425.jpg  \n",
            "  inflating: food-11/testing/00/0429.jpg  \n",
            "  inflating: food-11/testing/00/0437.jpg  \n",
            "  inflating: food-11/testing/00/0438.jpg  \n",
            "  inflating: food-11/testing/00/0440.jpg  \n",
            "  inflating: food-11/testing/00/0441.jpg  \n",
            "  inflating: food-11/testing/00/0444.jpg  \n",
            "  inflating: food-11/testing/00/0445.jpg  \n",
            "  inflating: food-11/testing/00/0447.jpg  \n",
            "  inflating: food-11/testing/00/0448.jpg  \n",
            "  inflating: food-11/testing/00/0454.jpg  \n",
            "  inflating: food-11/testing/00/0458.jpg  \n",
            "  inflating: food-11/testing/00/0460.jpg  \n",
            "  inflating: food-11/testing/00/0461.jpg  \n",
            "  inflating: food-11/testing/00/0462.jpg  \n",
            "  inflating: food-11/testing/00/0467.jpg  \n",
            "  inflating: food-11/testing/00/0469.jpg  \n",
            "  inflating: food-11/testing/00/0474.jpg  \n",
            "  inflating: food-11/testing/00/0475.jpg  \n",
            "  inflating: food-11/testing/00/0479.jpg  \n",
            "  inflating: food-11/testing/00/0480.jpg  \n",
            "  inflating: food-11/testing/00/0487.jpg  \n",
            "  inflating: food-11/testing/00/0488.jpg  \n",
            "  inflating: food-11/testing/00/0511.jpg  \n",
            "  inflating: food-11/testing/00/0518.jpg  \n",
            "  inflating: food-11/testing/00/0521.jpg  \n",
            "  inflating: food-11/testing/00/0527.jpg  \n",
            "  inflating: food-11/testing/00/0531.jpg  \n",
            "  inflating: food-11/testing/00/0537.jpg  \n",
            "  inflating: food-11/testing/00/0539.jpg  \n",
            "  inflating: food-11/testing/00/0540.jpg  \n",
            "  inflating: food-11/testing/00/0544.jpg  \n",
            "  inflating: food-11/testing/00/0551.jpg  \n",
            "  inflating: food-11/testing/00/0552.jpg  \n",
            "  inflating: food-11/testing/00/0553.jpg  \n",
            "  inflating: food-11/testing/00/0554.jpg  \n",
            "  inflating: food-11/testing/00/0557.jpg  \n",
            "  inflating: food-11/testing/00/0563.jpg  \n",
            "  inflating: food-11/testing/00/0570.jpg  \n",
            "  inflating: food-11/testing/00/0578.jpg  \n",
            "  inflating: food-11/testing/00/0579.jpg  \n",
            "  inflating: food-11/testing/00/0581.jpg  \n",
            "  inflating: food-11/testing/00/0582.jpg  \n",
            "  inflating: food-11/testing/00/0586.jpg  \n",
            "  inflating: food-11/testing/00/0588.jpg  \n",
            "  inflating: food-11/testing/00/0589.jpg  \n",
            "  inflating: food-11/testing/00/0593.jpg  \n",
            "  inflating: food-11/testing/00/0594.jpg  \n",
            "  inflating: food-11/testing/00/0596.jpg  \n",
            "  inflating: food-11/testing/00/0597.jpg  \n",
            "  inflating: food-11/testing/00/0598.jpg  \n",
            "  inflating: food-11/testing/00/0600.jpg  \n",
            "  inflating: food-11/testing/00/0601.jpg  \n",
            "  inflating: food-11/testing/00/0602.jpg  \n",
            "  inflating: food-11/testing/00/0604.jpg  \n",
            "  inflating: food-11/testing/00/0607.jpg  \n",
            "  inflating: food-11/testing/00/0618.jpg  \n",
            "  inflating: food-11/testing/00/0619.jpg  \n",
            "  inflating: food-11/testing/00/0622.jpg  \n",
            "  inflating: food-11/testing/00/0624.jpg  \n",
            "  inflating: food-11/testing/00/0627.jpg  \n",
            "  inflating: food-11/testing/00/0628.jpg  \n",
            "  inflating: food-11/testing/00/0630.jpg  \n",
            "  inflating: food-11/testing/00/0631.jpg  \n",
            "  inflating: food-11/testing/00/0632.jpg  \n",
            "  inflating: food-11/testing/00/0639.jpg  \n",
            "  inflating: food-11/testing/00/0640.jpg  \n",
            "  inflating: food-11/testing/00/0642.jpg  \n",
            "  inflating: food-11/testing/00/0644.jpg  \n",
            "  inflating: food-11/testing/00/0648.jpg  \n",
            "  inflating: food-11/testing/00/0649.jpg  \n",
            "  inflating: food-11/testing/00/0652.jpg  \n",
            "  inflating: food-11/testing/00/0653.jpg  \n",
            "  inflating: food-11/testing/00/0654.jpg  \n",
            "  inflating: food-11/testing/00/0659.jpg  \n",
            "  inflating: food-11/testing/00/0665.jpg  \n",
            "  inflating: food-11/testing/00/0666.jpg  \n",
            "  inflating: food-11/testing/00/0667.jpg  \n",
            "  inflating: food-11/testing/00/0669.jpg  \n",
            "  inflating: food-11/testing/00/0670.jpg  \n",
            "  inflating: food-11/testing/00/0678.jpg  \n",
            "  inflating: food-11/testing/00/0679.jpg  \n",
            "  inflating: food-11/testing/00/0682.jpg  \n",
            "  inflating: food-11/testing/00/0683.jpg  \n",
            "  inflating: food-11/testing/00/0684.jpg  \n",
            "  inflating: food-11/testing/00/0686.jpg  \n",
            "  inflating: food-11/testing/00/0691.jpg  \n",
            "  inflating: food-11/testing/00/0699.jpg  \n",
            "  inflating: food-11/testing/00/0701.jpg  \n",
            "  inflating: food-11/testing/00/0702.jpg  \n",
            "  inflating: food-11/testing/00/0704.jpg  \n",
            "  inflating: food-11/testing/00/0707.jpg  \n",
            "  inflating: food-11/testing/00/0710.jpg  \n",
            "  inflating: food-11/testing/00/0711.jpg  \n",
            "  inflating: food-11/testing/00/0712.jpg  \n",
            "  inflating: food-11/testing/00/0718.jpg  \n",
            "  inflating: food-11/testing/00/0720.jpg  \n",
            "  inflating: food-11/testing/00/0721.jpg  \n",
            "  inflating: food-11/testing/00/0724.jpg  \n",
            "  inflating: food-11/testing/00/0725.jpg  \n",
            "  inflating: food-11/testing/00/0726.jpg  \n",
            "  inflating: food-11/testing/00/0731.jpg  \n",
            "  inflating: food-11/testing/00/0732.jpg  \n",
            "  inflating: food-11/testing/00/0735.jpg  \n",
            "  inflating: food-11/testing/00/0751.jpg  \n",
            "  inflating: food-11/testing/00/0758.jpg  \n",
            "  inflating: food-11/testing/00/0761.jpg  \n",
            "  inflating: food-11/testing/00/0762.jpg  \n",
            "  inflating: food-11/testing/00/0765.jpg  \n",
            "  inflating: food-11/testing/00/0766.jpg  \n",
            "  inflating: food-11/testing/00/0777.jpg  \n",
            "  inflating: food-11/testing/00/0781.jpg  \n",
            "  inflating: food-11/testing/00/0785.jpg  \n",
            "  inflating: food-11/testing/00/0787.jpg  \n",
            "  inflating: food-11/testing/00/0788.jpg  \n",
            "  inflating: food-11/testing/00/0789.jpg  \n",
            "  inflating: food-11/testing/00/0795.jpg  \n",
            "  inflating: food-11/testing/00/0798.jpg  \n",
            "  inflating: food-11/testing/00/0799.jpg  \n",
            "  inflating: food-11/testing/00/0802.jpg  \n",
            "  inflating: food-11/testing/00/0803.jpg  \n",
            "  inflating: food-11/testing/00/0805.jpg  \n",
            "  inflating: food-11/testing/00/0806.jpg  \n",
            "  inflating: food-11/testing/00/0809.jpg  \n",
            "  inflating: food-11/testing/00/0815.jpg  \n",
            "  inflating: food-11/testing/00/0818.jpg  \n",
            "  inflating: food-11/testing/00/0819.jpg  \n",
            "  inflating: food-11/testing/00/0820.jpg  \n",
            "  inflating: food-11/testing/00/0821.jpg  \n",
            "  inflating: food-11/testing/00/0824.jpg  \n",
            "  inflating: food-11/testing/00/0825.jpg  \n",
            "  inflating: food-11/testing/00/0830.jpg  \n",
            "  inflating: food-11/testing/00/0836.jpg  \n",
            "  inflating: food-11/testing/00/0842.jpg  \n",
            "  inflating: food-11/testing/00/0844.jpg  \n",
            "  inflating: food-11/testing/00/0848.jpg  \n",
            "  inflating: food-11/testing/00/0855.jpg  \n",
            "  inflating: food-11/testing/00/0863.jpg  \n",
            "  inflating: food-11/testing/00/0865.jpg  \n",
            "  inflating: food-11/testing/00/0869.jpg  \n",
            "  inflating: food-11/testing/00/0872.jpg  \n",
            "  inflating: food-11/testing/00/0875.jpg  \n",
            "  inflating: food-11/testing/00/0881.jpg  \n",
            "  inflating: food-11/testing/00/0887.jpg  \n",
            "  inflating: food-11/testing/00/0889.jpg  \n",
            "  inflating: food-11/testing/00/0891.jpg  \n",
            "  inflating: food-11/testing/00/0893.jpg  \n",
            "  inflating: food-11/testing/00/0894.jpg  \n",
            "  inflating: food-11/testing/00/0896.jpg  \n",
            "  inflating: food-11/testing/00/0907.jpg  \n",
            "  inflating: food-11/testing/00/0910.jpg  \n",
            "  inflating: food-11/testing/00/0912.jpg  \n",
            "  inflating: food-11/testing/00/0913.jpg  \n",
            "  inflating: food-11/testing/00/0920.jpg  \n",
            "  inflating: food-11/testing/00/0923.jpg  \n",
            "  inflating: food-11/testing/00/0928.jpg  \n",
            "  inflating: food-11/testing/00/0933.jpg  \n",
            "  inflating: food-11/testing/00/0934.jpg  \n",
            "  inflating: food-11/testing/00/0939.jpg  \n",
            "  inflating: food-11/testing/00/0940.jpg  \n",
            "  inflating: food-11/testing/00/0942.jpg  \n",
            "  inflating: food-11/testing/00/0943.jpg  \n",
            "  inflating: food-11/testing/00/0944.jpg  \n",
            "  inflating: food-11/testing/00/0945.jpg  \n",
            "  inflating: food-11/testing/00/0953.jpg  \n",
            "  inflating: food-11/testing/00/0955.jpg  \n",
            "  inflating: food-11/testing/00/0956.jpg  \n",
            "  inflating: food-11/testing/00/0961.jpg  \n",
            "  inflating: food-11/testing/00/0971.jpg  \n",
            "  inflating: food-11/testing/00/0976.jpg  \n",
            "  inflating: food-11/testing/00/0982.jpg  \n",
            "  inflating: food-11/testing/00/0989.jpg  \n",
            "  inflating: food-11/testing/00/0995.jpg  \n",
            "  inflating: food-11/testing/00/0999.jpg  \n",
            "  inflating: food-11/testing/00/1000.jpg  \n",
            "  inflating: food-11/testing/00/1001.jpg  \n",
            "  inflating: food-11/testing/00/1003.jpg  \n",
            "  inflating: food-11/testing/00/1005.jpg  \n",
            "  inflating: food-11/testing/00/1009.jpg  \n",
            "  inflating: food-11/testing/00/1012.jpg  \n",
            "  inflating: food-11/testing/00/1013.jpg  \n",
            "  inflating: food-11/testing/00/1016.jpg  \n",
            "  inflating: food-11/testing/00/1017.jpg  \n",
            "  inflating: food-11/testing/00/1018.jpg  \n",
            "  inflating: food-11/testing/00/1020.jpg  \n",
            "  inflating: food-11/testing/00/1023.jpg  \n",
            "  inflating: food-11/testing/00/1025.jpg  \n",
            "  inflating: food-11/testing/00/1026.jpg  \n",
            "  inflating: food-11/testing/00/1028.jpg  \n",
            "  inflating: food-11/testing/00/1039.jpg  \n",
            "  inflating: food-11/testing/00/1041.jpg  \n",
            "  inflating: food-11/testing/00/1051.jpg  \n",
            "  inflating: food-11/testing/00/1055.jpg  \n",
            "  inflating: food-11/testing/00/1057.jpg  \n",
            "  inflating: food-11/testing/00/1058.jpg  \n",
            "  inflating: food-11/testing/00/1071.jpg  \n",
            "  inflating: food-11/testing/00/1072.jpg  \n",
            "  inflating: food-11/testing/00/1082.jpg  \n",
            "  inflating: food-11/testing/00/1084.jpg  \n",
            "  inflating: food-11/testing/00/1085.jpg  \n",
            "  inflating: food-11/testing/00/1086.jpg  \n",
            "  inflating: food-11/testing/00/1090.jpg  \n",
            "  inflating: food-11/testing/00/1095.jpg  \n",
            "  inflating: food-11/testing/00/1096.jpg  \n",
            "  inflating: food-11/testing/00/1098.jpg  \n",
            "  inflating: food-11/testing/00/1103.jpg  \n",
            "  inflating: food-11/testing/00/1107.jpg  \n",
            "  inflating: food-11/testing/00/1108.jpg  \n",
            "  inflating: food-11/testing/00/1115.jpg  \n",
            "  inflating: food-11/testing/00/1119.jpg  \n",
            "  inflating: food-11/testing/00/1122.jpg  \n",
            "  inflating: food-11/testing/00/1124.jpg  \n",
            "  inflating: food-11/testing/00/1126.jpg  \n",
            "  inflating: food-11/testing/00/1127.jpg  \n",
            "  inflating: food-11/testing/00/1131.jpg  \n",
            "  inflating: food-11/testing/00/1133.jpg  \n",
            "  inflating: food-11/testing/00/1135.jpg  \n",
            "  inflating: food-11/testing/00/1139.jpg  \n",
            "  inflating: food-11/testing/00/1140.jpg  \n",
            "  inflating: food-11/testing/00/1143.jpg  \n",
            "  inflating: food-11/testing/00/1148.jpg  \n",
            "  inflating: food-11/testing/00/1159.jpg  \n",
            "  inflating: food-11/testing/00/1160.jpg  \n",
            "  inflating: food-11/testing/00/1165.jpg  \n",
            "  inflating: food-11/testing/00/1170.jpg  \n",
            "  inflating: food-11/testing/00/1172.jpg  \n",
            "  inflating: food-11/testing/00/1174.jpg  \n",
            "  inflating: food-11/testing/00/1178.jpg  \n",
            "  inflating: food-11/testing/00/1189.jpg  \n",
            "  inflating: food-11/testing/00/1197.jpg  \n",
            "  inflating: food-11/testing/00/1198.jpg  \n",
            "  inflating: food-11/testing/00/1199.jpg  \n",
            "  inflating: food-11/testing/00/1205.jpg  \n",
            "  inflating: food-11/testing/00/1207.jpg  \n",
            "  inflating: food-11/testing/00/1209.jpg  \n",
            "  inflating: food-11/testing/00/1212.jpg  \n",
            "  inflating: food-11/testing/00/1213.jpg  \n",
            "  inflating: food-11/testing/00/1215.jpg  \n",
            "  inflating: food-11/testing/00/1218.jpg  \n",
            "  inflating: food-11/testing/00/1221.jpg  \n",
            "  inflating: food-11/testing/00/1224.jpg  \n",
            "  inflating: food-11/testing/00/1225.jpg  \n",
            "  inflating: food-11/testing/00/1233.jpg  \n",
            "  inflating: food-11/testing/00/1234.jpg  \n",
            "  inflating: food-11/testing/00/1236.jpg  \n",
            "  inflating: food-11/testing/00/1238.jpg  \n",
            "  inflating: food-11/testing/00/1241.jpg  \n",
            "  inflating: food-11/testing/00/1242.jpg  \n",
            "  inflating: food-11/testing/00/1244.jpg  \n",
            "  inflating: food-11/testing/00/1255.jpg  \n",
            "  inflating: food-11/testing/00/1258.jpg  \n",
            "  inflating: food-11/testing/00/1264.jpg  \n",
            "  inflating: food-11/testing/00/1267.jpg  \n",
            "  inflating: food-11/testing/00/1269.jpg  \n",
            "  inflating: food-11/testing/00/1271.jpg  \n",
            "  inflating: food-11/testing/00/1277.jpg  \n",
            "  inflating: food-11/testing/00/1284.jpg  \n",
            "  inflating: food-11/testing/00/1288.jpg  \n",
            "  inflating: food-11/testing/00/1290.jpg  \n",
            "  inflating: food-11/testing/00/1292.jpg  \n",
            "  inflating: food-11/testing/00/1298.jpg  \n",
            "  inflating: food-11/testing/00/1306.jpg  \n",
            "  inflating: food-11/testing/00/1307.jpg  \n",
            "  inflating: food-11/testing/00/1314.jpg  \n",
            "  inflating: food-11/testing/00/1321.jpg  \n",
            "  inflating: food-11/testing/00/1324.jpg  \n",
            "  inflating: food-11/testing/00/1329.jpg  \n",
            "  inflating: food-11/testing/00/1331.jpg  \n",
            "  inflating: food-11/testing/00/1334.jpg  \n",
            "  inflating: food-11/testing/00/1335.jpg  \n",
            "  inflating: food-11/testing/00/1337.jpg  \n",
            "  inflating: food-11/testing/00/1341.jpg  \n",
            "  inflating: food-11/testing/00/1344.jpg  \n",
            "  inflating: food-11/testing/00/1351.jpg  \n",
            "  inflating: food-11/testing/00/1355.jpg  \n",
            "  inflating: food-11/testing/00/1358.jpg  \n",
            "  inflating: food-11/testing/00/1362.jpg  \n",
            "  inflating: food-11/testing/00/1364.jpg  \n",
            "  inflating: food-11/testing/00/1365.jpg  \n",
            "  inflating: food-11/testing/00/1366.jpg  \n",
            "  inflating: food-11/testing/00/1369.jpg  \n",
            "  inflating: food-11/testing/00/1372.jpg  \n",
            "  inflating: food-11/testing/00/1373.jpg  \n",
            "  inflating: food-11/testing/00/1379.jpg  \n",
            "  inflating: food-11/testing/00/1382.jpg  \n",
            "  inflating: food-11/testing/00/1386.jpg  \n",
            "  inflating: food-11/testing/00/1389.jpg  \n",
            "  inflating: food-11/testing/00/1391.jpg  \n",
            "  inflating: food-11/testing/00/1401.jpg  \n",
            "  inflating: food-11/testing/00/1403.jpg  \n",
            "  inflating: food-11/testing/00/1405.jpg  \n",
            "  inflating: food-11/testing/00/1411.jpg  \n",
            "  inflating: food-11/testing/00/1422.jpg  \n",
            "  inflating: food-11/testing/00/1423.jpg  \n",
            "  inflating: food-11/testing/00/1425.jpg  \n",
            "  inflating: food-11/testing/00/1431.jpg  \n",
            "  inflating: food-11/testing/00/1432.jpg  \n",
            "  inflating: food-11/testing/00/1433.jpg  \n",
            "  inflating: food-11/testing/00/1434.jpg  \n",
            "  inflating: food-11/testing/00/1438.jpg  \n",
            "  inflating: food-11/testing/00/1439.jpg  \n",
            "  inflating: food-11/testing/00/1440.jpg  \n",
            "  inflating: food-11/testing/00/1446.jpg  \n",
            "  inflating: food-11/testing/00/1450.jpg  \n",
            "  inflating: food-11/testing/00/1451.jpg  \n",
            "  inflating: food-11/testing/00/1459.jpg  \n",
            "  inflating: food-11/testing/00/1460.jpg  \n",
            "  inflating: food-11/testing/00/1463.jpg  \n",
            "  inflating: food-11/testing/00/1464.jpg  \n",
            "  inflating: food-11/testing/00/1465.jpg  \n",
            "  inflating: food-11/testing/00/1469.jpg  \n",
            "  inflating: food-11/testing/00/1470.jpg  \n",
            "  inflating: food-11/testing/00/1471.jpg  \n",
            "  inflating: food-11/testing/00/1475.jpg  \n",
            "  inflating: food-11/testing/00/1476.jpg  \n",
            "  inflating: food-11/testing/00/1478.jpg  \n",
            "  inflating: food-11/testing/00/1483.jpg  \n",
            "  inflating: food-11/testing/00/1485.jpg  \n",
            "  inflating: food-11/testing/00/1487.jpg  \n",
            "  inflating: food-11/testing/00/1490.jpg  \n",
            "  inflating: food-11/testing/00/1491.jpg  \n",
            "  inflating: food-11/testing/00/1495.jpg  \n",
            "  inflating: food-11/testing/00/1498.jpg  \n",
            "  inflating: food-11/testing/00/1503.jpg  \n",
            "  inflating: food-11/testing/00/1506.jpg  \n",
            "  inflating: food-11/testing/00/1509.jpg  \n",
            "  inflating: food-11/testing/00/1511.jpg  \n",
            "  inflating: food-11/testing/00/1515.jpg  \n",
            "  inflating: food-11/testing/00/1516.jpg  \n",
            "  inflating: food-11/testing/00/1520.jpg  \n",
            "  inflating: food-11/testing/00/1525.jpg  \n",
            "  inflating: food-11/testing/00/1527.jpg  \n",
            "  inflating: food-11/testing/00/1528.jpg  \n",
            "  inflating: food-11/testing/00/1532.jpg  \n",
            "  inflating: food-11/testing/00/1533.jpg  \n",
            "  inflating: food-11/testing/00/1538.jpg  \n",
            "  inflating: food-11/testing/00/1547.jpg  \n",
            "  inflating: food-11/testing/00/1552.jpg  \n",
            "  inflating: food-11/testing/00/1553.jpg  \n",
            "  inflating: food-11/testing/00/1555.jpg  \n",
            "  inflating: food-11/testing/00/1558.jpg  \n",
            "  inflating: food-11/testing/00/1559.jpg  \n",
            "  inflating: food-11/testing/00/1561.jpg  \n",
            "  inflating: food-11/testing/00/1571.jpg  \n",
            "  inflating: food-11/testing/00/1574.jpg  \n",
            "  inflating: food-11/testing/00/1577.jpg  \n",
            "  inflating: food-11/testing/00/1589.jpg  \n",
            "  inflating: food-11/testing/00/1591.jpg  \n",
            "  inflating: food-11/testing/00/1592.jpg  \n",
            "  inflating: food-11/testing/00/1596.jpg  \n",
            "  inflating: food-11/testing/00/1608.jpg  \n",
            "  inflating: food-11/testing/00/1616.jpg  \n",
            "  inflating: food-11/testing/00/1617.jpg  \n",
            "  inflating: food-11/testing/00/1621.jpg  \n",
            "  inflating: food-11/testing/00/1623.jpg  \n",
            "  inflating: food-11/testing/00/1630.jpg  \n",
            "  inflating: food-11/testing/00/1631.jpg  \n",
            "  inflating: food-11/testing/00/1643.jpg  \n",
            "  inflating: food-11/testing/00/1645.jpg  \n",
            "  inflating: food-11/testing/00/1650.jpg  \n",
            "  inflating: food-11/testing/00/1651.jpg  \n",
            "  inflating: food-11/testing/00/1656.jpg  \n",
            "  inflating: food-11/testing/00/1660.jpg  \n",
            "  inflating: food-11/testing/00/1662.jpg  \n",
            "  inflating: food-11/testing/00/1665.jpg  \n",
            "  inflating: food-11/testing/00/1667.jpg  \n",
            "  inflating: food-11/testing/00/1668.jpg  \n",
            "  inflating: food-11/testing/00/1669.jpg  \n",
            "  inflating: food-11/testing/00/1676.jpg  \n",
            "  inflating: food-11/testing/00/1681.jpg  \n",
            "  inflating: food-11/testing/00/1686.jpg  \n",
            "  inflating: food-11/testing/00/1690.jpg  \n",
            "  inflating: food-11/testing/00/1692.jpg  \n",
            "  inflating: food-11/testing/00/1694.jpg  \n",
            "  inflating: food-11/testing/00/1698.jpg  \n",
            "  inflating: food-11/testing/00/1701.jpg  \n",
            "  inflating: food-11/testing/00/1703.jpg  \n",
            "  inflating: food-11/testing/00/1706.jpg  \n",
            "  inflating: food-11/testing/00/1708.jpg  \n",
            "  inflating: food-11/testing/00/1710.jpg  \n",
            "  inflating: food-11/testing/00/1716.jpg  \n",
            "  inflating: food-11/testing/00/1717.jpg  \n",
            "  inflating: food-11/testing/00/1725.jpg  \n",
            "  inflating: food-11/testing/00/1730.jpg  \n",
            "  inflating: food-11/testing/00/1731.jpg  \n",
            "  inflating: food-11/testing/00/1734.jpg  \n",
            "  inflating: food-11/testing/00/1737.jpg  \n",
            "  inflating: food-11/testing/00/1738.jpg  \n",
            "  inflating: food-11/testing/00/1740.jpg  \n",
            "  inflating: food-11/testing/00/1742.jpg  \n",
            "  inflating: food-11/testing/00/1750.jpg  \n",
            "  inflating: food-11/testing/00/1754.jpg  \n",
            "  inflating: food-11/testing/00/1757.jpg  \n",
            "  inflating: food-11/testing/00/1760.jpg  \n",
            "  inflating: food-11/testing/00/1763.jpg  \n",
            "  inflating: food-11/testing/00/1771.jpg  \n",
            "  inflating: food-11/testing/00/1772.jpg  \n",
            "  inflating: food-11/testing/00/1775.jpg  \n",
            "  inflating: food-11/testing/00/1777.jpg  \n",
            "  inflating: food-11/testing/00/1780.jpg  \n",
            "  inflating: food-11/testing/00/1792.jpg  \n",
            "  inflating: food-11/testing/00/1793.jpg  \n",
            "  inflating: food-11/testing/00/1795.jpg  \n",
            "  inflating: food-11/testing/00/1796.jpg  \n",
            "  inflating: food-11/testing/00/1797.jpg  \n",
            "  inflating: food-11/testing/00/1801.jpg  \n",
            "  inflating: food-11/testing/00/1805.jpg  \n",
            "  inflating: food-11/testing/00/1807.jpg  \n",
            "  inflating: food-11/testing/00/1810.jpg  \n",
            "  inflating: food-11/testing/00/1811.jpg  \n",
            "  inflating: food-11/testing/00/1815.jpg  \n",
            "  inflating: food-11/testing/00/1819.jpg  \n",
            "  inflating: food-11/testing/00/1827.jpg  \n",
            "  inflating: food-11/testing/00/1832.jpg  \n",
            "  inflating: food-11/testing/00/1834.jpg  \n",
            "  inflating: food-11/testing/00/1835.jpg  \n",
            "  inflating: food-11/testing/00/1836.jpg  \n",
            "  inflating: food-11/testing/00/1837.jpg  \n",
            "  inflating: food-11/testing/00/1838.jpg  \n",
            "  inflating: food-11/testing/00/1842.jpg  \n",
            "  inflating: food-11/testing/00/1849.jpg  \n",
            "  inflating: food-11/testing/00/1852.jpg  \n",
            "  inflating: food-11/testing/00/1855.jpg  \n",
            "  inflating: food-11/testing/00/1862.jpg  \n",
            "  inflating: food-11/testing/00/1868.jpg  \n",
            "  inflating: food-11/testing/00/1871.jpg  \n",
            "  inflating: food-11/testing/00/1872.jpg  \n",
            "  inflating: food-11/testing/00/1874.jpg  \n",
            "  inflating: food-11/testing/00/1877.jpg  \n",
            "  inflating: food-11/testing/00/1879.jpg  \n",
            "  inflating: food-11/testing/00/1880.jpg  \n",
            "  inflating: food-11/testing/00/1882.jpg  \n",
            "  inflating: food-11/testing/00/1887.jpg  \n",
            "  inflating: food-11/testing/00/1891.jpg  \n",
            "  inflating: food-11/testing/00/1893.jpg  \n",
            "  inflating: food-11/testing/00/1896.jpg  \n",
            "  inflating: food-11/testing/00/1900.jpg  \n",
            "  inflating: food-11/testing/00/1905.jpg  \n",
            "  inflating: food-11/testing/00/1912.jpg  \n",
            "  inflating: food-11/testing/00/1913.jpg  \n",
            "  inflating: food-11/testing/00/1915.jpg  \n",
            "  inflating: food-11/testing/00/1917.jpg  \n",
            "  inflating: food-11/testing/00/1918.jpg  \n",
            "  inflating: food-11/testing/00/1919.jpg  \n",
            "  inflating: food-11/testing/00/1922.jpg  \n",
            "  inflating: food-11/testing/00/1924.jpg  \n",
            "  inflating: food-11/testing/00/1926.jpg  \n",
            "  inflating: food-11/testing/00/1934.jpg  \n",
            "  inflating: food-11/testing/00/1935.jpg  \n",
            "  inflating: food-11/testing/00/1939.jpg  \n",
            "  inflating: food-11/testing/00/1943.jpg  \n",
            "  inflating: food-11/testing/00/1946.jpg  \n",
            "  inflating: food-11/testing/00/1949.jpg  \n",
            "  inflating: food-11/testing/00/1951.jpg  \n",
            "  inflating: food-11/testing/00/1955.jpg  \n",
            "  inflating: food-11/testing/00/1956.jpg  \n",
            "  inflating: food-11/testing/00/1963.jpg  \n",
            "  inflating: food-11/testing/00/1966.jpg  \n",
            "  inflating: food-11/testing/00/1967.jpg  \n",
            "  inflating: food-11/testing/00/1969.jpg  \n",
            "  inflating: food-11/testing/00/1970.jpg  \n",
            "  inflating: food-11/testing/00/1974.jpg  \n",
            "  inflating: food-11/testing/00/1984.jpg  \n",
            "  inflating: food-11/testing/00/1986.jpg  \n",
            "  inflating: food-11/testing/00/1987.jpg  \n",
            "  inflating: food-11/testing/00/1988.jpg  \n",
            "  inflating: food-11/testing/00/1991.jpg  \n",
            "  inflating: food-11/testing/00/1994.jpg  \n",
            "  inflating: food-11/testing/00/1995.jpg  \n",
            "  inflating: food-11/testing/00/1996.jpg  \n",
            "  inflating: food-11/testing/00/1999.jpg  \n",
            "  inflating: food-11/testing/00/2003.jpg  \n",
            "  inflating: food-11/testing/00/2009.jpg  \n",
            "  inflating: food-11/testing/00/2010.jpg  \n",
            "  inflating: food-11/testing/00/2016.jpg  \n",
            "  inflating: food-11/testing/00/2017.jpg  \n",
            "  inflating: food-11/testing/00/2020.jpg  \n",
            "  inflating: food-11/testing/00/2024.jpg  \n",
            "  inflating: food-11/testing/00/2027.jpg  \n",
            "  inflating: food-11/testing/00/2032.jpg  \n",
            "  inflating: food-11/testing/00/2034.jpg  \n",
            "  inflating: food-11/testing/00/2039.jpg  \n",
            "  inflating: food-11/testing/00/2043.jpg  \n",
            "  inflating: food-11/testing/00/2044.jpg  \n",
            "  inflating: food-11/testing/00/2049.jpg  \n",
            "  inflating: food-11/testing/00/2063.jpg  \n",
            "  inflating: food-11/testing/00/2064.jpg  \n",
            "  inflating: food-11/testing/00/2066.jpg  \n",
            "  inflating: food-11/testing/00/2067.jpg  \n",
            "  inflating: food-11/testing/00/2068.jpg  \n",
            "  inflating: food-11/testing/00/2071.jpg  \n",
            "  inflating: food-11/testing/00/2079.jpg  \n",
            "  inflating: food-11/testing/00/2081.jpg  \n",
            "  inflating: food-11/testing/00/2084.jpg  \n",
            "  inflating: food-11/testing/00/2088.jpg  \n",
            "  inflating: food-11/testing/00/2090.jpg  \n",
            "  inflating: food-11/testing/00/2093.jpg  \n",
            "  inflating: food-11/testing/00/2098.jpg  \n",
            "  inflating: food-11/testing/00/2101.jpg  \n",
            "  inflating: food-11/testing/00/2105.jpg  \n",
            "  inflating: food-11/testing/00/2108.jpg  \n",
            "  inflating: food-11/testing/00/2111.jpg  \n",
            "  inflating: food-11/testing/00/2112.jpg  \n",
            "  inflating: food-11/testing/00/2113.jpg  \n",
            "  inflating: food-11/testing/00/2114.jpg  \n",
            "  inflating: food-11/testing/00/2119.jpg  \n",
            "  inflating: food-11/testing/00/2123.jpg  \n",
            "  inflating: food-11/testing/00/2124.jpg  \n",
            "  inflating: food-11/testing/00/2130.jpg  \n",
            "  inflating: food-11/testing/00/2131.jpg  \n",
            "  inflating: food-11/testing/00/2138.jpg  \n",
            "  inflating: food-11/testing/00/2141.jpg  \n",
            "  inflating: food-11/testing/00/2143.jpg  \n",
            "  inflating: food-11/testing/00/2144.jpg  \n",
            "  inflating: food-11/testing/00/2146.jpg  \n",
            "  inflating: food-11/testing/00/2150.jpg  \n",
            "  inflating: food-11/testing/00/2152.jpg  \n",
            "  inflating: food-11/testing/00/2156.jpg  \n",
            "  inflating: food-11/testing/00/2158.jpg  \n",
            "  inflating: food-11/testing/00/2159.jpg  \n",
            "  inflating: food-11/testing/00/2162.jpg  \n",
            "  inflating: food-11/testing/00/2174.jpg  \n",
            "  inflating: food-11/testing/00/2176.jpg  \n",
            "  inflating: food-11/testing/00/2178.jpg  \n",
            "  inflating: food-11/testing/00/2183.jpg  \n",
            "  inflating: food-11/testing/00/2185.jpg  \n",
            "  inflating: food-11/testing/00/2188.jpg  \n",
            "  inflating: food-11/testing/00/2190.jpg  \n",
            "  inflating: food-11/testing/00/2192.jpg  \n",
            "  inflating: food-11/testing/00/2193.jpg  \n",
            "  inflating: food-11/testing/00/2196.jpg  \n",
            "  inflating: food-11/testing/00/2197.jpg  \n",
            "  inflating: food-11/testing/00/2201.jpg  \n",
            "  inflating: food-11/testing/00/2203.jpg  \n",
            "  inflating: food-11/testing/00/2204.jpg  \n",
            "  inflating: food-11/testing/00/2209.jpg  \n",
            "  inflating: food-11/testing/00/2211.jpg  \n",
            "  inflating: food-11/testing/00/2214.jpg  \n",
            "  inflating: food-11/testing/00/2215.jpg  \n",
            "  inflating: food-11/testing/00/2216.jpg  \n",
            "  inflating: food-11/testing/00/2218.jpg  \n",
            "  inflating: food-11/testing/00/2220.jpg  \n",
            "  inflating: food-11/testing/00/2223.jpg  \n",
            "  inflating: food-11/testing/00/2226.jpg  \n",
            "  inflating: food-11/testing/00/2227.jpg  \n",
            "  inflating: food-11/testing/00/2232.jpg  \n",
            "  inflating: food-11/testing/00/2233.jpg  \n",
            "  inflating: food-11/testing/00/2234.jpg  \n",
            "  inflating: food-11/testing/00/2236.jpg  \n",
            "  inflating: food-11/testing/00/2238.jpg  \n",
            "  inflating: food-11/testing/00/2239.jpg  \n",
            "  inflating: food-11/testing/00/2243.jpg  \n",
            "  inflating: food-11/testing/00/2245.jpg  \n",
            "  inflating: food-11/testing/00/2246.jpg  \n",
            "  inflating: food-11/testing/00/2249.jpg  \n",
            "  inflating: food-11/testing/00/2250.jpg  \n",
            "  inflating: food-11/testing/00/2253.jpg  \n",
            "  inflating: food-11/testing/00/2260.jpg  \n",
            "  inflating: food-11/testing/00/2263.jpg  \n",
            "  inflating: food-11/testing/00/2265.jpg  \n",
            "  inflating: food-11/testing/00/2266.jpg  \n",
            "  inflating: food-11/testing/00/2270.jpg  \n",
            "  inflating: food-11/testing/00/2277.jpg  \n",
            "  inflating: food-11/testing/00/2280.jpg  \n",
            "  inflating: food-11/testing/00/2286.jpg  \n",
            "  inflating: food-11/testing/00/2287.jpg  \n",
            "  inflating: food-11/testing/00/2294.jpg  \n",
            "  inflating: food-11/testing/00/2297.jpg  \n",
            "  inflating: food-11/testing/00/2298.jpg  \n",
            "  inflating: food-11/testing/00/2299.jpg  \n",
            "  inflating: food-11/testing/00/2301.jpg  \n",
            "  inflating: food-11/testing/00/2303.jpg  \n",
            "  inflating: food-11/testing/00/2306.jpg  \n",
            "  inflating: food-11/testing/00/2308.jpg  \n",
            "  inflating: food-11/testing/00/2312.jpg  \n",
            "  inflating: food-11/testing/00/2314.jpg  \n",
            "  inflating: food-11/testing/00/2318.jpg  \n",
            "  inflating: food-11/testing/00/2326.jpg  \n",
            "  inflating: food-11/testing/00/2328.jpg  \n",
            "  inflating: food-11/testing/00/2338.jpg  \n",
            "  inflating: food-11/testing/00/2339.jpg  \n",
            "  inflating: food-11/testing/00/2340.jpg  \n",
            "  inflating: food-11/testing/00/2343.jpg  \n",
            "  inflating: food-11/testing/00/2348.jpg  \n",
            "  inflating: food-11/testing/00/2350.jpg  \n",
            "  inflating: food-11/testing/00/2351.jpg  \n",
            "  inflating: food-11/testing/00/2354.jpg  \n",
            "  inflating: food-11/testing/00/2357.jpg  \n",
            "  inflating: food-11/testing/00/2358.jpg  \n",
            "  inflating: food-11/testing/00/2361.jpg  \n",
            "  inflating: food-11/testing/00/2362.jpg  \n",
            "  inflating: food-11/testing/00/2391.jpg  \n",
            "  inflating: food-11/testing/00/2398.jpg  \n",
            "  inflating: food-11/testing/00/2404.jpg  \n",
            "  inflating: food-11/testing/00/2408.jpg  \n",
            "  inflating: food-11/testing/00/2409.jpg  \n",
            "  inflating: food-11/testing/00/2416.jpg  \n",
            "  inflating: food-11/testing/00/2425.jpg  \n",
            "  inflating: food-11/testing/00/2429.jpg  \n",
            "  inflating: food-11/testing/00/2432.jpg  \n",
            "  inflating: food-11/testing/00/2433.jpg  \n",
            "  inflating: food-11/testing/00/2436.jpg  \n",
            "  inflating: food-11/testing/00/2437.jpg  \n",
            "  inflating: food-11/testing/00/2442.jpg  \n",
            "  inflating: food-11/testing/00/2446.jpg  \n",
            "  inflating: food-11/testing/00/2447.jpg  \n",
            "  inflating: food-11/testing/00/2448.jpg  \n",
            "  inflating: food-11/testing/00/2449.jpg  \n",
            "  inflating: food-11/testing/00/2450.jpg  \n",
            "  inflating: food-11/testing/00/2451.jpg  \n",
            "  inflating: food-11/testing/00/2452.jpg  \n",
            "  inflating: food-11/testing/00/2453.jpg  \n",
            "  inflating: food-11/testing/00/2455.jpg  \n",
            "  inflating: food-11/testing/00/2458.jpg  \n",
            "  inflating: food-11/testing/00/2459.jpg  \n",
            "  inflating: food-11/testing/00/2461.jpg  \n",
            "  inflating: food-11/testing/00/2466.jpg  \n",
            "  inflating: food-11/testing/00/2471.jpg  \n",
            "  inflating: food-11/testing/00/2472.jpg  \n",
            "  inflating: food-11/testing/00/2474.jpg  \n",
            "  inflating: food-11/testing/00/2475.jpg  \n",
            "  inflating: food-11/testing/00/2478.jpg  \n",
            "  inflating: food-11/testing/00/2481.jpg  \n",
            "  inflating: food-11/testing/00/2489.jpg  \n",
            "  inflating: food-11/testing/00/2491.jpg  \n",
            "  inflating: food-11/testing/00/2492.jpg  \n",
            "  inflating: food-11/testing/00/2496.jpg  \n",
            "  inflating: food-11/testing/00/2502.jpg  \n",
            "  inflating: food-11/testing/00/2505.jpg  \n",
            "  inflating: food-11/testing/00/2508.jpg  \n",
            "  inflating: food-11/testing/00/2510.jpg  \n",
            "  inflating: food-11/testing/00/2517.jpg  \n",
            "  inflating: food-11/testing/00/2519.jpg  \n",
            "  inflating: food-11/testing/00/2520.jpg  \n",
            "  inflating: food-11/testing/00/2523.jpg  \n",
            "  inflating: food-11/testing/00/2528.jpg  \n",
            "  inflating: food-11/testing/00/2532.jpg  \n",
            "  inflating: food-11/testing/00/2533.jpg  \n",
            "  inflating: food-11/testing/00/2534.jpg  \n",
            "  inflating: food-11/testing/00/2535.jpg  \n",
            "  inflating: food-11/testing/00/2538.jpg  \n",
            "  inflating: food-11/testing/00/2539.jpg  \n",
            "  inflating: food-11/testing/00/2542.jpg  \n",
            "  inflating: food-11/testing/00/2547.jpg  \n",
            "  inflating: food-11/testing/00/2557.jpg  \n",
            "  inflating: food-11/testing/00/2561.jpg  \n",
            "  inflating: food-11/testing/00/2568.jpg  \n",
            "  inflating: food-11/testing/00/2570.jpg  \n",
            "  inflating: food-11/testing/00/2578.jpg  \n",
            "  inflating: food-11/testing/00/2579.jpg  \n",
            "  inflating: food-11/testing/00/2583.jpg  \n",
            "  inflating: food-11/testing/00/2586.jpg  \n",
            "  inflating: food-11/testing/00/2588.jpg  \n",
            "  inflating: food-11/testing/00/2589.jpg  \n",
            "  inflating: food-11/testing/00/2590.jpg  \n",
            "  inflating: food-11/testing/00/2591.jpg  \n",
            "  inflating: food-11/testing/00/2600.jpg  \n",
            "  inflating: food-11/testing/00/2607.jpg  \n",
            "  inflating: food-11/testing/00/2609.jpg  \n",
            "  inflating: food-11/testing/00/2611.jpg  \n",
            "  inflating: food-11/testing/00/2614.jpg  \n",
            "  inflating: food-11/testing/00/2617.jpg  \n",
            "  inflating: food-11/testing/00/2619.jpg  \n",
            "  inflating: food-11/testing/00/2624.jpg  \n",
            "  inflating: food-11/testing/00/2627.jpg  \n",
            "  inflating: food-11/testing/00/2628.jpg  \n",
            "  inflating: food-11/testing/00/2635.jpg  \n",
            "  inflating: food-11/testing/00/2639.jpg  \n",
            "  inflating: food-11/testing/00/2644.jpg  \n",
            "  inflating: food-11/testing/00/2651.jpg  \n",
            "  inflating: food-11/testing/00/2652.jpg  \n",
            "  inflating: food-11/testing/00/2654.jpg  \n",
            "  inflating: food-11/testing/00/2663.jpg  \n",
            "  inflating: food-11/testing/00/2665.jpg  \n",
            "  inflating: food-11/testing/00/2668.jpg  \n",
            "  inflating: food-11/testing/00/2669.jpg  \n",
            "  inflating: food-11/testing/00/2677.jpg  \n",
            "  inflating: food-11/testing/00/2682.jpg  \n",
            "  inflating: food-11/testing/00/2683.jpg  \n",
            "  inflating: food-11/testing/00/2686.jpg  \n",
            "  inflating: food-11/testing/00/2687.jpg  \n",
            "  inflating: food-11/testing/00/2688.jpg  \n",
            "  inflating: food-11/testing/00/2691.jpg  \n",
            "  inflating: food-11/testing/00/2694.jpg  \n",
            "  inflating: food-11/testing/00/2699.jpg  \n",
            "  inflating: food-11/testing/00/2702.jpg  \n",
            "  inflating: food-11/testing/00/2704.jpg  \n",
            "  inflating: food-11/testing/00/2705.jpg  \n",
            "  inflating: food-11/testing/00/2707.jpg  \n",
            "  inflating: food-11/testing/00/2710.jpg  \n",
            "  inflating: food-11/testing/00/2714.jpg  \n",
            "  inflating: food-11/testing/00/2715.jpg  \n",
            "  inflating: food-11/testing/00/2724.jpg  \n",
            "  inflating: food-11/testing/00/2725.jpg  \n",
            "  inflating: food-11/testing/00/2726.jpg  \n",
            "  inflating: food-11/testing/00/2731.jpg  \n",
            "  inflating: food-11/testing/00/2735.jpg  \n",
            "  inflating: food-11/testing/00/2738.jpg  \n",
            "  inflating: food-11/testing/00/2742.jpg  \n",
            "  inflating: food-11/testing/00/2744.jpg  \n",
            "  inflating: food-11/testing/00/2747.jpg  \n",
            "  inflating: food-11/testing/00/2750.jpg  \n",
            "  inflating: food-11/testing/00/2754.jpg  \n",
            "  inflating: food-11/testing/00/2755.jpg  \n",
            "  inflating: food-11/testing/00/2756.jpg  \n",
            "  inflating: food-11/testing/00/2759.jpg  \n",
            "  inflating: food-11/testing/00/2765.jpg  \n",
            "  inflating: food-11/testing/00/2767.jpg  \n",
            "  inflating: food-11/testing/00/2769.jpg  \n",
            "  inflating: food-11/testing/00/2773.jpg  \n",
            "  inflating: food-11/testing/00/2776.jpg  \n",
            "  inflating: food-11/testing/00/2779.jpg  \n",
            "  inflating: food-11/testing/00/2781.jpg  \n",
            "  inflating: food-11/testing/00/2783.jpg  \n",
            "  inflating: food-11/testing/00/2785.jpg  \n",
            "  inflating: food-11/testing/00/2792.jpg  \n",
            "  inflating: food-11/testing/00/2795.jpg  \n",
            "  inflating: food-11/testing/00/2802.jpg  \n",
            "  inflating: food-11/testing/00/2811.jpg  \n",
            "  inflating: food-11/testing/00/2817.jpg  \n",
            "  inflating: food-11/testing/00/2827.jpg  \n",
            "  inflating: food-11/testing/00/2831.jpg  \n",
            "  inflating: food-11/testing/00/2840.jpg  \n",
            "  inflating: food-11/testing/00/2847.jpg  \n",
            "  inflating: food-11/testing/00/2849.jpg  \n",
            "  inflating: food-11/testing/00/2852.jpg  \n",
            "  inflating: food-11/testing/00/2861.jpg  \n",
            "  inflating: food-11/testing/00/2863.jpg  \n",
            "  inflating: food-11/testing/00/2869.jpg  \n",
            "  inflating: food-11/testing/00/2873.jpg  \n",
            "  inflating: food-11/testing/00/2874.jpg  \n",
            "  inflating: food-11/testing/00/2875.jpg  \n",
            "  inflating: food-11/testing/00/2878.jpg  \n",
            "  inflating: food-11/testing/00/2880.jpg  \n",
            "  inflating: food-11/testing/00/2883.jpg  \n",
            "  inflating: food-11/testing/00/2886.jpg  \n",
            "  inflating: food-11/testing/00/2890.jpg  \n",
            "  inflating: food-11/testing/00/2892.jpg  \n",
            "  inflating: food-11/testing/00/2898.jpg  \n",
            "  inflating: food-11/testing/00/2899.jpg  \n",
            "  inflating: food-11/testing/00/2903.jpg  \n",
            "  inflating: food-11/testing/00/2905.jpg  \n",
            "  inflating: food-11/testing/00/2910.jpg  \n",
            "  inflating: food-11/testing/00/2912.jpg  \n",
            "  inflating: food-11/testing/00/2922.jpg  \n",
            "  inflating: food-11/testing/00/2929.jpg  \n",
            "  inflating: food-11/testing/00/2930.jpg  \n",
            "  inflating: food-11/testing/00/2931.jpg  \n",
            "  inflating: food-11/testing/00/2933.jpg  \n",
            "  inflating: food-11/testing/00/2935.jpg  \n",
            "  inflating: food-11/testing/00/2936.jpg  \n",
            "  inflating: food-11/testing/00/2943.jpg  \n",
            "  inflating: food-11/testing/00/2945.jpg  \n",
            "  inflating: food-11/testing/00/2947.jpg  \n",
            "  inflating: food-11/testing/00/2950.jpg  \n",
            "  inflating: food-11/testing/00/2951.jpg  \n",
            "  inflating: food-11/testing/00/2954.jpg  \n",
            "  inflating: food-11/testing/00/2958.jpg  \n",
            "  inflating: food-11/testing/00/2961.jpg  \n",
            "  inflating: food-11/testing/00/2970.jpg  \n",
            "  inflating: food-11/testing/00/2971.jpg  \n",
            "  inflating: food-11/testing/00/2981.jpg  \n",
            "  inflating: food-11/testing/00/2982.jpg  \n",
            "  inflating: food-11/testing/00/2983.jpg  \n",
            "  inflating: food-11/testing/00/2986.jpg  \n",
            "  inflating: food-11/testing/00/2987.jpg  \n",
            "  inflating: food-11/testing/00/2988.jpg  \n",
            "  inflating: food-11/testing/00/2992.jpg  \n",
            "  inflating: food-11/testing/00/3001.jpg  \n",
            "  inflating: food-11/testing/00/3005.jpg  \n",
            "  inflating: food-11/testing/00/3006.jpg  \n",
            "  inflating: food-11/testing/00/3011.jpg  \n",
            "  inflating: food-11/testing/00/3014.jpg  \n",
            "  inflating: food-11/testing/00/3019.jpg  \n",
            "  inflating: food-11/testing/00/3020.jpg  \n",
            "  inflating: food-11/testing/00/3021.jpg  \n",
            "  inflating: food-11/testing/00/3028.jpg  \n",
            "  inflating: food-11/testing/00/3031.jpg  \n",
            "  inflating: food-11/testing/00/3034.jpg  \n",
            "  inflating: food-11/testing/00/3035.jpg  \n",
            "  inflating: food-11/testing/00/3043.jpg  \n",
            "  inflating: food-11/testing/00/3047.jpg  \n",
            "  inflating: food-11/testing/00/3050.jpg  \n",
            "  inflating: food-11/testing/00/3051.jpg  \n",
            "  inflating: food-11/testing/00/3052.jpg  \n",
            "  inflating: food-11/testing/00/3062.jpg  \n",
            "  inflating: food-11/testing/00/3063.jpg  \n",
            "  inflating: food-11/testing/00/3064.jpg  \n",
            "  inflating: food-11/testing/00/3071.jpg  \n",
            "  inflating: food-11/testing/00/3073.jpg  \n",
            "  inflating: food-11/testing/00/3074.jpg  \n",
            "  inflating: food-11/testing/00/3077.jpg  \n",
            "  inflating: food-11/testing/00/3080.jpg  \n",
            "  inflating: food-11/testing/00/3085.jpg  \n",
            "  inflating: food-11/testing/00/3094.jpg  \n",
            "  inflating: food-11/testing/00/3095.jpg  \n",
            "  inflating: food-11/testing/00/3096.jpg  \n",
            "  inflating: food-11/testing/00/3107.jpg  \n",
            "  inflating: food-11/testing/00/3109.jpg  \n",
            "  inflating: food-11/testing/00/3112.jpg  \n",
            "  inflating: food-11/testing/00/3114.jpg  \n",
            "  inflating: food-11/testing/00/3115.jpg  \n",
            "  inflating: food-11/testing/00/3116.jpg  \n",
            "  inflating: food-11/testing/00/3118.jpg  \n",
            "  inflating: food-11/testing/00/3119.jpg  \n",
            "  inflating: food-11/testing/00/3120.jpg  \n",
            "  inflating: food-11/testing/00/3121.jpg  \n",
            "  inflating: food-11/testing/00/3122.jpg  \n",
            "  inflating: food-11/testing/00/3123.jpg  \n",
            "  inflating: food-11/testing/00/3124.jpg  \n",
            "  inflating: food-11/testing/00/3125.jpg  \n",
            "  inflating: food-11/testing/00/3126.jpg  \n",
            "  inflating: food-11/testing/00/3128.jpg  \n",
            "  inflating: food-11/testing/00/3130.jpg  \n",
            "  inflating: food-11/testing/00/3133.jpg  \n",
            "  inflating: food-11/testing/00/3144.jpg  \n",
            "  inflating: food-11/testing/00/3149.jpg  \n",
            "  inflating: food-11/testing/00/3153.jpg  \n",
            "  inflating: food-11/testing/00/3157.jpg  \n",
            "  inflating: food-11/testing/00/3161.jpg  \n",
            "  inflating: food-11/testing/00/3163.jpg  \n",
            "  inflating: food-11/testing/00/3171.jpg  \n",
            "  inflating: food-11/testing/00/3177.jpg  \n",
            "  inflating: food-11/testing/00/3182.jpg  \n",
            "  inflating: food-11/testing/00/3187.jpg  \n",
            "  inflating: food-11/testing/00/3188.jpg  \n",
            "  inflating: food-11/testing/00/3193.jpg  \n",
            "  inflating: food-11/testing/00/3199.jpg  \n",
            "  inflating: food-11/testing/00/3201.jpg  \n",
            "  inflating: food-11/testing/00/3204.jpg  \n",
            "  inflating: food-11/testing/00/3208.jpg  \n",
            "  inflating: food-11/testing/00/3212.jpg  \n",
            "  inflating: food-11/testing/00/3213.jpg  \n",
            "  inflating: food-11/testing/00/3217.jpg  \n",
            "  inflating: food-11/testing/00/3225.jpg  \n",
            "  inflating: food-11/testing/00/3226.jpg  \n",
            "  inflating: food-11/testing/00/3232.jpg  \n",
            "  inflating: food-11/testing/00/3233.jpg  \n",
            "  inflating: food-11/testing/00/3236.jpg  \n",
            "  inflating: food-11/testing/00/3237.jpg  \n",
            "  inflating: food-11/testing/00/3248.jpg  \n",
            "  inflating: food-11/testing/00/3249.jpg  \n",
            "  inflating: food-11/testing/00/3253.jpg  \n",
            "  inflating: food-11/testing/00/3256.jpg  \n",
            "  inflating: food-11/testing/00/3264.jpg  \n",
            "  inflating: food-11/testing/00/3265.jpg  \n",
            "  inflating: food-11/testing/00/3270.jpg  \n",
            "  inflating: food-11/testing/00/3276.jpg  \n",
            "  inflating: food-11/testing/00/3277.jpg  \n",
            "  inflating: food-11/testing/00/3283.jpg  \n",
            "  inflating: food-11/testing/00/3284.jpg  \n",
            "  inflating: food-11/testing/00/3288.jpg  \n",
            "  inflating: food-11/testing/00/3289.jpg  \n",
            "  inflating: food-11/testing/00/3296.jpg  \n",
            "  inflating: food-11/testing/00/3299.jpg  \n",
            "  inflating: food-11/testing/00/3301.jpg  \n",
            "  inflating: food-11/testing/00/3304.jpg  \n",
            "  inflating: food-11/testing/00/3305.jpg  \n",
            "  inflating: food-11/testing/00/3308.jpg  \n",
            "  inflating: food-11/testing/00/3315.jpg  \n",
            "  inflating: food-11/testing/00/3316.jpg  \n",
            "  inflating: food-11/testing/00/3324.jpg  \n",
            "  inflating: food-11/testing/00/3325.jpg  \n",
            "  inflating: food-11/testing/00/3330.jpg  \n",
            "  inflating: food-11/testing/00/3331.jpg  \n",
            "  inflating: food-11/testing/00/3336.jpg  \n",
            "  inflating: food-11/testing/00/3337.jpg  \n",
            "  inflating: food-11/testing/00/3342.jpg  \n",
            "  inflating: food-11/testing/00/3346.jpg  \n",
            "  inflating: food-11/testing/00/0009.jpg  \n",
            "  inflating: food-11/testing/00/0010.jpg  \n",
            "  inflating: food-11/testing/00/0012.jpg  \n",
            "  inflating: food-11/testing/00/0016.jpg  \n",
            "  inflating: food-11/testing/00/0018.jpg  \n",
            "  inflating: food-11/testing/00/0022.jpg  \n",
            "  inflating: food-11/testing/00/0024.jpg  \n",
            "  inflating: food-11/testing/00/0029.jpg  \n",
            "  inflating: food-11/testing/00/0030.jpg  \n",
            "  inflating: food-11/testing/00/0034.jpg  \n",
            "  inflating: food-11/testing/00/0037.jpg  \n",
            "  inflating: food-11/testing/00/0046.jpg  \n",
            "  inflating: food-11/testing/00/0047.jpg  \n",
            "  inflating: food-11/testing/00/0049.jpg  \n",
            "  inflating: food-11/testing/00/0053.jpg  \n",
            "  inflating: food-11/testing/00/0054.jpg  \n",
            "  inflating: food-11/testing/00/0056.jpg  \n",
            "  inflating: food-11/testing/00/0059.jpg  \n",
            "  inflating: food-11/testing/00/0060.jpg  \n",
            "  inflating: food-11/testing/00/0065.jpg  \n",
            "  inflating: food-11/testing/00/0067.jpg  \n",
            "  inflating: food-11/testing/00/0075.jpg  \n",
            "  inflating: food-11/testing/00/0076.jpg  \n",
            "  inflating: food-11/testing/00/0081.jpg  \n",
            "  inflating: food-11/testing/00/0088.jpg  \n",
            "  inflating: food-11/testing/00/0090.jpg  \n",
            "  inflating: food-11/testing/00/0093.jpg  \n",
            "  inflating: food-11/testing/00/0096.jpg  \n",
            "  inflating: food-11/testing/00/0098.jpg  \n",
            "  inflating: food-11/testing/00/0100.jpg  \n",
            "  inflating: food-11/testing/00/0101.jpg  \n",
            "  inflating: food-11/testing/00/0105.jpg  \n",
            "  inflating: food-11/testing/00/0107.jpg  \n",
            "  inflating: food-11/testing/00/0108.jpg  \n",
            "  inflating: food-11/testing/00/0109.jpg  \n",
            "  inflating: food-11/testing/00/0111.jpg  \n",
            "  inflating: food-11/testing/00/0112.jpg  \n",
            "  inflating: food-11/testing/00/0114.jpg  \n",
            "  inflating: food-11/testing/00/0118.jpg  \n",
            "  inflating: food-11/testing/00/0127.jpg  \n",
            "  inflating: food-11/testing/00/0130.jpg  \n",
            "  inflating: food-11/testing/00/0131.jpg  \n",
            "  inflating: food-11/testing/00/0132.jpg  \n",
            "  inflating: food-11/testing/00/0133.jpg  \n",
            "  inflating: food-11/testing/00/0136.jpg  \n",
            "  inflating: food-11/testing/00/0137.jpg  \n",
            "  inflating: food-11/testing/00/0141.jpg  \n",
            "  inflating: food-11/testing/00/0144.jpg  \n",
            "  inflating: food-11/testing/00/0145.jpg  \n",
            "  inflating: food-11/testing/00/0146.jpg  \n",
            "  inflating: food-11/testing/00/0147.jpg  \n",
            "  inflating: food-11/testing/00/0148.jpg  \n",
            "  inflating: food-11/testing/00/0153.jpg  \n",
            "  inflating: food-11/testing/00/0161.jpg  \n",
            "  inflating: food-11/testing/00/0163.jpg  \n",
            "  inflating: food-11/testing/00/0165.jpg  \n",
            "  inflating: food-11/testing/00/0166.jpg  \n",
            "  inflating: food-11/testing/00/0175.jpg  \n",
            "  inflating: food-11/testing/00/0176.jpg  \n",
            "  inflating: food-11/testing/00/0185.jpg  \n",
            "  inflating: food-11/testing/00/0194.jpg  \n",
            "  inflating: food-11/testing/00/0196.jpg  \n",
            "  inflating: food-11/testing/00/0203.jpg  \n",
            "  inflating: food-11/testing/00/0204.jpg  \n",
            "  inflating: food-11/testing/00/0208.jpg  \n",
            "  inflating: food-11/testing/00/0215.jpg  \n",
            "  inflating: food-11/testing/00/0217.jpg  \n",
            "  inflating: food-11/testing/00/0222.jpg  \n",
            "  inflating: food-11/testing/00/0224.jpg  \n",
            "  inflating: food-11/testing/00/0226.jpg  \n",
            "  inflating: food-11/testing/00/0230.jpg  \n",
            "  inflating: food-11/testing/00/0231.jpg  \n",
            "  inflating: food-11/testing/00/0232.jpg  \n",
            "  inflating: food-11/testing/00/0237.jpg  \n",
            "  inflating: food-11/testing/00/0241.jpg  \n",
            "  inflating: food-11/testing/00/0242.jpg  \n",
            "  inflating: food-11/testing/00/0248.jpg  \n",
            "  inflating: food-11/testing/00/0249.jpg  \n",
            "  inflating: food-11/testing/00/0253.jpg  \n",
            "  inflating: food-11/testing/00/0254.jpg  \n",
            "  inflating: food-11/testing/00/0261.jpg  \n",
            "  inflating: food-11/testing/00/0266.jpg  \n",
            "  inflating: food-11/testing/00/0273.jpg  \n",
            "  inflating: food-11/testing/00/0274.jpg  \n",
            "  inflating: food-11/testing/00/0276.jpg  \n",
            "  inflating: food-11/testing/00/0280.jpg  \n",
            "  inflating: food-11/testing/00/0281.jpg  \n",
            "  inflating: food-11/testing/00/0282.jpg  \n",
            "  inflating: food-11/testing/00/0285.jpg  \n",
            "  inflating: food-11/testing/00/0286.jpg  \n",
            "  inflating: food-11/testing/00/0291.jpg  \n",
            "  inflating: food-11/testing/00/0293.jpg  \n",
            "  inflating: food-11/testing/00/0294.jpg  \n",
            "  inflating: food-11/testing/00/0296.jpg  \n",
            "  inflating: food-11/testing/00/0297.jpg  \n",
            "  inflating: food-11/testing/00/0306.jpg  \n",
            "  inflating: food-11/testing/00/0308.jpg  \n",
            "  inflating: food-11/testing/00/0310.jpg  \n",
            "  inflating: food-11/testing/00/0321.jpg  \n",
            "  inflating: food-11/testing/00/0324.jpg  \n",
            "  inflating: food-11/testing/00/0332.jpg  \n",
            "  inflating: food-11/testing/00/0333.jpg  \n",
            "  inflating: food-11/testing/00/0338.jpg  \n",
            "  inflating: food-11/testing/00/0343.jpg  \n",
            "  inflating: food-11/testing/00/0349.jpg  \n",
            "  inflating: food-11/testing/00/0350.jpg  \n",
            "  inflating: food-11/testing/00/0354.jpg  \n",
            "  inflating: food-11/testing/00/0358.jpg  \n",
            "  inflating: food-11/testing/00/0368.jpg  \n",
            "  inflating: food-11/testing/00/0374.jpg  \n",
            "  inflating: food-11/testing/00/0376.jpg  \n",
            "  inflating: food-11/testing/00/0384.jpg  \n",
            "  inflating: food-11/testing/00/0389.jpg  \n",
            "  inflating: food-11/testing/00/0393.jpg  \n",
            "  inflating: food-11/testing/00/0394.jpg  \n",
            "  inflating: food-11/testing/00/0397.jpg  \n",
            "  inflating: food-11/testing/00/0400.jpg  \n",
            "  inflating: food-11/testing/00/0402.jpg  \n",
            "  inflating: food-11/testing/00/0405.jpg  \n",
            "  inflating: food-11/testing/00/0406.jpg  \n",
            "  inflating: food-11/testing/00/0409.jpg  \n",
            "  inflating: food-11/testing/00/0415.jpg  \n",
            "  inflating: food-11/testing/00/0416.jpg  \n",
            "  inflating: food-11/testing/00/0427.jpg  \n",
            "  inflating: food-11/testing/00/0428.jpg  \n",
            "  inflating: food-11/testing/00/0430.jpg  \n",
            "  inflating: food-11/testing/00/0431.jpg  \n",
            "  inflating: food-11/testing/00/0432.jpg  \n",
            "  inflating: food-11/testing/00/0436.jpg  \n",
            "  inflating: food-11/testing/00/0442.jpg  \n",
            "  inflating: food-11/testing/00/0443.jpg  \n",
            "  inflating: food-11/testing/00/0450.jpg  \n",
            "  inflating: food-11/testing/00/0451.jpg  \n",
            "  inflating: food-11/testing/00/0452.jpg  \n",
            "  inflating: food-11/testing/00/0455.jpg  \n",
            "  inflating: food-11/testing/00/0465.jpg  \n",
            "  inflating: food-11/testing/00/0466.jpg  \n",
            "  inflating: food-11/testing/00/0470.jpg  \n",
            "  inflating: food-11/testing/00/0472.jpg  \n",
            "  inflating: food-11/testing/00/0477.jpg  \n",
            "  inflating: food-11/testing/00/0483.jpg  \n",
            "  inflating: food-11/testing/00/0484.jpg  \n",
            "  inflating: food-11/testing/00/0486.jpg  \n",
            "  inflating: food-11/testing/00/0492.jpg  \n",
            "  inflating: food-11/testing/00/0493.jpg  \n",
            "  inflating: food-11/testing/00/0494.jpg  \n",
            "  inflating: food-11/testing/00/0495.jpg  \n",
            "  inflating: food-11/testing/00/0498.jpg  \n",
            "  inflating: food-11/testing/00/0499.jpg  \n",
            "  inflating: food-11/testing/00/0500.jpg  \n",
            "  inflating: food-11/testing/00/0501.jpg  \n",
            "  inflating: food-11/testing/00/0505.jpg  \n",
            "  inflating: food-11/testing/00/0509.jpg  \n",
            "  inflating: food-11/testing/00/0510.jpg  \n",
            "  inflating: food-11/testing/00/0513.jpg  \n",
            "  inflating: food-11/testing/00/0515.jpg  \n",
            "  inflating: food-11/testing/00/0516.jpg  \n",
            "  inflating: food-11/testing/00/0519.jpg  \n",
            "  inflating: food-11/testing/00/0520.jpg  \n",
            "  inflating: food-11/testing/00/0522.jpg  \n",
            "  inflating: food-11/testing/00/0523.jpg  \n",
            "  inflating: food-11/testing/00/0528.jpg  \n",
            "  inflating: food-11/testing/00/0532.jpg  \n",
            "  inflating: food-11/testing/00/0533.jpg  \n",
            "  inflating: food-11/testing/00/0534.jpg  \n",
            "  inflating: food-11/testing/00/0536.jpg  \n",
            "  inflating: food-11/testing/00/0541.jpg  \n",
            "  inflating: food-11/testing/00/0542.jpg  \n",
            "  inflating: food-11/testing/00/0543.jpg  \n",
            "  inflating: food-11/testing/00/0548.jpg  \n",
            "  inflating: food-11/testing/00/0549.jpg  \n",
            "  inflating: food-11/testing/00/0550.jpg  \n",
            "  inflating: food-11/testing/00/0560.jpg  \n",
            "  inflating: food-11/testing/00/0565.jpg  \n",
            "  inflating: food-11/testing/00/0566.jpg  \n",
            "  inflating: food-11/testing/00/0569.jpg  \n",
            "  inflating: food-11/testing/00/0573.jpg  \n",
            "  inflating: food-11/testing/00/0574.jpg  \n",
            "  inflating: food-11/testing/00/0577.jpg  \n",
            "  inflating: food-11/testing/00/0587.jpg  \n",
            "  inflating: food-11/testing/00/0591.jpg  \n",
            "  inflating: food-11/testing/00/0595.jpg  \n",
            "  inflating: food-11/testing/00/0603.jpg  \n",
            "  inflating: food-11/testing/00/0605.jpg  \n",
            "  inflating: food-11/testing/00/0610.jpg  \n",
            "  inflating: food-11/testing/00/0611.jpg  \n",
            "  inflating: food-11/testing/00/0615.jpg  \n",
            "  inflating: food-11/testing/00/0616.jpg  \n",
            "  inflating: food-11/testing/00/0617.jpg  \n",
            "  inflating: food-11/testing/00/0623.jpg  \n",
            "  inflating: food-11/testing/00/0626.jpg  \n",
            "  inflating: food-11/testing/00/0629.jpg  \n",
            "  inflating: food-11/testing/00/0645.jpg  \n",
            "  inflating: food-11/testing/00/0655.jpg  \n",
            "  inflating: food-11/testing/00/0658.jpg  \n",
            "  inflating: food-11/testing/00/0660.jpg  \n",
            "  inflating: food-11/testing/00/0662.jpg  \n",
            "  inflating: food-11/testing/00/0668.jpg  \n",
            "  inflating: food-11/testing/00/0673.jpg  \n",
            "  inflating: food-11/testing/00/0674.jpg  \n",
            "  inflating: food-11/testing/00/0675.jpg  \n",
            "  inflating: food-11/testing/00/0676.jpg  \n",
            "  inflating: food-11/testing/00/0677.jpg  \n",
            "  inflating: food-11/testing/00/0680.jpg  \n",
            "  inflating: food-11/testing/00/0681.jpg  \n",
            "  inflating: food-11/testing/00/0685.jpg  \n",
            "  inflating: food-11/testing/00/0687.jpg  \n",
            "  inflating: food-11/testing/00/0688.jpg  \n",
            "  inflating: food-11/testing/00/0690.jpg  \n",
            "  inflating: food-11/testing/00/0693.jpg  \n",
            "  inflating: food-11/testing/00/0694.jpg  \n",
            "  inflating: food-11/testing/00/0695.jpg  \n",
            "  inflating: food-11/testing/00/0698.jpg  \n",
            "  inflating: food-11/testing/00/0700.jpg  \n",
            "  inflating: food-11/testing/00/0703.jpg  \n",
            "  inflating: food-11/testing/00/0705.jpg  \n",
            "  inflating: food-11/testing/00/0713.jpg  \n",
            "  inflating: food-11/testing/00/0714.jpg  \n",
            "  inflating: food-11/testing/00/0722.jpg  \n",
            "  inflating: food-11/testing/00/0730.jpg  \n",
            "  inflating: food-11/testing/00/0733.jpg  \n",
            "  inflating: food-11/testing/00/0734.jpg  \n",
            "  inflating: food-11/testing/00/0739.jpg  \n",
            "  inflating: food-11/testing/00/0741.jpg  \n",
            "  inflating: food-11/testing/00/0745.jpg  \n",
            "  inflating: food-11/testing/00/0746.jpg  \n",
            "  inflating: food-11/testing/00/0747.jpg  \n",
            "  inflating: food-11/testing/00/0750.jpg  \n",
            "  inflating: food-11/testing/00/0755.jpg  \n",
            "  inflating: food-11/testing/00/0760.jpg  \n",
            "  inflating: food-11/testing/00/0767.jpg  \n",
            "  inflating: food-11/testing/00/0768.jpg  \n",
            "  inflating: food-11/testing/00/0770.jpg  \n",
            "  inflating: food-11/testing/00/0771.jpg  \n",
            "  inflating: food-11/testing/00/0772.jpg  \n",
            "  inflating: food-11/testing/00/0773.jpg  \n",
            "  inflating: food-11/testing/00/0774.jpg  \n",
            "  inflating: food-11/testing/00/0775.jpg  \n",
            "  inflating: food-11/testing/00/0778.jpg  \n",
            "  inflating: food-11/testing/00/0779.jpg  \n",
            "  inflating: food-11/testing/00/0782.jpg  \n",
            "  inflating: food-11/testing/00/0786.jpg  \n",
            "  inflating: food-11/testing/00/0792.jpg  \n",
            "  inflating: food-11/testing/00/0800.jpg  \n",
            "  inflating: food-11/testing/00/0801.jpg  \n",
            "  inflating: food-11/testing/00/0804.jpg  \n",
            "  inflating: food-11/testing/00/0812.jpg  \n",
            "  inflating: food-11/testing/00/0823.jpg  \n",
            "  inflating: food-11/testing/00/0826.jpg  \n",
            "  inflating: food-11/testing/00/0833.jpg  \n",
            "  inflating: food-11/testing/00/0834.jpg  \n",
            "  inflating: food-11/testing/00/0835.jpg  \n",
            "  inflating: food-11/testing/00/0837.jpg  \n",
            "  inflating: food-11/testing/00/0838.jpg  \n",
            "  inflating: food-11/testing/00/0839.jpg  \n",
            "  inflating: food-11/testing/00/0849.jpg  \n",
            "  inflating: food-11/testing/00/0853.jpg  \n",
            "  inflating: food-11/testing/00/0857.jpg  \n",
            "  inflating: food-11/testing/00/0859.jpg  \n",
            "  inflating: food-11/testing/00/0861.jpg  \n",
            "  inflating: food-11/testing/00/0868.jpg  \n",
            "  inflating: food-11/testing/00/0871.jpg  \n",
            "  inflating: food-11/testing/00/0874.jpg  \n",
            "  inflating: food-11/testing/00/0876.jpg  \n",
            "  inflating: food-11/testing/00/0877.jpg  \n",
            "  inflating: food-11/testing/00/0879.jpg  \n",
            "  inflating: food-11/testing/00/0884.jpg  \n",
            "  inflating: food-11/testing/00/0886.jpg  \n",
            "  inflating: food-11/testing/00/0890.jpg  \n",
            "  inflating: food-11/testing/00/0892.jpg  \n",
            "  inflating: food-11/testing/00/0899.jpg  \n",
            "  inflating: food-11/testing/00/0901.jpg  \n",
            "  inflating: food-11/testing/00/0902.jpg  \n",
            "  inflating: food-11/testing/00/0903.jpg  \n",
            "  inflating: food-11/testing/00/0904.jpg  \n",
            "  inflating: food-11/testing/00/0911.jpg  \n",
            "  inflating: food-11/testing/00/0914.jpg  \n",
            "  inflating: food-11/testing/00/0919.jpg  \n",
            "  inflating: food-11/testing/00/0924.jpg  \n",
            "  inflating: food-11/testing/00/0926.jpg  \n",
            "  inflating: food-11/testing/00/0932.jpg  \n",
            "  inflating: food-11/testing/00/0935.jpg  \n",
            "  inflating: food-11/testing/00/0941.jpg  \n",
            "  inflating: food-11/testing/00/0951.jpg  \n",
            "  inflating: food-11/testing/00/0957.jpg  \n",
            "  inflating: food-11/testing/00/0958.jpg  \n",
            "  inflating: food-11/testing/00/0959.jpg  \n",
            "  inflating: food-11/testing/00/0962.jpg  \n",
            "  inflating: food-11/testing/00/0963.jpg  \n",
            "  inflating: food-11/testing/00/0965.jpg  \n",
            "  inflating: food-11/testing/00/0966.jpg  \n",
            "  inflating: food-11/testing/00/0970.jpg  \n",
            "  inflating: food-11/testing/00/0974.jpg  \n",
            "  inflating: food-11/testing/00/0977.jpg  \n",
            "  inflating: food-11/testing/00/0979.jpg  \n",
            "  inflating: food-11/testing/00/0980.jpg  \n",
            "  inflating: food-11/testing/00/0981.jpg  \n",
            "  inflating: food-11/testing/00/0987.jpg  \n",
            "  inflating: food-11/testing/00/0988.jpg  \n",
            "  inflating: food-11/testing/00/0990.jpg  \n",
            "  inflating: food-11/testing/00/0991.jpg  \n",
            "  inflating: food-11/testing/00/0996.jpg  \n",
            "  inflating: food-11/testing/00/1002.jpg  \n",
            "  inflating: food-11/testing/00/1011.jpg  \n",
            "  inflating: food-11/testing/00/1015.jpg  \n",
            "  inflating: food-11/testing/00/1022.jpg  \n",
            "  inflating: food-11/testing/00/1029.jpg  \n",
            "  inflating: food-11/testing/00/1030.jpg  \n",
            "  inflating: food-11/testing/00/1031.jpg  \n",
            "  inflating: food-11/testing/00/1032.jpg  \n",
            "  inflating: food-11/testing/00/1034.jpg  \n",
            "  inflating: food-11/testing/00/1036.jpg  \n",
            "  inflating: food-11/testing/00/1037.jpg  \n",
            "  inflating: food-11/testing/00/1044.jpg  \n",
            "  inflating: food-11/testing/00/1046.jpg  \n",
            "  inflating: food-11/testing/00/1049.jpg  \n",
            "  inflating: food-11/testing/00/1050.jpg  \n",
            "  inflating: food-11/testing/00/1054.jpg  \n",
            "  inflating: food-11/testing/00/1056.jpg  \n",
            "  inflating: food-11/testing/00/1060.jpg  \n",
            "  inflating: food-11/testing/00/1061.jpg  \n",
            "  inflating: food-11/testing/00/1065.jpg  \n",
            "  inflating: food-11/testing/00/1068.jpg  \n",
            "  inflating: food-11/testing/00/1069.jpg  \n",
            "  inflating: food-11/testing/00/1074.jpg  \n",
            "  inflating: food-11/testing/00/1080.jpg  \n",
            "  inflating: food-11/testing/00/1083.jpg  \n",
            "  inflating: food-11/testing/00/1088.jpg  \n",
            "  inflating: food-11/testing/00/1091.jpg  \n",
            "  inflating: food-11/testing/00/1097.jpg  \n",
            "  inflating: food-11/testing/00/1099.jpg  \n",
            "  inflating: food-11/testing/00/1100.jpg  \n",
            "  inflating: food-11/testing/00/1106.jpg  \n",
            "  inflating: food-11/testing/00/1111.jpg  \n",
            "  inflating: food-11/testing/00/1112.jpg  \n",
            "  inflating: food-11/testing/00/1116.jpg  \n",
            "  inflating: food-11/testing/00/1120.jpg  \n",
            "  inflating: food-11/testing/00/1121.jpg  \n",
            "  inflating: food-11/testing/00/1125.jpg  \n",
            "  inflating: food-11/testing/00/1129.jpg  \n",
            "  inflating: food-11/testing/00/1134.jpg  \n",
            "  inflating: food-11/testing/00/1136.jpg  \n",
            "  inflating: food-11/testing/00/1137.jpg  \n",
            "  inflating: food-11/testing/00/1141.jpg  \n",
            "  inflating: food-11/testing/00/1145.jpg  \n",
            "  inflating: food-11/testing/00/1151.jpg  \n",
            "  inflating: food-11/testing/00/1153.jpg  \n",
            "  inflating: food-11/testing/00/1157.jpg  \n",
            "  inflating: food-11/testing/00/1161.jpg  \n",
            "  inflating: food-11/testing/00/1167.jpg  \n",
            "  inflating: food-11/testing/00/1169.jpg  \n",
            "  inflating: food-11/testing/00/1171.jpg  \n",
            "  inflating: food-11/testing/00/1175.jpg  \n",
            "  inflating: food-11/testing/00/1177.jpg  \n",
            "  inflating: food-11/testing/00/1182.jpg  \n",
            "  inflating: food-11/testing/00/1185.jpg  \n",
            "  inflating: food-11/testing/00/1186.jpg  \n",
            "  inflating: food-11/testing/00/1192.jpg  \n",
            "  inflating: food-11/testing/00/1193.jpg  \n",
            "  inflating: food-11/testing/00/1200.jpg  \n",
            "  inflating: food-11/testing/00/1201.jpg  \n",
            "  inflating: food-11/testing/00/1202.jpg  \n",
            "  inflating: food-11/testing/00/1203.jpg  \n",
            "  inflating: food-11/testing/00/1204.jpg  \n",
            "  inflating: food-11/testing/00/1206.jpg  \n",
            "  inflating: food-11/testing/00/1210.jpg  \n",
            "  inflating: food-11/testing/00/1211.jpg  \n",
            "  inflating: food-11/testing/00/1214.jpg  \n",
            "  inflating: food-11/testing/00/1222.jpg  \n",
            "  inflating: food-11/testing/00/1227.jpg  \n",
            "  inflating: food-11/testing/00/1228.jpg  \n",
            "  inflating: food-11/testing/00/1232.jpg  \n",
            "  inflating: food-11/testing/00/1237.jpg  \n",
            "  inflating: food-11/testing/00/1246.jpg  \n",
            "  inflating: food-11/testing/00/1251.jpg  \n",
            "  inflating: food-11/testing/00/1253.jpg  \n",
            "  inflating: food-11/testing/00/1254.jpg  \n",
            "  inflating: food-11/testing/00/1257.jpg  \n",
            "  inflating: food-11/testing/00/1259.jpg  \n",
            "  inflating: food-11/testing/00/1260.jpg  \n",
            "  inflating: food-11/testing/00/1261.jpg  \n",
            "  inflating: food-11/testing/00/1262.jpg  \n",
            "  inflating: food-11/testing/00/1272.jpg  \n",
            "  inflating: food-11/testing/00/1273.jpg  \n",
            "  inflating: food-11/testing/00/1274.jpg  \n",
            "  inflating: food-11/testing/00/1275.jpg  \n",
            "  inflating: food-11/testing/00/1278.jpg  \n",
            "  inflating: food-11/testing/00/1279.jpg  \n",
            "  inflating: food-11/testing/00/1280.jpg  \n",
            "  inflating: food-11/testing/00/1283.jpg  \n",
            "  inflating: food-11/testing/00/1285.jpg  \n",
            "  inflating: food-11/testing/00/1296.jpg  \n",
            "  inflating: food-11/testing/00/1302.jpg  \n",
            "  inflating: food-11/testing/00/1303.jpg  \n",
            "  inflating: food-11/testing/00/1312.jpg  \n",
            "  inflating: food-11/testing/00/1316.jpg  \n",
            "  inflating: food-11/testing/00/1319.jpg  \n",
            "  inflating: food-11/testing/00/1320.jpg  \n",
            "  inflating: food-11/testing/00/1323.jpg  \n",
            "  inflating: food-11/testing/00/1325.jpg  \n",
            "  inflating: food-11/testing/00/1326.jpg  \n",
            "  inflating: food-11/testing/00/1327.jpg  \n",
            "  inflating: food-11/testing/00/1328.jpg  \n",
            "  inflating: food-11/testing/00/1330.jpg  \n",
            "  inflating: food-11/testing/00/1333.jpg  \n",
            "  inflating: food-11/testing/00/1339.jpg  \n",
            "  inflating: food-11/testing/00/1342.jpg  \n",
            "  inflating: food-11/testing/00/1352.jpg  \n",
            "  inflating: food-11/testing/00/1353.jpg  \n",
            "  inflating: food-11/testing/00/1360.jpg  \n",
            "  inflating: food-11/testing/00/1363.jpg  \n",
            "  inflating: food-11/testing/00/1370.jpg  \n",
            "  inflating: food-11/testing/00/1371.jpg  \n",
            "  inflating: food-11/testing/00/1375.jpg  \n",
            "  inflating: food-11/testing/00/1376.jpg  \n",
            "  inflating: food-11/testing/00/1383.jpg  \n",
            "  inflating: food-11/testing/00/1392.jpg  \n",
            "  inflating: food-11/testing/00/1394.jpg  \n",
            "  inflating: food-11/testing/00/1395.jpg  \n",
            "  inflating: food-11/testing/00/1396.jpg  \n",
            "  inflating: food-11/testing/00/1397.jpg  \n",
            "  inflating: food-11/testing/00/1398.jpg  \n",
            "  inflating: food-11/testing/00/1399.jpg  \n",
            "  inflating: food-11/testing/00/1407.jpg  \n",
            "  inflating: food-11/testing/00/1408.jpg  \n",
            "  inflating: food-11/testing/00/1413.jpg  \n",
            "  inflating: food-11/testing/00/1414.jpg  \n",
            "  inflating: food-11/testing/00/1416.jpg  \n",
            "  inflating: food-11/testing/00/1417.jpg  \n",
            "  inflating: food-11/testing/00/1418.jpg  \n",
            "  inflating: food-11/testing/00/1420.jpg  \n",
            "  inflating: food-11/testing/00/1424.jpg  \n",
            "  inflating: food-11/testing/00/1429.jpg  \n",
            "  inflating: food-11/testing/00/1430.jpg  \n",
            "  inflating: food-11/testing/00/1442.jpg  \n",
            "  inflating: food-11/testing/00/1445.jpg  \n",
            "  inflating: food-11/testing/00/1447.jpg  \n",
            "  inflating: food-11/testing/00/1448.jpg  \n",
            "  inflating: food-11/testing/00/1454.jpg  \n",
            "  inflating: food-11/testing/00/1458.jpg  \n",
            "  inflating: food-11/testing/00/1461.jpg  \n",
            "  inflating: food-11/testing/00/1462.jpg  \n",
            "  inflating: food-11/testing/00/1466.jpg  \n",
            "  inflating: food-11/testing/00/1467.jpg  \n",
            "  inflating: food-11/testing/00/1468.jpg  \n",
            "  inflating: food-11/testing/00/1489.jpg  \n",
            "  inflating: food-11/testing/00/1492.jpg  \n",
            "  inflating: food-11/testing/00/1493.jpg  \n",
            "  inflating: food-11/testing/00/1494.jpg  \n",
            "  inflating: food-11/testing/00/1496.jpg  \n",
            "  inflating: food-11/testing/00/1502.jpg  \n",
            "  inflating: food-11/testing/00/1512.jpg  \n",
            "  inflating: food-11/testing/00/1514.jpg  \n",
            "  inflating: food-11/testing/00/1518.jpg  \n",
            "  inflating: food-11/testing/00/1519.jpg  \n",
            "  inflating: food-11/testing/00/1523.jpg  \n",
            "  inflating: food-11/testing/00/1529.jpg  \n",
            "  inflating: food-11/testing/00/1531.jpg  \n",
            "  inflating: food-11/testing/00/1534.jpg  \n",
            "  inflating: food-11/testing/00/1537.jpg  \n",
            "  inflating: food-11/testing/00/1539.jpg  \n",
            "  inflating: food-11/testing/00/1544.jpg  \n",
            "  inflating: food-11/testing/00/1549.jpg  \n",
            "  inflating: food-11/testing/00/1563.jpg  \n",
            "  inflating: food-11/testing/00/1568.jpg  \n",
            "  inflating: food-11/testing/00/1569.jpg  \n",
            "  inflating: food-11/testing/00/1570.jpg  \n",
            "  inflating: food-11/testing/00/1572.jpg  \n",
            "  inflating: food-11/testing/00/1575.jpg  \n",
            "  inflating: food-11/testing/00/1576.jpg  \n",
            "  inflating: food-11/testing/00/1578.jpg  \n",
            "  inflating: food-11/testing/00/1581.jpg  \n",
            "  inflating: food-11/testing/00/1582.jpg  \n",
            "  inflating: food-11/testing/00/1584.jpg  \n",
            "  inflating: food-11/testing/00/1588.jpg  \n",
            "  inflating: food-11/testing/00/1590.jpg  \n",
            "  inflating: food-11/testing/00/1593.jpg  \n",
            "  inflating: food-11/testing/00/1595.jpg  \n",
            "  inflating: food-11/testing/00/1598.jpg  \n",
            "  inflating: food-11/testing/00/1601.jpg  \n",
            "  inflating: food-11/testing/00/1607.jpg  \n",
            "  inflating: food-11/testing/00/1609.jpg  \n",
            "  inflating: food-11/testing/00/1610.jpg  \n",
            "  inflating: food-11/testing/00/1615.jpg  \n",
            "  inflating: food-11/testing/00/1618.jpg  \n",
            "  inflating: food-11/testing/00/1619.jpg  \n",
            "  inflating: food-11/testing/00/1620.jpg  \n",
            "  inflating: food-11/testing/00/1622.jpg  \n",
            "  inflating: food-11/testing/00/1624.jpg  \n",
            "  inflating: food-11/testing/00/1626.jpg  \n",
            "  inflating: food-11/testing/00/1632.jpg  \n",
            "  inflating: food-11/testing/00/1635.jpg  \n",
            "  inflating: food-11/testing/00/1636.jpg  \n",
            "  inflating: food-11/testing/00/1638.jpg  \n",
            "  inflating: food-11/testing/00/1641.jpg  \n",
            "  inflating: food-11/testing/00/1642.jpg  \n",
            "  inflating: food-11/testing/00/1647.jpg  \n",
            "  inflating: food-11/testing/00/1648.jpg  \n",
            "  inflating: food-11/testing/00/1649.jpg  \n",
            "  inflating: food-11/testing/00/1654.jpg  \n",
            "  inflating: food-11/testing/00/1659.jpg  \n",
            "  inflating: food-11/testing/00/1663.jpg  \n",
            "  inflating: food-11/testing/00/1666.jpg  \n",
            "  inflating: food-11/testing/00/1682.jpg  \n",
            "  inflating: food-11/testing/00/1683.jpg  \n",
            "  inflating: food-11/testing/00/1684.jpg  \n",
            "  inflating: food-11/testing/00/1685.jpg  \n",
            "  inflating: food-11/testing/00/1688.jpg  \n",
            "  inflating: food-11/testing/00/1693.jpg  \n",
            "  inflating: food-11/testing/00/1699.jpg  \n",
            "  inflating: food-11/testing/00/1711.jpg  \n",
            "  inflating: food-11/testing/00/1712.jpg  \n",
            "  inflating: food-11/testing/00/1715.jpg  \n",
            "  inflating: food-11/testing/00/1719.jpg  \n",
            "  inflating: food-11/testing/00/1720.jpg  \n",
            "  inflating: food-11/testing/00/1723.jpg  \n",
            "  inflating: food-11/testing/00/1727.jpg  \n",
            "  inflating: food-11/testing/00/1728.jpg  \n",
            "  inflating: food-11/testing/00/1732.jpg  \n",
            "  inflating: food-11/testing/00/1736.jpg  \n",
            "  inflating: food-11/testing/00/1739.jpg  \n",
            "  inflating: food-11/testing/00/1743.jpg  \n",
            "  inflating: food-11/testing/00/1745.jpg  \n",
            "  inflating: food-11/testing/00/1746.jpg  \n",
            "  inflating: food-11/testing/00/1748.jpg  \n",
            "  inflating: food-11/testing/00/1761.jpg  \n",
            "  inflating: food-11/testing/00/1766.jpg  \n",
            "  inflating: food-11/testing/00/1768.jpg  \n",
            "  inflating: food-11/testing/00/1769.jpg  \n",
            "  inflating: food-11/testing/00/1770.jpg  \n",
            "  inflating: food-11/testing/00/1773.jpg  \n",
            "  inflating: food-11/testing/00/1776.jpg  \n",
            "  inflating: food-11/testing/00/1779.jpg  \n",
            "  inflating: food-11/testing/00/1782.jpg  \n",
            "  inflating: food-11/testing/00/1784.jpg  \n",
            "  inflating: food-11/testing/00/1789.jpg  \n",
            "  inflating: food-11/testing/00/1794.jpg  \n",
            "  inflating: food-11/testing/00/1798.jpg  \n",
            "  inflating: food-11/testing/00/1799.jpg  \n",
            "  inflating: food-11/testing/00/1800.jpg  \n",
            "  inflating: food-11/testing/00/1803.jpg  \n",
            "  inflating: food-11/testing/00/1804.jpg  \n",
            "  inflating: food-11/testing/00/1806.jpg  \n",
            "  inflating: food-11/testing/00/1809.jpg  \n",
            "  inflating: food-11/testing/00/1816.jpg  \n",
            "  inflating: food-11/testing/00/1818.jpg  \n",
            "  inflating: food-11/testing/00/1820.jpg  \n",
            "  inflating: food-11/testing/00/1822.jpg  \n",
            "  inflating: food-11/testing/00/1823.jpg  \n",
            "  inflating: food-11/testing/00/1824.jpg  \n",
            "  inflating: food-11/testing/00/1825.jpg  \n",
            "  inflating: food-11/testing/00/1826.jpg  \n",
            "  inflating: food-11/testing/00/1828.jpg  \n",
            "  inflating: food-11/testing/00/1830.jpg  \n",
            "  inflating: food-11/testing/00/1841.jpg  \n",
            "  inflating: food-11/testing/00/1843.jpg  \n",
            "  inflating: food-11/testing/00/1844.jpg  \n",
            "  inflating: food-11/testing/00/1863.jpg  \n",
            "  inflating: food-11/testing/00/1864.jpg  \n",
            "  inflating: food-11/testing/00/1866.jpg  \n",
            "  inflating: food-11/testing/00/1869.jpg  \n",
            "  inflating: food-11/testing/00/1875.jpg  \n",
            "  inflating: food-11/testing/00/1883.jpg  \n",
            "  inflating: food-11/testing/00/1884.jpg  \n",
            "  inflating: food-11/testing/00/1889.jpg  \n",
            "  inflating: food-11/testing/00/1892.jpg  \n",
            "  inflating: food-11/testing/00/1894.jpg  \n",
            "  inflating: food-11/testing/00/1895.jpg  \n",
            "  inflating: food-11/testing/00/1897.jpg  \n",
            "  inflating: food-11/testing/00/1907.jpg  \n",
            "  inflating: food-11/testing/00/1910.jpg  \n",
            "  inflating: food-11/testing/00/1914.jpg  \n",
            "  inflating: food-11/testing/00/1916.jpg  \n",
            "  inflating: food-11/testing/00/1927.jpg  \n",
            "  inflating: food-11/testing/00/1928.jpg  \n",
            "  inflating: food-11/testing/00/1929.jpg  \n",
            "  inflating: food-11/testing/00/1930.jpg  \n",
            "  inflating: food-11/testing/00/1931.jpg  \n",
            "  inflating: food-11/testing/00/1936.jpg  \n",
            "  inflating: food-11/testing/00/1944.jpg  \n",
            "  inflating: food-11/testing/00/1947.jpg  \n",
            "  inflating: food-11/testing/00/1950.jpg  \n",
            "  inflating: food-11/testing/00/1952.jpg  \n",
            "  inflating: food-11/testing/00/1953.jpg  \n",
            "  inflating: food-11/testing/00/1960.jpg  \n",
            "  inflating: food-11/testing/00/1961.jpg  \n",
            "  inflating: food-11/testing/00/1964.jpg  \n",
            "  inflating: food-11/testing/00/1965.jpg  \n",
            "  inflating: food-11/testing/00/1976.jpg  \n",
            "  inflating: food-11/testing/00/1978.jpg  \n",
            "  inflating: food-11/testing/00/1981.jpg  \n",
            "  inflating: food-11/testing/00/1985.jpg  \n",
            "  inflating: food-11/testing/00/1992.jpg  \n",
            "  inflating: food-11/testing/00/1998.jpg  \n",
            "  inflating: food-11/testing/00/2001.jpg  \n",
            "  inflating: food-11/testing/00/2004.jpg  \n",
            "  inflating: food-11/testing/00/2006.jpg  \n",
            "  inflating: food-11/testing/00/2008.jpg  \n",
            "  inflating: food-11/testing/00/2011.jpg  \n",
            "  inflating: food-11/testing/00/2013.jpg  \n",
            "  inflating: food-11/testing/00/2014.jpg  \n",
            "  inflating: food-11/testing/00/2018.jpg  \n",
            "  inflating: food-11/testing/00/2022.jpg  \n",
            "  inflating: food-11/testing/00/2028.jpg  \n",
            "  inflating: food-11/testing/00/2033.jpg  \n",
            "  inflating: food-11/testing/00/2035.jpg  \n",
            "  inflating: food-11/testing/00/2037.jpg  \n",
            "  inflating: food-11/testing/00/2040.jpg  \n",
            "  inflating: food-11/testing/00/2045.jpg  \n",
            "  inflating: food-11/testing/00/2048.jpg  \n",
            "  inflating: food-11/testing/00/2050.jpg  \n",
            "  inflating: food-11/testing/00/2054.jpg  \n",
            "  inflating: food-11/testing/00/2055.jpg  \n",
            "  inflating: food-11/testing/00/2057.jpg  \n",
            "  inflating: food-11/testing/00/2061.jpg  \n",
            "  inflating: food-11/testing/00/2069.jpg  \n",
            "  inflating: food-11/testing/00/2074.jpg  \n",
            "  inflating: food-11/testing/00/2075.jpg  \n",
            "  inflating: food-11/testing/00/2076.jpg  \n",
            "  inflating: food-11/testing/00/2077.jpg  \n",
            "  inflating: food-11/testing/00/2080.jpg  \n",
            "  inflating: food-11/testing/00/2082.jpg  \n",
            "  inflating: food-11/testing/00/2083.jpg  \n",
            "  inflating: food-11/testing/00/2087.jpg  \n",
            "  inflating: food-11/testing/00/2089.jpg  \n",
            "  inflating: food-11/testing/00/2099.jpg  \n",
            "  inflating: food-11/testing/00/2102.jpg  \n",
            "  inflating: food-11/testing/00/2109.jpg  \n",
            "  inflating: food-11/testing/00/2110.jpg  \n",
            "  inflating: food-11/testing/00/2115.jpg  \n",
            "  inflating: food-11/testing/00/2116.jpg  \n",
            "  inflating: food-11/testing/00/2117.jpg  \n",
            "  inflating: food-11/testing/00/2121.jpg  \n",
            "  inflating: food-11/testing/00/2122.jpg  \n",
            "  inflating: food-11/testing/00/2128.jpg  \n",
            "  inflating: food-11/testing/00/2132.jpg  \n",
            "  inflating: food-11/testing/00/2139.jpg  \n",
            "  inflating: food-11/testing/00/2140.jpg  \n",
            "  inflating: food-11/testing/00/2142.jpg  \n",
            "  inflating: food-11/testing/00/2145.jpg  \n",
            "  inflating: food-11/testing/00/2149.jpg  \n",
            "  inflating: food-11/testing/00/2151.jpg  \n",
            "  inflating: food-11/testing/00/2161.jpg  \n",
            "  inflating: food-11/testing/00/2164.jpg  \n",
            "  inflating: food-11/testing/00/2180.jpg  \n",
            "  inflating: food-11/testing/00/2181.jpg  \n",
            "  inflating: food-11/testing/00/2186.jpg  \n",
            "  inflating: food-11/testing/00/2187.jpg  \n",
            "  inflating: food-11/testing/00/2189.jpg  \n",
            "  inflating: food-11/testing/00/2195.jpg  \n",
            "  inflating: food-11/testing/00/2207.jpg  \n",
            "  inflating: food-11/testing/00/2208.jpg  \n",
            "  inflating: food-11/testing/00/2210.jpg  \n",
            "  inflating: food-11/testing/00/2217.jpg  \n",
            "  inflating: food-11/testing/00/2221.jpg  \n",
            "  inflating: food-11/testing/00/2222.jpg  \n",
            "  inflating: food-11/testing/00/2224.jpg  \n",
            "  inflating: food-11/testing/00/2225.jpg  \n",
            "  inflating: food-11/testing/00/2231.jpg  \n",
            "  inflating: food-11/testing/00/2241.jpg  \n",
            "  inflating: food-11/testing/00/2252.jpg  \n",
            "  inflating: food-11/testing/00/2255.jpg  \n",
            "  inflating: food-11/testing/00/2257.jpg  \n",
            "  inflating: food-11/testing/00/2258.jpg  \n",
            "  inflating: food-11/testing/00/2261.jpg  \n",
            "  inflating: food-11/testing/00/2262.jpg  \n",
            "  inflating: food-11/testing/00/2264.jpg  \n",
            "  inflating: food-11/testing/00/2268.jpg  \n",
            "  inflating: food-11/testing/00/2269.jpg  \n",
            "  inflating: food-11/testing/00/2272.jpg  \n",
            "  inflating: food-11/testing/00/2275.jpg  \n",
            "  inflating: food-11/testing/00/2279.jpg  \n",
            "  inflating: food-11/testing/00/2281.jpg  \n",
            "  inflating: food-11/testing/00/2282.jpg  \n",
            "  inflating: food-11/testing/00/2283.jpg  \n",
            "  inflating: food-11/testing/00/2284.jpg  \n",
            "  inflating: food-11/testing/00/2288.jpg  \n",
            "  inflating: food-11/testing/00/2290.jpg  \n",
            "  inflating: food-11/testing/00/2292.jpg  \n",
            "  inflating: food-11/testing/00/2295.jpg  \n",
            "  inflating: food-11/testing/00/2302.jpg  \n",
            "  inflating: food-11/testing/00/2305.jpg  \n",
            "  inflating: food-11/testing/00/2307.jpg  \n",
            "  inflating: food-11/testing/00/2309.jpg  \n",
            "  inflating: food-11/testing/00/2310.jpg  \n",
            "  inflating: food-11/testing/00/2316.jpg  \n",
            "  inflating: food-11/testing/00/2317.jpg  \n",
            "  inflating: food-11/testing/00/2319.jpg  \n",
            "  inflating: food-11/testing/00/2329.jpg  \n",
            "  inflating: food-11/testing/00/2330.jpg  \n",
            "  inflating: food-11/testing/00/2332.jpg  \n",
            "  inflating: food-11/testing/00/2337.jpg  \n",
            "  inflating: food-11/testing/00/2341.jpg  \n",
            "  inflating: food-11/testing/00/2342.jpg  \n",
            "  inflating: food-11/testing/00/2345.jpg  \n",
            "  inflating: food-11/testing/00/2346.jpg  \n",
            "  inflating: food-11/testing/00/2347.jpg  \n",
            "  inflating: food-11/testing/00/2353.jpg  \n",
            "  inflating: food-11/testing/00/2355.jpg  \n",
            "  inflating: food-11/testing/00/2360.jpg  \n",
            "  inflating: food-11/testing/00/2363.jpg  \n",
            "  inflating: food-11/testing/00/2364.jpg  \n",
            "  inflating: food-11/testing/00/2367.jpg  \n",
            "  inflating: food-11/testing/00/2370.jpg  \n",
            "  inflating: food-11/testing/00/2371.jpg  \n",
            "  inflating: food-11/testing/00/2374.jpg  \n",
            "  inflating: food-11/testing/00/2376.jpg  \n",
            "  inflating: food-11/testing/00/2377.jpg  \n",
            "  inflating: food-11/testing/00/2378.jpg  \n",
            "  inflating: food-11/testing/00/2384.jpg  \n",
            "  inflating: food-11/testing/00/2385.jpg  \n",
            "  inflating: food-11/testing/00/2387.jpg  \n",
            "  inflating: food-11/testing/00/2388.jpg  \n",
            "  inflating: food-11/testing/00/2389.jpg  \n",
            "  inflating: food-11/testing/00/2392.jpg  \n",
            "  inflating: food-11/testing/00/2393.jpg  \n",
            "  inflating: food-11/testing/00/2395.jpg  \n",
            "  inflating: food-11/testing/00/2396.jpg  \n",
            "  inflating: food-11/testing/00/2397.jpg  \n",
            "  inflating: food-11/testing/00/2399.jpg  \n",
            "  inflating: food-11/testing/00/2401.jpg  \n",
            "  inflating: food-11/testing/00/2405.jpg  \n",
            "  inflating: food-11/testing/00/2410.jpg  \n",
            "  inflating: food-11/testing/00/2411.jpg  \n",
            "  inflating: food-11/testing/00/2412.jpg  \n",
            "  inflating: food-11/testing/00/2414.jpg  \n",
            "  inflating: food-11/testing/00/2418.jpg  \n",
            "  inflating: food-11/testing/00/2423.jpg  \n",
            "  inflating: food-11/testing/00/2424.jpg  \n",
            "  inflating: food-11/testing/00/2430.jpg  \n",
            "  inflating: food-11/testing/00/2431.jpg  \n",
            "  inflating: food-11/testing/00/2435.jpg  \n",
            "  inflating: food-11/testing/00/2438.jpg  \n",
            "  inflating: food-11/testing/00/2439.jpg  \n",
            "  inflating: food-11/testing/00/2441.jpg  \n",
            "  inflating: food-11/testing/00/2445.jpg  \n",
            "  inflating: food-11/testing/00/2454.jpg  \n",
            "  inflating: food-11/testing/00/2456.jpg  \n",
            "  inflating: food-11/testing/00/2460.jpg  \n",
            "  inflating: food-11/testing/00/2464.jpg  \n",
            "  inflating: food-11/testing/00/2465.jpg  \n",
            "  inflating: food-11/testing/00/2467.jpg  \n",
            "  inflating: food-11/testing/00/2473.jpg  \n",
            "  inflating: food-11/testing/00/2477.jpg  \n",
            "  inflating: food-11/testing/00/2479.jpg  \n",
            "  inflating: food-11/testing/00/2480.jpg  \n",
            "  inflating: food-11/testing/00/2482.jpg  \n",
            "  inflating: food-11/testing/00/2483.jpg  \n",
            "  inflating: food-11/testing/00/2486.jpg  \n",
            "  inflating: food-11/testing/00/2487.jpg  \n",
            "  inflating: food-11/testing/00/2490.jpg  \n",
            "  inflating: food-11/testing/00/2494.jpg  \n",
            "  inflating: food-11/testing/00/2497.jpg  \n",
            "  inflating: food-11/testing/00/2506.jpg  \n",
            "  inflating: food-11/testing/00/2509.jpg  \n",
            "  inflating: food-11/testing/00/2514.jpg  \n",
            "  inflating: food-11/testing/00/2521.jpg  \n",
            "  inflating: food-11/testing/00/2530.jpg  \n",
            "  inflating: food-11/testing/00/2531.jpg  \n",
            "  inflating: food-11/testing/00/2540.jpg  \n",
            "  inflating: food-11/testing/00/2544.jpg  \n",
            "  inflating: food-11/testing/00/2545.jpg  \n",
            "  inflating: food-11/testing/00/2546.jpg  \n",
            "  inflating: food-11/testing/00/2548.jpg  \n",
            "  inflating: food-11/testing/00/2554.jpg  \n",
            "  inflating: food-11/testing/00/2558.jpg  \n",
            "  inflating: food-11/testing/00/2559.jpg  \n",
            "  inflating: food-11/testing/00/2563.jpg  \n",
            "  inflating: food-11/testing/00/2564.jpg  \n",
            "  inflating: food-11/testing/00/2565.jpg  \n",
            "  inflating: food-11/testing/00/2571.jpg  \n",
            "  inflating: food-11/testing/00/2572.jpg  \n",
            "  inflating: food-11/testing/00/2573.jpg  \n",
            "  inflating: food-11/testing/00/2577.jpg  \n",
            "  inflating: food-11/testing/00/2580.jpg  \n",
            "  inflating: food-11/testing/00/2581.jpg  \n",
            "  inflating: food-11/testing/00/2584.jpg  \n",
            "  inflating: food-11/testing/00/2592.jpg  \n",
            "  inflating: food-11/testing/00/2593.jpg  \n",
            "  inflating: food-11/testing/00/2595.jpg  \n",
            "  inflating: food-11/testing/00/2596.jpg  \n",
            "  inflating: food-11/testing/00/2598.jpg  \n",
            "  inflating: food-11/testing/00/2602.jpg  \n",
            "  inflating: food-11/testing/00/2605.jpg  \n",
            "  inflating: food-11/testing/00/2610.jpg  \n",
            "  inflating: food-11/testing/00/2612.jpg  \n",
            "  inflating: food-11/testing/00/2613.jpg  \n",
            "  inflating: food-11/testing/00/2616.jpg  \n",
            "  inflating: food-11/testing/00/2622.jpg  \n",
            "  inflating: food-11/testing/00/2626.jpg  \n",
            "  inflating: food-11/testing/00/2632.jpg  \n",
            "  inflating: food-11/testing/00/2638.jpg  \n",
            "  inflating: food-11/testing/00/2642.jpg  \n",
            "  inflating: food-11/testing/00/2647.jpg  \n",
            "  inflating: food-11/testing/00/2649.jpg  \n",
            "  inflating: food-11/testing/00/2656.jpg  \n",
            "  inflating: food-11/testing/00/2658.jpg  \n",
            "  inflating: food-11/testing/00/2664.jpg  \n",
            "  inflating: food-11/testing/00/2666.jpg  \n",
            "  inflating: food-11/testing/00/2670.jpg  \n",
            "  inflating: food-11/testing/00/2672.jpg  \n",
            "  inflating: food-11/testing/00/2674.jpg  \n",
            "  inflating: food-11/testing/00/2675.jpg  \n",
            "  inflating: food-11/testing/00/2678.jpg  \n",
            "  inflating: food-11/testing/00/2679.jpg  \n",
            "  inflating: food-11/testing/00/2685.jpg  \n",
            "  inflating: food-11/testing/00/2690.jpg  \n",
            "  inflating: food-11/testing/00/2695.jpg  \n",
            "  inflating: food-11/testing/00/2709.jpg  \n",
            "  inflating: food-11/testing/00/2713.jpg  \n",
            "  inflating: food-11/testing/00/2720.jpg  \n",
            "  inflating: food-11/testing/00/2722.jpg  \n",
            "  inflating: food-11/testing/00/2723.jpg  \n",
            "  inflating: food-11/testing/00/2727.jpg  \n",
            "  inflating: food-11/testing/00/2728.jpg  \n",
            "  inflating: food-11/testing/00/2730.jpg  \n",
            "  inflating: food-11/testing/00/2732.jpg  \n",
            "  inflating: food-11/testing/00/2734.jpg  \n",
            "  inflating: food-11/testing/00/2743.jpg  \n",
            "  inflating: food-11/testing/00/2749.jpg  \n",
            "  inflating: food-11/testing/00/2751.jpg  \n",
            "  inflating: food-11/testing/00/2752.jpg  \n",
            "  inflating: food-11/testing/00/2753.jpg  \n",
            "  inflating: food-11/testing/00/2758.jpg  \n",
            "  inflating: food-11/testing/00/2760.jpg  \n",
            "  inflating: food-11/testing/00/2766.jpg  \n",
            "  inflating: food-11/testing/00/2774.jpg  \n",
            "  inflating: food-11/testing/00/2775.jpg  \n",
            "  inflating: food-11/testing/00/2786.jpg  \n",
            "  inflating: food-11/testing/00/2788.jpg  \n",
            "  inflating: food-11/testing/00/2790.jpg  \n",
            "  inflating: food-11/testing/00/2791.jpg  \n",
            "  inflating: food-11/testing/00/2794.jpg  \n",
            "  inflating: food-11/testing/00/2796.jpg  \n",
            "  inflating: food-11/testing/00/2797.jpg  \n",
            "  inflating: food-11/testing/00/2799.jpg  \n",
            "  inflating: food-11/testing/00/2803.jpg  \n",
            "  inflating: food-11/testing/00/2804.jpg  \n",
            "  inflating: food-11/testing/00/2807.jpg  \n",
            "  inflating: food-11/testing/00/2808.jpg  \n",
            "  inflating: food-11/testing/00/2809.jpg  \n",
            "  inflating: food-11/testing/00/2810.jpg  \n",
            "  inflating: food-11/testing/00/2813.jpg  \n",
            "  inflating: food-11/testing/00/2816.jpg  \n",
            "  inflating: food-11/testing/00/2821.jpg  \n",
            "  inflating: food-11/testing/00/2828.jpg  \n",
            "  inflating: food-11/testing/00/2830.jpg  \n",
            "  inflating: food-11/testing/00/2834.jpg  \n",
            "  inflating: food-11/testing/00/2836.jpg  \n",
            "  inflating: food-11/testing/00/2844.jpg  \n",
            "  inflating: food-11/testing/00/2845.jpg  \n",
            "  inflating: food-11/testing/00/2846.jpg  \n",
            "  inflating: food-11/testing/00/2851.jpg  \n",
            "  inflating: food-11/testing/00/2853.jpg  \n",
            "  inflating: food-11/testing/00/2855.jpg  \n",
            "  inflating: food-11/testing/00/2856.jpg  \n",
            "  inflating: food-11/testing/00/2857.jpg  \n",
            "  inflating: food-11/testing/00/2858.jpg  \n",
            "  inflating: food-11/testing/00/2859.jpg  \n",
            "  inflating: food-11/testing/00/2862.jpg  \n",
            "  inflating: food-11/testing/00/2868.jpg  \n",
            "  inflating: food-11/testing/00/2870.jpg  \n",
            "  inflating: food-11/testing/00/2872.jpg  \n",
            "  inflating: food-11/testing/00/2879.jpg  \n",
            "  inflating: food-11/testing/00/2882.jpg  \n",
            "  inflating: food-11/testing/00/2884.jpg  \n",
            "  inflating: food-11/testing/00/2888.jpg  \n",
            "  inflating: food-11/testing/00/2889.jpg  \n",
            "  inflating: food-11/testing/00/2891.jpg  \n",
            "  inflating: food-11/testing/00/2893.jpg  \n",
            "  inflating: food-11/testing/00/2901.jpg  \n",
            "  inflating: food-11/testing/00/2902.jpg  \n",
            "  inflating: food-11/testing/00/2907.jpg  \n",
            "  inflating: food-11/testing/00/2915.jpg  \n",
            "  inflating: food-11/testing/00/2916.jpg  \n",
            "  inflating: food-11/testing/00/2919.jpg  \n",
            "  inflating: food-11/testing/00/2925.jpg  \n",
            "  inflating: food-11/testing/00/2926.jpg  \n",
            "  inflating: food-11/testing/00/2927.jpg  \n",
            "  inflating: food-11/testing/00/2928.jpg  \n",
            "  inflating: food-11/testing/00/2937.jpg  \n",
            "  inflating: food-11/testing/00/2939.jpg  \n",
            "  inflating: food-11/testing/00/2940.jpg  \n",
            "  inflating: food-11/testing/00/2942.jpg  \n",
            "  inflating: food-11/testing/00/2946.jpg  \n",
            "  inflating: food-11/testing/00/2949.jpg  \n",
            "  inflating: food-11/testing/00/2952.jpg  \n",
            "  inflating: food-11/testing/00/2953.jpg  \n",
            "  inflating: food-11/testing/00/2955.jpg  \n",
            "  inflating: food-11/testing/00/2957.jpg  \n",
            "  inflating: food-11/testing/00/2962.jpg  \n",
            "  inflating: food-11/testing/00/2963.jpg  \n",
            "  inflating: food-11/testing/00/2965.jpg  \n",
            "  inflating: food-11/testing/00/2966.jpg  \n",
            "  inflating: food-11/testing/00/2972.jpg  \n",
            "  inflating: food-11/testing/00/2973.jpg  \n",
            "  inflating: food-11/testing/00/2975.jpg  \n",
            "  inflating: food-11/testing/00/2978.jpg  \n",
            "  inflating: food-11/testing/00/2984.jpg  \n",
            "  inflating: food-11/testing/00/2985.jpg  \n",
            "  inflating: food-11/testing/00/2996.jpg  \n",
            "  inflating: food-11/testing/00/3000.jpg  \n",
            "  inflating: food-11/testing/00/3009.jpg  \n",
            "  inflating: food-11/testing/00/3015.jpg  \n",
            "  inflating: food-11/testing/00/3016.jpg  \n",
            "  inflating: food-11/testing/00/3017.jpg  \n",
            "  inflating: food-11/testing/00/3025.jpg  \n",
            "  inflating: food-11/testing/00/3029.jpg  \n",
            "  inflating: food-11/testing/00/3032.jpg  \n",
            "  inflating: food-11/testing/00/3036.jpg  \n",
            "  inflating: food-11/testing/00/3040.jpg  \n",
            "  inflating: food-11/testing/00/3041.jpg  \n",
            "  inflating: food-11/testing/00/3042.jpg  \n",
            "  inflating: food-11/testing/00/3044.jpg  \n",
            "  inflating: food-11/testing/00/3049.jpg  \n",
            "  inflating: food-11/testing/00/3053.jpg  \n",
            "  inflating: food-11/testing/00/3055.jpg  \n",
            "  inflating: food-11/testing/00/3056.jpg  \n",
            "  inflating: food-11/testing/00/3057.jpg  \n",
            "  inflating: food-11/testing/00/3058.jpg  \n",
            "  inflating: food-11/testing/00/3060.jpg  \n",
            "  inflating: food-11/testing/00/3061.jpg  \n",
            "  inflating: food-11/testing/00/3066.jpg  \n",
            "  inflating: food-11/testing/00/3072.jpg  \n",
            "  inflating: food-11/testing/00/3075.jpg  \n",
            "  inflating: food-11/testing/00/3079.jpg  \n",
            "  inflating: food-11/testing/00/3082.jpg  \n",
            "  inflating: food-11/testing/00/3086.jpg  \n",
            "  inflating: food-11/testing/00/3087.jpg  \n",
            "  inflating: food-11/testing/00/3089.jpg  \n",
            "  inflating: food-11/testing/00/3100.jpg  \n",
            "  inflating: food-11/testing/00/3101.jpg  \n",
            "  inflating: food-11/testing/00/3102.jpg  \n",
            "  inflating: food-11/testing/00/3104.jpg  \n",
            "  inflating: food-11/testing/00/3105.jpg  \n",
            "  inflating: food-11/testing/00/3113.jpg  \n",
            "  inflating: food-11/testing/00/3129.jpg  \n",
            "  inflating: food-11/testing/00/3131.jpg  \n",
            "  inflating: food-11/testing/00/3134.jpg  \n",
            "  inflating: food-11/testing/00/3136.jpg  \n",
            "  inflating: food-11/testing/00/3138.jpg  \n",
            "  inflating: food-11/testing/00/3139.jpg  \n",
            "  inflating: food-11/testing/00/3142.jpg  \n",
            "  inflating: food-11/testing/00/3143.jpg  \n",
            "  inflating: food-11/testing/00/3151.jpg  \n",
            "  inflating: food-11/testing/00/3155.jpg  \n",
            "  inflating: food-11/testing/00/3160.jpg  \n",
            "  inflating: food-11/testing/00/3168.jpg  \n",
            "  inflating: food-11/testing/00/3170.jpg  \n",
            "  inflating: food-11/testing/00/3174.jpg  \n",
            "  inflating: food-11/testing/00/3178.jpg  \n",
            "  inflating: food-11/testing/00/3179.jpg  \n",
            "  inflating: food-11/testing/00/3180.jpg  \n",
            "  inflating: food-11/testing/00/3184.jpg  \n",
            "  inflating: food-11/testing/00/3194.jpg  \n",
            "  inflating: food-11/testing/00/3195.jpg  \n",
            "  inflating: food-11/testing/00/3196.jpg  \n",
            "  inflating: food-11/testing/00/3203.jpg  \n",
            "  inflating: food-11/testing/00/3216.jpg  \n",
            "  inflating: food-11/testing/00/3218.jpg  \n",
            "  inflating: food-11/testing/00/3219.jpg  \n",
            "  inflating: food-11/testing/00/3221.jpg  \n",
            "  inflating: food-11/testing/00/3222.jpg  \n",
            "  inflating: food-11/testing/00/3224.jpg  \n",
            "  inflating: food-11/testing/00/3227.jpg  \n",
            "  inflating: food-11/testing/00/3230.jpg  \n",
            "  inflating: food-11/testing/00/3231.jpg  \n",
            "  inflating: food-11/testing/00/3238.jpg  \n",
            "  inflating: food-11/testing/00/3242.jpg  \n",
            "  inflating: food-11/testing/00/3243.jpg  \n",
            "  inflating: food-11/testing/00/3244.jpg  \n",
            "  inflating: food-11/testing/00/3246.jpg  \n",
            "  inflating: food-11/testing/00/3247.jpg  \n",
            "  inflating: food-11/testing/00/3250.jpg  \n",
            "  inflating: food-11/testing/00/3254.jpg  \n",
            "  inflating: food-11/testing/00/3258.jpg  \n",
            "  inflating: food-11/testing/00/3261.jpg  \n",
            "  inflating: food-11/testing/00/3263.jpg  \n",
            "  inflating: food-11/testing/00/3267.jpg  \n",
            "  inflating: food-11/testing/00/3268.jpg  \n",
            "  inflating: food-11/testing/00/3272.jpg  \n",
            "  inflating: food-11/testing/00/3274.jpg  \n",
            "  inflating: food-11/testing/00/3275.jpg  \n",
            "  inflating: food-11/testing/00/3281.jpg  \n",
            "  inflating: food-11/testing/00/3294.jpg  \n",
            "  inflating: food-11/testing/00/3297.jpg  \n",
            "  inflating: food-11/testing/00/3298.jpg  \n",
            "  inflating: food-11/testing/00/3303.jpg  \n",
            "  inflating: food-11/testing/00/3306.jpg  \n",
            "  inflating: food-11/testing/00/3307.jpg  \n",
            "  inflating: food-11/testing/00/3309.jpg  \n",
            "  inflating: food-11/testing/00/3318.jpg  \n",
            "  inflating: food-11/testing/00/3319.jpg  \n",
            "  inflating: food-11/testing/00/3320.jpg  \n",
            "  inflating: food-11/testing/00/3326.jpg  \n",
            "  inflating: food-11/testing/00/3329.jpg  \n",
            "  inflating: food-11/testing/00/3335.jpg  \n",
            "  inflating: food-11/testing/00/3340.jpg  \n",
            "  inflating: food-11/testing/00/3344.jpg  \n",
            "  inflating: food-11/testing/00/3345.jpg  \n",
            "  inflating: food-11/testing/00/0002.jpg  \n",
            "  inflating: food-11/testing/00/0003.jpg  \n",
            "  inflating: food-11/testing/00/0004.jpg  \n",
            "  inflating: food-11/testing/00/0005.jpg  \n",
            "  inflating: food-11/testing/00/0007.jpg  \n",
            "  inflating: food-11/testing/00/0014.jpg  \n",
            "  inflating: food-11/testing/00/0017.jpg  \n",
            "  inflating: food-11/testing/00/0023.jpg  \n",
            "  inflating: food-11/testing/00/0027.jpg  \n",
            "  inflating: food-11/testing/00/0032.jpg  \n",
            "  inflating: food-11/testing/00/0035.jpg  \n",
            "  inflating: food-11/testing/00/0036.jpg  \n",
            "  inflating: food-11/testing/00/0048.jpg  \n",
            "  inflating: food-11/testing/00/0050.jpg  \n",
            "  inflating: food-11/testing/00/0052.jpg  \n",
            "  inflating: food-11/testing/00/0061.jpg  \n",
            "  inflating: food-11/testing/00/0069.jpg  \n",
            "  inflating: food-11/testing/00/0070.jpg  \n",
            "  inflating: food-11/testing/00/0074.jpg  \n",
            "  inflating: food-11/testing/00/0077.jpg  \n",
            "  inflating: food-11/testing/00/0078.jpg  \n",
            "  inflating: food-11/testing/00/0080.jpg  \n",
            "  inflating: food-11/testing/00/0082.jpg  \n",
            "  inflating: food-11/testing/00/0085.jpg  \n",
            "  inflating: food-11/testing/00/0086.jpg  \n",
            "  inflating: food-11/testing/00/0089.jpg  \n",
            "  inflating: food-11/testing/00/0092.jpg  \n",
            "  inflating: food-11/testing/00/0094.jpg  \n",
            "  inflating: food-11/testing/00/0103.jpg  \n",
            "  inflating: food-11/testing/00/0110.jpg  \n",
            "  inflating: food-11/testing/00/0113.jpg  \n",
            "  inflating: food-11/testing/00/0117.jpg  \n",
            "  inflating: food-11/testing/00/0120.jpg  \n",
            "  inflating: food-11/testing/00/0123.jpg  \n",
            "  inflating: food-11/testing/00/0124.jpg  \n",
            "  inflating: food-11/testing/00/0128.jpg  \n",
            "  inflating: food-11/testing/00/0138.jpg  \n",
            "  inflating: food-11/testing/00/0149.jpg  \n",
            "  inflating: food-11/testing/00/0151.jpg  \n",
            "  inflating: food-11/testing/00/0154.jpg  \n",
            "  inflating: food-11/testing/00/0156.jpg  \n",
            "  inflating: food-11/testing/00/0158.jpg  \n",
            "  inflating: food-11/testing/00/0159.jpg  \n",
            "  inflating: food-11/testing/00/0170.jpg  \n",
            "  inflating: food-11/testing/00/0171.jpg  \n",
            "  inflating: food-11/testing/00/0172.jpg  \n",
            "  inflating: food-11/testing/00/0177.jpg  \n",
            "  inflating: food-11/testing/00/0178.jpg  \n",
            "  inflating: food-11/testing/00/0179.jpg  \n",
            "  inflating: food-11/testing/00/0181.jpg  \n",
            "  inflating: food-11/testing/00/0182.jpg  \n",
            "  inflating: food-11/testing/00/0184.jpg  \n",
            "  inflating: food-11/testing/00/0192.jpg  \n",
            "  inflating: food-11/testing/00/0193.jpg  \n",
            "  inflating: food-11/testing/00/0195.jpg  \n",
            "  inflating: food-11/testing/00/0197.jpg  \n",
            "  inflating: food-11/testing/00/0198.jpg  \n",
            "  inflating: food-11/testing/00/0200.jpg  \n",
            "  inflating: food-11/testing/00/0201.jpg  \n",
            "  inflating: food-11/testing/00/0205.jpg  \n",
            "  inflating: food-11/testing/00/0206.jpg  \n",
            "  inflating: food-11/testing/00/0213.jpg  \n",
            "  inflating: food-11/testing/00/0214.jpg  \n",
            "  inflating: food-11/testing/00/0216.jpg  \n",
            "  inflating: food-11/testing/00/0218.jpg  \n",
            "  inflating: food-11/testing/00/0221.jpg  \n",
            "  inflating: food-11/testing/00/0223.jpg  \n",
            "  inflating: food-11/testing/00/0227.jpg  \n",
            "  inflating: food-11/testing/00/0228.jpg  \n",
            "  inflating: food-11/testing/00/0236.jpg  \n",
            "  inflating: food-11/testing/00/0240.jpg  \n",
            "  inflating: food-11/testing/00/0243.jpg  \n",
            "  inflating: food-11/testing/00/0244.jpg  \n",
            "  inflating: food-11/testing/00/0246.jpg  \n",
            "  inflating: food-11/testing/00/0247.jpg  \n",
            "  inflating: food-11/testing/00/0250.jpg  \n",
            "  inflating: food-11/testing/00/0251.jpg  \n",
            "  inflating: food-11/testing/00/0258.jpg  \n",
            "  inflating: food-11/testing/00/0262.jpg  \n",
            "  inflating: food-11/testing/00/0263.jpg  \n",
            "  inflating: food-11/testing/00/0264.jpg  \n",
            "  inflating: food-11/testing/00/0265.jpg  \n",
            "  inflating: food-11/testing/00/0268.jpg  \n",
            "  inflating: food-11/testing/00/0270.jpg  \n",
            "  inflating: food-11/testing/00/0272.jpg  \n",
            "  inflating: food-11/testing/00/0275.jpg  \n",
            "  inflating: food-11/testing/00/0278.jpg  \n",
            "  inflating: food-11/testing/00/0279.jpg  \n",
            "  inflating: food-11/testing/00/0284.jpg  \n",
            "  inflating: food-11/testing/00/0287.jpg  \n",
            "  inflating: food-11/testing/00/0289.jpg  \n",
            "  inflating: food-11/testing/00/0292.jpg  \n",
            "  inflating: food-11/testing/00/0298.jpg  \n",
            "  inflating: food-11/testing/00/0299.jpg  \n",
            "  inflating: food-11/testing/00/0300.jpg  \n",
            "  inflating: food-11/testing/00/0301.jpg  \n",
            "  inflating: food-11/testing/00/0304.jpg  \n",
            "  inflating: food-11/testing/00/0305.jpg  \n",
            "  inflating: food-11/testing/00/0314.jpg  \n",
            "  inflating: food-11/testing/00/0317.jpg  \n",
            "  inflating: food-11/testing/00/0322.jpg  \n",
            "  inflating: food-11/testing/00/0325.jpg  \n",
            "  inflating: food-11/testing/00/0326.jpg  \n",
            "  inflating: food-11/testing/00/0327.jpg  \n",
            "  inflating: food-11/testing/00/0330.jpg  \n",
            "  inflating: food-11/testing/00/0331.jpg  \n",
            "  inflating: food-11/testing/00/0337.jpg  \n",
            "  inflating: food-11/testing/00/0339.jpg  \n",
            "  inflating: food-11/testing/00/0346.jpg  \n",
            "  inflating: food-11/testing/00/0347.jpg  \n",
            "  inflating: food-11/testing/00/0351.jpg  \n",
            "  inflating: food-11/testing/00/0352.jpg  \n",
            "  inflating: food-11/testing/00/0355.jpg  \n",
            "  inflating: food-11/testing/00/0359.jpg  \n",
            "  inflating: food-11/testing/00/0366.jpg  \n",
            "  inflating: food-11/testing/00/0369.jpg  \n",
            "  inflating: food-11/testing/00/0371.jpg  \n",
            "  inflating: food-11/testing/00/0375.jpg  \n",
            "  inflating: food-11/testing/00/0377.jpg  \n",
            "  inflating: food-11/testing/00/0381.jpg  \n",
            "  inflating: food-11/testing/00/0383.jpg  \n",
            "  inflating: food-11/testing/00/0385.jpg  \n",
            "  inflating: food-11/testing/00/0388.jpg  \n",
            "  inflating: food-11/testing/00/0391.jpg  \n",
            "  inflating: food-11/testing/00/0395.jpg  \n",
            "  inflating: food-11/testing/00/0410.jpg  \n",
            "  inflating: food-11/testing/00/0413.jpg  \n",
            "  inflating: food-11/testing/00/0418.jpg  \n",
            "  inflating: food-11/testing/00/0419.jpg  \n",
            "  inflating: food-11/testing/00/0420.jpg  \n",
            "  inflating: food-11/testing/00/0424.jpg  \n",
            "  inflating: food-11/testing/00/0433.jpg  \n",
            "  inflating: food-11/testing/00/0434.jpg  \n",
            "  inflating: food-11/testing/00/0435.jpg  \n",
            "  inflating: food-11/testing/00/0439.jpg  \n",
            "  inflating: food-11/testing/00/0446.jpg  \n",
            "  inflating: food-11/testing/00/0449.jpg  \n",
            "  inflating: food-11/testing/00/0453.jpg  \n",
            "  inflating: food-11/testing/00/0456.jpg  \n",
            "  inflating: food-11/testing/00/0457.jpg  \n",
            "  inflating: food-11/testing/00/0464.jpg  \n",
            "  inflating: food-11/testing/00/0468.jpg  \n",
            "  inflating: food-11/testing/00/0473.jpg  \n",
            "  inflating: food-11/testing/00/0476.jpg  \n",
            "  inflating: food-11/testing/00/0478.jpg  \n",
            "  inflating: food-11/testing/00/0481.jpg  \n",
            "  inflating: food-11/testing/00/0485.jpg  \n",
            "  inflating: food-11/testing/00/0489.jpg  \n",
            "  inflating: food-11/testing/00/0491.jpg  \n",
            "  inflating: food-11/testing/00/0497.jpg  \n",
            "  inflating: food-11/testing/00/0502.jpg  \n",
            "  inflating: food-11/testing/00/0504.jpg  \n",
            "  inflating: food-11/testing/00/0506.jpg  \n",
            "  inflating: food-11/testing/00/0507.jpg  \n",
            "  inflating: food-11/testing/00/0508.jpg  \n",
            "  inflating: food-11/testing/00/0512.jpg  \n",
            "  inflating: food-11/testing/00/0514.jpg  \n",
            "  inflating: food-11/testing/00/0526.jpg  \n",
            "  inflating: food-11/testing/00/0529.jpg  \n",
            "  inflating: food-11/testing/00/0530.jpg  \n",
            "  inflating: food-11/testing/00/0535.jpg  \n",
            "  inflating: food-11/testing/00/0538.jpg  \n",
            "  inflating: food-11/testing/00/0545.jpg  \n",
            "  inflating: food-11/testing/00/0546.jpg  \n",
            "  inflating: food-11/testing/00/0556.jpg  \n",
            "  inflating: food-11/testing/00/0558.jpg  \n",
            "  inflating: food-11/testing/00/0559.jpg  \n",
            "  inflating: food-11/testing/00/0562.jpg  \n",
            "  inflating: food-11/testing/00/0564.jpg  \n",
            "  inflating: food-11/testing/00/0567.jpg  \n",
            "  inflating: food-11/testing/00/0568.jpg  \n",
            "  inflating: food-11/testing/00/0571.jpg  \n",
            "  inflating: food-11/testing/00/0575.jpg  \n",
            "  inflating: food-11/testing/00/0576.jpg  \n",
            "  inflating: food-11/testing/00/0580.jpg  \n",
            "  inflating: food-11/testing/00/0583.jpg  \n",
            "  inflating: food-11/testing/00/0585.jpg  \n",
            "  inflating: food-11/testing/00/0592.jpg  \n",
            "  inflating: food-11/testing/00/0599.jpg  \n",
            "  inflating: food-11/testing/00/0612.jpg  \n",
            "  inflating: food-11/testing/00/0613.jpg  \n",
            "  inflating: food-11/testing/00/0614.jpg  \n",
            "  inflating: food-11/testing/00/0621.jpg  \n",
            "  inflating: food-11/testing/00/0625.jpg  \n",
            "  inflating: food-11/testing/00/0633.jpg  \n",
            "  inflating: food-11/testing/00/0634.jpg  \n",
            "  inflating: food-11/testing/00/0636.jpg  \n",
            "  inflating: food-11/testing/00/0637.jpg  \n",
            "  inflating: food-11/testing/00/0638.jpg  \n",
            "  inflating: food-11/testing/00/0641.jpg  \n",
            "  inflating: food-11/testing/00/0643.jpg  \n",
            "  inflating: food-11/testing/00/0646.jpg  \n",
            "  inflating: food-11/testing/00/0650.jpg  \n",
            "  inflating: food-11/testing/00/0651.jpg  \n",
            "  inflating: food-11/testing/00/0656.jpg  \n",
            "  inflating: food-11/testing/00/0657.jpg  \n",
            "  inflating: food-11/testing/00/0663.jpg  \n",
            "  inflating: food-11/testing/00/0664.jpg  \n",
            "  inflating: food-11/testing/00/0692.jpg  \n",
            "  inflating: food-11/testing/00/0696.jpg  \n",
            "  inflating: food-11/testing/00/0697.jpg  \n",
            "  inflating: food-11/testing/00/0706.jpg  \n",
            "  inflating: food-11/testing/00/0708.jpg  \n",
            "  inflating: food-11/testing/00/0709.jpg  \n",
            "  inflating: food-11/testing/00/0715.jpg  \n",
            "  inflating: food-11/testing/00/0717.jpg  \n",
            "  inflating: food-11/testing/00/0719.jpg  \n",
            "  inflating: food-11/testing/00/0723.jpg  \n",
            "  inflating: food-11/testing/00/0728.jpg  \n",
            "  inflating: food-11/testing/00/0729.jpg  \n",
            "  inflating: food-11/testing/00/0737.jpg  \n",
            "  inflating: food-11/testing/00/0738.jpg  \n",
            "  inflating: food-11/testing/00/0742.jpg  \n",
            "  inflating: food-11/testing/00/0743.jpg  \n",
            "  inflating: food-11/testing/00/0744.jpg  \n",
            "  inflating: food-11/testing/00/0748.jpg  \n",
            "  inflating: food-11/testing/00/0753.jpg  \n",
            "  inflating: food-11/testing/00/0754.jpg  \n",
            "  inflating: food-11/testing/00/0756.jpg  \n",
            "  inflating: food-11/testing/00/0757.jpg  \n",
            "  inflating: food-11/testing/00/0759.jpg  \n",
            "  inflating: food-11/testing/00/0763.jpg  \n",
            "  inflating: food-11/testing/00/0764.jpg  \n",
            "  inflating: food-11/testing/00/0769.jpg  \n",
            "  inflating: food-11/testing/00/0776.jpg  \n",
            "  inflating: food-11/testing/00/0783.jpg  \n",
            "  inflating: food-11/testing/00/0784.jpg  \n",
            "  inflating: food-11/testing/00/0790.jpg  \n",
            "  inflating: food-11/testing/00/0791.jpg  \n",
            "  inflating: food-11/testing/00/0793.jpg  \n",
            "  inflating: food-11/testing/00/0797.jpg  \n",
            "  inflating: food-11/testing/00/0807.jpg  \n",
            "  inflating: food-11/testing/00/0808.jpg  \n",
            "  inflating: food-11/testing/00/0811.jpg  \n",
            "  inflating: food-11/testing/00/0814.jpg  \n",
            "  inflating: food-11/testing/00/0817.jpg  \n",
            "  inflating: food-11/testing/00/0827.jpg  \n",
            "  inflating: food-11/testing/00/0828.jpg  \n",
            "  inflating: food-11/testing/00/0829.jpg  \n",
            "  inflating: food-11/testing/00/0831.jpg  \n",
            "  inflating: food-11/testing/00/0832.jpg  \n",
            "  inflating: food-11/testing/00/0841.jpg  \n",
            "  inflating: food-11/testing/00/0843.jpg  \n",
            "  inflating: food-11/testing/00/0845.jpg  \n",
            "  inflating: food-11/testing/00/0846.jpg  \n",
            "  inflating: food-11/testing/00/0847.jpg  \n",
            "  inflating: food-11/testing/00/0852.jpg  \n",
            "  inflating: food-11/testing/00/0854.jpg  \n",
            "  inflating: food-11/testing/00/0856.jpg  \n",
            "  inflating: food-11/testing/00/0862.jpg  \n",
            "  inflating: food-11/testing/00/0866.jpg  \n",
            "  inflating: food-11/testing/00/0867.jpg  \n",
            "  inflating: food-11/testing/00/0870.jpg  \n",
            "  inflating: food-11/testing/00/0873.jpg  \n",
            "  inflating: food-11/testing/00/0878.jpg  \n",
            "  inflating: food-11/testing/00/0880.jpg  \n",
            "  inflating: food-11/testing/00/0882.jpg  \n",
            "  inflating: food-11/testing/00/0885.jpg  \n",
            "  inflating: food-11/testing/00/0888.jpg  \n",
            "  inflating: food-11/testing/00/0895.jpg  \n",
            "  inflating: food-11/testing/00/0898.jpg  \n",
            "  inflating: food-11/testing/00/0900.jpg  \n",
            "  inflating: food-11/testing/00/0905.jpg  \n",
            "  inflating: food-11/testing/00/0909.jpg  \n",
            "  inflating: food-11/testing/00/0915.jpg  \n",
            "  inflating: food-11/testing/00/0916.jpg  \n",
            "  inflating: food-11/testing/00/0918.jpg  \n",
            "  inflating: food-11/testing/00/0921.jpg  \n",
            "  inflating: food-11/testing/00/0922.jpg  \n",
            "  inflating: food-11/testing/00/0925.jpg  \n",
            "  inflating: food-11/testing/00/0927.jpg  \n",
            "  inflating: food-11/testing/00/0929.jpg  \n",
            "  inflating: food-11/testing/00/0930.jpg  \n",
            "  inflating: food-11/testing/00/0931.jpg  \n",
            "  inflating: food-11/testing/00/0936.jpg  \n",
            "  inflating: food-11/testing/00/0937.jpg  \n",
            "  inflating: food-11/testing/00/0938.jpg  \n",
            "  inflating: food-11/testing/00/0946.jpg  \n",
            "  inflating: food-11/testing/00/0947.jpg  \n",
            "  inflating: food-11/testing/00/0948.jpg  \n",
            "  inflating: food-11/testing/00/0949.jpg  \n",
            "  inflating: food-11/testing/00/0950.jpg  \n",
            "  inflating: food-11/testing/00/0954.jpg  \n",
            "  inflating: food-11/testing/00/0960.jpg  \n",
            "  inflating: food-11/testing/00/0964.jpg  \n",
            "  inflating: food-11/testing/00/0967.jpg  \n",
            "  inflating: food-11/testing/00/0968.jpg  \n",
            "  inflating: food-11/testing/00/0969.jpg  \n",
            "  inflating: food-11/testing/00/0973.jpg  \n",
            "  inflating: food-11/testing/00/0983.jpg  \n",
            "  inflating: food-11/testing/00/0984.jpg  \n",
            "  inflating: food-11/testing/00/0985.jpg  \n",
            "  inflating: food-11/testing/00/0992.jpg  \n",
            "  inflating: food-11/testing/00/0997.jpg  \n",
            "  inflating: food-11/testing/00/0998.jpg  \n",
            "  inflating: food-11/testing/00/1004.jpg  \n",
            "  inflating: food-11/testing/00/1006.jpg  \n",
            "  inflating: food-11/testing/00/1007.jpg  \n",
            "  inflating: food-11/testing/00/1008.jpg  \n",
            "  inflating: food-11/testing/00/1010.jpg  \n",
            "  inflating: food-11/testing/00/1014.jpg  \n",
            "  inflating: food-11/testing/00/1019.jpg  \n",
            "  inflating: food-11/testing/00/1024.jpg  \n",
            "  inflating: food-11/testing/00/1027.jpg  \n",
            "  inflating: food-11/testing/00/1033.jpg  \n",
            "  inflating: food-11/testing/00/1040.jpg  \n",
            "  inflating: food-11/testing/00/1042.jpg  \n",
            "  inflating: food-11/testing/00/1043.jpg  \n",
            "  inflating: food-11/testing/00/1045.jpg  \n",
            "  inflating: food-11/testing/00/1047.jpg  \n",
            "  inflating: food-11/testing/00/1053.jpg  \n",
            "  inflating: food-11/testing/00/1059.jpg  \n",
            "  inflating: food-11/testing/00/1062.jpg  \n",
            "  inflating: food-11/testing/00/1063.jpg  \n",
            "  inflating: food-11/testing/00/1064.jpg  \n",
            "  inflating: food-11/testing/00/1066.jpg  \n",
            "  inflating: food-11/testing/00/1067.jpg  \n",
            "  inflating: food-11/testing/00/1070.jpg  \n",
            "  inflating: food-11/testing/00/1073.jpg  \n",
            "  inflating: food-11/testing/00/1075.jpg  \n",
            "  inflating: food-11/testing/00/1076.jpg  \n",
            "  inflating: food-11/testing/00/1077.jpg  \n",
            "  inflating: food-11/testing/00/1078.jpg  \n",
            "  inflating: food-11/testing/00/1079.jpg  \n",
            "  inflating: food-11/testing/00/1081.jpg  \n",
            "  inflating: food-11/testing/00/1087.jpg  \n",
            "  inflating: food-11/testing/00/1092.jpg  \n",
            "  inflating: food-11/testing/00/1093.jpg  \n",
            "  inflating: food-11/testing/00/1101.jpg  \n",
            "  inflating: food-11/testing/00/1104.jpg  \n",
            "  inflating: food-11/testing/00/1105.jpg  \n",
            "  inflating: food-11/testing/00/1109.jpg  \n",
            "  inflating: food-11/testing/00/1110.jpg  \n",
            "  inflating: food-11/testing/00/1117.jpg  \n",
            "  inflating: food-11/testing/00/1118.jpg  \n",
            "  inflating: food-11/testing/00/1128.jpg  \n",
            "  inflating: food-11/testing/00/1130.jpg  \n",
            "  inflating: food-11/testing/00/1132.jpg  \n",
            "  inflating: food-11/testing/00/1138.jpg  \n",
            "  inflating: food-11/testing/00/1142.jpg  \n",
            "  inflating: food-11/testing/00/1144.jpg  \n",
            "  inflating: food-11/testing/00/1147.jpg  \n",
            "  inflating: food-11/testing/00/1149.jpg  \n",
            "  inflating: food-11/testing/00/1150.jpg  \n",
            "  inflating: food-11/testing/00/1152.jpg  \n",
            "  inflating: food-11/testing/00/1158.jpg  \n",
            "  inflating: food-11/testing/00/1162.jpg  \n",
            "  inflating: food-11/testing/00/1163.jpg  \n",
            "  inflating: food-11/testing/00/1166.jpg  \n",
            "  inflating: food-11/testing/00/1168.jpg  \n",
            "  inflating: food-11/testing/00/1179.jpg  \n",
            "  inflating: food-11/testing/00/1180.jpg  \n",
            "  inflating: food-11/testing/00/1183.jpg  \n",
            "  inflating: food-11/testing/00/1184.jpg  \n",
            "  inflating: food-11/testing/00/1187.jpg  \n",
            "  inflating: food-11/testing/00/1188.jpg  \n",
            "  inflating: food-11/testing/00/1190.jpg  \n",
            "  inflating: food-11/testing/00/1194.jpg  \n",
            "  inflating: food-11/testing/00/1195.jpg  \n",
            "  inflating: food-11/testing/00/1196.jpg  \n",
            "  inflating: food-11/testing/00/1208.jpg  \n",
            "  inflating: food-11/testing/00/1219.jpg  \n",
            "  inflating: food-11/testing/00/1220.jpg  \n",
            "  inflating: food-11/testing/00/1223.jpg  \n",
            "  inflating: food-11/testing/00/1229.jpg  \n",
            "  inflating: food-11/testing/00/1230.jpg  \n",
            "  inflating: food-11/testing/00/1231.jpg  \n",
            "  inflating: food-11/testing/00/1235.jpg  \n",
            "  inflating: food-11/testing/00/1239.jpg  \n",
            "  inflating: food-11/testing/00/1240.jpg  \n",
            "  inflating: food-11/testing/00/1243.jpg  \n",
            "  inflating: food-11/testing/00/1245.jpg  \n",
            "  inflating: food-11/testing/00/1247.jpg  \n",
            "  inflating: food-11/testing/00/1248.jpg  \n",
            "  inflating: food-11/testing/00/1250.jpg  \n",
            "  inflating: food-11/testing/00/1252.jpg  \n",
            "  inflating: food-11/testing/00/1263.jpg  \n",
            "  inflating: food-11/testing/00/1265.jpg  \n",
            "  inflating: food-11/testing/00/1266.jpg  \n",
            "  inflating: food-11/testing/00/1270.jpg  \n",
            "  inflating: food-11/testing/00/1276.jpg  \n",
            "  inflating: food-11/testing/00/1281.jpg  \n",
            "  inflating: food-11/testing/00/1286.jpg  \n",
            "  inflating: food-11/testing/00/1287.jpg  \n",
            "  inflating: food-11/testing/00/1289.jpg  \n",
            "  inflating: food-11/testing/00/1291.jpg  \n",
            "  inflating: food-11/testing/00/1293.jpg  \n",
            "  inflating: food-11/testing/00/1294.jpg  \n",
            "  inflating: food-11/testing/00/1299.jpg  \n",
            "  inflating: food-11/testing/00/1304.jpg  \n",
            "  inflating: food-11/testing/00/1305.jpg  \n",
            "  inflating: food-11/testing/00/1308.jpg  \n",
            "  inflating: food-11/testing/00/1309.jpg  \n",
            "  inflating: food-11/testing/00/1313.jpg  \n",
            "  inflating: food-11/testing/00/1318.jpg  \n",
            "  inflating: food-11/testing/00/1322.jpg  \n",
            "  inflating: food-11/testing/00/1332.jpg  \n",
            "  inflating: food-11/testing/00/1336.jpg  \n",
            "  inflating: food-11/testing/00/1343.jpg  \n",
            "  inflating: food-11/testing/00/1346.jpg  \n",
            "  inflating: food-11/testing/00/1347.jpg  \n",
            "  inflating: food-11/testing/00/1348.jpg  \n",
            "  inflating: food-11/testing/00/1350.jpg  \n",
            "  inflating: food-11/testing/00/1356.jpg  \n",
            "  inflating: food-11/testing/00/1357.jpg  \n",
            "  inflating: food-11/testing/00/1361.jpg  \n",
            "  inflating: food-11/testing/00/1367.jpg  \n",
            "  inflating: food-11/testing/00/1374.jpg  \n",
            "  inflating: food-11/testing/00/1377.jpg  \n",
            "  inflating: food-11/testing/00/1381.jpg  \n",
            "  inflating: food-11/testing/00/1384.jpg  \n",
            "  inflating: food-11/testing/00/1385.jpg  \n",
            "  inflating: food-11/testing/00/1390.jpg  \n",
            "  inflating: food-11/testing/00/1393.jpg  \n",
            "  inflating: food-11/testing/00/1400.jpg  \n",
            "  inflating: food-11/testing/00/1404.jpg  \n",
            "  inflating: food-11/testing/00/1406.jpg  \n",
            "  inflating: food-11/testing/00/1410.jpg  \n",
            "  inflating: food-11/testing/00/1415.jpg  \n",
            "  inflating: food-11/testing/00/1419.jpg  \n",
            "  inflating: food-11/testing/00/1426.jpg  \n",
            "  inflating: food-11/testing/00/1427.jpg  \n",
            "  inflating: food-11/testing/00/1428.jpg  \n",
            "  inflating: food-11/testing/00/1435.jpg  \n",
            "  inflating: food-11/testing/00/1437.jpg  \n",
            "  inflating: food-11/testing/00/1443.jpg  \n",
            "  inflating: food-11/testing/00/1444.jpg  \n",
            "  inflating: food-11/testing/00/1449.jpg  \n",
            "  inflating: food-11/testing/00/1456.jpg  \n",
            "  inflating: food-11/testing/00/1457.jpg  \n",
            "  inflating: food-11/testing/00/1472.jpg  \n",
            "  inflating: food-11/testing/00/1473.jpg  \n",
            "  inflating: food-11/testing/00/1474.jpg  \n",
            "  inflating: food-11/testing/00/1477.jpg  \n",
            "  inflating: food-11/testing/00/1479.jpg  \n",
            "  inflating: food-11/testing/00/1481.jpg  \n",
            "  inflating: food-11/testing/00/1482.jpg  \n",
            "  inflating: food-11/testing/00/1484.jpg  \n",
            "  inflating: food-11/testing/00/1486.jpg  \n",
            "  inflating: food-11/testing/00/1488.jpg  \n",
            "  inflating: food-11/testing/00/1497.jpg  \n",
            "  inflating: food-11/testing/00/1500.jpg  \n",
            "  inflating: food-11/testing/00/1501.jpg  \n",
            "  inflating: food-11/testing/00/1504.jpg  \n",
            "  inflating: food-11/testing/00/1505.jpg  \n",
            "  inflating: food-11/testing/00/1507.jpg  \n",
            "  inflating: food-11/testing/00/1508.jpg  \n",
            "  inflating: food-11/testing/00/1513.jpg  \n",
            "  inflating: food-11/testing/00/1517.jpg  \n",
            "  inflating: food-11/testing/00/1522.jpg  \n",
            "  inflating: food-11/testing/00/1526.jpg  \n",
            "  inflating: food-11/testing/00/1530.jpg  \n",
            "  inflating: food-11/testing/00/1536.jpg  \n",
            "  inflating: food-11/testing/00/1540.jpg  \n",
            "  inflating: food-11/testing/00/1542.jpg  \n",
            "  inflating: food-11/testing/00/1543.jpg  \n",
            "  inflating: food-11/testing/00/1545.jpg  \n",
            "  inflating: food-11/testing/00/1546.jpg  \n",
            "  inflating: food-11/testing/00/1550.jpg  \n",
            "  inflating: food-11/testing/00/1551.jpg  \n",
            "  inflating: food-11/testing/00/1554.jpg  \n",
            "  inflating: food-11/testing/00/1556.jpg  \n",
            "  inflating: food-11/testing/00/1557.jpg  \n",
            "  inflating: food-11/testing/00/1560.jpg  \n",
            "  inflating: food-11/testing/00/1564.jpg  \n",
            "  inflating: food-11/testing/00/1565.jpg  \n",
            "  inflating: food-11/testing/00/1566.jpg  \n",
            "  inflating: food-11/testing/00/1573.jpg  \n",
            "  inflating: food-11/testing/00/1579.jpg  \n",
            "  inflating: food-11/testing/00/1583.jpg  \n",
            "  inflating: food-11/testing/00/1594.jpg  \n",
            "  inflating: food-11/testing/00/1602.jpg  \n",
            "  inflating: food-11/testing/00/1603.jpg  \n",
            "  inflating: food-11/testing/00/1604.jpg  \n",
            "  inflating: food-11/testing/00/1606.jpg  \n",
            "  inflating: food-11/testing/00/1611.jpg  \n",
            "  inflating: food-11/testing/00/1613.jpg  \n",
            "  inflating: food-11/testing/00/1614.jpg  \n",
            "  inflating: food-11/testing/00/1625.jpg  \n",
            "  inflating: food-11/testing/00/1628.jpg  \n",
            "  inflating: food-11/testing/00/1629.jpg  \n",
            "  inflating: food-11/testing/00/1633.jpg  \n",
            "  inflating: food-11/testing/00/1634.jpg  \n",
            "  inflating: food-11/testing/00/1637.jpg  \n",
            "  inflating: food-11/testing/00/1639.jpg  \n",
            "  inflating: food-11/testing/00/1640.jpg  \n",
            "  inflating: food-11/testing/00/1644.jpg  \n",
            "  inflating: food-11/testing/00/1646.jpg  \n",
            "  inflating: food-11/testing/00/1652.jpg  \n",
            "  inflating: food-11/testing/00/1653.jpg  \n",
            "  inflating: food-11/testing/00/1655.jpg  \n",
            "  inflating: food-11/testing/00/1657.jpg  \n",
            "  inflating: food-11/testing/00/1658.jpg  \n",
            "  inflating: food-11/testing/00/1661.jpg  \n",
            "  inflating: food-11/testing/00/1664.jpg  \n",
            "  inflating: food-11/testing/00/1670.jpg  \n",
            "  inflating: food-11/testing/00/1672.jpg  \n",
            "  inflating: food-11/testing/00/1673.jpg  \n",
            "  inflating: food-11/testing/00/1674.jpg  \n",
            "  inflating: food-11/testing/00/1675.jpg  \n",
            "  inflating: food-11/testing/00/1678.jpg  \n",
            "  inflating: food-11/testing/00/1679.jpg  \n",
            "  inflating: food-11/testing/00/1680.jpg  \n",
            "  inflating: food-11/testing/00/1687.jpg  \n",
            "  inflating: food-11/testing/00/1689.jpg  \n",
            "  inflating: food-11/testing/00/1695.jpg  \n",
            "  inflating: food-11/testing/00/1696.jpg  \n",
            "  inflating: food-11/testing/00/1700.jpg  \n",
            "  inflating: food-11/testing/00/1702.jpg  \n",
            "  inflating: food-11/testing/00/1704.jpg  \n",
            "  inflating: food-11/testing/00/1705.jpg  \n",
            "  inflating: food-11/testing/00/1707.jpg  \n",
            "  inflating: food-11/testing/00/1709.jpg  \n",
            "  inflating: food-11/testing/00/1713.jpg  \n",
            "  inflating: food-11/testing/00/1714.jpg  \n",
            "  inflating: food-11/testing/00/1718.jpg  \n",
            "  inflating: food-11/testing/00/1724.jpg  \n",
            "  inflating: food-11/testing/00/1726.jpg  \n",
            "  inflating: food-11/testing/00/1733.jpg  \n",
            "  inflating: food-11/testing/00/1735.jpg  \n",
            "  inflating: food-11/testing/00/1741.jpg  \n",
            "  inflating: food-11/testing/00/1744.jpg  \n",
            "  inflating: food-11/testing/00/1749.jpg  \n",
            "  inflating: food-11/testing/00/1752.jpg  \n",
            "  inflating: food-11/testing/00/1755.jpg  \n",
            "  inflating: food-11/testing/00/1758.jpg  \n",
            "  inflating: food-11/testing/00/1759.jpg  \n",
            "  inflating: food-11/testing/00/1762.jpg  \n",
            "  inflating: food-11/testing/00/1764.jpg  \n",
            "  inflating: food-11/testing/00/1765.jpg  \n",
            "  inflating: food-11/testing/00/1781.jpg  \n",
            "  inflating: food-11/testing/00/1785.jpg  \n",
            "  inflating: food-11/testing/00/1787.jpg  \n",
            "  inflating: food-11/testing/00/1788.jpg  \n",
            "  inflating: food-11/testing/00/1790.jpg  \n",
            "  inflating: food-11/testing/00/1791.jpg  \n",
            "  inflating: food-11/testing/00/1802.jpg  \n",
            "  inflating: food-11/testing/00/1808.jpg  \n",
            "  inflating: food-11/testing/00/1812.jpg  \n",
            "  inflating: food-11/testing/00/1813.jpg  \n",
            "  inflating: food-11/testing/00/1814.jpg  \n",
            "  inflating: food-11/testing/00/1821.jpg  \n",
            "  inflating: food-11/testing/00/1829.jpg  \n",
            "  inflating: food-11/testing/00/1831.jpg  \n",
            "  inflating: food-11/testing/00/1833.jpg  \n",
            "  inflating: food-11/testing/00/1839.jpg  \n",
            "  inflating: food-11/testing/00/1840.jpg  \n",
            "  inflating: food-11/testing/00/1845.jpg  \n",
            "  inflating: food-11/testing/00/1846.jpg  \n",
            "  inflating: food-11/testing/00/1847.jpg  \n",
            "  inflating: food-11/testing/00/1848.jpg  \n",
            "  inflating: food-11/testing/00/1850.jpg  \n",
            "  inflating: food-11/testing/00/1851.jpg  \n",
            "  inflating: food-11/testing/00/1853.jpg  \n",
            "  inflating: food-11/testing/00/1854.jpg  \n",
            "  inflating: food-11/testing/00/1856.jpg  \n",
            "  inflating: food-11/testing/00/1857.jpg  \n",
            "  inflating: food-11/testing/00/1858.jpg  \n",
            "  inflating: food-11/testing/00/1859.jpg  \n",
            "  inflating: food-11/testing/00/1860.jpg  \n",
            "  inflating: food-11/testing/00/1861.jpg  \n",
            "  inflating: food-11/testing/00/1865.jpg  \n",
            "  inflating: food-11/testing/00/1867.jpg  \n",
            "  inflating: food-11/testing/00/1870.jpg  \n",
            "  inflating: food-11/testing/00/1873.jpg  \n",
            "  inflating: food-11/testing/00/1876.jpg  \n",
            "  inflating: food-11/testing/00/1878.jpg  \n",
            "  inflating: food-11/testing/00/1885.jpg  \n",
            "  inflating: food-11/testing/00/1886.jpg  \n",
            "  inflating: food-11/testing/00/1888.jpg  \n",
            "  inflating: food-11/testing/00/1901.jpg  \n",
            "  inflating: food-11/testing/00/1902.jpg  \n",
            "  inflating: food-11/testing/00/1903.jpg  \n",
            "  inflating: food-11/testing/00/1904.jpg  \n",
            "  inflating: food-11/testing/00/1906.jpg  \n",
            "  inflating: food-11/testing/00/1908.jpg  \n",
            "  inflating: food-11/testing/00/1909.jpg  \n",
            "  inflating: food-11/testing/00/1911.jpg  \n",
            "  inflating: food-11/testing/00/1920.jpg  \n",
            "  inflating: food-11/testing/00/1921.jpg  \n",
            "  inflating: food-11/testing/00/1923.jpg  \n",
            "  inflating: food-11/testing/00/1932.jpg  \n",
            "  inflating: food-11/testing/00/1938.jpg  \n",
            "  inflating: food-11/testing/00/1940.jpg  \n",
            "  inflating: food-11/testing/00/1941.jpg  \n",
            "  inflating: food-11/testing/00/1948.jpg  \n",
            "  inflating: food-11/testing/00/1954.jpg  \n",
            "  inflating: food-11/testing/00/1968.jpg  \n",
            "  inflating: food-11/testing/00/1971.jpg  \n",
            "  inflating: food-11/testing/00/1972.jpg  \n",
            "  inflating: food-11/testing/00/1975.jpg  \n",
            "  inflating: food-11/testing/00/1989.jpg  \n",
            "  inflating: food-11/testing/00/1990.jpg  \n",
            "  inflating: food-11/testing/00/1993.jpg  \n",
            "  inflating: food-11/testing/00/1997.jpg  \n",
            "  inflating: food-11/testing/00/2000.jpg  \n",
            "  inflating: food-11/testing/00/2002.jpg  \n",
            "  inflating: food-11/testing/00/2005.jpg  \n",
            "  inflating: food-11/testing/00/2012.jpg  \n",
            "  inflating: food-11/testing/00/2015.jpg  \n",
            "  inflating: food-11/testing/00/2019.jpg  \n",
            "  inflating: food-11/testing/00/2021.jpg  \n",
            "  inflating: food-11/testing/00/2023.jpg  \n",
            "  inflating: food-11/testing/00/2025.jpg  \n",
            "  inflating: food-11/testing/00/2030.jpg  \n",
            "  inflating: food-11/testing/00/2031.jpg  \n",
            "  inflating: food-11/testing/00/2036.jpg  \n",
            "  inflating: food-11/testing/00/2038.jpg  \n",
            "  inflating: food-11/testing/00/2042.jpg  \n",
            "  inflating: food-11/testing/00/2046.jpg  \n",
            "  inflating: food-11/testing/00/2051.jpg  \n",
            "  inflating: food-11/testing/00/2052.jpg  \n",
            "  inflating: food-11/testing/00/2053.jpg  \n",
            "  inflating: food-11/testing/00/2056.jpg  \n",
            "  inflating: food-11/testing/00/2058.jpg  \n",
            "  inflating: food-11/testing/00/2059.jpg  \n",
            "  inflating: food-11/testing/00/2060.jpg  \n",
            "  inflating: food-11/testing/00/2062.jpg  \n",
            "  inflating: food-11/testing/00/2070.jpg  \n",
            "  inflating: food-11/testing/00/2072.jpg  \n",
            "  inflating: food-11/testing/00/2073.jpg  \n",
            "  inflating: food-11/testing/00/2078.jpg  \n",
            "  inflating: food-11/testing/00/2086.jpg  \n",
            "  inflating: food-11/testing/00/2091.jpg  \n",
            "  inflating: food-11/testing/00/2094.jpg  \n",
            "  inflating: food-11/testing/00/2095.jpg  \n",
            "  inflating: food-11/testing/00/2096.jpg  \n",
            "  inflating: food-11/testing/00/2097.jpg  \n",
            "  inflating: food-11/testing/00/2100.jpg  \n",
            "  inflating: food-11/testing/00/2103.jpg  \n",
            "  inflating: food-11/testing/00/2104.jpg  \n",
            "  inflating: food-11/testing/00/2107.jpg  \n",
            "  inflating: food-11/testing/00/2118.jpg  \n",
            "  inflating: food-11/testing/00/2120.jpg  \n",
            "  inflating: food-11/testing/00/2125.jpg  \n",
            "  inflating: food-11/testing/00/2127.jpg  \n",
            "  inflating: food-11/testing/00/2129.jpg  \n",
            "  inflating: food-11/testing/00/2133.jpg  \n",
            "  inflating: food-11/testing/00/2134.jpg  \n",
            "  inflating: food-11/testing/00/2135.jpg  \n",
            "  inflating: food-11/testing/00/2153.jpg  \n",
            "  inflating: food-11/testing/00/2154.jpg  \n",
            "  inflating: food-11/testing/00/2155.jpg  \n",
            "  inflating: food-11/testing/00/2157.jpg  \n",
            "  inflating: food-11/testing/00/2163.jpg  \n",
            "  inflating: food-11/testing/00/2165.jpg  \n",
            "  inflating: food-11/testing/00/2166.jpg  \n",
            "  inflating: food-11/testing/00/2167.jpg  \n",
            "  inflating: food-11/testing/00/2168.jpg  \n",
            "  inflating: food-11/testing/00/2169.jpg  \n",
            "  inflating: food-11/testing/00/2170.jpg  \n",
            "  inflating: food-11/testing/00/2171.jpg  \n",
            "  inflating: food-11/testing/00/2172.jpg  \n",
            "  inflating: food-11/testing/00/2173.jpg  \n",
            "  inflating: food-11/testing/00/2175.jpg  \n",
            "  inflating: food-11/testing/00/2177.jpg  \n",
            "  inflating: food-11/testing/00/2184.jpg  \n",
            "  inflating: food-11/testing/00/2191.jpg  \n",
            "  inflating: food-11/testing/00/2194.jpg  \n",
            "  inflating: food-11/testing/00/2198.jpg  \n",
            "  inflating: food-11/testing/00/2199.jpg  \n",
            "  inflating: food-11/testing/00/2212.jpg  \n",
            "  inflating: food-11/testing/00/2219.jpg  \n",
            "  inflating: food-11/testing/00/2228.jpg  \n",
            "  inflating: food-11/testing/00/2229.jpg  \n",
            "  inflating: food-11/testing/00/2230.jpg  \n",
            "  inflating: food-11/testing/00/2235.jpg  \n",
            "  inflating: food-11/testing/00/2240.jpg  \n",
            "  inflating: food-11/testing/00/2242.jpg  \n",
            "  inflating: food-11/testing/00/2247.jpg  \n",
            "  inflating: food-11/testing/00/2248.jpg  \n",
            "  inflating: food-11/testing/00/2254.jpg  \n",
            "  inflating: food-11/testing/00/2259.jpg  \n",
            "  inflating: food-11/testing/00/2267.jpg  \n",
            "  inflating: food-11/testing/00/2271.jpg  \n",
            "  inflating: food-11/testing/00/2273.jpg  \n",
            "  inflating: food-11/testing/00/2276.jpg  \n",
            "  inflating: food-11/testing/00/2278.jpg  \n",
            "  inflating: food-11/testing/00/2285.jpg  \n",
            "  inflating: food-11/testing/00/2289.jpg  \n",
            "  inflating: food-11/testing/00/2291.jpg  \n",
            "  inflating: food-11/testing/00/2293.jpg  \n",
            "  inflating: food-11/testing/00/2300.jpg  \n",
            "  inflating: food-11/testing/00/2304.jpg  \n",
            "  inflating: food-11/testing/00/2311.jpg  \n",
            "  inflating: food-11/testing/00/2313.jpg  \n",
            "  inflating: food-11/testing/00/2315.jpg  \n",
            "  inflating: food-11/testing/00/2320.jpg  \n",
            "  inflating: food-11/testing/00/2321.jpg  \n",
            "  inflating: food-11/testing/00/2322.jpg  \n",
            "  inflating: food-11/testing/00/2323.jpg  \n",
            "  inflating: food-11/testing/00/2324.jpg  \n",
            "  inflating: food-11/testing/00/2325.jpg  \n",
            "  inflating: food-11/testing/00/2327.jpg  \n",
            "  inflating: food-11/testing/00/2331.jpg  \n",
            "  inflating: food-11/testing/00/2334.jpg  \n",
            "  inflating: food-11/testing/00/2335.jpg  \n",
            "  inflating: food-11/testing/00/2349.jpg  \n",
            "  inflating: food-11/testing/00/2352.jpg  \n",
            "  inflating: food-11/testing/00/2356.jpg  \n",
            "  inflating: food-11/testing/00/2359.jpg  \n",
            "  inflating: food-11/testing/00/2372.jpg  \n",
            "  inflating: food-11/testing/00/2373.jpg  \n",
            "  inflating: food-11/testing/00/2375.jpg  \n",
            "  inflating: food-11/testing/00/2380.jpg  \n",
            "  inflating: food-11/testing/00/2381.jpg  \n",
            "  inflating: food-11/testing/00/2382.jpg  \n",
            "  inflating: food-11/testing/00/2383.jpg  \n",
            "  inflating: food-11/testing/00/2386.jpg  \n",
            "  inflating: food-11/testing/00/2390.jpg  \n",
            "  inflating: food-11/testing/00/2394.jpg  \n",
            "  inflating: food-11/testing/00/2400.jpg  \n",
            "  inflating: food-11/testing/00/2403.jpg  \n",
            "  inflating: food-11/testing/00/2406.jpg  \n",
            "  inflating: food-11/testing/00/2407.jpg  \n",
            "  inflating: food-11/testing/00/2415.jpg  \n",
            "  inflating: food-11/testing/00/2420.jpg  \n",
            "  inflating: food-11/testing/00/2421.jpg  \n",
            "  inflating: food-11/testing/00/2422.jpg  \n",
            "  inflating: food-11/testing/00/2426.jpg  \n",
            "  inflating: food-11/testing/00/2434.jpg  \n",
            "  inflating: food-11/testing/00/2440.jpg  \n",
            "  inflating: food-11/testing/00/2457.jpg  \n",
            "  inflating: food-11/testing/00/2462.jpg  \n",
            "  inflating: food-11/testing/00/2463.jpg  \n",
            "  inflating: food-11/testing/00/2468.jpg  \n",
            "  inflating: food-11/testing/00/2469.jpg  \n",
            "  inflating: food-11/testing/00/2470.jpg  \n",
            "  inflating: food-11/testing/00/2476.jpg  \n",
            "  inflating: food-11/testing/00/2484.jpg  \n",
            "  inflating: food-11/testing/00/2485.jpg  \n",
            "  inflating: food-11/testing/00/2493.jpg  \n",
            "  inflating: food-11/testing/00/2498.jpg  \n",
            "  inflating: food-11/testing/00/2501.jpg  \n",
            "  inflating: food-11/testing/00/2503.jpg  \n",
            "  inflating: food-11/testing/00/2504.jpg  \n",
            "  inflating: food-11/testing/00/2511.jpg  \n",
            "  inflating: food-11/testing/00/2512.jpg  \n",
            "  inflating: food-11/testing/00/2513.jpg  \n",
            "  inflating: food-11/testing/00/2515.jpg  \n",
            "  inflating: food-11/testing/00/2518.jpg  \n",
            "  inflating: food-11/testing/00/2522.jpg  \n",
            "  inflating: food-11/testing/00/2524.jpg  \n",
            "  inflating: food-11/testing/00/2525.jpg  \n",
            "  inflating: food-11/testing/00/2526.jpg  \n",
            "  inflating: food-11/testing/00/2527.jpg  \n",
            "  inflating: food-11/testing/00/2537.jpg  \n",
            "  inflating: food-11/testing/00/2541.jpg  \n",
            "  inflating: food-11/testing/00/2543.jpg  \n",
            "  inflating: food-11/testing/00/2549.jpg  \n",
            "  inflating: food-11/testing/00/2550.jpg  \n",
            "  inflating: food-11/testing/00/2551.jpg  \n",
            "  inflating: food-11/testing/00/2552.jpg  \n",
            "  inflating: food-11/testing/00/2555.jpg  \n",
            "  inflating: food-11/testing/00/2560.jpg  \n",
            "  inflating: food-11/testing/00/2562.jpg  \n",
            "  inflating: food-11/testing/00/2574.jpg  \n",
            "  inflating: food-11/testing/00/2575.jpg  \n",
            "  inflating: food-11/testing/00/2576.jpg  \n",
            "  inflating: food-11/testing/00/2582.jpg  \n",
            "  inflating: food-11/testing/00/2585.jpg  \n",
            "  inflating: food-11/testing/00/2587.jpg  \n",
            "  inflating: food-11/testing/00/2594.jpg  \n",
            "  inflating: food-11/testing/00/2597.jpg  \n",
            "  inflating: food-11/testing/00/2599.jpg  \n",
            "  inflating: food-11/testing/00/2603.jpg  \n",
            "  inflating: food-11/testing/00/2604.jpg  \n",
            "  inflating: food-11/testing/00/2608.jpg  \n",
            "  inflating: food-11/testing/00/2618.jpg  \n",
            "  inflating: food-11/testing/00/2620.jpg  \n",
            "  inflating: food-11/testing/00/2621.jpg  \n",
            "  inflating: food-11/testing/00/2629.jpg  \n",
            "  inflating: food-11/testing/00/2631.jpg  \n",
            "  inflating: food-11/testing/00/2633.jpg  \n",
            "  inflating: food-11/testing/00/2634.jpg  \n",
            "  inflating: food-11/testing/00/2636.jpg  \n",
            "  inflating: food-11/testing/00/2640.jpg  \n",
            "  inflating: food-11/testing/00/2641.jpg  \n",
            "  inflating: food-11/testing/00/2643.jpg  \n",
            "  inflating: food-11/testing/00/2646.jpg  \n",
            "  inflating: food-11/testing/00/2648.jpg  \n",
            "  inflating: food-11/testing/00/2650.jpg  \n",
            "  inflating: food-11/testing/00/2653.jpg  \n",
            "  inflating: food-11/testing/00/2655.jpg  \n",
            "  inflating: food-11/testing/00/2657.jpg  \n",
            "  inflating: food-11/testing/00/2659.jpg  \n",
            "  inflating: food-11/testing/00/2661.jpg  \n",
            "  inflating: food-11/testing/00/2662.jpg  \n",
            "  inflating: food-11/testing/00/2667.jpg  \n",
            "  inflating: food-11/testing/00/2671.jpg  \n",
            "  inflating: food-11/testing/00/2673.jpg  \n",
            "  inflating: food-11/testing/00/2676.jpg  \n",
            "  inflating: food-11/testing/00/2680.jpg  \n",
            "  inflating: food-11/testing/00/2681.jpg  \n",
            "  inflating: food-11/testing/00/2684.jpg  \n",
            "  inflating: food-11/testing/00/2693.jpg  \n",
            "  inflating: food-11/testing/00/2698.jpg  \n",
            "  inflating: food-11/testing/00/2700.jpg  \n",
            "  inflating: food-11/testing/00/2701.jpg  \n",
            "  inflating: food-11/testing/00/2708.jpg  \n",
            "  inflating: food-11/testing/00/2716.jpg  \n",
            "  inflating: food-11/testing/00/2717.jpg  \n",
            "  inflating: food-11/testing/00/2718.jpg  \n",
            "  inflating: food-11/testing/00/2719.jpg  \n",
            "  inflating: food-11/testing/00/2721.jpg  \n",
            "  inflating: food-11/testing/00/2729.jpg  \n",
            "  inflating: food-11/testing/00/2733.jpg  \n",
            "  inflating: food-11/testing/00/2736.jpg  \n",
            "  inflating: food-11/testing/00/2740.jpg  \n",
            "  inflating: food-11/testing/00/2741.jpg  \n",
            "  inflating: food-11/testing/00/2745.jpg  \n",
            "  inflating: food-11/testing/00/2746.jpg  \n",
            "  inflating: food-11/testing/00/2748.jpg  \n",
            "  inflating: food-11/testing/00/2757.jpg  \n",
            "  inflating: food-11/testing/00/2761.jpg  \n",
            "  inflating: food-11/testing/00/2762.jpg  \n",
            "  inflating: food-11/testing/00/2763.jpg  \n",
            "  inflating: food-11/testing/00/2770.jpg  \n",
            "  inflating: food-11/testing/00/2771.jpg  \n",
            "  inflating: food-11/testing/00/2772.jpg  \n",
            "  inflating: food-11/testing/00/2777.jpg  \n",
            "  inflating: food-11/testing/00/2778.jpg  \n",
            "  inflating: food-11/testing/00/2780.jpg  \n",
            "  inflating: food-11/testing/00/2782.jpg  \n",
            "  inflating: food-11/testing/00/2784.jpg  \n",
            "  inflating: food-11/testing/00/2787.jpg  \n",
            "  inflating: food-11/testing/00/2789.jpg  \n",
            "  inflating: food-11/testing/00/2798.jpg  \n",
            "  inflating: food-11/testing/00/2800.jpg  \n",
            "  inflating: food-11/testing/00/2801.jpg  \n",
            "  inflating: food-11/testing/00/2805.jpg  \n",
            "  inflating: food-11/testing/00/2806.jpg  \n",
            "  inflating: food-11/testing/00/2812.jpg  \n",
            "  inflating: food-11/testing/00/2814.jpg  \n",
            "  inflating: food-11/testing/00/2815.jpg  \n",
            "  inflating: food-11/testing/00/2818.jpg  \n",
            "  inflating: food-11/testing/00/2819.jpg  \n",
            "  inflating: food-11/testing/00/2822.jpg  \n",
            "  inflating: food-11/testing/00/2823.jpg  \n",
            "  inflating: food-11/testing/00/2824.jpg  \n",
            "  inflating: food-11/testing/00/2826.jpg  \n",
            "  inflating: food-11/testing/00/2829.jpg  \n",
            "  inflating: food-11/testing/00/2832.jpg  \n",
            "  inflating: food-11/testing/00/2833.jpg  \n",
            "  inflating: food-11/testing/00/2835.jpg  \n",
            "  inflating: food-11/testing/00/2837.jpg  \n",
            "  inflating: food-11/testing/00/2839.jpg  \n",
            "  inflating: food-11/testing/00/2841.jpg  \n",
            "  inflating: food-11/testing/00/2850.jpg  \n",
            "  inflating: food-11/testing/00/2854.jpg  \n",
            "  inflating: food-11/testing/00/2864.jpg  \n",
            "  inflating: food-11/testing/00/2865.jpg  \n",
            "  inflating: food-11/testing/00/2866.jpg  \n",
            "  inflating: food-11/testing/00/2876.jpg  \n",
            "  inflating: food-11/testing/00/2881.jpg  \n",
            "  inflating: food-11/testing/00/2885.jpg  \n",
            "  inflating: food-11/testing/00/2887.jpg  \n",
            "  inflating: food-11/testing/00/2894.jpg  \n",
            "  inflating: food-11/testing/00/2895.jpg  \n",
            "  inflating: food-11/testing/00/2896.jpg  \n",
            "  inflating: food-11/testing/00/2897.jpg  \n",
            "  inflating: food-11/testing/00/2900.jpg  \n",
            "  inflating: food-11/testing/00/2906.jpg  \n",
            "  inflating: food-11/testing/00/2908.jpg  \n",
            "  inflating: food-11/testing/00/2909.jpg  \n",
            "  inflating: food-11/testing/00/2911.jpg  \n",
            "  inflating: food-11/testing/00/2913.jpg  \n",
            "  inflating: food-11/testing/00/2917.jpg  \n",
            "  inflating: food-11/testing/00/2918.jpg  \n",
            "  inflating: food-11/testing/00/2920.jpg  \n",
            "  inflating: food-11/testing/00/2921.jpg  \n",
            "  inflating: food-11/testing/00/2923.jpg  \n",
            "  inflating: food-11/testing/00/2924.jpg  \n",
            "  inflating: food-11/testing/00/2932.jpg  \n",
            "  inflating: food-11/testing/00/2938.jpg  \n",
            "  inflating: food-11/testing/00/2941.jpg  \n",
            "  inflating: food-11/testing/00/2944.jpg  \n",
            "  inflating: food-11/testing/00/2948.jpg  \n",
            "  inflating: food-11/testing/00/2956.jpg  \n",
            "  inflating: food-11/testing/00/2960.jpg  \n",
            "  inflating: food-11/testing/00/2964.jpg  \n",
            "  inflating: food-11/testing/00/2967.jpg  \n",
            "  inflating: food-11/testing/00/2968.jpg  \n",
            "  inflating: food-11/testing/00/2969.jpg  \n",
            "  inflating: food-11/testing/00/2974.jpg  \n",
            "  inflating: food-11/testing/00/2976.jpg  \n",
            "  inflating: food-11/testing/00/2977.jpg  \n",
            "  inflating: food-11/testing/00/2979.jpg  \n",
            "  inflating: food-11/testing/00/2980.jpg  \n",
            "  inflating: food-11/testing/00/2990.jpg  \n",
            "  inflating: food-11/testing/00/2991.jpg  \n",
            "  inflating: food-11/testing/00/2993.jpg  \n",
            "  inflating: food-11/testing/00/2994.jpg  \n",
            "  inflating: food-11/testing/00/2995.jpg  \n",
            "  inflating: food-11/testing/00/2997.jpg  \n",
            "  inflating: food-11/testing/00/2998.jpg  \n",
            "  inflating: food-11/testing/00/2999.jpg  \n",
            "  inflating: food-11/testing/00/3002.jpg  \n",
            "  inflating: food-11/testing/00/3003.jpg  \n",
            "  inflating: food-11/testing/00/3004.jpg  \n",
            "  inflating: food-11/testing/00/3007.jpg  \n",
            "  inflating: food-11/testing/00/3008.jpg  \n",
            "  inflating: food-11/testing/00/3010.jpg  \n",
            "  inflating: food-11/testing/00/3012.jpg  \n",
            "  inflating: food-11/testing/00/3013.jpg  \n",
            "  inflating: food-11/testing/00/3022.jpg  \n",
            "  inflating: food-11/testing/00/3023.jpg  \n",
            "  inflating: food-11/testing/00/3024.jpg  \n",
            "  inflating: food-11/testing/00/3026.jpg  \n",
            "  inflating: food-11/testing/00/3033.jpg  \n",
            "  inflating: food-11/testing/00/3037.jpg  \n",
            "  inflating: food-11/testing/00/3038.jpg  \n",
            "  inflating: food-11/testing/00/3045.jpg  \n",
            "  inflating: food-11/testing/00/3048.jpg  \n",
            "  inflating: food-11/testing/00/3059.jpg  \n",
            "  inflating: food-11/testing/00/3065.jpg  \n",
            "  inflating: food-11/testing/00/3067.jpg  \n",
            "  inflating: food-11/testing/00/3068.jpg  \n",
            "  inflating: food-11/testing/00/3069.jpg  \n",
            "  inflating: food-11/testing/00/3070.jpg  \n",
            "  inflating: food-11/testing/00/3081.jpg  \n",
            "  inflating: food-11/testing/00/3083.jpg  \n",
            "  inflating: food-11/testing/00/3084.jpg  \n",
            "  inflating: food-11/testing/00/3088.jpg  \n",
            "  inflating: food-11/testing/00/3090.jpg  \n",
            "  inflating: food-11/testing/00/3091.jpg  \n",
            "  inflating: food-11/testing/00/3093.jpg  \n",
            "  inflating: food-11/testing/00/3097.jpg  \n",
            "  inflating: food-11/testing/00/3098.jpg  \n",
            "  inflating: food-11/testing/00/3099.jpg  \n",
            "  inflating: food-11/testing/00/3103.jpg  \n",
            "  inflating: food-11/testing/00/3106.jpg  \n",
            "  inflating: food-11/testing/00/3108.jpg  \n",
            "  inflating: food-11/testing/00/3110.jpg  \n",
            "  inflating: food-11/testing/00/3117.jpg  \n",
            "  inflating: food-11/testing/00/3132.jpg  \n",
            "  inflating: food-11/testing/00/3135.jpg  \n",
            "  inflating: food-11/testing/00/3141.jpg  \n",
            "  inflating: food-11/testing/00/3146.jpg  \n",
            "  inflating: food-11/testing/00/3147.jpg  \n",
            "  inflating: food-11/testing/00/3150.jpg  \n",
            "  inflating: food-11/testing/00/3152.jpg  \n",
            "  inflating: food-11/testing/00/3154.jpg  \n",
            "  inflating: food-11/testing/00/3156.jpg  \n",
            "  inflating: food-11/testing/00/3158.jpg  \n",
            "  inflating: food-11/testing/00/3159.jpg  \n",
            "  inflating: food-11/testing/00/3162.jpg  \n",
            "  inflating: food-11/testing/00/3165.jpg  \n",
            "  inflating: food-11/testing/00/3166.jpg  \n",
            "  inflating: food-11/testing/00/3167.jpg  \n",
            "  inflating: food-11/testing/00/3169.jpg  \n",
            "  inflating: food-11/testing/00/3172.jpg  \n",
            "  inflating: food-11/testing/00/3173.jpg  \n",
            "  inflating: food-11/testing/00/3175.jpg  \n",
            "  inflating: food-11/testing/00/3183.jpg  \n",
            "  inflating: food-11/testing/00/3189.jpg  \n",
            "  inflating: food-11/testing/00/3190.jpg  \n",
            "  inflating: food-11/testing/00/3191.jpg  \n",
            "  inflating: food-11/testing/00/3197.jpg  \n",
            "  inflating: food-11/testing/00/3198.jpg  \n",
            "  inflating: food-11/testing/00/3202.jpg  \n",
            "  inflating: food-11/testing/00/3206.jpg  \n",
            "  inflating: food-11/testing/00/3207.jpg  \n",
            "  inflating: food-11/testing/00/3210.jpg  \n",
            "  inflating: food-11/testing/00/3211.jpg  \n",
            "  inflating: food-11/testing/00/3214.jpg  \n",
            "  inflating: food-11/testing/00/3215.jpg  \n",
            "  inflating: food-11/testing/00/3220.jpg  \n",
            "  inflating: food-11/testing/00/3223.jpg  \n",
            "  inflating: food-11/testing/00/3229.jpg  \n",
            "  inflating: food-11/testing/00/3234.jpg  \n",
            "  inflating: food-11/testing/00/3235.jpg  \n",
            "  inflating: food-11/testing/00/3240.jpg  \n",
            "  inflating: food-11/testing/00/3241.jpg  \n",
            "  inflating: food-11/testing/00/3245.jpg  \n",
            "  inflating: food-11/testing/00/3251.jpg  \n",
            "  inflating: food-11/testing/00/3252.jpg  \n",
            "  inflating: food-11/testing/00/3255.jpg  \n",
            "  inflating: food-11/testing/00/3259.jpg  \n",
            "  inflating: food-11/testing/00/3262.jpg  \n",
            "  inflating: food-11/testing/00/3266.jpg  \n",
            "  inflating: food-11/testing/00/3269.jpg  \n",
            "  inflating: food-11/testing/00/3271.jpg  \n",
            "  inflating: food-11/testing/00/3273.jpg  \n",
            "  inflating: food-11/testing/00/3278.jpg  \n",
            "  inflating: food-11/testing/00/3282.jpg  \n",
            "  inflating: food-11/testing/00/3285.jpg  \n",
            "  inflating: food-11/testing/00/3286.jpg  \n",
            "  inflating: food-11/testing/00/3287.jpg  \n",
            "  inflating: food-11/testing/00/3292.jpg  \n",
            "  inflating: food-11/testing/00/3293.jpg  \n",
            "  inflating: food-11/testing/00/3295.jpg  \n",
            "  inflating: food-11/testing/00/3300.jpg  \n",
            "  inflating: food-11/testing/00/3313.jpg  \n",
            "  inflating: food-11/testing/00/3317.jpg  \n",
            "  inflating: food-11/testing/00/3321.jpg  \n",
            "  inflating: food-11/testing/00/3323.jpg  \n",
            "  inflating: food-11/testing/00/3327.jpg  \n",
            "  inflating: food-11/testing/00/3338.jpg  \n",
            "  inflating: food-11/testing/00/3339.jpg  \n",
            "  inflating: food-11/testing/00/0006.jpg  \n",
            "  inflating: food-11/testing/00/0021.jpg  \n",
            "  inflating: food-11/testing/00/0028.jpg  \n",
            "  inflating: food-11/testing/00/0033.jpg  \n",
            "  inflating: food-11/testing/00/0038.jpg  \n",
            "  inflating: food-11/testing/00/0040.jpg  \n",
            "  inflating: food-11/testing/00/0062.jpg  \n",
            "  inflating: food-11/testing/00/0073.jpg  \n",
            "  inflating: food-11/testing/00/0083.jpg  \n",
            "  inflating: food-11/testing/00/0084.jpg  \n",
            "  inflating: food-11/testing/00/0091.jpg  \n",
            "  inflating: food-11/testing/00/0095.jpg  \n",
            "  inflating: food-11/testing/00/0099.jpg  \n",
            "  inflating: food-11/testing/00/0104.jpg  \n",
            "  inflating: food-11/testing/00/0106.jpg  \n",
            "  inflating: food-11/testing/00/0119.jpg  \n",
            "  inflating: food-11/testing/00/0122.jpg  \n",
            "  inflating: food-11/testing/00/0135.jpg  \n",
            "  inflating: food-11/testing/00/0157.jpg  \n",
            "  inflating: food-11/testing/00/0169.jpg  \n",
            "  inflating: food-11/testing/00/0183.jpg  \n",
            "  inflating: food-11/testing/00/0188.jpg  \n",
            "  inflating: food-11/testing/00/0199.jpg  \n",
            "  inflating: food-11/testing/00/0229.jpg  \n",
            "  inflating: food-11/testing/00/0233.jpg  \n",
            "  inflating: food-11/testing/00/0235.jpg  \n",
            "  inflating: food-11/testing/00/0252.jpg  \n",
            "  inflating: food-11/testing/00/0257.jpg  \n",
            "  inflating: food-11/testing/00/0259.jpg  \n",
            "  inflating: food-11/testing/00/0283.jpg  \n",
            "  inflating: food-11/testing/00/0295.jpg  \n",
            "  inflating: food-11/testing/00/0311.jpg  \n",
            "  inflating: food-11/testing/00/0318.jpg  \n",
            "  inflating: food-11/testing/00/0363.jpg  \n",
            "  inflating: food-11/testing/00/0364.jpg  \n",
            "  inflating: food-11/testing/00/0370.jpg  \n",
            "  inflating: food-11/testing/00/0372.jpg  \n",
            "  inflating: food-11/testing/00/0392.jpg  \n",
            "  inflating: food-11/testing/00/0403.jpg  \n",
            "  inflating: food-11/testing/00/0412.jpg  \n",
            "  inflating: food-11/testing/00/0426.jpg  \n",
            "  inflating: food-11/testing/00/0459.jpg  \n",
            "  inflating: food-11/testing/00/0463.jpg  \n",
            "  inflating: food-11/testing/00/0471.jpg  \n",
            "  inflating: food-11/testing/00/0482.jpg  \n",
            "  inflating: food-11/testing/00/0490.jpg  \n",
            "  inflating: food-11/testing/00/0496.jpg  \n",
            "  inflating: food-11/testing/00/0503.jpg  \n",
            "  inflating: food-11/testing/00/0517.jpg  \n",
            "  inflating: food-11/testing/00/0524.jpg  \n",
            "  inflating: food-11/testing/00/0525.jpg  \n",
            "  inflating: food-11/testing/00/0547.jpg  \n",
            "  inflating: food-11/testing/00/0555.jpg  \n",
            "  inflating: food-11/testing/00/0561.jpg  \n",
            "  inflating: food-11/testing/00/0572.jpg  \n",
            "  inflating: food-11/testing/00/0584.jpg  \n",
            "  inflating: food-11/testing/00/0590.jpg  \n",
            "  inflating: food-11/testing/00/0606.jpg  \n",
            "  inflating: food-11/testing/00/0608.jpg  \n",
            "  inflating: food-11/testing/00/0609.jpg  \n",
            "  inflating: food-11/testing/00/0620.jpg  \n",
            "  inflating: food-11/testing/00/0635.jpg  \n",
            "  inflating: food-11/testing/00/0647.jpg  \n",
            "  inflating: food-11/testing/00/0661.jpg  \n",
            "  inflating: food-11/testing/00/0671.jpg  \n",
            "  inflating: food-11/testing/00/0672.jpg  \n",
            "  inflating: food-11/testing/00/0689.jpg  \n",
            "  inflating: food-11/testing/00/0716.jpg  \n",
            "  inflating: food-11/testing/00/0727.jpg  \n",
            "  inflating: food-11/testing/00/0736.jpg  \n",
            "  inflating: food-11/testing/00/0740.jpg  \n",
            "  inflating: food-11/testing/00/0749.jpg  \n",
            "  inflating: food-11/testing/00/0752.jpg  \n",
            "  inflating: food-11/testing/00/0780.jpg  \n",
            "  inflating: food-11/testing/00/0794.jpg  \n",
            "  inflating: food-11/testing/00/0796.jpg  \n",
            "  inflating: food-11/testing/00/0810.jpg  \n",
            "  inflating: food-11/testing/00/0813.jpg  \n",
            "  inflating: food-11/testing/00/0816.jpg  \n",
            "  inflating: food-11/testing/00/0822.jpg  \n",
            "  inflating: food-11/testing/00/0840.jpg  \n",
            "  inflating: food-11/testing/00/0850.jpg  \n",
            "  inflating: food-11/testing/00/0851.jpg  \n",
            "  inflating: food-11/testing/00/0858.jpg  \n",
            "  inflating: food-11/testing/00/0860.jpg  \n",
            "  inflating: food-11/testing/00/0864.jpg  \n",
            "  inflating: food-11/testing/00/0883.jpg  \n",
            "  inflating: food-11/testing/00/0897.jpg  \n",
            "  inflating: food-11/testing/00/0906.jpg  \n",
            "  inflating: food-11/testing/00/0908.jpg  \n",
            "  inflating: food-11/testing/00/0917.jpg  \n",
            "  inflating: food-11/testing/00/0952.jpg  \n",
            "  inflating: food-11/testing/00/0972.jpg  \n",
            "  inflating: food-11/testing/00/0975.jpg  \n",
            "  inflating: food-11/testing/00/0978.jpg  \n",
            "  inflating: food-11/testing/00/0986.jpg  \n",
            "  inflating: food-11/testing/00/0993.jpg  \n",
            "  inflating: food-11/testing/00/0994.jpg  \n",
            "  inflating: food-11/testing/00/1021.jpg  \n",
            "  inflating: food-11/testing/00/1035.jpg  \n",
            "  inflating: food-11/testing/00/1038.jpg  \n",
            "  inflating: food-11/testing/00/1048.jpg  \n",
            "  inflating: food-11/testing/00/1052.jpg  \n",
            "  inflating: food-11/testing/00/1089.jpg  \n",
            "  inflating: food-11/testing/00/1094.jpg  \n",
            "  inflating: food-11/testing/00/1102.jpg  \n",
            "  inflating: food-11/testing/00/1113.jpg  \n",
            "  inflating: food-11/testing/00/1114.jpg  \n",
            "  inflating: food-11/testing/00/1123.jpg  \n",
            "  inflating: food-11/testing/00/1146.jpg  \n",
            "  inflating: food-11/testing/00/1154.jpg  \n",
            "  inflating: food-11/testing/00/1155.jpg  \n",
            "  inflating: food-11/testing/00/1156.jpg  \n",
            "  inflating: food-11/testing/00/1164.jpg  \n",
            "  inflating: food-11/testing/00/1173.jpg  \n",
            "  inflating: food-11/testing/00/1176.jpg  \n",
            "  inflating: food-11/testing/00/1181.jpg  \n",
            "  inflating: food-11/testing/00/1191.jpg  \n",
            "  inflating: food-11/testing/00/1216.jpg  \n",
            "  inflating: food-11/testing/00/1217.jpg  \n",
            "  inflating: food-11/testing/00/1226.jpg  \n",
            "  inflating: food-11/testing/00/1249.jpg  \n",
            "  inflating: food-11/testing/00/1256.jpg  \n",
            "  inflating: food-11/testing/00/1268.jpg  \n",
            "  inflating: food-11/testing/00/1282.jpg  \n",
            "  inflating: food-11/testing/00/1295.jpg  \n",
            "  inflating: food-11/testing/00/1297.jpg  \n",
            "  inflating: food-11/testing/00/1300.jpg  \n",
            "  inflating: food-11/testing/00/1301.jpg  \n",
            "  inflating: food-11/testing/00/1310.jpg  \n",
            "  inflating: food-11/testing/00/1311.jpg  \n",
            "  inflating: food-11/testing/00/1315.jpg  \n",
            "  inflating: food-11/testing/00/1317.jpg  \n",
            "  inflating: food-11/testing/00/1338.jpg  \n",
            "  inflating: food-11/testing/00/1340.jpg  \n",
            "  inflating: food-11/testing/00/1345.jpg  \n",
            "  inflating: food-11/testing/00/1349.jpg  \n",
            "  inflating: food-11/testing/00/1354.jpg  \n",
            "  inflating: food-11/testing/00/1359.jpg  \n",
            "  inflating: food-11/testing/00/1368.jpg  \n",
            "  inflating: food-11/testing/00/1378.jpg  \n",
            "  inflating: food-11/testing/00/1380.jpg  \n",
            "  inflating: food-11/testing/00/1387.jpg  \n",
            "  inflating: food-11/testing/00/1388.jpg  \n",
            "  inflating: food-11/testing/00/1402.jpg  \n",
            "  inflating: food-11/testing/00/1409.jpg  \n",
            "  inflating: food-11/testing/00/1412.jpg  \n",
            "  inflating: food-11/testing/00/1421.jpg  \n",
            "  inflating: food-11/testing/00/1436.jpg  \n",
            "  inflating: food-11/testing/00/1441.jpg  \n",
            "  inflating: food-11/testing/00/1452.jpg  \n",
            "  inflating: food-11/testing/00/1453.jpg  \n",
            "  inflating: food-11/testing/00/1455.jpg  \n",
            "  inflating: food-11/testing/00/1480.jpg  \n",
            "  inflating: food-11/testing/00/1499.jpg  \n",
            "  inflating: food-11/testing/00/1510.jpg  \n",
            "  inflating: food-11/testing/00/1521.jpg  \n",
            "  inflating: food-11/testing/00/1524.jpg  \n",
            "  inflating: food-11/testing/00/1535.jpg  \n",
            "  inflating: food-11/testing/00/1541.jpg  \n",
            "  inflating: food-11/testing/00/1548.jpg  \n",
            "  inflating: food-11/testing/00/1562.jpg  \n",
            "  inflating: food-11/testing/00/1567.jpg  \n",
            "  inflating: food-11/testing/00/1580.jpg  \n",
            "  inflating: food-11/testing/00/1585.jpg  \n",
            "  inflating: food-11/testing/00/1586.jpg  \n",
            "  inflating: food-11/testing/00/1587.jpg  \n",
            "  inflating: food-11/testing/00/1597.jpg  \n",
            "  inflating: food-11/testing/00/1599.jpg  \n",
            "  inflating: food-11/testing/00/1600.jpg  \n",
            "  inflating: food-11/testing/00/1605.jpg  \n",
            "  inflating: food-11/testing/00/1612.jpg  \n",
            "  inflating: food-11/testing/00/1627.jpg  \n",
            "  inflating: food-11/testing/00/1671.jpg  \n",
            "  inflating: food-11/testing/00/1677.jpg  \n",
            "  inflating: food-11/testing/00/1691.jpg  \n",
            "  inflating: food-11/testing/00/1697.jpg  \n",
            "  inflating: food-11/testing/00/1721.jpg  \n",
            "  inflating: food-11/testing/00/1722.jpg  \n",
            "  inflating: food-11/testing/00/1729.jpg  \n",
            "  inflating: food-11/testing/00/1747.jpg  \n",
            "  inflating: food-11/testing/00/1751.jpg  \n",
            "  inflating: food-11/testing/00/1753.jpg  \n",
            "  inflating: food-11/testing/00/1756.jpg  \n",
            "  inflating: food-11/testing/00/1767.jpg  \n",
            "  inflating: food-11/testing/00/1774.jpg  \n",
            "  inflating: food-11/testing/00/1778.jpg  \n",
            "  inflating: food-11/testing/00/1783.jpg  \n",
            "  inflating: food-11/testing/00/1786.jpg  \n",
            "  inflating: food-11/testing/00/1817.jpg  \n",
            "  inflating: food-11/testing/00/1881.jpg  \n",
            "  inflating: food-11/testing/00/1890.jpg  \n",
            "  inflating: food-11/testing/00/1898.jpg  \n",
            "  inflating: food-11/testing/00/1899.jpg  \n",
            "  inflating: food-11/testing/00/1925.jpg  \n",
            "  inflating: food-11/testing/00/1933.jpg  \n",
            "  inflating: food-11/testing/00/1937.jpg  \n",
            "  inflating: food-11/testing/00/1942.jpg  \n",
            "  inflating: food-11/testing/00/1945.jpg  \n",
            "  inflating: food-11/testing/00/1957.jpg  \n",
            "  inflating: food-11/testing/00/1958.jpg  \n",
            "  inflating: food-11/testing/00/1959.jpg  \n",
            "  inflating: food-11/testing/00/1962.jpg  \n",
            "  inflating: food-11/testing/00/1973.jpg  \n",
            "  inflating: food-11/testing/00/1977.jpg  \n",
            "  inflating: food-11/testing/00/1979.jpg  \n",
            "  inflating: food-11/testing/00/1980.jpg  \n",
            "  inflating: food-11/testing/00/1982.jpg  \n",
            "  inflating: food-11/testing/00/1983.jpg  \n",
            "  inflating: food-11/testing/00/2007.jpg  \n",
            "  inflating: food-11/testing/00/2026.jpg  \n",
            "  inflating: food-11/testing/00/2029.jpg  \n",
            "  inflating: food-11/testing/00/2041.jpg  \n",
            "  inflating: food-11/testing/00/2047.jpg  \n",
            "  inflating: food-11/testing/00/2065.jpg  \n",
            "  inflating: food-11/testing/00/2085.jpg  \n",
            "  inflating: food-11/testing/00/2092.jpg  \n",
            "  inflating: food-11/testing/00/2106.jpg  \n",
            "  inflating: food-11/testing/00/2126.jpg  \n",
            "  inflating: food-11/testing/00/2136.jpg  \n",
            "  inflating: food-11/testing/00/2137.jpg  \n",
            "  inflating: food-11/testing/00/2147.jpg  \n",
            "  inflating: food-11/testing/00/2148.jpg  \n",
            "  inflating: food-11/testing/00/2160.jpg  \n",
            "  inflating: food-11/testing/00/2179.jpg  \n",
            "  inflating: food-11/testing/00/2182.jpg  \n",
            "  inflating: food-11/testing/00/2200.jpg  \n",
            "  inflating: food-11/testing/00/2202.jpg  \n",
            "  inflating: food-11/testing/00/2205.jpg  \n",
            "  inflating: food-11/testing/00/2206.jpg  \n",
            "  inflating: food-11/testing/00/2213.jpg  \n",
            "  inflating: food-11/testing/00/2237.jpg  \n",
            "  inflating: food-11/testing/00/2244.jpg  \n",
            "  inflating: food-11/testing/00/2251.jpg  \n",
            "  inflating: food-11/testing/00/2256.jpg  \n",
            "  inflating: food-11/testing/00/2274.jpg  \n",
            "  inflating: food-11/testing/00/2296.jpg  \n",
            "  inflating: food-11/testing/00/2333.jpg  \n",
            "  inflating: food-11/testing/00/2336.jpg  \n",
            "  inflating: food-11/testing/00/2344.jpg  \n",
            "  inflating: food-11/testing/00/2365.jpg  \n",
            "  inflating: food-11/testing/00/2366.jpg  \n",
            "  inflating: food-11/testing/00/2368.jpg  \n",
            "  inflating: food-11/testing/00/2369.jpg  \n",
            "  inflating: food-11/testing/00/2379.jpg  \n",
            "  inflating: food-11/testing/00/2402.jpg  \n",
            "  inflating: food-11/testing/00/2413.jpg  \n",
            "  inflating: food-11/testing/00/2417.jpg  \n",
            "  inflating: food-11/testing/00/2419.jpg  \n",
            "  inflating: food-11/testing/00/2427.jpg  \n",
            "  inflating: food-11/testing/00/2428.jpg  \n",
            "  inflating: food-11/testing/00/2443.jpg  \n",
            "  inflating: food-11/testing/00/2444.jpg  \n",
            "  inflating: food-11/testing/00/2488.jpg  \n",
            "  inflating: food-11/testing/00/2495.jpg  \n",
            "  inflating: food-11/testing/00/2499.jpg  \n",
            "  inflating: food-11/testing/00/2500.jpg  \n",
            "  inflating: food-11/testing/00/2507.jpg  \n",
            "  inflating: food-11/testing/00/2516.jpg  \n",
            "  inflating: food-11/testing/00/2529.jpg  \n",
            "  inflating: food-11/testing/00/2536.jpg  \n",
            "  inflating: food-11/testing/00/2553.jpg  \n",
            "  inflating: food-11/testing/00/2556.jpg  \n",
            "  inflating: food-11/testing/00/2566.jpg  \n",
            "  inflating: food-11/testing/00/2567.jpg  \n",
            "  inflating: food-11/testing/00/2569.jpg  \n",
            "  inflating: food-11/testing/00/2601.jpg  \n",
            "  inflating: food-11/testing/00/2606.jpg  \n",
            "  inflating: food-11/testing/00/2615.jpg  \n",
            "  inflating: food-11/testing/00/2623.jpg  \n",
            "  inflating: food-11/testing/00/2625.jpg  \n",
            "  inflating: food-11/testing/00/2630.jpg  \n",
            "  inflating: food-11/testing/00/2637.jpg  \n",
            "  inflating: food-11/testing/00/2645.jpg  \n",
            "  inflating: food-11/testing/00/2660.jpg  \n",
            "  inflating: food-11/testing/00/2689.jpg  \n",
            "  inflating: food-11/testing/00/2692.jpg  \n",
            "  inflating: food-11/testing/00/2696.jpg  \n",
            "  inflating: food-11/testing/00/2697.jpg  \n",
            "  inflating: food-11/testing/00/2703.jpg  \n",
            "  inflating: food-11/testing/00/2706.jpg  \n",
            "  inflating: food-11/testing/00/2711.jpg  \n",
            "  inflating: food-11/testing/00/2712.jpg  \n",
            "  inflating: food-11/testing/00/2737.jpg  \n",
            "  inflating: food-11/testing/00/2739.jpg  \n",
            "  inflating: food-11/testing/00/2764.jpg  \n",
            "  inflating: food-11/testing/00/2768.jpg  \n",
            "  inflating: food-11/testing/00/2793.jpg  \n",
            "  inflating: food-11/testing/00/2820.jpg  \n",
            "  inflating: food-11/testing/00/2825.jpg  \n",
            "  inflating: food-11/testing/00/2838.jpg  \n",
            "  inflating: food-11/testing/00/2842.jpg  \n",
            "  inflating: food-11/testing/00/2843.jpg  \n",
            "  inflating: food-11/testing/00/2848.jpg  \n",
            "  inflating: food-11/testing/00/2860.jpg  \n",
            "  inflating: food-11/testing/00/2867.jpg  \n",
            "  inflating: food-11/testing/00/2871.jpg  \n",
            "  inflating: food-11/testing/00/2877.jpg  \n",
            "  inflating: food-11/testing/00/2904.jpg  \n",
            "  inflating: food-11/testing/00/2914.jpg  \n",
            "  inflating: food-11/testing/00/2934.jpg  \n",
            "  inflating: food-11/testing/00/2959.jpg  \n",
            "  inflating: food-11/testing/00/2989.jpg  \n",
            "  inflating: food-11/testing/00/3018.jpg  \n",
            "  inflating: food-11/testing/00/3027.jpg  \n",
            "  inflating: food-11/testing/00/3030.jpg  \n",
            "  inflating: food-11/testing/00/3039.jpg  \n",
            "  inflating: food-11/testing/00/3046.jpg  \n",
            "  inflating: food-11/testing/00/3054.jpg  \n",
            "  inflating: food-11/testing/00/3076.jpg  \n",
            "  inflating: food-11/testing/00/3078.jpg  \n",
            "  inflating: food-11/testing/00/3092.jpg  \n",
            "  inflating: food-11/testing/00/3111.jpg  \n",
            "  inflating: food-11/testing/00/3127.jpg  \n",
            "  inflating: food-11/testing/00/3137.jpg  \n",
            "  inflating: food-11/testing/00/3140.jpg  \n",
            "  inflating: food-11/testing/00/3145.jpg  \n",
            "  inflating: food-11/testing/00/3148.jpg  \n",
            "  inflating: food-11/testing/00/3164.jpg  \n",
            "  inflating: food-11/testing/00/3176.jpg  \n",
            "  inflating: food-11/testing/00/3181.jpg  \n",
            "  inflating: food-11/testing/00/3185.jpg  \n",
            "  inflating: food-11/testing/00/3186.jpg  \n",
            "  inflating: food-11/testing/00/3192.jpg  \n",
            "  inflating: food-11/testing/00/3200.jpg  \n",
            "  inflating: food-11/testing/00/3205.jpg  \n",
            "  inflating: food-11/testing/00/3209.jpg  \n",
            "  inflating: food-11/testing/00/3228.jpg  \n",
            "  inflating: food-11/testing/00/3239.jpg  \n",
            "  inflating: food-11/testing/00/3257.jpg  \n",
            "  inflating: food-11/testing/00/3260.jpg  \n",
            "  inflating: food-11/testing/00/3279.jpg  \n",
            "  inflating: food-11/testing/00/3280.jpg  \n",
            "  inflating: food-11/testing/00/3290.jpg  \n",
            "  inflating: food-11/testing/00/3291.jpg  \n",
            "  inflating: food-11/testing/00/3302.jpg  \n",
            "  inflating: food-11/testing/00/3310.jpg  \n",
            "  inflating: food-11/testing/00/3311.jpg  \n",
            "  inflating: food-11/testing/00/3312.jpg  \n",
            "  inflating: food-11/testing/00/3314.jpg  \n",
            "  inflating: food-11/testing/00/3322.jpg  \n",
            "  inflating: food-11/testing/00/3328.jpg  \n",
            "  inflating: food-11/testing/00/3332.jpg  \n",
            "  inflating: food-11/testing/00/3333.jpg  \n",
            "  inflating: food-11/testing/00/3334.jpg  \n",
            "  inflating: food-11/testing/00/3341.jpg  \n",
            "  inflating: food-11/testing/00/3343.jpg  \n"
          ]
        }
      ],
      "source": [
        "!wget \"https://www.dropbox.com/s/7yl5rra84ia0k8f/food-11.zip?dl=0\" -O food-11.zip\n",
        "!unzip food-11.zip"
      ]
    },
    {
      "cell_type": "markdown",
      "metadata": {
        "id": "BBVSCWWhp6uq"
      },
      "source": [
        "## **Import Packages**\n",
        "\n",
        "First, we need to import packages that will be used later.\n",
        "\n",
        "In this homework, we highly rely on **torchvision**, a library of PyTorch."
      ]
    },
    {
      "cell_type": "code",
      "execution_count": 2,
      "metadata": {
        "colab": {
          "base_uri": "https://localhost:8080/"
        },
        "id": "2ZTjSaUYUkLO",
        "outputId": "13aba491-5b85-4799-c258-83e690656342"
      },
      "outputs": [
        {
          "output_type": "stream",
          "name": "stdout",
          "text": [
            "Looking in indexes: https://pypi.org/simple, https://us-python.pkg.dev/colab-wheels/public/simple/\n",
            "Requirement already satisfied: torch in /usr/local/lib/python3.9/dist-packages (2.0.0+cu118)\n",
            "Requirement already satisfied: torchvision in /usr/local/lib/python3.9/dist-packages (0.15.1+cu118)\n",
            "Requirement already satisfied: sympy in /usr/local/lib/python3.9/dist-packages (from torch) (1.11.1)\n",
            "Requirement already satisfied: triton==2.0.0 in /usr/local/lib/python3.9/dist-packages (from torch) (2.0.0)\n",
            "Requirement already satisfied: networkx in /usr/local/lib/python3.9/dist-packages (from torch) (3.1)\n",
            "Requirement already satisfied: typing-extensions in /usr/local/lib/python3.9/dist-packages (from torch) (4.5.0)\n",
            "Requirement already satisfied: jinja2 in /usr/local/lib/python3.9/dist-packages (from torch) (3.1.2)\n",
            "Requirement already satisfied: filelock in /usr/local/lib/python3.9/dist-packages (from torch) (3.11.0)\n",
            "Requirement already satisfied: lit in /usr/local/lib/python3.9/dist-packages (from triton==2.0.0->torch) (16.0.0)\n",
            "Requirement already satisfied: cmake in /usr/local/lib/python3.9/dist-packages (from triton==2.0.0->torch) (3.25.2)\n",
            "Requirement already satisfied: requests in /usr/local/lib/python3.9/dist-packages (from torchvision) (2.27.1)\n",
            "Requirement already satisfied: numpy in /usr/local/lib/python3.9/dist-packages (from torchvision) (1.22.4)\n",
            "Requirement already satisfied: pillow!=8.3.*,>=5.3.0 in /usr/local/lib/python3.9/dist-packages (from torchvision) (8.4.0)\n",
            "Requirement already satisfied: MarkupSafe>=2.0 in /usr/local/lib/python3.9/dist-packages (from jinja2->torch) (2.1.2)\n",
            "Requirement already satisfied: idna<4,>=2.5 in /usr/local/lib/python3.9/dist-packages (from requests->torchvision) (3.4)\n",
            "Requirement already satisfied: charset-normalizer~=2.0.0 in /usr/local/lib/python3.9/dist-packages (from requests->torchvision) (2.0.12)\n",
            "Requirement already satisfied: urllib3<1.27,>=1.21.1 in /usr/local/lib/python3.9/dist-packages (from requests->torchvision) (1.26.15)\n",
            "Requirement already satisfied: certifi>=2017.4.17 in /usr/local/lib/python3.9/dist-packages (from requests->torchvision) (2022.12.7)\n",
            "Requirement already satisfied: mpmath>=0.19 in /usr/local/lib/python3.9/dist-packages (from sympy->torch) (1.3.0)\n"
          ]
        }
      ],
      "source": [
        "!pip install --upgrade torch torchvision"
      ]
    },
    {
      "cell_type": "code",
      "execution_count": 3,
      "metadata": {
        "id": "9sVrKci4PUFW"
      },
      "outputs": [],
      "source": [
        "# Import necessary packages.\n",
        "import numpy as np\n",
        "import torch\n",
        "import torch.nn as nn\n",
        "import torchvision.transforms as transforms\n",
        "from PIL import Image\n",
        "# \"ConcatDataset\" and \"Subset\" are possibly useful when doing semi-supervised learning.\n",
        "from torch.utils.data import ConcatDataset, DataLoader, Subset\n",
        "from torchvision.datasets import DatasetFolder\n",
        "\n",
        "# This is for the progress bar.\n",
        "from tqdm import tqdm"
      ]
    },
    {
      "cell_type": "markdown",
      "metadata": {
        "id": "F0i9ZCPrOVN_"
      },
      "source": [
        "## **Dataset, Data Loader, and Transforms**\n",
        "\n",
        "Torchvision provides lots of useful utilities for image preprocessing, data wrapping as well as data augmentation.\n",
        "\n",
        "Here, since our data are stored in folders by class labels, we can directly apply **torchvision.datasets.DatasetFolder** for wrapping data without much effort.\n",
        "\n",
        "Please refer to [PyTorch official website](https://pytorch.org/vision/stable/transforms.html) for details about different transforms."
      ]
    },
    {
      "cell_type": "code",
      "execution_count": 4,
      "metadata": {
        "id": "gKd2abixQghI"
      },
      "outputs": [],
      "source": [
        "train_tfm = transforms.Compose([\n",
        "    transforms.RandomRotation(40),\n",
        "    transforms.RandomAffine(degrees=0, translate=(0.2, 0.2), shear=0.2),\n",
        "    transforms.RandomHorizontalFlip(p=0.5),\n",
        "    transforms.Resize((224, 224)),\n",
        "    transforms.ToTensor(),\n",
        "    transforms.Normalize(\n",
        "        mean=[0.485,0.456,0.406],\n",
        "        std=[0.229,0.224,0.225]\n",
        "    )\n",
        "])\n",
        "\n",
        "test_tfm = transforms.Compose([\n",
        "    transforms.Resize((224, 224)),\n",
        "    transforms.ToTensor(),\n",
        "    transforms.Normalize(\n",
        "        mean=[0.485,0.456,0.406],\n",
        "        std=[0.229,0.224,0.225]\n",
        "    )\n",
        "])\n"
      ]
    },
    {
      "cell_type": "code",
      "execution_count": 5,
      "metadata": {
        "id": "qz6jeMnkQl0_"
      },
      "outputs": [],
      "source": [
        "batch_size = 32\n",
        "\n",
        "train_set = DatasetFolder(\"food-11/training/labeled\", loader=lambda x: Image.open(x), extensions=\"jpg\", transform=train_tfm)\n",
        "valid_set = DatasetFolder(\"food-11/validation\", loader=lambda x: Image.open(x), extensions=\"jpg\", transform=test_tfm)\n",
        "unlabeled_set = DatasetFolder(\"food-11/training/unlabeled\", loader=lambda x: Image.open(x), extensions=\"jpg\", transform=train_tfm)\n",
        "test_set = DatasetFolder(\"food-11/testing\", loader=lambda x: Image.open(x), extensions=\"jpg\", transform=test_tfm)\n",
        "\n",
        "train_loader = DataLoader(train_set, batch_size=batch_size, shuffle=True, num_workers=2, pin_memory=True)\n",
        "valid_loader = DataLoader(valid_set, batch_size=batch_size, shuffle=True, num_workers=2, pin_memory=True)\n",
        "test_loader = DataLoader(test_set, batch_size=batch_size, shuffle=False)"
      ]
    },
    {
      "cell_type": "markdown",
      "metadata": {
        "id": "j9YhZo7POPYG"
      },
      "source": [
        "## **Model**\n",
        "\n",
        "The basic model here is simply a stack of convolutional layers followed by some fully-connected layers.\n",
        "\n",
        "Since there are three channels for a color image (RGB), the input channels of the network must be three.\n",
        "In each convolutional layer, typically the channels of inputs grow, while the height and width shrink (or remain unchanged, according to some hyperparameters like stride and padding).\n",
        "\n",
        "Before fed into fully-connected layers, the feature map must be flattened into a single one-dimensional vector (for each image).\n",
        "These features are then transformed by the fully-connected layers, and finally, we obtain the \"logits\" for each class.\n",
        "\n",
        "### **WARNING -- You Must Know**\n",
        "You are free to modify the model architecture here for further improvement.\n",
        "However, if you want to use some well-known architectures such as ResNet50, please make sure **NOT** to load the pre-trained weights.\n",
        "Using such pre-trained models is considered cheating and therefore you will be punished.\n",
        "Similarly, it is your responsibility to make sure no pre-trained weights are used if you use **torch.hub** to load any modules.\n",
        "\n",
        "For example, if you use ResNet-18 as your model:\n",
        "\n",
        "model = torchvision.models.resnet18(pretrained=**False**) → This is fine.\n",
        "\n",
        "model = torchvision.models.resnet18(pretrained=**True**)  → This is **NOT** allowed."
      ]
    },
    {
      "cell_type": "code",
      "execution_count": 6,
      "metadata": {
        "id": "Y1c-GwrMQqMl"
      },
      "outputs": [],
      "source": [
        "class Classifier(nn.Module):\n",
        "    def __init__(self):\n",
        "        super(Classifier, self).__init__()\n",
        "        self.cnn_layers = nn.Sequential(\n",
        "            nn.Conv2d(3, 64, 3),\n",
        "            nn.BatchNorm2d(64),\n",
        "            nn.ReLU(),\n",
        "            nn.MaxPool2d(2),\n",
        "            nn.Conv2d(64, 128, 3),\n",
        "            nn.BatchNorm2d(128),\n",
        "            nn.ReLU(),\n",
        "            nn.MaxPool2d(2),\n",
        "            nn.Conv2d(128, 256, 3),\n",
        "            nn.BatchNorm2d(256),\n",
        "            nn.ReLU(),\n",
        "            nn.MaxPool2d(2),\n",
        "            nn.Conv2d(256, 256, 3),\n",
        "            nn.BatchNorm2d(256),\n",
        "            nn.ReLU(),\n",
        "            nn.MaxPool2d(2),\n",
        "            nn.Conv2d(256, 512, 3),\n",
        "            nn.BatchNorm2d(512),\n",
        "            nn.ReLU(),\n",
        "            nn.MaxPool2d(2)\n",
        "        )\n",
        "        self.fc_layers = nn.Sequential(\n",
        "            nn.Dropout(0.5),\n",
        "            nn.Linear(12800, 512),\n",
        "            nn.ReLU(),\n",
        "            nn.BatchNorm1d(512),\n",
        "            nn.Dropout(0.5),\n",
        "            nn.Linear(512, 11)\n",
        "        )\n",
        "\n",
        "    def forward(self, x):\n",
        "        x = self.cnn_layers(x)\n",
        "        x = x.flatten(1)\n",
        "        x = self.fc_layers(x)\n",
        "        return x"
      ]
    },
    {
      "cell_type": "code",
      "execution_count": 7,
      "metadata": {
        "id": "swlf5EwA-hxA"
      },
      "outputs": [],
      "source": [
        "from torch.utils.data import Dataset\n",
        "class PseudoDataset(Dataset):\n",
        "    def __init__(self, dataset, labels):\n",
        "        self.data = dataset\n",
        "        self.target = torch.LongTensor(labels)\n",
        "    def __getitem__(self, idx):\n",
        "        return self.data[idx][0], self.target[idx].item()\n",
        "    def __len__(self):\n",
        "        return len(self.data)\n",
        "\n",
        "def get_pseudo_labels(dataset, model, threshold=0.65):\n",
        "    device = \"cuda\" if torch.cuda.is_available() else \"cpu\"\n",
        "    data_loader = DataLoader(dataset, batch_size=batch_size, shuffle=False)\n",
        "\n",
        "    model.eval()\n",
        "    softmax = nn.Softmax(dim=-1)\n",
        "\n",
        "    masks = []\n",
        "    labels = []\n",
        "    for batch in tqdm(data_loader):\n",
        "        img, _ = batch\n",
        "        with torch.no_grad():\n",
        "            logits = model(img.to(device))\n",
        "        probs = softmax(logits)\n",
        "        preds = torch.max(probs, 1)[1]\n",
        "        mask = torch.max(probs, 1)[0] > threshold\n",
        "        masks.append(mask)\n",
        "        labels.append(preds)\n",
        "    masks = torch.cat(masks, dim=0).cpu().numpy()\n",
        "    labels = torch.cat(labels, dim=0).cpu().numpy()\n",
        "    indices = torch.arange(0, len(dataset))[masks]\n",
        "    dataset = Subset(dataset, indices)\n",
        "    labels = labels[indices]\n",
        "    dataset = PseudoDataset(dataset, labels)\n",
        "\n",
        "    model.train()\n",
        "    return dataset"
      ]
    },
    {
      "cell_type": "code",
      "execution_count": 8,
      "metadata": {
        "id": "5zu8gh0bTyvw"
      },
      "outputs": [],
      "source": [
        "def same_seeds(seed):\n",
        "    torch.manual_seed(seed)\n",
        "    if torch.cuda.is_available():\n",
        "        torch.cuda.manual_seed(seed)\n",
        "        torch.cuda.manual_seed_all(seed)  \n",
        "    np.random.seed(seed)  \n",
        "    torch.backends.cudnn.benchmark = False\n",
        "    torch.backends.cudnn.deterministic = True"
      ]
    },
    {
      "cell_type": "code",
      "execution_count": 9,
      "metadata": {
        "id": "eZ4Lo_G7N3BU"
      },
      "outputs": [],
      "source": [
        "same_seeds(411185050)\n",
        "device = \"cuda\" if torch.cuda.is_available() else \"cpu\"\n",
        "\n",
        "model = Classifier().to(device)\n",
        "model.load_state_dict(torch.load('./model.ckpt 12.39.49 AM'))\n",
        "#torch._dynamo.reset()\n",
        "#torch._dynamo.config.suppress_errors = True\n",
        "#torch._dynamo.config.verbose=True\n",
        "opt_model = torch.compile(model, mode=\"max-autotune\")\n",
        "model.device = device\n",
        "opt_model.device = device\n",
        "\n",
        "criterion = nn.CrossEntropyLoss()\n",
        "optimizer = torch.optim.Adam(model.parameters(), lr=1e-3, weight_decay=1e-4)"
      ]
    },
    {
      "cell_type": "code",
      "execution_count": 10,
      "metadata": {
        "colab": {
          "base_uri": "https://localhost:8080/"
        },
        "id": "PHaFE-8oQtkC",
        "outputId": "949293f1-4dc7-4426-e44b-3797f407f14b"
      },
      "outputs": [
        {
          "metadata": {
            "tags": null
          },
          "name": "stderr",
          "output_type": "stream",
          "text": [
            "  0%|          | 0/97 [00:00<?, ?it/s][2023-04-12 04:26:19,180] torch._inductor.utils: [WARNING] using triton random, expect difference from eager\n",
            "[2023-04-12 04:26:19,193] torch._inductor.utils: [WARNING] not enough cuda cores to use max_autotune mode\n",
            "100%|██████████| 97/97 [02:48<00:00,  1.74s/it]\n"
          ]
        },
        {
          "metadata": {
            "tags": null
          },
          "name": "stdout",
          "output_type": "stream",
          "text": [
            "[ Train | 001/200 ] loss = 0.26824, acc = 0.90754\n"
          ]
        },
        {
          "metadata": {
            "tags": null
          },
          "name": "stderr",
          "output_type": "stream",
          "text": [
            "100%|██████████| 21/21 [00:05<00:00,  3.89it/s]\n"
          ]
        },
        {
          "metadata": {
            "tags": null
          },
          "name": "stdout",
          "output_type": "stream",
          "text": [
            "[ Valid | 001/200 ] loss = 0.84214, acc = 0.78452\n",
            "Saving model with acc 0.78452\n"
          ]
        },
        {
          "metadata": {
            "tags": null
          },
          "name": "stderr",
          "output_type": "stream",
          "text": [
            "100%|██████████| 97/97 [00:32<00:00,  3.00it/s]\n"
          ]
        },
        {
          "metadata": {
            "tags": null
          },
          "name": "stdout",
          "output_type": "stream",
          "text": [
            "[ Train | 002/200 ] loss = 0.22632, acc = 0.92332\n"
          ]
        },
        {
          "metadata": {
            "tags": null
          },
          "name": "stderr",
          "output_type": "stream",
          "text": [
            "100%|██████████| 21/21 [00:06<00:00,  3.47it/s]\n"
          ]
        },
        {
          "metadata": {
            "tags": null
          },
          "name": "stdout",
          "output_type": "stream",
          "text": [
            "[ Valid | 002/200 ] loss = 0.88957, acc = 0.77470\n"
          ]
        },
        {
          "metadata": {
            "tags": null
          },
          "name": "stderr",
          "output_type": "stream",
          "text": [
            "100%|██████████| 97/97 [00:31<00:00,  3.05it/s]\n"
          ]
        },
        {
          "metadata": {
            "tags": null
          },
          "name": "stdout",
          "output_type": "stream",
          "text": [
            "[ Train | 003/200 ] loss = 0.20889, acc = 0.92848\n"
          ]
        },
        {
          "metadata": {
            "tags": null
          },
          "name": "stderr",
          "output_type": "stream",
          "text": [
            "100%|██████████| 21/21 [00:05<00:00,  3.90it/s]\n"
          ]
        },
        {
          "metadata": {
            "tags": null
          },
          "name": "stdout",
          "output_type": "stream",
          "text": [
            "[ Valid | 003/200 ] loss = 0.74453, acc = 0.81280\n",
            "Saving model with acc 0.81280\n"
          ]
        },
        {
          "metadata": {
            "tags": null
          },
          "name": "stderr",
          "output_type": "stream",
          "text": [
            "100%|██████████| 97/97 [00:32<00:00,  2.97it/s]\n"
          ]
        },
        {
          "metadata": {
            "tags": null
          },
          "name": "stdout",
          "output_type": "stream",
          "text": [
            "[ Train | 004/200 ] loss = 0.17269, acc = 0.94362\n"
          ]
        },
        {
          "metadata": {
            "tags": null
          },
          "name": "stderr",
          "output_type": "stream",
          "text": [
            "100%|██████████| 21/21 [00:05<00:00,  3.54it/s]\n"
          ]
        },
        {
          "metadata": {
            "tags": null
          },
          "name": "stdout",
          "output_type": "stream",
          "text": [
            "[ Valid | 004/200 ] loss = 0.88948, acc = 0.78542\n"
          ]
        },
        {
          "metadata": {
            "tags": null
          },
          "name": "stderr",
          "output_type": "stream",
          "text": [
            "100%|██████████| 97/97 [00:30<00:00,  3.17it/s]\n"
          ]
        },
        {
          "metadata": {
            "tags": null
          },
          "name": "stdout",
          "output_type": "stream",
          "text": [
            "[ Train | 005/200 ] loss = 0.20078, acc = 0.93299\n"
          ]
        },
        {
          "metadata": {
            "tags": null
          },
          "name": "stderr",
          "output_type": "stream",
          "text": [
            "100%|██████████| 21/21 [00:06<00:00,  3.14it/s]\n"
          ]
        },
        {
          "metadata": {
            "tags": null
          },
          "name": "stdout",
          "output_type": "stream",
          "text": [
            "[ Valid | 005/200 ] loss = 0.88620, acc = 0.78214\n",
            "Start semi-supervising with previous best acc 0.81280\n"
          ]
        },
        {
          "metadata": {
            "tags": null
          },
          "name": "stderr",
          "output_type": "stream",
          "text": [
            "100%|██████████| 213/213 [01:06<00:00,  3.22it/s]\n"
          ]
        },
        {
          "metadata": {
            "tags": null
          },
          "name": "stdout",
          "output_type": "stream",
          "text": [
            "Using 77.75% of unlabeld data\n"
          ]
        },
        {
          "metadata": {
            "tags": null
          },
          "name": "stderr",
          "output_type": "stream",
          "text": [
            "100%|██████████| 261/261 [01:25<00:00,  3.04it/s]\n"
          ]
        },
        {
          "metadata": {
            "tags": null
          },
          "name": "stdout",
          "output_type": "stream",
          "text": [
            "[ Train | 006/200 ] loss = 0.29492, acc = 0.90769\n"
          ]
        },
        {
          "metadata": {
            "tags": null
          },
          "name": "stderr",
          "output_type": "stream",
          "text": [
            "100%|██████████| 21/21 [00:05<00:00,  3.76it/s]\n"
          ]
        },
        {
          "metadata": {
            "tags": null
          },
          "name": "stdout",
          "output_type": "stream",
          "text": [
            "[ Valid | 006/200 ] loss = 0.94999, acc = 0.79107\n"
          ]
        },
        {
          "metadata": {
            "tags": null
          },
          "name": "stderr",
          "output_type": "stream",
          "text": [
            "100%|██████████| 213/213 [01:06<00:00,  3.23it/s]\n"
          ]
        },
        {
          "metadata": {
            "tags": null
          },
          "name": "stdout",
          "output_type": "stream",
          "text": [
            "Using 80.33% of unlabeld data\n"
          ]
        },
        {
          "metadata": {
            "tags": null
          },
          "name": "stderr",
          "output_type": "stream",
          "text": [
            "100%|██████████| 266/266 [01:27<00:00,  3.05it/s]\n"
          ]
        },
        {
          "metadata": {
            "tags": null
          },
          "name": "stdout",
          "output_type": "stream",
          "text": [
            "[ Train | 007/200 ] loss = 0.29381, acc = 0.90320\n"
          ]
        },
        {
          "metadata": {
            "tags": null
          },
          "name": "stderr",
          "output_type": "stream",
          "text": [
            "100%|██████████| 21/21 [00:06<00:00,  3.46it/s]\n"
          ]
        },
        {
          "metadata": {
            "tags": null
          },
          "name": "stdout",
          "output_type": "stream",
          "text": [
            "[ Valid | 007/200 ] loss = 0.89798, acc = 0.77024\n"
          ]
        },
        {
          "metadata": {
            "tags": null
          },
          "name": "stderr",
          "output_type": "stream",
          "text": [
            "100%|██████████| 213/213 [01:06<00:00,  3.20it/s]\n"
          ]
        },
        {
          "metadata": {
            "tags": null
          },
          "name": "stdout",
          "output_type": "stream",
          "text": [
            "Using 77.67% of unlabeld data\n"
          ]
        },
        {
          "metadata": {
            "tags": null
          },
          "name": "stderr",
          "output_type": "stream",
          "text": [
            "100%|██████████| 260/260 [01:23<00:00,  3.11it/s]\n"
          ]
        },
        {
          "metadata": {
            "tags": null
          },
          "name": "stdout",
          "output_type": "stream",
          "text": [
            "[ Train | 008/200 ] loss = 0.29300, acc = 0.90349\n"
          ]
        },
        {
          "metadata": {
            "tags": null
          },
          "name": "stderr",
          "output_type": "stream",
          "text": [
            "100%|██████████| 21/21 [00:07<00:00,  2.64it/s]\n"
          ]
        },
        {
          "metadata": {
            "tags": null
          },
          "name": "stdout",
          "output_type": "stream",
          "text": [
            "[ Valid | 008/200 ] loss = 0.75216, acc = 0.79315\n"
          ]
        },
        {
          "metadata": {
            "tags": null
          },
          "name": "stderr",
          "output_type": "stream",
          "text": [
            "100%|██████████| 213/213 [01:04<00:00,  3.30it/s]\n"
          ]
        },
        {
          "metadata": {
            "tags": null
          },
          "name": "stdout",
          "output_type": "stream",
          "text": [
            "Using 78.31% of unlabeld data\n"
          ]
        },
        {
          "metadata": {
            "tags": null
          },
          "name": "stderr",
          "output_type": "stream",
          "text": [
            "100%|██████████| 262/262 [01:27<00:00,  2.99it/s]\n"
          ]
        },
        {
          "metadata": {
            "tags": null
          },
          "name": "stdout",
          "output_type": "stream",
          "text": [
            "[ Train | 009/200 ] loss = 0.26779, acc = 0.91245\n"
          ]
        },
        {
          "metadata": {
            "tags": null
          },
          "name": "stderr",
          "output_type": "stream",
          "text": [
            "100%|██████████| 21/21 [00:05<00:00,  3.89it/s]\n"
          ]
        },
        {
          "metadata": {
            "tags": null
          },
          "name": "stdout",
          "output_type": "stream",
          "text": [
            "[ Valid | 009/200 ] loss = 0.99896, acc = 0.75060\n"
          ]
        },
        {
          "metadata": {
            "tags": null
          },
          "name": "stderr",
          "output_type": "stream",
          "text": [
            "100%|██████████| 213/213 [01:05<00:00,  3.23it/s]\n"
          ]
        },
        {
          "metadata": {
            "tags": null
          },
          "name": "stdout",
          "output_type": "stream",
          "text": [
            "Using 79.31% of unlabeld data\n"
          ]
        },
        {
          "metadata": {
            "tags": null
          },
          "name": "stderr",
          "output_type": "stream",
          "text": [
            "100%|██████████| 264/264 [01:25<00:00,  3.07it/s]\n"
          ]
        },
        {
          "metadata": {
            "tags": null
          },
          "name": "stdout",
          "output_type": "stream",
          "text": [
            "[ Train | 010/200 ] loss = 0.31705, acc = 0.89702\n"
          ]
        },
        {
          "metadata": {
            "tags": null
          },
          "name": "stderr",
          "output_type": "stream",
          "text": [
            "100%|██████████| 21/21 [00:05<00:00,  3.89it/s]\n"
          ]
        },
        {
          "metadata": {
            "tags": null
          },
          "name": "stdout",
          "output_type": "stream",
          "text": [
            "[ Valid | 010/200 ] loss = 0.91134, acc = 0.77649\n"
          ]
        },
        {
          "metadata": {
            "tags": null
          },
          "name": "stderr",
          "output_type": "stream",
          "text": [
            "100%|██████████| 213/213 [01:06<00:00,  3.21it/s]\n"
          ]
        },
        {
          "metadata": {
            "tags": null
          },
          "name": "stdout",
          "output_type": "stream",
          "text": [
            "Using 78.71% of unlabeld data\n"
          ]
        },
        {
          "metadata": {
            "tags": null
          },
          "name": "stderr",
          "output_type": "stream",
          "text": [
            "100%|██████████| 263/263 [01:24<00:00,  3.13it/s]\n"
          ]
        },
        {
          "metadata": {
            "tags": null
          },
          "name": "stdout",
          "output_type": "stream",
          "text": [
            "[ Train | 011/200 ] loss = 0.27321, acc = 0.91172\n"
          ]
        },
        {
          "metadata": {
            "tags": null
          },
          "name": "stderr",
          "output_type": "stream",
          "text": [
            "100%|██████████| 21/21 [00:06<00:00,  3.13it/s]\n"
          ]
        },
        {
          "metadata": {
            "tags": null
          },
          "name": "stdout",
          "output_type": "stream",
          "text": [
            "[ Valid | 011/200 ] loss = 0.94203, acc = 0.76458\n"
          ]
        },
        {
          "metadata": {
            "tags": null
          },
          "name": "stderr",
          "output_type": "stream",
          "text": [
            "100%|██████████| 213/213 [01:04<00:00,  3.29it/s]\n"
          ]
        },
        {
          "metadata": {
            "tags": null
          },
          "name": "stdout",
          "output_type": "stream",
          "text": [
            "Using 77.47% of unlabeld data\n"
          ]
        },
        {
          "metadata": {
            "tags": null
          },
          "name": "stderr",
          "output_type": "stream",
          "text": [
            "100%|██████████| 260/260 [01:23<00:00,  3.11it/s]\n"
          ]
        },
        {
          "metadata": {
            "tags": null
          },
          "name": "stdout",
          "output_type": "stream",
          "text": [
            "[ Train | 012/200 ] loss = 0.30333, acc = 0.90204\n"
          ]
        },
        {
          "metadata": {
            "tags": null
          },
          "name": "stderr",
          "output_type": "stream",
          "text": [
            "100%|██████████| 21/21 [00:06<00:00,  3.12it/s]\n"
          ]
        },
        {
          "metadata": {
            "tags": null
          },
          "name": "stdout",
          "output_type": "stream",
          "text": [
            "[ Valid | 012/200 ] loss = 0.88067, acc = 0.76756\n"
          ]
        },
        {
          "metadata": {
            "tags": null
          },
          "name": "stderr",
          "output_type": "stream",
          "text": [
            "100%|██████████| 213/213 [01:05<00:00,  3.25it/s]\n"
          ]
        },
        {
          "metadata": {
            "tags": null
          },
          "name": "stdout",
          "output_type": "stream",
          "text": [
            "Using 77.06% of unlabeld data\n"
          ]
        },
        {
          "metadata": {
            "tags": null
          },
          "name": "stderr",
          "output_type": "stream",
          "text": [
            "100%|██████████| 259/259 [01:24<00:00,  3.06it/s]\n"
          ]
        },
        {
          "metadata": {
            "tags": null
          },
          "name": "stdout",
          "output_type": "stream",
          "text": [
            "[ Train | 013/200 ] loss = 0.26260, acc = 0.91421\n"
          ]
        },
        {
          "metadata": {
            "tags": null
          },
          "name": "stderr",
          "output_type": "stream",
          "text": [
            "100%|██████████| 21/21 [00:06<00:00,  3.46it/s]\n"
          ]
        },
        {
          "metadata": {
            "tags": null
          },
          "name": "stdout",
          "output_type": "stream",
          "text": [
            "[ Valid | 013/200 ] loss = 0.87999, acc = 0.78839\n"
          ]
        },
        {
          "metadata": {
            "tags": null
          },
          "name": "stderr",
          "output_type": "stream",
          "text": [
            "100%|██████████| 213/213 [01:05<00:00,  3.25it/s]\n"
          ]
        },
        {
          "metadata": {
            "tags": null
          },
          "name": "stdout",
          "output_type": "stream",
          "text": [
            "Using 78.03% of unlabeld data\n"
          ]
        },
        {
          "metadata": {
            "tags": null
          },
          "name": "stderr",
          "output_type": "stream",
          "text": [
            "100%|██████████| 261/261 [01:24<00:00,  3.11it/s]\n"
          ]
        },
        {
          "metadata": {
            "tags": null
          },
          "name": "stdout",
          "output_type": "stream",
          "text": [
            "[ Train | 014/200 ] loss = 0.25114, acc = 0.91846\n"
          ]
        },
        {
          "metadata": {
            "tags": null
          },
          "name": "stderr",
          "output_type": "stream",
          "text": [
            "100%|██████████| 21/21 [00:05<00:00,  3.83it/s]\n"
          ]
        },
        {
          "metadata": {
            "tags": null
          },
          "name": "stdout",
          "output_type": "stream",
          "text": [
            "[ Valid | 014/200 ] loss = 0.84507, acc = 0.77857\n"
          ]
        },
        {
          "metadata": {
            "tags": null
          },
          "name": "stderr",
          "output_type": "stream",
          "text": [
            "100%|██████████| 213/213 [01:05<00:00,  3.26it/s]\n"
          ]
        },
        {
          "metadata": {
            "tags": null
          },
          "name": "stdout",
          "output_type": "stream",
          "text": [
            "Using 79.22% of unlabeld data\n"
          ]
        },
        {
          "metadata": {
            "tags": null
          },
          "name": "stderr",
          "output_type": "stream",
          "text": [
            "100%|██████████| 264/264 [01:25<00:00,  3.09it/s]\n"
          ]
        },
        {
          "metadata": {
            "tags": null
          },
          "name": "stdout",
          "output_type": "stream",
          "text": [
            "[ Train | 015/200 ] loss = 0.28915, acc = 0.90767\n"
          ]
        },
        {
          "metadata": {
            "tags": null
          },
          "name": "stderr",
          "output_type": "stream",
          "text": [
            "100%|██████████| 21/21 [00:05<00:00,  3.79it/s]\n"
          ]
        },
        {
          "metadata": {
            "tags": null
          },
          "name": "stdout",
          "output_type": "stream",
          "text": [
            "[ Valid | 015/200 ] loss = 0.88212, acc = 0.78214\n"
          ]
        },
        {
          "metadata": {
            "tags": null
          },
          "name": "stderr",
          "output_type": "stream",
          "text": [
            "100%|██████████| 213/213 [01:06<00:00,  3.22it/s]\n"
          ]
        },
        {
          "metadata": {
            "tags": null
          },
          "name": "stdout",
          "output_type": "stream",
          "text": [
            "Using 79.03% of unlabeld data\n"
          ]
        },
        {
          "metadata": {
            "tags": null
          },
          "name": "stderr",
          "output_type": "stream",
          "text": [
            "100%|██████████| 263/263 [01:24<00:00,  3.12it/s]\n"
          ]
        },
        {
          "metadata": {
            "tags": null
          },
          "name": "stdout",
          "output_type": "stream",
          "text": [
            "[ Train | 016/200 ] loss = 0.26875, acc = 0.91302\n"
          ]
        },
        {
          "metadata": {
            "tags": null
          },
          "name": "stderr",
          "output_type": "stream",
          "text": [
            "100%|██████████| 21/21 [00:06<00:00,  3.18it/s]\n"
          ]
        },
        {
          "metadata": {
            "tags": null
          },
          "name": "stdout",
          "output_type": "stream",
          "text": [
            "[ Valid | 016/200 ] loss = 0.83111, acc = 0.78065\n"
          ]
        },
        {
          "metadata": {
            "tags": null
          },
          "name": "stderr",
          "output_type": "stream",
          "text": [
            "100%|██████████| 213/213 [01:05<00:00,  3.26it/s]\n"
          ]
        },
        {
          "metadata": {
            "tags": null
          },
          "name": "stdout",
          "output_type": "stream",
          "text": [
            "Using 78.72% of unlabeld data\n"
          ]
        },
        {
          "metadata": {
            "tags": null
          },
          "name": "stderr",
          "output_type": "stream",
          "text": [
            "100%|██████████| 263/263 [01:24<00:00,  3.11it/s]\n"
          ]
        },
        {
          "metadata": {
            "tags": null
          },
          "name": "stdout",
          "output_type": "stream",
          "text": [
            "[ Train | 017/200 ] loss = 0.29347, acc = 0.90756\n"
          ]
        },
        {
          "metadata": {
            "tags": null
          },
          "name": "stderr",
          "output_type": "stream",
          "text": [
            "100%|██████████| 21/21 [00:06<00:00,  3.22it/s]\n"
          ]
        },
        {
          "metadata": {
            "tags": null
          },
          "name": "stdout",
          "output_type": "stream",
          "text": [
            "[ Valid | 017/200 ] loss = 0.79884, acc = 0.80387\n"
          ]
        },
        {
          "metadata": {
            "tags": null
          },
          "name": "stderr",
          "output_type": "stream",
          "text": [
            "100%|██████████| 213/213 [01:05<00:00,  3.27it/s]\n"
          ]
        },
        {
          "metadata": {
            "tags": null
          },
          "name": "stdout",
          "output_type": "stream",
          "text": [
            "Using 78.71% of unlabeld data\n"
          ]
        },
        {
          "metadata": {
            "tags": null
          },
          "name": "stderr",
          "output_type": "stream",
          "text": [
            "100%|██████████| 263/263 [01:24<00:00,  3.11it/s]\n"
          ]
        },
        {
          "metadata": {
            "tags": null
          },
          "name": "stdout",
          "output_type": "stream",
          "text": [
            "[ Train | 018/200 ] loss = 0.26868, acc = 0.91362\n"
          ]
        },
        {
          "metadata": {
            "tags": null
          },
          "name": "stderr",
          "output_type": "stream",
          "text": [
            "100%|██████████| 21/21 [00:06<00:00,  3.31it/s]\n"
          ]
        },
        {
          "metadata": {
            "tags": null
          },
          "name": "stdout",
          "output_type": "stream",
          "text": [
            "[ Valid | 018/200 ] loss = 0.95473, acc = 0.77976\n"
          ]
        },
        {
          "metadata": {
            "tags": null
          },
          "name": "stderr",
          "output_type": "stream",
          "text": [
            "100%|██████████| 213/213 [01:05<00:00,  3.26it/s]\n"
          ]
        },
        {
          "metadata": {
            "tags": null
          },
          "name": "stdout",
          "output_type": "stream",
          "text": [
            "Using 79.75% of unlabeld data\n"
          ]
        },
        {
          "metadata": {
            "tags": null
          },
          "name": "stderr",
          "output_type": "stream",
          "text": [
            "100%|██████████| 265/265 [01:26<00:00,  3.07it/s]\n"
          ]
        },
        {
          "metadata": {
            "tags": null
          },
          "name": "stdout",
          "output_type": "stream",
          "text": [
            "[ Train | 019/200 ] loss = 0.27459, acc = 0.90873\n"
          ]
        },
        {
          "metadata": {
            "tags": null
          },
          "name": "stderr",
          "output_type": "stream",
          "text": [
            "100%|██████████| 21/21 [00:06<00:00,  3.16it/s]\n"
          ]
        },
        {
          "metadata": {
            "tags": null
          },
          "name": "stdout",
          "output_type": "stream",
          "text": [
            "[ Valid | 019/200 ] loss = 1.04625, acc = 0.76667\n"
          ]
        },
        {
          "metadata": {
            "tags": null
          },
          "name": "stderr",
          "output_type": "stream",
          "text": [
            "100%|██████████| 213/213 [01:04<00:00,  3.28it/s]\n"
          ]
        },
        {
          "metadata": {
            "tags": null
          },
          "name": "stdout",
          "output_type": "stream",
          "text": [
            "Using 81.15% of unlabeld data\n"
          ]
        },
        {
          "metadata": {
            "tags": null
          },
          "name": "stderr",
          "output_type": "stream",
          "text": [
            "100%|██████████| 268/268 [01:26<00:00,  3.11it/s]\n"
          ]
        },
        {
          "metadata": {
            "tags": null
          },
          "name": "stdout",
          "output_type": "stream",
          "text": [
            "[ Train | 020/200 ] loss = 0.25811, acc = 0.91196\n"
          ]
        },
        {
          "metadata": {
            "tags": null
          },
          "name": "stderr",
          "output_type": "stream",
          "text": [
            "100%|██████████| 21/21 [00:06<00:00,  3.07it/s]\n"
          ]
        },
        {
          "metadata": {
            "tags": null
          },
          "name": "stdout",
          "output_type": "stream",
          "text": [
            "[ Valid | 020/200 ] loss = 0.99278, acc = 0.77321\n"
          ]
        },
        {
          "metadata": {
            "tags": null
          },
          "name": "stderr",
          "output_type": "stream",
          "text": [
            "100%|██████████| 213/213 [01:04<00:00,  3.31it/s]\n"
          ]
        },
        {
          "metadata": {
            "tags": null
          },
          "name": "stdout",
          "output_type": "stream",
          "text": [
            "Using 81.42% of unlabeld data\n"
          ]
        },
        {
          "metadata": {
            "tags": null
          },
          "name": "stderr",
          "output_type": "stream",
          "text": [
            "100%|██████████| 268/268 [01:28<00:00,  3.04it/s]\n"
          ]
        },
        {
          "metadata": {
            "tags": null
          },
          "name": "stdout",
          "output_type": "stream",
          "text": [
            "[ Train | 021/200 ] loss = 0.28592, acc = 0.90543\n"
          ]
        },
        {
          "metadata": {
            "tags": null
          },
          "name": "stderr",
          "output_type": "stream",
          "text": [
            "100%|██████████| 21/21 [00:05<00:00,  3.85it/s]\n"
          ]
        },
        {
          "metadata": {
            "tags": null
          },
          "name": "stdout",
          "output_type": "stream",
          "text": [
            "[ Valid | 021/200 ] loss = 0.82786, acc = 0.79315\n"
          ]
        },
        {
          "metadata": {
            "tags": null
          },
          "name": "stderr",
          "output_type": "stream",
          "text": [
            "100%|██████████| 213/213 [01:05<00:00,  3.25it/s]\n"
          ]
        },
        {
          "metadata": {
            "tags": null
          },
          "name": "stdout",
          "output_type": "stream",
          "text": [
            "Using 78.43% of unlabeld data\n"
          ]
        },
        {
          "metadata": {
            "tags": null
          },
          "name": "stderr",
          "output_type": "stream",
          "text": [
            "100%|██████████| 262/262 [01:24<00:00,  3.10it/s]\n"
          ]
        },
        {
          "metadata": {
            "tags": null
          },
          "name": "stdout",
          "output_type": "stream",
          "text": [
            "[ Train | 022/200 ] loss = 0.27558, acc = 0.90494\n"
          ]
        },
        {
          "metadata": {
            "tags": null
          },
          "name": "stderr",
          "output_type": "stream",
          "text": [
            "100%|██████████| 21/21 [00:05<00:00,  3.88it/s]\n"
          ]
        },
        {
          "metadata": {
            "tags": null
          },
          "name": "stdout",
          "output_type": "stream",
          "text": [
            "[ Valid | 022/200 ] loss = 0.80094, acc = 0.78929\n"
          ]
        },
        {
          "metadata": {
            "tags": null
          },
          "name": "stderr",
          "output_type": "stream",
          "text": [
            "100%|██████████| 213/213 [01:05<00:00,  3.27it/s]\n"
          ]
        },
        {
          "metadata": {
            "tags": null
          },
          "name": "stdout",
          "output_type": "stream",
          "text": [
            "Using 79.19% of unlabeld data\n"
          ]
        },
        {
          "metadata": {
            "tags": null
          },
          "name": "stderr",
          "output_type": "stream",
          "text": [
            "100%|██████████| 264/264 [01:24<00:00,  3.13it/s]\n"
          ]
        },
        {
          "metadata": {
            "tags": null
          },
          "name": "stdout",
          "output_type": "stream",
          "text": [
            "[ Train | 023/200 ] loss = 0.26848, acc = 0.91489\n"
          ]
        },
        {
          "metadata": {
            "tags": null
          },
          "name": "stderr",
          "output_type": "stream",
          "text": [
            "100%|██████████| 21/21 [00:06<00:00,  3.28it/s]\n"
          ]
        },
        {
          "metadata": {
            "tags": null
          },
          "name": "stdout",
          "output_type": "stream",
          "text": [
            "[ Valid | 023/200 ] loss = 0.84733, acc = 0.77768\n"
          ]
        },
        {
          "metadata": {
            "tags": null
          },
          "name": "stderr",
          "output_type": "stream",
          "text": [
            "100%|██████████| 213/213 [01:05<00:00,  3.25it/s]\n"
          ]
        },
        {
          "metadata": {
            "tags": null
          },
          "name": "stdout",
          "output_type": "stream",
          "text": [
            "Using 79.33% of unlabeld data\n"
          ]
        },
        {
          "metadata": {
            "tags": null
          },
          "name": "stderr",
          "output_type": "stream",
          "text": [
            "100%|██████████| 264/264 [01:24<00:00,  3.12it/s]\n"
          ]
        },
        {
          "metadata": {
            "tags": null
          },
          "name": "stdout",
          "output_type": "stream",
          "text": [
            "[ Train | 024/200 ] loss = 0.29243, acc = 0.90767\n"
          ]
        },
        {
          "metadata": {
            "tags": null
          },
          "name": "stderr",
          "output_type": "stream",
          "text": [
            "100%|██████████| 21/21 [00:06<00:00,  3.17it/s]\n"
          ]
        },
        {
          "metadata": {
            "tags": null
          },
          "name": "stdout",
          "output_type": "stream",
          "text": [
            "[ Valid | 024/200 ] loss = 0.79314, acc = 0.79226\n"
          ]
        },
        {
          "metadata": {
            "tags": null
          },
          "name": "stderr",
          "output_type": "stream",
          "text": [
            "100%|██████████| 213/213 [01:05<00:00,  3.26it/s]\n"
          ]
        },
        {
          "metadata": {
            "tags": null
          },
          "name": "stdout",
          "output_type": "stream",
          "text": [
            "Using 79.69% of unlabeld data\n"
          ]
        },
        {
          "metadata": {
            "tags": null
          },
          "name": "stderr",
          "output_type": "stream",
          "text": [
            "100%|██████████| 265/265 [01:25<00:00,  3.08it/s]\n"
          ]
        },
        {
          "metadata": {
            "tags": null
          },
          "name": "stdout",
          "output_type": "stream",
          "text": [
            "[ Train | 025/200 ] loss = 0.26142, acc = 0.91380\n"
          ]
        },
        {
          "metadata": {
            "tags": null
          },
          "name": "stderr",
          "output_type": "stream",
          "text": [
            "100%|██████████| 21/21 [00:05<00:00,  3.86it/s]\n"
          ]
        },
        {
          "metadata": {
            "tags": null
          },
          "name": "stdout",
          "output_type": "stream",
          "text": [
            "[ Valid | 025/200 ] loss = 0.87264, acc = 0.78720\n"
          ]
        },
        {
          "metadata": {
            "tags": null
          },
          "name": "stderr",
          "output_type": "stream",
          "text": [
            "100%|██████████| 213/213 [01:05<00:00,  3.23it/s]\n"
          ]
        },
        {
          "metadata": {
            "tags": null
          },
          "name": "stdout",
          "output_type": "stream",
          "text": [
            "Using 80.17% of unlabeld data\n"
          ]
        },
        {
          "metadata": {
            "tags": null
          },
          "name": "stderr",
          "output_type": "stream",
          "text": [
            "100%|██████████| 266/266 [01:25<00:00,  3.10it/s]\n"
          ]
        },
        {
          "metadata": {
            "tags": null
          },
          "name": "stdout",
          "output_type": "stream",
          "text": [
            "[ Train | 026/200 ] loss = 0.28324, acc = 0.90648\n"
          ]
        },
        {
          "metadata": {
            "tags": null
          },
          "name": "stderr",
          "output_type": "stream",
          "text": [
            "100%|██████████| 21/21 [00:05<00:00,  3.59it/s]\n"
          ]
        },
        {
          "metadata": {
            "tags": null
          },
          "name": "stdout",
          "output_type": "stream",
          "text": [
            "[ Valid | 026/200 ] loss = 0.93720, acc = 0.76667\n"
          ]
        },
        {
          "metadata": {
            "tags": null
          },
          "name": "stderr",
          "output_type": "stream",
          "text": [
            "100%|██████████| 213/213 [01:05<00:00,  3.23it/s]\n"
          ]
        },
        {
          "metadata": {
            "tags": null
          },
          "name": "stdout",
          "output_type": "stream",
          "text": [
            "Using 77.03% of unlabeld data\n"
          ]
        },
        {
          "metadata": {
            "tags": null
          },
          "name": "stderr",
          "output_type": "stream",
          "text": [
            "100%|██████████| 259/259 [01:22<00:00,  3.13it/s]\n"
          ]
        },
        {
          "metadata": {
            "tags": null
          },
          "name": "stdout",
          "output_type": "stream",
          "text": [
            "[ Train | 027/200 ] loss = 0.25676, acc = 0.91325\n"
          ]
        },
        {
          "metadata": {
            "tags": null
          },
          "name": "stderr",
          "output_type": "stream",
          "text": [
            "100%|██████████| 21/21 [00:06<00:00,  3.16it/s]\n"
          ]
        },
        {
          "metadata": {
            "tags": null
          },
          "name": "stdout",
          "output_type": "stream",
          "text": [
            "[ Valid | 027/200 ] loss = 0.89295, acc = 0.79345\n"
          ]
        },
        {
          "metadata": {
            "tags": null
          },
          "name": "stderr",
          "output_type": "stream",
          "text": [
            "100%|██████████| 213/213 [01:05<00:00,  3.26it/s]\n"
          ]
        },
        {
          "metadata": {
            "tags": null
          },
          "name": "stdout",
          "output_type": "stream",
          "text": [
            "Using 80.67% of unlabeld data\n"
          ]
        },
        {
          "metadata": {
            "tags": null
          },
          "name": "stderr",
          "output_type": "stream",
          "text": [
            "100%|██████████| 267/267 [01:26<00:00,  3.10it/s]\n"
          ]
        },
        {
          "metadata": {
            "tags": null
          },
          "name": "stdout",
          "output_type": "stream",
          "text": [
            "[ Train | 028/200 ] loss = 0.28693, acc = 0.90414\n"
          ]
        },
        {
          "metadata": {
            "tags": null
          },
          "name": "stderr",
          "output_type": "stream",
          "text": [
            "100%|██████████| 21/21 [00:06<00:00,  3.36it/s]\n"
          ]
        },
        {
          "metadata": {
            "tags": null
          },
          "name": "stdout",
          "output_type": "stream",
          "text": [
            "[ Valid | 028/200 ] loss = 0.92551, acc = 0.78393\n"
          ]
        },
        {
          "metadata": {
            "tags": null
          },
          "name": "stderr",
          "output_type": "stream",
          "text": [
            "100%|██████████| 213/213 [01:05<00:00,  3.24it/s]\n"
          ]
        },
        {
          "metadata": {
            "tags": null
          },
          "name": "stdout",
          "output_type": "stream",
          "text": [
            "Using 81.54% of unlabeld data\n"
          ]
        },
        {
          "metadata": {
            "tags": null
          },
          "name": "stderr",
          "output_type": "stream",
          "text": [
            "100%|██████████| 269/269 [01:27<00:00,  3.08it/s]\n"
          ]
        },
        {
          "metadata": {
            "tags": null
          },
          "name": "stdout",
          "output_type": "stream",
          "text": [
            "[ Train | 029/200 ] loss = 0.29673, acc = 0.90404\n"
          ]
        },
        {
          "metadata": {
            "tags": null
          },
          "name": "stderr",
          "output_type": "stream",
          "text": [
            "100%|██████████| 21/21 [00:05<00:00,  3.75it/s]\n"
          ]
        },
        {
          "metadata": {
            "tags": null
          },
          "name": "stdout",
          "output_type": "stream",
          "text": [
            "[ Valid | 029/200 ] loss = 0.83507, acc = 0.75685\n"
          ]
        },
        {
          "metadata": {
            "tags": null
          },
          "name": "stderr",
          "output_type": "stream",
          "text": [
            "100%|██████████| 213/213 [01:05<00:00,  3.25it/s]\n"
          ]
        },
        {
          "metadata": {
            "tags": null
          },
          "name": "stdout",
          "output_type": "stream",
          "text": [
            "Using 80.24% of unlabeld data\n"
          ]
        },
        {
          "metadata": {
            "tags": null
          },
          "name": "stderr",
          "output_type": "stream",
          "text": [
            "100%|██████████| 266/266 [01:26<00:00,  3.09it/s]\n"
          ]
        },
        {
          "metadata": {
            "tags": null
          },
          "name": "stdout",
          "output_type": "stream",
          "text": [
            "[ Train | 030/200 ] loss = 0.24566, acc = 0.91776\n"
          ]
        },
        {
          "metadata": {
            "tags": null
          },
          "name": "stderr",
          "output_type": "stream",
          "text": [
            "100%|██████████| 21/21 [00:05<00:00,  3.85it/s]\n"
          ]
        },
        {
          "metadata": {
            "tags": null
          },
          "name": "stdout",
          "output_type": "stream",
          "text": [
            "[ Valid | 030/200 ] loss = 1.00085, acc = 0.77292\n"
          ]
        },
        {
          "metadata": {
            "tags": null
          },
          "name": "stderr",
          "output_type": "stream",
          "text": [
            "100%|██████████| 213/213 [01:06<00:00,  3.18it/s]\n"
          ]
        },
        {
          "metadata": {
            "tags": null
          },
          "name": "stdout",
          "output_type": "stream",
          "text": [
            "Using 80.75% of unlabeld data\n"
          ]
        },
        {
          "metadata": {
            "tags": null
          },
          "name": "stderr",
          "output_type": "stream",
          "text": [
            "100%|██████████| 267/267 [01:25<00:00,  3.12it/s]\n"
          ]
        },
        {
          "metadata": {
            "tags": null
          },
          "name": "stdout",
          "output_type": "stream",
          "text": [
            "[ Train | 031/200 ] loss = 0.28836, acc = 0.90672\n"
          ]
        },
        {
          "metadata": {
            "tags": null
          },
          "name": "stderr",
          "output_type": "stream",
          "text": [
            "100%|██████████| 21/21 [00:06<00:00,  3.16it/s]\n"
          ]
        },
        {
          "metadata": {
            "tags": null
          },
          "name": "stdout",
          "output_type": "stream",
          "text": [
            "[ Valid | 031/200 ] loss = 0.90907, acc = 0.77679\n"
          ]
        },
        {
          "metadata": {
            "tags": null
          },
          "name": "stderr",
          "output_type": "stream",
          "text": [
            "100%|██████████| 213/213 [01:05<00:00,  3.24it/s]\n"
          ]
        },
        {
          "metadata": {
            "tags": null
          },
          "name": "stdout",
          "output_type": "stream",
          "text": [
            "Using 78.46% of unlabeld data\n"
          ]
        },
        {
          "metadata": {
            "tags": null
          },
          "name": "stderr",
          "output_type": "stream",
          "text": [
            "100%|██████████| 262/262 [01:24<00:00,  3.09it/s]\n"
          ]
        },
        {
          "metadata": {
            "tags": null
          },
          "name": "stdout",
          "output_type": "stream",
          "text": [
            "[ Train | 032/200 ] loss = 0.28850, acc = 0.90828\n"
          ]
        },
        {
          "metadata": {
            "tags": null
          },
          "name": "stderr",
          "output_type": "stream",
          "text": [
            "100%|██████████| 21/21 [00:06<00:00,  3.11it/s]\n"
          ]
        },
        {
          "metadata": {
            "tags": null
          },
          "name": "stdout",
          "output_type": "stream",
          "text": [
            "[ Valid | 032/200 ] loss = 0.86020, acc = 0.79494\n"
          ]
        },
        {
          "metadata": {
            "tags": null
          },
          "name": "stderr",
          "output_type": "stream",
          "text": [
            "100%|██████████| 213/213 [01:06<00:00,  3.23it/s]\n"
          ]
        },
        {
          "metadata": {
            "tags": null
          },
          "name": "stdout",
          "output_type": "stream",
          "text": [
            "Using 78.87% of unlabeld data\n"
          ]
        },
        {
          "metadata": {
            "tags": null
          },
          "name": "stderr",
          "output_type": "stream",
          "text": [
            "100%|██████████| 263/263 [01:24<00:00,  3.11it/s]\n"
          ]
        },
        {
          "metadata": {
            "tags": null
          },
          "name": "stdout",
          "output_type": "stream",
          "text": [
            "[ Train | 033/200 ] loss = 0.26533, acc = 0.91385\n"
          ]
        },
        {
          "metadata": {
            "tags": null
          },
          "name": "stderr",
          "output_type": "stream",
          "text": [
            "100%|██████████| 21/21 [00:06<00:00,  3.11it/s]\n"
          ]
        },
        {
          "metadata": {
            "tags": null
          },
          "name": "stdout",
          "output_type": "stream",
          "text": [
            "[ Valid | 033/200 ] loss = 0.86187, acc = 0.78512\n"
          ]
        },
        {
          "metadata": {
            "tags": null
          },
          "name": "stderr",
          "output_type": "stream",
          "text": [
            "100%|██████████| 213/213 [01:05<00:00,  3.24it/s]\n"
          ]
        },
        {
          "metadata": {
            "tags": null
          },
          "name": "stdout",
          "output_type": "stream",
          "text": [
            "Using 78.06% of unlabeld data\n"
          ]
        },
        {
          "metadata": {
            "tags": null
          },
          "name": "stderr",
          "output_type": "stream",
          "text": [
            "100%|██████████| 261/261 [01:24<00:00,  3.11it/s]\n"
          ]
        },
        {
          "metadata": {
            "tags": null
          },
          "name": "stdout",
          "output_type": "stream",
          "text": [
            "[ Train | 034/200 ] loss = 0.27496, acc = 0.90781\n"
          ]
        },
        {
          "metadata": {
            "tags": null
          },
          "name": "stderr",
          "output_type": "stream",
          "text": [
            "100%|██████████| 21/21 [00:06<00:00,  3.08it/s]\n"
          ]
        },
        {
          "metadata": {
            "tags": null
          },
          "name": "stdout",
          "output_type": "stream",
          "text": [
            "[ Valid | 034/200 ] loss = 0.90095, acc = 0.77500\n"
          ]
        },
        {
          "metadata": {
            "tags": null
          },
          "name": "stderr",
          "output_type": "stream",
          "text": [
            "100%|██████████| 213/213 [01:05<00:00,  3.23it/s]\n"
          ]
        },
        {
          "metadata": {
            "tags": null
          },
          "name": "stdout",
          "output_type": "stream",
          "text": [
            "Using 78.26% of unlabeld data\n"
          ]
        },
        {
          "metadata": {
            "tags": null
          },
          "name": "stderr",
          "output_type": "stream",
          "text": [
            "100%|██████████| 262/262 [01:25<00:00,  3.07it/s]\n"
          ]
        },
        {
          "metadata": {
            "tags": null
          },
          "name": "stdout",
          "output_type": "stream",
          "text": [
            "[ Train | 035/200 ] loss = 0.29438, acc = 0.90219\n"
          ]
        },
        {
          "metadata": {
            "tags": null
          },
          "name": "stderr",
          "output_type": "stream",
          "text": [
            "100%|██████████| 21/21 [00:06<00:00,  3.06it/s]\n"
          ]
        },
        {
          "metadata": {
            "tags": null
          },
          "name": "stdout",
          "output_type": "stream",
          "text": [
            "[ Valid | 035/200 ] loss = 0.86859, acc = 0.78006\n"
          ]
        },
        {
          "metadata": {
            "tags": null
          },
          "name": "stderr",
          "output_type": "stream",
          "text": [
            "100%|██████████| 213/213 [01:05<00:00,  3.24it/s]\n"
          ]
        },
        {
          "metadata": {
            "tags": null
          },
          "name": "stdout",
          "output_type": "stream",
          "text": [
            "Using 76.04% of unlabeld data\n"
          ]
        },
        {
          "metadata": {
            "tags": null
          },
          "name": "stderr",
          "output_type": "stream",
          "text": [
            "100%|██████████| 257/257 [01:23<00:00,  3.07it/s]\n"
          ]
        },
        {
          "metadata": {
            "tags": null
          },
          "name": "stdout",
          "output_type": "stream",
          "text": [
            "[ Train | 036/200 ] loss = 0.29839, acc = 0.90430\n"
          ]
        },
        {
          "metadata": {
            "tags": null
          },
          "name": "stderr",
          "output_type": "stream",
          "text": [
            "100%|██████████| 21/21 [00:06<00:00,  3.34it/s]\n"
          ]
        },
        {
          "metadata": {
            "tags": null
          },
          "name": "stdout",
          "output_type": "stream",
          "text": [
            "[ Valid | 036/200 ] loss = 0.94452, acc = 0.76577\n"
          ]
        },
        {
          "metadata": {
            "tags": null
          },
          "name": "stderr",
          "output_type": "stream",
          "text": [
            "100%|██████████| 213/213 [01:05<00:00,  3.25it/s]\n"
          ]
        },
        {
          "metadata": {
            "tags": null
          },
          "name": "stdout",
          "output_type": "stream",
          "text": [
            "Using 75.85% of unlabeld data\n"
          ]
        },
        {
          "metadata": {
            "tags": null
          },
          "name": "stderr",
          "output_type": "stream",
          "text": [
            "100%|██████████| 257/257 [01:24<00:00,  3.05it/s]\n"
          ]
        },
        {
          "metadata": {
            "tags": null
          },
          "name": "stdout",
          "output_type": "stream",
          "text": [
            "[ Train | 037/200 ] loss = 0.26757, acc = 0.91087\n"
          ]
        },
        {
          "metadata": {
            "tags": null
          },
          "name": "stderr",
          "output_type": "stream",
          "text": [
            "100%|██████████| 21/21 [00:05<00:00,  3.89it/s]\n"
          ]
        },
        {
          "metadata": {
            "tags": null
          },
          "name": "stdout",
          "output_type": "stream",
          "text": [
            "[ Valid | 037/200 ] loss = 0.90205, acc = 0.78274\n"
          ]
        },
        {
          "metadata": {
            "tags": null
          },
          "name": "stderr",
          "output_type": "stream",
          "text": [
            "100%|██████████| 213/213 [01:05<00:00,  3.25it/s]\n"
          ]
        },
        {
          "metadata": {
            "tags": null
          },
          "name": "stdout",
          "output_type": "stream",
          "text": [
            "Using 81.24% of unlabeld data\n"
          ]
        },
        {
          "metadata": {
            "tags": null
          },
          "name": "stderr",
          "output_type": "stream",
          "text": [
            "100%|██████████| 268/268 [01:27<00:00,  3.06it/s]\n"
          ]
        },
        {
          "metadata": {
            "tags": null
          },
          "name": "stdout",
          "output_type": "stream",
          "text": [
            "[ Train | 038/200 ] loss = 0.28997, acc = 0.90672\n"
          ]
        },
        {
          "metadata": {
            "tags": null
          },
          "name": "stderr",
          "output_type": "stream",
          "text": [
            "100%|██████████| 21/21 [00:05<00:00,  3.85it/s]\n"
          ]
        },
        {
          "metadata": {
            "tags": null
          },
          "name": "stdout",
          "output_type": "stream",
          "text": [
            "[ Valid | 038/200 ] loss = 0.85712, acc = 0.77024\n"
          ]
        },
        {
          "metadata": {
            "tags": null
          },
          "name": "stderr",
          "output_type": "stream",
          "text": [
            "100%|██████████| 213/213 [01:06<00:00,  3.22it/s]\n"
          ]
        },
        {
          "metadata": {
            "tags": null
          },
          "name": "stdout",
          "output_type": "stream",
          "text": [
            "Using 77.37% of unlabeld data\n"
          ]
        },
        {
          "metadata": {
            "tags": null
          },
          "name": "stderr",
          "output_type": "stream",
          "text": [
            "100%|██████████| 260/260 [01:24<00:00,  3.08it/s]\n"
          ]
        },
        {
          "metadata": {
            "tags": null
          },
          "name": "stdout",
          "output_type": "stream",
          "text": [
            "[ Train | 039/200 ] loss = 0.26809, acc = 0.91370\n"
          ]
        },
        {
          "metadata": {
            "tags": null
          },
          "name": "stderr",
          "output_type": "stream",
          "text": [
            "100%|██████████| 21/21 [00:05<00:00,  3.88it/s]\n"
          ]
        },
        {
          "metadata": {
            "tags": null
          },
          "name": "stdout",
          "output_type": "stream",
          "text": [
            "[ Valid | 039/200 ] loss = 0.79272, acc = 0.79851\n"
          ]
        },
        {
          "metadata": {
            "tags": null
          },
          "name": "stderr",
          "output_type": "stream",
          "text": [
            "100%|██████████| 213/213 [01:06<00:00,  3.20it/s]\n"
          ]
        },
        {
          "metadata": {
            "tags": null
          },
          "name": "stdout",
          "output_type": "stream",
          "text": [
            "Using 79.80% of unlabeld data\n"
          ]
        },
        {
          "metadata": {
            "tags": null
          },
          "name": "stderr",
          "output_type": "stream",
          "text": [
            "100%|██████████| 265/265 [01:25<00:00,  3.12it/s]\n"
          ]
        },
        {
          "metadata": {
            "tags": null
          },
          "name": "stdout",
          "output_type": "stream",
          "text": [
            "[ Train | 040/200 ] loss = 0.26056, acc = 0.90979\n"
          ]
        },
        {
          "metadata": {
            "tags": null
          },
          "name": "stderr",
          "output_type": "stream",
          "text": [
            "100%|██████████| 21/21 [00:06<00:00,  3.13it/s]\n"
          ]
        },
        {
          "metadata": {
            "tags": null
          },
          "name": "stdout",
          "output_type": "stream",
          "text": [
            "[ Valid | 040/200 ] loss = 0.80527, acc = 0.78810\n"
          ]
        },
        {
          "metadata": {
            "tags": null
          },
          "name": "stderr",
          "output_type": "stream",
          "text": [
            "100%|██████████| 213/213 [01:05<00:00,  3.24it/s]\n"
          ]
        },
        {
          "metadata": {
            "tags": null
          },
          "name": "stdout",
          "output_type": "stream",
          "text": [
            "Using 80.96% of unlabeld data\n"
          ]
        },
        {
          "metadata": {
            "tags": null
          },
          "name": "stderr",
          "output_type": "stream",
          "text": [
            "100%|██████████| 267/267 [01:26<00:00,  3.09it/s]\n"
          ]
        },
        {
          "metadata": {
            "tags": null
          },
          "name": "stdout",
          "output_type": "stream",
          "text": [
            "[ Train | 041/200 ] loss = 0.26687, acc = 0.91175\n"
          ]
        },
        {
          "metadata": {
            "tags": null
          },
          "name": "stderr",
          "output_type": "stream",
          "text": [
            "100%|██████████| 21/21 [00:05<00:00,  3.66it/s]\n"
          ]
        },
        {
          "metadata": {
            "tags": null
          },
          "name": "stdout",
          "output_type": "stream",
          "text": [
            "[ Valid | 041/200 ] loss = 0.97144, acc = 0.76310\n"
          ]
        },
        {
          "metadata": {
            "tags": null
          },
          "name": "stderr",
          "output_type": "stream",
          "text": [
            "100%|██████████| 213/213 [01:05<00:00,  3.25it/s]\n"
          ]
        },
        {
          "metadata": {
            "tags": null
          },
          "name": "stdout",
          "output_type": "stream",
          "text": [
            "Using 79.37% of unlabeld data\n"
          ]
        },
        {
          "metadata": {
            "tags": null
          },
          "name": "stderr",
          "output_type": "stream",
          "text": [
            "100%|██████████| 264/264 [01:26<00:00,  3.05it/s]\n"
          ]
        },
        {
          "metadata": {
            "tags": null
          },
          "name": "stdout",
          "output_type": "stream",
          "text": [
            "[ Train | 042/200 ] loss = 0.26466, acc = 0.91051\n"
          ]
        },
        {
          "metadata": {
            "tags": null
          },
          "name": "stderr",
          "output_type": "stream",
          "text": [
            "100%|██████████| 21/21 [00:05<00:00,  3.85it/s]\n"
          ]
        },
        {
          "metadata": {
            "tags": null
          },
          "name": "stdout",
          "output_type": "stream",
          "text": [
            "[ Valid | 042/200 ] loss = 0.90525, acc = 0.76458\n"
          ]
        },
        {
          "metadata": {
            "tags": null
          },
          "name": "stderr",
          "output_type": "stream",
          "text": [
            "100%|██████████| 213/213 [01:06<00:00,  3.21it/s]\n"
          ]
        },
        {
          "metadata": {
            "tags": null
          },
          "name": "stdout",
          "output_type": "stream",
          "text": [
            "Using 79.18% of unlabeld data\n"
          ]
        },
        {
          "metadata": {
            "tags": null
          },
          "name": "stderr",
          "output_type": "stream",
          "text": [
            "100%|██████████| 264/264 [01:25<00:00,  3.09it/s]\n"
          ]
        },
        {
          "metadata": {
            "tags": null
          },
          "name": "stdout",
          "output_type": "stream",
          "text": [
            "[ Train | 043/200 ] loss = 0.28775, acc = 0.90601\n"
          ]
        },
        {
          "metadata": {
            "tags": null
          },
          "name": "stderr",
          "output_type": "stream",
          "text": [
            "100%|██████████| 21/21 [00:06<00:00,  3.13it/s]\n"
          ]
        },
        {
          "metadata": {
            "tags": null
          },
          "name": "stdout",
          "output_type": "stream",
          "text": [
            "[ Valid | 043/200 ] loss = 0.87002, acc = 0.77827\n"
          ]
        },
        {
          "metadata": {
            "tags": null
          },
          "name": "stderr",
          "output_type": "stream",
          "text": [
            "100%|██████████| 213/213 [01:05<00:00,  3.24it/s]\n"
          ]
        },
        {
          "metadata": {
            "tags": null
          },
          "name": "stdout",
          "output_type": "stream",
          "text": [
            "Using 80.05% of unlabeld data\n"
          ]
        },
        {
          "metadata": {
            "tags": null
          },
          "name": "stderr",
          "output_type": "stream",
          "text": [
            "100%|██████████| 266/266 [01:25<00:00,  3.10it/s]\n"
          ]
        },
        {
          "metadata": {
            "tags": null
          },
          "name": "stdout",
          "output_type": "stream",
          "text": [
            "[ Train | 044/200 ] loss = 0.28506, acc = 0.90660\n"
          ]
        },
        {
          "metadata": {
            "tags": null
          },
          "name": "stderr",
          "output_type": "stream",
          "text": [
            "100%|██████████| 21/21 [00:06<00:00,  3.37it/s]\n"
          ]
        },
        {
          "metadata": {
            "tags": null
          },
          "name": "stdout",
          "output_type": "stream",
          "text": [
            "[ Valid | 044/200 ] loss = 0.89754, acc = 0.75595\n"
          ]
        },
        {
          "metadata": {
            "tags": null
          },
          "name": "stderr",
          "output_type": "stream",
          "text": [
            "100%|██████████| 213/213 [01:05<00:00,  3.27it/s]\n"
          ]
        },
        {
          "metadata": {
            "tags": null
          },
          "name": "stdout",
          "output_type": "stream",
          "text": [
            "Using 78.37% of unlabeld data\n"
          ]
        },
        {
          "metadata": {
            "tags": null
          },
          "name": "stderr",
          "output_type": "stream",
          "text": [
            "100%|██████████| 262/262 [01:25<00:00,  3.06it/s]\n"
          ]
        },
        {
          "metadata": {
            "tags": null
          },
          "name": "stdout",
          "output_type": "stream",
          "text": [
            "[ Train | 045/200 ] loss = 0.31346, acc = 0.90112\n"
          ]
        },
        {
          "metadata": {
            "tags": null
          },
          "name": "stderr",
          "output_type": "stream",
          "text": [
            "100%|██████████| 21/21 [00:05<00:00,  3.86it/s]\n"
          ]
        },
        {
          "metadata": {
            "tags": null
          },
          "name": "stdout",
          "output_type": "stream",
          "text": [
            "[ Valid | 045/200 ] loss = 0.85185, acc = 0.78214\n"
          ]
        },
        {
          "metadata": {
            "tags": null
          },
          "name": "stderr",
          "output_type": "stream",
          "text": [
            "100%|██████████| 213/213 [01:04<00:00,  3.29it/s]\n"
          ]
        },
        {
          "metadata": {
            "tags": null
          },
          "name": "stdout",
          "output_type": "stream",
          "text": [
            "Using 78.06% of unlabeld data\n"
          ]
        },
        {
          "metadata": {
            "tags": null
          },
          "name": "stderr",
          "output_type": "stream",
          "text": [
            "100%|██████████| 261/261 [01:26<00:00,  3.02it/s]\n"
          ]
        },
        {
          "metadata": {
            "tags": null
          },
          "name": "stdout",
          "output_type": "stream",
          "text": [
            "[ Train | 046/200 ] loss = 0.25406, acc = 0.92014\n"
          ]
        },
        {
          "metadata": {
            "tags": null
          },
          "name": "stderr",
          "output_type": "stream",
          "text": [
            "100%|██████████| 21/21 [00:05<00:00,  3.85it/s]\n"
          ]
        },
        {
          "metadata": {
            "tags": null
          },
          "name": "stdout",
          "output_type": "stream",
          "text": [
            "[ Valid | 046/200 ] loss = 0.96953, acc = 0.78036\n"
          ]
        },
        {
          "metadata": {
            "tags": null
          },
          "name": "stderr",
          "output_type": "stream",
          "text": [
            "100%|██████████| 213/213 [01:05<00:00,  3.24it/s]\n"
          ]
        },
        {
          "metadata": {
            "tags": null
          },
          "name": "stdout",
          "output_type": "stream",
          "text": [
            "Using 77.59% of unlabeld data\n"
          ]
        },
        {
          "metadata": {
            "tags": null
          },
          "name": "stderr",
          "output_type": "stream",
          "text": [
            "100%|██████████| 260/260 [01:24<00:00,  3.08it/s]\n"
          ]
        },
        {
          "metadata": {
            "tags": null
          },
          "name": "stdout",
          "output_type": "stream",
          "text": [
            "[ Train | 047/200 ] loss = 0.30759, acc = 0.90312\n"
          ]
        },
        {
          "metadata": {
            "tags": null
          },
          "name": "stderr",
          "output_type": "stream",
          "text": [
            "100%|██████████| 21/21 [00:08<00:00,  2.61it/s]\n"
          ]
        },
        {
          "metadata": {
            "tags": null
          },
          "name": "stdout",
          "output_type": "stream",
          "text": [
            "[ Valid | 047/200 ] loss = 0.85578, acc = 0.78155\n"
          ]
        },
        {
          "metadata": {
            "tags": null
          },
          "name": "stderr",
          "output_type": "stream",
          "text": [
            "100%|██████████| 213/213 [01:04<00:00,  3.30it/s]\n"
          ]
        },
        {
          "metadata": {
            "tags": null
          },
          "name": "stdout",
          "output_type": "stream",
          "text": [
            "Using 79.03% of unlabeld data\n"
          ]
        },
        {
          "metadata": {
            "tags": null
          },
          "name": "stderr",
          "output_type": "stream",
          "text": [
            "100%|██████████| 263/263 [01:24<00:00,  3.10it/s]\n"
          ]
        },
        {
          "metadata": {
            "tags": null
          },
          "name": "stdout",
          "output_type": "stream",
          "text": [
            "[ Train | 048/200 ] loss = 0.26785, acc = 0.90779\n"
          ]
        },
        {
          "metadata": {
            "tags": null
          },
          "name": "stderr",
          "output_type": "stream",
          "text": [
            "100%|██████████| 21/21 [00:06<00:00,  3.12it/s]\n"
          ]
        },
        {
          "metadata": {
            "tags": null
          },
          "name": "stdout",
          "output_type": "stream",
          "text": [
            "[ Valid | 048/200 ] loss = 0.80453, acc = 0.79018\n"
          ]
        },
        {
          "metadata": {
            "tags": null
          },
          "name": "stderr",
          "output_type": "stream",
          "text": [
            "100%|██████████| 213/213 [01:04<00:00,  3.28it/s]\n"
          ]
        },
        {
          "metadata": {
            "tags": null
          },
          "name": "stdout",
          "output_type": "stream",
          "text": [
            "Using 77.19% of unlabeld data\n"
          ]
        },
        {
          "metadata": {
            "tags": null
          },
          "name": "stderr",
          "output_type": "stream",
          "text": [
            "100%|██████████| 259/259 [01:24<00:00,  3.08it/s]\n"
          ]
        },
        {
          "metadata": {
            "tags": null
          },
          "name": "stdout",
          "output_type": "stream",
          "text": [
            "[ Train | 049/200 ] loss = 0.25382, acc = 0.91868\n"
          ]
        },
        {
          "metadata": {
            "tags": null
          },
          "name": "stderr",
          "output_type": "stream",
          "text": [
            "100%|██████████| 21/21 [00:06<00:00,  3.25it/s]\n"
          ]
        },
        {
          "metadata": {
            "tags": null
          },
          "name": "stdout",
          "output_type": "stream",
          "text": [
            "[ Valid | 049/200 ] loss = 0.93583, acc = 0.76161\n"
          ]
        },
        {
          "metadata": {
            "tags": null
          },
          "name": "stderr",
          "output_type": "stream",
          "text": [
            "100%|██████████| 213/213 [01:05<00:00,  3.24it/s]\n"
          ]
        },
        {
          "metadata": {
            "tags": null
          },
          "name": "stdout",
          "output_type": "stream",
          "text": [
            "Using 79.99% of unlabeld data\n"
          ]
        },
        {
          "metadata": {
            "tags": null
          },
          "name": "stderr",
          "output_type": "stream",
          "text": [
            "100%|██████████| 265/265 [01:26<00:00,  3.07it/s]\n"
          ]
        },
        {
          "metadata": {
            "tags": null
          },
          "name": "stdout",
          "output_type": "stream",
          "text": [
            "[ Train | 050/200 ] loss = 0.27233, acc = 0.90884\n"
          ]
        },
        {
          "metadata": {
            "tags": null
          },
          "name": "stderr",
          "output_type": "stream",
          "text": [
            "100%|██████████| 21/21 [00:05<00:00,  3.83it/s]\n"
          ]
        },
        {
          "metadata": {
            "tags": null
          },
          "name": "stdout",
          "output_type": "stream",
          "text": [
            "[ Valid | 050/200 ] loss = 0.95581, acc = 0.75595\n"
          ]
        },
        {
          "metadata": {
            "tags": null
          },
          "name": "stderr",
          "output_type": "stream",
          "text": [
            "100%|██████████| 213/213 [01:05<00:00,  3.24it/s]\n"
          ]
        },
        {
          "metadata": {
            "tags": null
          },
          "name": "stdout",
          "output_type": "stream",
          "text": [
            "Using 78.47% of unlabeld data\n"
          ]
        },
        {
          "metadata": {
            "tags": null
          },
          "name": "stderr",
          "output_type": "stream",
          "text": [
            "100%|██████████| 262/262 [01:26<00:00,  3.04it/s]\n"
          ]
        },
        {
          "metadata": {
            "tags": null
          },
          "name": "stdout",
          "output_type": "stream",
          "text": [
            "[ Train | 051/200 ] loss = 0.28889, acc = 0.90768\n"
          ]
        },
        {
          "metadata": {
            "tags": null
          },
          "name": "stderr",
          "output_type": "stream",
          "text": [
            "100%|██████████| 21/21 [00:05<00:00,  3.83it/s]\n"
          ]
        },
        {
          "metadata": {
            "tags": null
          },
          "name": "stdout",
          "output_type": "stream",
          "text": [
            "[ Valid | 051/200 ] loss = 0.85138, acc = 0.79256\n"
          ]
        },
        {
          "metadata": {
            "tags": null
          },
          "name": "stderr",
          "output_type": "stream",
          "text": [
            "100%|██████████| 213/213 [01:06<00:00,  3.20it/s]\n"
          ]
        },
        {
          "metadata": {
            "tags": null
          },
          "name": "stdout",
          "output_type": "stream",
          "text": [
            "Using 78.90% of unlabeld data\n"
          ]
        },
        {
          "metadata": {
            "tags": null
          },
          "name": "stderr",
          "output_type": "stream",
          "text": [
            "100%|██████████| 263/263 [01:25<00:00,  3.09it/s]\n"
          ]
        },
        {
          "metadata": {
            "tags": null
          },
          "name": "stdout",
          "output_type": "stream",
          "text": [
            "[ Train | 052/200 ] loss = 0.25399, acc = 0.91481\n"
          ]
        },
        {
          "metadata": {
            "tags": null
          },
          "name": "stderr",
          "output_type": "stream",
          "text": [
            "100%|██████████| 21/21 [00:06<00:00,  3.11it/s]\n"
          ]
        },
        {
          "metadata": {
            "tags": null
          },
          "name": "stdout",
          "output_type": "stream",
          "text": [
            "[ Valid | 052/200 ] loss = 0.94508, acc = 0.76935\n"
          ]
        },
        {
          "metadata": {
            "tags": null
          },
          "name": "stderr",
          "output_type": "stream",
          "text": [
            "100%|██████████| 213/213 [01:05<00:00,  3.25it/s]\n"
          ]
        },
        {
          "metadata": {
            "tags": null
          },
          "name": "stdout",
          "output_type": "stream",
          "text": [
            "Using 81.17% of unlabeld data\n"
          ]
        },
        {
          "metadata": {
            "tags": null
          },
          "name": "stderr",
          "output_type": "stream",
          "text": [
            "100%|██████████| 268/268 [01:27<00:00,  3.07it/s]\n"
          ]
        },
        {
          "metadata": {
            "tags": null
          },
          "name": "stdout",
          "output_type": "stream",
          "text": [
            "[ Train | 053/200 ] loss = 0.28715, acc = 0.90462\n"
          ]
        },
        {
          "metadata": {
            "tags": null
          },
          "name": "stderr",
          "output_type": "stream",
          "text": [
            "100%|██████████| 21/21 [00:05<00:00,  3.83it/s]\n"
          ]
        },
        {
          "metadata": {
            "tags": null
          },
          "name": "stdout",
          "output_type": "stream",
          "text": [
            "[ Valid | 053/200 ] loss = 0.90401, acc = 0.78006\n"
          ]
        },
        {
          "metadata": {
            "tags": null
          },
          "name": "stderr",
          "output_type": "stream",
          "text": [
            "100%|██████████| 213/213 [01:06<00:00,  3.20it/s]\n"
          ]
        },
        {
          "metadata": {
            "tags": null
          },
          "name": "stdout",
          "output_type": "stream",
          "text": [
            "Using 78.79% of unlabeld data\n"
          ]
        },
        {
          "metadata": {
            "tags": null
          },
          "name": "stderr",
          "output_type": "stream",
          "text": [
            "100%|██████████| 263/263 [01:25<00:00,  3.08it/s]\n"
          ]
        },
        {
          "metadata": {
            "tags": null
          },
          "name": "stdout",
          "output_type": "stream",
          "text": [
            "[ Train | 054/200 ] loss = 0.30500, acc = 0.90280\n"
          ]
        },
        {
          "metadata": {
            "tags": null
          },
          "name": "stderr",
          "output_type": "stream",
          "text": [
            "100%|██████████| 21/21 [00:06<00:00,  3.26it/s]\n"
          ]
        },
        {
          "metadata": {
            "tags": null
          },
          "name": "stdout",
          "output_type": "stream",
          "text": [
            "[ Valid | 054/200 ] loss = 0.94451, acc = 0.77292\n"
          ]
        },
        {
          "metadata": {
            "tags": null
          },
          "name": "stderr",
          "output_type": "stream",
          "text": [
            "100%|██████████| 213/213 [01:05<00:00,  3.24it/s]\n"
          ]
        },
        {
          "metadata": {
            "tags": null
          },
          "name": "stdout",
          "output_type": "stream",
          "text": [
            "Using 79.12% of unlabeld data\n"
          ]
        },
        {
          "metadata": {
            "tags": null
          },
          "name": "stderr",
          "output_type": "stream",
          "text": [
            "100%|██████████| 264/264 [01:25<00:00,  3.08it/s]\n"
          ]
        },
        {
          "metadata": {
            "tags": null
          },
          "name": "stdout",
          "output_type": "stream",
          "text": [
            "[ Train | 055/200 ] loss = 0.27734, acc = 0.90885\n"
          ]
        },
        {
          "metadata": {
            "tags": null
          },
          "name": "stderr",
          "output_type": "stream",
          "text": [
            "100%|██████████| 21/21 [00:06<00:00,  3.15it/s]\n"
          ]
        },
        {
          "metadata": {
            "tags": null
          },
          "name": "stdout",
          "output_type": "stream",
          "text": [
            "[ Valid | 055/200 ] loss = 0.89152, acc = 0.79554\n"
          ]
        },
        {
          "metadata": {
            "tags": null
          },
          "name": "stderr",
          "output_type": "stream",
          "text": [
            "100%|██████████| 213/213 [01:05<00:00,  3.25it/s]\n"
          ]
        },
        {
          "metadata": {
            "tags": null
          },
          "name": "stdout",
          "output_type": "stream",
          "text": [
            "Using 78.96% of unlabeld data\n"
          ]
        },
        {
          "metadata": {
            "tags": null
          },
          "name": "stderr",
          "output_type": "stream",
          "text": [
            "100%|██████████| 263/263 [01:25<00:00,  3.06it/s]\n"
          ]
        },
        {
          "metadata": {
            "tags": null
          },
          "name": "stdout",
          "output_type": "stream",
          "text": [
            "[ Train | 056/200 ] loss = 0.26462, acc = 0.91433\n"
          ]
        },
        {
          "metadata": {
            "tags": null
          },
          "name": "stderr",
          "output_type": "stream",
          "text": [
            "100%|██████████| 21/21 [00:05<00:00,  3.85it/s]\n"
          ]
        },
        {
          "metadata": {
            "tags": null
          },
          "name": "stdout",
          "output_type": "stream",
          "text": [
            "[ Valid | 056/200 ] loss = 0.92721, acc = 0.76577\n"
          ]
        },
        {
          "metadata": {
            "tags": null
          },
          "name": "stderr",
          "output_type": "stream",
          "text": [
            "100%|██████████| 213/213 [01:05<00:00,  3.24it/s]\n"
          ]
        },
        {
          "metadata": {
            "tags": null
          },
          "name": "stdout",
          "output_type": "stream",
          "text": [
            "Using 78.51% of unlabeld data\n"
          ]
        },
        {
          "metadata": {
            "tags": null
          },
          "name": "stderr",
          "output_type": "stream",
          "text": [
            "100%|██████████| 262/262 [01:25<00:00,  3.06it/s]\n"
          ]
        },
        {
          "metadata": {
            "tags": null
          },
          "name": "stdout",
          "output_type": "stream",
          "text": [
            "[ Train | 057/200 ] loss = 0.28055, acc = 0.90875\n"
          ]
        },
        {
          "metadata": {
            "tags": null
          },
          "name": "stderr",
          "output_type": "stream",
          "text": [
            "100%|██████████| 21/21 [00:05<00:00,  3.61it/s]\n"
          ]
        },
        {
          "metadata": {
            "tags": null
          },
          "name": "stdout",
          "output_type": "stream",
          "text": [
            "[ Valid | 057/200 ] loss = 0.79227, acc = 0.80149\n"
          ]
        },
        {
          "metadata": {
            "tags": null
          },
          "name": "stderr",
          "output_type": "stream",
          "text": [
            "100%|██████████| 213/213 [01:05<00:00,  3.26it/s]\n"
          ]
        },
        {
          "metadata": {
            "tags": null
          },
          "name": "stdout",
          "output_type": "stream",
          "text": [
            "Using 80.55% of unlabeld data\n"
          ]
        },
        {
          "metadata": {
            "tags": null
          },
          "name": "stderr",
          "output_type": "stream",
          "text": [
            "100%|██████████| 267/267 [01:26<00:00,  3.10it/s]\n"
          ]
        },
        {
          "metadata": {
            "tags": null
          },
          "name": "stdout",
          "output_type": "stream",
          "text": [
            "[ Train | 058/200 ] loss = 0.25661, acc = 0.91526\n"
          ]
        },
        {
          "metadata": {
            "tags": null
          },
          "name": "stderr",
          "output_type": "stream",
          "text": [
            "100%|██████████| 21/21 [00:07<00:00,  2.82it/s]\n"
          ]
        },
        {
          "metadata": {
            "tags": null
          },
          "name": "stdout",
          "output_type": "stream",
          "text": [
            "[ Valid | 058/200 ] loss = 0.78024, acc = 0.79613\n"
          ]
        },
        {
          "metadata": {
            "tags": null
          },
          "name": "stderr",
          "output_type": "stream",
          "text": [
            "100%|██████████| 213/213 [01:04<00:00,  3.28it/s]\n"
          ]
        },
        {
          "metadata": {
            "tags": null
          },
          "name": "stdout",
          "output_type": "stream",
          "text": [
            "Using 80.95% of unlabeld data\n"
          ]
        },
        {
          "metadata": {
            "tags": null
          },
          "name": "stderr",
          "output_type": "stream",
          "text": [
            "100%|██████████| 267/267 [01:26<00:00,  3.07it/s]\n"
          ]
        },
        {
          "metadata": {
            "tags": null
          },
          "name": "stdout",
          "output_type": "stream",
          "text": [
            "[ Train | 059/200 ] loss = 0.23509, acc = 0.92626\n"
          ]
        },
        {
          "metadata": {
            "tags": null
          },
          "name": "stderr",
          "output_type": "stream",
          "text": [
            "100%|██████████| 21/21 [00:05<00:00,  3.82it/s]\n"
          ]
        },
        {
          "metadata": {
            "tags": null
          },
          "name": "stdout",
          "output_type": "stream",
          "text": [
            "[ Valid | 059/200 ] loss = 0.89375, acc = 0.78869\n"
          ]
        },
        {
          "metadata": {
            "tags": null
          },
          "name": "stderr",
          "output_type": "stream",
          "text": [
            "100%|██████████| 213/213 [01:05<00:00,  3.24it/s]\n"
          ]
        },
        {
          "metadata": {
            "tags": null
          },
          "name": "stdout",
          "output_type": "stream",
          "text": [
            "Using 82.38% of unlabeld data\n"
          ]
        },
        {
          "metadata": {
            "tags": null
          },
          "name": "stderr",
          "output_type": "stream",
          "text": [
            "100%|██████████| 270/270 [01:27<00:00,  3.08it/s]\n"
          ]
        },
        {
          "metadata": {
            "tags": null
          },
          "name": "stdout",
          "output_type": "stream",
          "text": [
            "[ Train | 060/200 ] loss = 0.27174, acc = 0.91076\n"
          ]
        },
        {
          "metadata": {
            "tags": null
          },
          "name": "stderr",
          "output_type": "stream",
          "text": [
            "100%|██████████| 21/21 [00:06<00:00,  3.44it/s]\n"
          ]
        },
        {
          "metadata": {
            "tags": null
          },
          "name": "stdout",
          "output_type": "stream",
          "text": [
            "[ Valid | 060/200 ] loss = 0.88412, acc = 0.77500\n"
          ]
        },
        {
          "metadata": {
            "tags": null
          },
          "name": "stderr",
          "output_type": "stream",
          "text": [
            "100%|██████████| 213/213 [01:06<00:00,  3.22it/s]\n"
          ]
        },
        {
          "metadata": {
            "tags": null
          },
          "name": "stdout",
          "output_type": "stream",
          "text": [
            "Using 79.63% of unlabeld data\n"
          ]
        },
        {
          "metadata": {
            "tags": null
          },
          "name": "stderr",
          "output_type": "stream",
          "text": [
            "100%|██████████| 265/265 [01:25<00:00,  3.09it/s]\n"
          ]
        },
        {
          "metadata": {
            "tags": null
          },
          "name": "stdout",
          "output_type": "stream",
          "text": [
            "[ Train | 061/200 ] loss = 0.25976, acc = 0.91250\n"
          ]
        },
        {
          "metadata": {
            "tags": null
          },
          "name": "stderr",
          "output_type": "stream",
          "text": [
            "100%|██████████| 21/21 [00:06<00:00,  3.17it/s]\n"
          ]
        },
        {
          "metadata": {
            "tags": null
          },
          "name": "stdout",
          "output_type": "stream",
          "text": [
            "[ Valid | 061/200 ] loss = 0.88878, acc = 0.78988\n"
          ]
        },
        {
          "metadata": {
            "tags": null
          },
          "name": "stderr",
          "output_type": "stream",
          "text": [
            "100%|██████████| 213/213 [01:05<00:00,  3.25it/s]\n"
          ]
        },
        {
          "metadata": {
            "tags": null
          },
          "name": "stdout",
          "output_type": "stream",
          "text": [
            "Using 80.67% of unlabeld data\n"
          ]
        },
        {
          "metadata": {
            "tags": null
          },
          "name": "stderr",
          "output_type": "stream",
          "text": [
            "100%|██████████| 267/267 [01:26<00:00,  3.10it/s]\n"
          ]
        },
        {
          "metadata": {
            "tags": null
          },
          "name": "stdout",
          "output_type": "stream",
          "text": [
            "[ Train | 062/200 ] loss = 0.28424, acc = 0.90742\n"
          ]
        },
        {
          "metadata": {
            "tags": null
          },
          "name": "stderr",
          "output_type": "stream",
          "text": [
            "100%|██████████| 21/21 [00:05<00:00,  3.81it/s]\n"
          ]
        },
        {
          "metadata": {
            "tags": null
          },
          "name": "stdout",
          "output_type": "stream",
          "text": [
            "[ Valid | 062/200 ] loss = 0.87222, acc = 0.78452\n"
          ]
        },
        {
          "metadata": {
            "tags": null
          },
          "name": "stderr",
          "output_type": "stream",
          "text": [
            "100%|██████████| 213/213 [01:05<00:00,  3.23it/s]\n"
          ]
        },
        {
          "metadata": {
            "tags": null
          },
          "name": "stdout",
          "output_type": "stream",
          "text": [
            "Using 78.32% of unlabeld data\n"
          ]
        },
        {
          "metadata": {
            "tags": null
          },
          "name": "stderr",
          "output_type": "stream",
          "text": [
            "100%|██████████| 262/262 [01:25<00:00,  3.06it/s]\n"
          ]
        },
        {
          "metadata": {
            "tags": null
          },
          "name": "stdout",
          "output_type": "stream",
          "text": [
            "[ Train | 063/200 ] loss = 0.27936, acc = 0.91054\n"
          ]
        },
        {
          "metadata": {
            "tags": null
          },
          "name": "stderr",
          "output_type": "stream",
          "text": [
            "100%|██████████| 21/21 [00:05<00:00,  3.77it/s]\n"
          ]
        },
        {
          "metadata": {
            "tags": null
          },
          "name": "stdout",
          "output_type": "stream",
          "text": [
            "[ Valid | 063/200 ] loss = 0.84568, acc = 0.77054\n"
          ]
        },
        {
          "metadata": {
            "tags": null
          },
          "name": "stderr",
          "output_type": "stream",
          "text": [
            "100%|██████████| 213/213 [01:05<00:00,  3.27it/s]\n"
          ]
        },
        {
          "metadata": {
            "tags": null
          },
          "name": "stdout",
          "output_type": "stream",
          "text": [
            "Using 80.71% of unlabeld data\n"
          ]
        },
        {
          "metadata": {
            "tags": null
          },
          "name": "stderr",
          "output_type": "stream",
          "text": [
            "100%|██████████| 267/267 [01:25<00:00,  3.12it/s]\n"
          ]
        },
        {
          "metadata": {
            "tags": null
          },
          "name": "stdout",
          "output_type": "stream",
          "text": [
            "[ Train | 064/200 ] loss = 0.25863, acc = 0.91374\n"
          ]
        },
        {
          "metadata": {
            "tags": null
          },
          "name": "stderr",
          "output_type": "stream",
          "text": [
            "100%|██████████| 21/21 [00:07<00:00,  2.67it/s]\n"
          ]
        },
        {
          "metadata": {
            "tags": null
          },
          "name": "stdout",
          "output_type": "stream",
          "text": [
            "[ Valid | 064/200 ] loss = 0.88308, acc = 0.77054\n"
          ]
        },
        {
          "metadata": {
            "tags": null
          },
          "name": "stderr",
          "output_type": "stream",
          "text": [
            "100%|██████████| 213/213 [01:04<00:00,  3.31it/s]\n"
          ]
        },
        {
          "metadata": {
            "tags": null
          },
          "name": "stdout",
          "output_type": "stream",
          "text": [
            "Using 80.17% of unlabeld data\n"
          ]
        },
        {
          "metadata": {
            "tags": null
          },
          "name": "stderr",
          "output_type": "stream",
          "text": [
            "100%|██████████| 266/266 [01:27<00:00,  3.03it/s]\n"
          ]
        },
        {
          "metadata": {
            "tags": null
          },
          "name": "stdout",
          "output_type": "stream",
          "text": [
            "[ Train | 065/200 ] loss = 0.26853, acc = 0.91236\n"
          ]
        },
        {
          "metadata": {
            "tags": null
          },
          "name": "stderr",
          "output_type": "stream",
          "text": [
            "100%|██████████| 21/21 [00:05<00:00,  3.81it/s]\n"
          ]
        },
        {
          "metadata": {
            "tags": null
          },
          "name": "stdout",
          "output_type": "stream",
          "text": [
            "[ Valid | 065/200 ] loss = 0.88219, acc = 0.77024\n"
          ]
        },
        {
          "metadata": {
            "tags": null
          },
          "name": "stderr",
          "output_type": "stream",
          "text": [
            "100%|██████████| 213/213 [01:06<00:00,  3.21it/s]\n"
          ]
        },
        {
          "metadata": {
            "tags": null
          },
          "name": "stdout",
          "output_type": "stream",
          "text": [
            "Using 80.42% of unlabeld data\n"
          ]
        },
        {
          "metadata": {
            "tags": null
          },
          "name": "stderr",
          "output_type": "stream",
          "text": [
            "100%|██████████| 266/266 [01:26<00:00,  3.07it/s]\n"
          ]
        },
        {
          "metadata": {
            "tags": null
          },
          "name": "stdout",
          "output_type": "stream",
          "text": [
            "[ Train | 066/200 ] loss = 0.25887, acc = 0.91718\n"
          ]
        },
        {
          "metadata": {
            "tags": null
          },
          "name": "stderr",
          "output_type": "stream",
          "text": [
            "100%|██████████| 21/21 [00:05<00:00,  3.82it/s]\n"
          ]
        },
        {
          "metadata": {
            "tags": null
          },
          "name": "stdout",
          "output_type": "stream",
          "text": [
            "[ Valid | 066/200 ] loss = 0.96991, acc = 0.76339\n"
          ]
        },
        {
          "metadata": {
            "tags": null
          },
          "name": "stderr",
          "output_type": "stream",
          "text": [
            "100%|██████████| 213/213 [01:06<00:00,  3.21it/s]\n"
          ]
        },
        {
          "metadata": {
            "tags": null
          },
          "name": "stdout",
          "output_type": "stream",
          "text": [
            "Using 80.28% of unlabeld data\n"
          ]
        },
        {
          "metadata": {
            "tags": null
          },
          "name": "stderr",
          "output_type": "stream",
          "text": [
            "100%|██████████| 266/266 [01:25<00:00,  3.11it/s]\n"
          ]
        },
        {
          "metadata": {
            "tags": null
          },
          "name": "stdout",
          "output_type": "stream",
          "text": [
            "[ Train | 067/200 ] loss = 0.28134, acc = 0.91212\n"
          ]
        },
        {
          "metadata": {
            "tags": null
          },
          "name": "stderr",
          "output_type": "stream",
          "text": [
            "100%|██████████| 21/21 [00:06<00:00,  3.11it/s]\n"
          ]
        },
        {
          "metadata": {
            "tags": null
          },
          "name": "stdout",
          "output_type": "stream",
          "text": [
            "[ Valid | 067/200 ] loss = 0.95093, acc = 0.77321\n"
          ]
        },
        {
          "metadata": {
            "tags": null
          },
          "name": "stderr",
          "output_type": "stream",
          "text": [
            "100%|██████████| 213/213 [01:05<00:00,  3.26it/s]\n"
          ]
        },
        {
          "metadata": {
            "tags": null
          },
          "name": "stdout",
          "output_type": "stream",
          "text": [
            "Using 81.71% of unlabeld data\n"
          ]
        },
        {
          "metadata": {
            "tags": null
          },
          "name": "stderr",
          "output_type": "stream",
          "text": [
            "100%|██████████| 269/269 [01:27<00:00,  3.08it/s]\n"
          ]
        },
        {
          "metadata": {
            "tags": null
          },
          "name": "stdout",
          "output_type": "stream",
          "text": [
            "[ Train | 068/200 ] loss = 0.25617, acc = 0.91589\n"
          ]
        },
        {
          "metadata": {
            "tags": null
          },
          "name": "stderr",
          "output_type": "stream",
          "text": [
            "100%|██████████| 21/21 [00:05<00:00,  3.72it/s]\n"
          ]
        },
        {
          "metadata": {
            "tags": null
          },
          "name": "stdout",
          "output_type": "stream",
          "text": [
            "[ Valid | 068/200 ] loss = 0.85580, acc = 0.79821\n"
          ]
        },
        {
          "metadata": {
            "tags": null
          },
          "name": "stderr",
          "output_type": "stream",
          "text": [
            "100%|██████████| 213/213 [01:05<00:00,  3.25it/s]\n"
          ]
        },
        {
          "metadata": {
            "tags": null
          },
          "name": "stdout",
          "output_type": "stream",
          "text": [
            "Using 80.68% of unlabeld data\n"
          ]
        },
        {
          "metadata": {
            "tags": null
          },
          "name": "stderr",
          "output_type": "stream",
          "text": [
            "100%|██████████| 267/267 [01:28<00:00,  3.03it/s]\n"
          ]
        },
        {
          "metadata": {
            "tags": null
          },
          "name": "stdout",
          "output_type": "stream",
          "text": [
            "[ Train | 069/200 ] loss = 0.26083, acc = 0.91491\n"
          ]
        },
        {
          "metadata": {
            "tags": null
          },
          "name": "stderr",
          "output_type": "stream",
          "text": [
            "100%|██████████| 21/21 [00:06<00:00,  3.25it/s]\n"
          ]
        },
        {
          "metadata": {
            "tags": null
          },
          "name": "stdout",
          "output_type": "stream",
          "text": [
            "[ Valid | 069/200 ] loss = 0.84413, acc = 0.77946\n"
          ]
        },
        {
          "metadata": {
            "tags": null
          },
          "name": "stderr",
          "output_type": "stream",
          "text": [
            "100%|██████████| 213/213 [01:06<00:00,  3.23it/s]\n"
          ]
        },
        {
          "metadata": {
            "tags": null
          },
          "name": "stdout",
          "output_type": "stream",
          "text": [
            "Using 80.28% of unlabeld data\n"
          ]
        },
        {
          "metadata": {
            "tags": null
          },
          "name": "stderr",
          "output_type": "stream",
          "text": [
            "100%|██████████| 266/266 [01:26<00:00,  3.07it/s]\n"
          ]
        },
        {
          "metadata": {
            "tags": null
          },
          "name": "stdout",
          "output_type": "stream",
          "text": [
            "[ Train | 070/200 ] loss = 0.26602, acc = 0.91189\n"
          ]
        },
        {
          "metadata": {
            "tags": null
          },
          "name": "stderr",
          "output_type": "stream",
          "text": [
            "100%|██████████| 21/21 [00:06<00:00,  3.10it/s]\n"
          ]
        },
        {
          "metadata": {
            "tags": null
          },
          "name": "stdout",
          "output_type": "stream",
          "text": [
            "[ Valid | 070/200 ] loss = 0.98397, acc = 0.75595\n"
          ]
        },
        {
          "metadata": {
            "tags": null
          },
          "name": "stderr",
          "output_type": "stream",
          "text": [
            "100%|██████████| 213/213 [01:04<00:00,  3.29it/s]\n"
          ]
        },
        {
          "metadata": {
            "tags": null
          },
          "name": "stdout",
          "output_type": "stream",
          "text": [
            "Using 79.59% of unlabeld data\n"
          ]
        },
        {
          "metadata": {
            "tags": null
          },
          "name": "stderr",
          "output_type": "stream",
          "text": [
            "100%|██████████| 265/265 [01:26<00:00,  3.07it/s]\n"
          ]
        },
        {
          "metadata": {
            "tags": null
          },
          "name": "stdout",
          "output_type": "stream",
          "text": [
            "[ Train | 071/200 ] loss = 0.30850, acc = 0.90389\n"
          ]
        },
        {
          "metadata": {
            "tags": null
          },
          "name": "stderr",
          "output_type": "stream",
          "text": [
            "100%|██████████| 21/21 [00:05<00:00,  3.81it/s]\n"
          ]
        },
        {
          "metadata": {
            "tags": null
          },
          "name": "stdout",
          "output_type": "stream",
          "text": [
            "[ Valid | 071/200 ] loss = 0.88035, acc = 0.78006\n"
          ]
        },
        {
          "metadata": {
            "tags": null
          },
          "name": "stderr",
          "output_type": "stream",
          "text": [
            "100%|██████████| 213/213 [01:05<00:00,  3.24it/s]\n"
          ]
        },
        {
          "metadata": {
            "tags": null
          },
          "name": "stdout",
          "output_type": "stream",
          "text": [
            "Using 79.22% of unlabeld data\n"
          ]
        },
        {
          "metadata": {
            "tags": null
          },
          "name": "stderr",
          "output_type": "stream",
          "text": [
            "100%|██████████| 264/264 [01:26<00:00,  3.05it/s]\n"
          ]
        },
        {
          "metadata": {
            "tags": null
          },
          "name": "stdout",
          "output_type": "stream",
          "text": [
            "[ Train | 072/200 ] loss = 0.27472, acc = 0.90838\n"
          ]
        },
        {
          "metadata": {
            "tags": null
          },
          "name": "stderr",
          "output_type": "stream",
          "text": [
            "100%|██████████| 21/21 [00:05<00:00,  3.72it/s]\n"
          ]
        },
        {
          "metadata": {
            "tags": null
          },
          "name": "stdout",
          "output_type": "stream",
          "text": [
            "[ Valid | 072/200 ] loss = 0.88952, acc = 0.78214\n"
          ]
        },
        {
          "metadata": {
            "tags": null
          },
          "name": "stderr",
          "output_type": "stream",
          "text": [
            "100%|██████████| 213/213 [01:06<00:00,  3.19it/s]\n"
          ]
        },
        {
          "metadata": {
            "tags": null
          },
          "name": "stdout",
          "output_type": "stream",
          "text": [
            "Using 79.91% of unlabeld data\n"
          ]
        },
        {
          "metadata": {
            "tags": null
          },
          "name": "stderr",
          "output_type": "stream",
          "text": [
            "100%|██████████| 265/265 [01:25<00:00,  3.09it/s]\n"
          ]
        },
        {
          "metadata": {
            "tags": null
          },
          "name": "stdout",
          "output_type": "stream",
          "text": [
            "[ Train | 073/200 ] loss = 0.25667, acc = 0.91368\n"
          ]
        },
        {
          "metadata": {
            "tags": null
          },
          "name": "stderr",
          "output_type": "stream",
          "text": [
            "100%|██████████| 21/21 [00:06<00:00,  3.20it/s]\n"
          ]
        },
        {
          "metadata": {
            "tags": null
          },
          "name": "stdout",
          "output_type": "stream",
          "text": [
            "[ Valid | 073/200 ] loss = 0.86273, acc = 0.77649\n"
          ]
        },
        {
          "metadata": {
            "tags": null
          },
          "name": "stderr",
          "output_type": "stream",
          "text": [
            "100%|██████████| 213/213 [01:05<00:00,  3.23it/s]\n"
          ]
        },
        {
          "metadata": {
            "tags": null
          },
          "name": "stdout",
          "output_type": "stream",
          "text": [
            "Using 81.76% of unlabeld data\n"
          ]
        },
        {
          "metadata": {
            "tags": null
          },
          "name": "stderr",
          "output_type": "stream",
          "text": [
            "100%|██████████| 269/269 [01:29<00:00,  3.02it/s]\n"
          ]
        },
        {
          "metadata": {
            "tags": null
          },
          "name": "stdout",
          "output_type": "stream",
          "text": [
            "[ Train | 074/200 ] loss = 0.26578, acc = 0.91276\n"
          ]
        },
        {
          "metadata": {
            "tags": null
          },
          "name": "stderr",
          "output_type": "stream",
          "text": [
            "100%|██████████| 21/21 [00:06<00:00,  3.17it/s]\n"
          ]
        },
        {
          "metadata": {
            "tags": null
          },
          "name": "stdout",
          "output_type": "stream",
          "text": [
            "[ Valid | 074/200 ] loss = 0.83259, acc = 0.77798\n"
          ]
        },
        {
          "metadata": {
            "tags": null
          },
          "name": "stderr",
          "output_type": "stream",
          "text": [
            "100%|██████████| 213/213 [01:06<00:00,  3.21it/s]\n"
          ]
        },
        {
          "metadata": {
            "tags": null
          },
          "name": "stdout",
          "output_type": "stream",
          "text": [
            "Using 81.28% of unlabeld data\n"
          ]
        },
        {
          "metadata": {
            "tags": null
          },
          "name": "stderr",
          "output_type": "stream",
          "text": [
            "100%|██████████| 268/268 [01:26<00:00,  3.08it/s]\n"
          ]
        },
        {
          "metadata": {
            "tags": null
          },
          "name": "stdout",
          "output_type": "stream",
          "text": [
            "[ Train | 075/200 ] loss = 0.25598, acc = 0.91709\n"
          ]
        },
        {
          "metadata": {
            "tags": null
          },
          "name": "stderr",
          "output_type": "stream",
          "text": [
            "100%|██████████| 21/21 [00:05<00:00,  3.74it/s]\n"
          ]
        },
        {
          "metadata": {
            "tags": null
          },
          "name": "stdout",
          "output_type": "stream",
          "text": [
            "[ Valid | 075/200 ] loss = 0.76734, acc = 0.79405\n"
          ]
        },
        {
          "metadata": {
            "tags": null
          },
          "name": "stderr",
          "output_type": "stream",
          "text": [
            "100%|██████████| 213/213 [01:04<00:00,  3.28it/s]\n"
          ]
        },
        {
          "metadata": {
            "tags": null
          },
          "name": "stdout",
          "output_type": "stream",
          "text": [
            "Using 78.53% of unlabeld data\n"
          ]
        },
        {
          "metadata": {
            "tags": null
          },
          "name": "stderr",
          "output_type": "stream",
          "text": [
            "100%|██████████| 262/262 [01:26<00:00,  3.03it/s]\n"
          ]
        },
        {
          "metadata": {
            "tags": null
          },
          "name": "stdout",
          "output_type": "stream",
          "text": [
            "[ Train | 076/200 ] loss = 0.28255, acc = 0.90923\n"
          ]
        },
        {
          "metadata": {
            "tags": null
          },
          "name": "stderr",
          "output_type": "stream",
          "text": [
            "100%|██████████| 21/21 [00:05<00:00,  3.83it/s]\n"
          ]
        },
        {
          "metadata": {
            "tags": null
          },
          "name": "stdout",
          "output_type": "stream",
          "text": [
            "[ Valid | 076/200 ] loss = 0.84663, acc = 0.77381\n"
          ]
        },
        {
          "metadata": {
            "tags": null
          },
          "name": "stderr",
          "output_type": "stream",
          "text": [
            "100%|██████████| 213/213 [01:06<00:00,  3.19it/s]\n"
          ]
        },
        {
          "metadata": {
            "tags": null
          },
          "name": "stdout",
          "output_type": "stream",
          "text": [
            "Using 78.56% of unlabeld data\n"
          ]
        },
        {
          "metadata": {
            "tags": null
          },
          "name": "stderr",
          "output_type": "stream",
          "text": [
            "100%|██████████| 262/262 [01:25<00:00,  3.07it/s]\n"
          ]
        },
        {
          "metadata": {
            "tags": null
          },
          "name": "stdout",
          "output_type": "stream",
          "text": [
            "[ Train | 077/200 ] loss = 0.25509, acc = 0.91543\n"
          ]
        },
        {
          "metadata": {
            "tags": null
          },
          "name": "stderr",
          "output_type": "stream",
          "text": [
            "100%|██████████| 21/21 [00:05<00:00,  3.59it/s]\n"
          ]
        },
        {
          "metadata": {
            "tags": null
          },
          "name": "stdout",
          "output_type": "stream",
          "text": [
            "[ Valid | 077/200 ] loss = 0.86414, acc = 0.77411\n"
          ]
        },
        {
          "metadata": {
            "tags": null
          },
          "name": "stderr",
          "output_type": "stream",
          "text": [
            "100%|██████████| 213/213 [01:06<00:00,  3.21it/s]\n"
          ]
        },
        {
          "metadata": {
            "tags": null
          },
          "name": "stdout",
          "output_type": "stream",
          "text": [
            "Using 80.05% of unlabeld data\n"
          ]
        },
        {
          "metadata": {
            "tags": null
          },
          "name": "stderr",
          "output_type": "stream",
          "text": [
            "100%|██████████| 266/266 [01:25<00:00,  3.11it/s]\n"
          ]
        },
        {
          "metadata": {
            "tags": null
          },
          "name": "stdout",
          "output_type": "stream",
          "text": [
            "[ Train | 078/200 ] loss = 0.25946, acc = 0.91612\n"
          ]
        },
        {
          "metadata": {
            "tags": null
          },
          "name": "stderr",
          "output_type": "stream",
          "text": [
            "100%|██████████| 21/21 [00:06<00:00,  3.10it/s]\n"
          ]
        },
        {
          "metadata": {
            "tags": null
          },
          "name": "stdout",
          "output_type": "stream",
          "text": [
            "[ Valid | 078/200 ] loss = 0.89971, acc = 0.77054\n"
          ]
        },
        {
          "metadata": {
            "tags": null
          },
          "name": "stderr",
          "output_type": "stream",
          "text": [
            "100%|██████████| 213/213 [01:05<00:00,  3.24it/s]\n"
          ]
        },
        {
          "metadata": {
            "tags": null
          },
          "name": "stdout",
          "output_type": "stream",
          "text": [
            "Using 79.24% of unlabeld data\n"
          ]
        },
        {
          "metadata": {
            "tags": null
          },
          "name": "stderr",
          "output_type": "stream",
          "text": [
            "100%|██████████| 264/264 [01:26<00:00,  3.04it/s]\n"
          ]
        },
        {
          "metadata": {
            "tags": null
          },
          "name": "stdout",
          "output_type": "stream",
          "text": [
            "[ Train | 079/200 ] loss = 0.27162, acc = 0.91217\n"
          ]
        },
        {
          "metadata": {
            "tags": null
          },
          "name": "stderr",
          "output_type": "stream",
          "text": [
            "100%|██████████| 21/21 [00:05<00:00,  3.87it/s]\n"
          ]
        },
        {
          "metadata": {
            "tags": null
          },
          "name": "stdout",
          "output_type": "stream",
          "text": [
            "[ Valid | 079/200 ] loss = 0.94885, acc = 0.77083\n"
          ]
        },
        {
          "metadata": {
            "tags": null
          },
          "name": "stderr",
          "output_type": "stream",
          "text": [
            "100%|██████████| 213/213 [01:07<00:00,  3.15it/s]\n"
          ]
        },
        {
          "metadata": {
            "tags": null
          },
          "name": "stdout",
          "output_type": "stream",
          "text": [
            "Using 79.44% of unlabeld data\n"
          ]
        },
        {
          "metadata": {
            "tags": null
          },
          "name": "stderr",
          "output_type": "stream",
          "text": [
            "100%|██████████| 264/264 [01:26<00:00,  3.05it/s]\n"
          ]
        },
        {
          "metadata": {
            "tags": null
          },
          "name": "stdout",
          "output_type": "stream",
          "text": [
            "[ Train | 080/200 ] loss = 0.29971, acc = 0.90317\n"
          ]
        },
        {
          "metadata": {
            "tags": null
          },
          "name": "stderr",
          "output_type": "stream",
          "text": [
            "100%|██████████| 21/21 [00:06<00:00,  3.07it/s]\n"
          ]
        },
        {
          "metadata": {
            "tags": null
          },
          "name": "stdout",
          "output_type": "stream",
          "text": [
            "[ Valid | 080/200 ] loss = 0.77600, acc = 0.79405\n"
          ]
        },
        {
          "metadata": {
            "tags": null
          },
          "name": "stderr",
          "output_type": "stream",
          "text": [
            "100%|██████████| 213/213 [01:05<00:00,  3.27it/s]\n"
          ]
        },
        {
          "metadata": {
            "tags": null
          },
          "name": "stdout",
          "output_type": "stream",
          "text": [
            "Using 80.62% of unlabeld data\n"
          ]
        },
        {
          "metadata": {
            "tags": null
          },
          "name": "stderr",
          "output_type": "stream",
          "text": [
            "100%|██████████| 267/267 [01:27<00:00,  3.03it/s]\n"
          ]
        },
        {
          "metadata": {
            "tags": null
          },
          "name": "stdout",
          "output_type": "stream",
          "text": [
            "[ Train | 081/200 ] loss = 0.23593, acc = 0.92228\n"
          ]
        },
        {
          "metadata": {
            "tags": null
          },
          "name": "stderr",
          "output_type": "stream",
          "text": [
            "100%|██████████| 21/21 [00:05<00:00,  3.85it/s]\n"
          ]
        },
        {
          "metadata": {
            "tags": null
          },
          "name": "stdout",
          "output_type": "stream",
          "text": [
            "[ Valid | 081/200 ] loss = 0.81107, acc = 0.78720\n"
          ]
        },
        {
          "metadata": {
            "tags": null
          },
          "name": "stderr",
          "output_type": "stream",
          "text": [
            "100%|██████████| 213/213 [01:06<00:00,  3.20it/s]\n"
          ]
        },
        {
          "metadata": {
            "tags": null
          },
          "name": "stdout",
          "output_type": "stream",
          "text": [
            "Using 82.20% of unlabeld data\n"
          ]
        },
        {
          "metadata": {
            "tags": null
          },
          "name": "stderr",
          "output_type": "stream",
          "text": [
            "100%|██████████| 270/270 [01:28<00:00,  3.07it/s]\n"
          ]
        },
        {
          "metadata": {
            "tags": null
          },
          "name": "stdout",
          "output_type": "stream",
          "text": [
            "[ Train | 082/200 ] loss = 0.25565, acc = 0.91644\n"
          ]
        },
        {
          "metadata": {
            "tags": null
          },
          "name": "stderr",
          "output_type": "stream",
          "text": [
            "100%|██████████| 21/21 [00:06<00:00,  3.15it/s]\n"
          ]
        },
        {
          "metadata": {
            "tags": null
          },
          "name": "stdout",
          "output_type": "stream",
          "text": [
            "[ Valid | 082/200 ] loss = 0.92656, acc = 0.76637\n"
          ]
        },
        {
          "metadata": {
            "tags": null
          },
          "name": "stderr",
          "output_type": "stream",
          "text": [
            "100%|██████████| 213/213 [01:06<00:00,  3.23it/s]\n"
          ]
        },
        {
          "metadata": {
            "tags": null
          },
          "name": "stdout",
          "output_type": "stream",
          "text": [
            "Using 82.23% of unlabeld data\n"
          ]
        },
        {
          "metadata": {
            "tags": null
          },
          "name": "stderr",
          "output_type": "stream",
          "text": [
            "100%|██████████| 270/270 [01:27<00:00,  3.07it/s]\n"
          ]
        },
        {
          "metadata": {
            "tags": null
          },
          "name": "stdout",
          "output_type": "stream",
          "text": [
            "[ Train | 083/200 ] loss = 0.27730, acc = 0.90521\n"
          ]
        },
        {
          "metadata": {
            "tags": null
          },
          "name": "stderr",
          "output_type": "stream",
          "text": [
            "100%|██████████| 21/21 [00:05<00:00,  3.87it/s]\n"
          ]
        },
        {
          "metadata": {
            "tags": null
          },
          "name": "stdout",
          "output_type": "stream",
          "text": [
            "[ Valid | 083/200 ] loss = 0.81800, acc = 0.78780\n"
          ]
        },
        {
          "metadata": {
            "tags": null
          },
          "name": "stderr",
          "output_type": "stream",
          "text": [
            "100%|██████████| 213/213 [01:05<00:00,  3.23it/s]\n"
          ]
        },
        {
          "metadata": {
            "tags": null
          },
          "name": "stdout",
          "output_type": "stream",
          "text": [
            "Using 79.94% of unlabeld data\n"
          ]
        },
        {
          "metadata": {
            "tags": null
          },
          "name": "stderr",
          "output_type": "stream",
          "text": [
            "100%|██████████| 265/265 [01:25<00:00,  3.08it/s]\n"
          ]
        },
        {
          "metadata": {
            "tags": null
          },
          "name": "stdout",
          "output_type": "stream",
          "text": [
            "[ Train | 084/200 ] loss = 0.26705, acc = 0.91297\n"
          ]
        },
        {
          "metadata": {
            "tags": null
          },
          "name": "stderr",
          "output_type": "stream",
          "text": [
            "100%|██████████| 21/21 [00:06<00:00,  3.17it/s]\n"
          ]
        },
        {
          "metadata": {
            "tags": null
          },
          "name": "stdout",
          "output_type": "stream",
          "text": [
            "[ Valid | 084/200 ] loss = 0.88505, acc = 0.77887\n"
          ]
        },
        {
          "metadata": {
            "tags": null
          },
          "name": "stderr",
          "output_type": "stream",
          "text": [
            "100%|██████████| 213/213 [01:07<00:00,  3.17it/s]\n"
          ]
        },
        {
          "metadata": {
            "tags": null
          },
          "name": "stdout",
          "output_type": "stream",
          "text": [
            "Using 79.15% of unlabeld data\n"
          ]
        },
        {
          "metadata": {
            "tags": null
          },
          "name": "stderr",
          "output_type": "stream",
          "text": [
            "100%|██████████| 264/264 [01:26<00:00,  3.04it/s]\n"
          ]
        },
        {
          "metadata": {
            "tags": null
          },
          "name": "stdout",
          "output_type": "stream",
          "text": [
            "[ Train | 085/200 ] loss = 0.25242, acc = 0.91809\n"
          ]
        },
        {
          "metadata": {
            "tags": null
          },
          "name": "stderr",
          "output_type": "stream",
          "text": [
            "100%|██████████| 21/21 [00:05<00:00,  3.83it/s]\n"
          ]
        },
        {
          "metadata": {
            "tags": null
          },
          "name": "stdout",
          "output_type": "stream",
          "text": [
            "[ Valid | 085/200 ] loss = 0.95545, acc = 0.77500\n"
          ]
        },
        {
          "metadata": {
            "tags": null
          },
          "name": "stderr",
          "output_type": "stream",
          "text": [
            "100%|██████████| 213/213 [01:04<00:00,  3.29it/s]\n"
          ]
        },
        {
          "metadata": {
            "tags": null
          },
          "name": "stdout",
          "output_type": "stream",
          "text": [
            "Using 82.27% of unlabeld data\n"
          ]
        },
        {
          "metadata": {
            "tags": null
          },
          "name": "stderr",
          "output_type": "stream",
          "text": [
            "100%|██████████| 270/270 [01:27<00:00,  3.09it/s]\n"
          ]
        },
        {
          "metadata": {
            "tags": null
          },
          "name": "stdout",
          "output_type": "stream",
          "text": [
            "[ Train | 086/200 ] loss = 0.27452, acc = 0.90949\n"
          ]
        },
        {
          "metadata": {
            "tags": null
          },
          "name": "stderr",
          "output_type": "stream",
          "text": [
            "100%|██████████| 21/21 [00:05<00:00,  3.54it/s]\n"
          ]
        },
        {
          "metadata": {
            "tags": null
          },
          "name": "stdout",
          "output_type": "stream",
          "text": [
            "[ Valid | 086/200 ] loss = 0.96836, acc = 0.76518\n"
          ]
        },
        {
          "metadata": {
            "tags": null
          },
          "name": "stderr",
          "output_type": "stream",
          "text": [
            "100%|██████████| 213/213 [01:06<00:00,  3.21it/s]\n"
          ]
        },
        {
          "metadata": {
            "tags": null
          },
          "name": "stdout",
          "output_type": "stream",
          "text": [
            "Using 80.27% of unlabeld data\n"
          ]
        },
        {
          "metadata": {
            "tags": null
          },
          "name": "stderr",
          "output_type": "stream",
          "text": [
            "100%|██████████| 266/266 [01:26<00:00,  3.09it/s]\n"
          ]
        },
        {
          "metadata": {
            "tags": null
          },
          "name": "stdout",
          "output_type": "stream",
          "text": [
            "[ Train | 087/200 ] loss = 0.27393, acc = 0.90977\n"
          ]
        },
        {
          "metadata": {
            "tags": null
          },
          "name": "stderr",
          "output_type": "stream",
          "text": [
            "100%|██████████| 21/21 [00:06<00:00,  3.14it/s]\n"
          ]
        },
        {
          "metadata": {
            "tags": null
          },
          "name": "stdout",
          "output_type": "stream",
          "text": [
            "[ Valid | 087/200 ] loss = 0.88420, acc = 0.78571\n"
          ]
        },
        {
          "metadata": {
            "tags": null
          },
          "name": "stderr",
          "output_type": "stream",
          "text": [
            "100%|██████████| 213/213 [01:05<00:00,  3.23it/s]\n"
          ]
        },
        {
          "metadata": {
            "tags": null
          },
          "name": "stdout",
          "output_type": "stream",
          "text": [
            "Using 78.71% of unlabeld data\n"
          ]
        },
        {
          "metadata": {
            "tags": null
          },
          "name": "stderr",
          "output_type": "stream",
          "text": [
            "100%|██████████| 263/263 [01:26<00:00,  3.04it/s]\n"
          ]
        },
        {
          "metadata": {
            "tags": null
          },
          "name": "stdout",
          "output_type": "stream",
          "text": [
            "[ Train | 088/200 ] loss = 0.28321, acc = 0.91053\n"
          ]
        },
        {
          "metadata": {
            "tags": null
          },
          "name": "stderr",
          "output_type": "stream",
          "text": [
            "100%|██████████| 21/21 [00:05<00:00,  3.81it/s]\n"
          ]
        },
        {
          "metadata": {
            "tags": null
          },
          "name": "stdout",
          "output_type": "stream",
          "text": [
            "[ Valid | 088/200 ] loss = 0.86240, acc = 0.78929\n"
          ]
        },
        {
          "metadata": {
            "tags": null
          },
          "name": "stderr",
          "output_type": "stream",
          "text": [
            "100%|██████████| 213/213 [01:06<00:00,  3.23it/s]\n"
          ]
        },
        {
          "metadata": {
            "tags": null
          },
          "name": "stdout",
          "output_type": "stream",
          "text": [
            "Using 80.59% of unlabeld data\n"
          ]
        },
        {
          "metadata": {
            "tags": null
          },
          "name": "stderr",
          "output_type": "stream",
          "text": [
            "100%|██████████| 267/267 [01:27<00:00,  3.04it/s]\n"
          ]
        },
        {
          "metadata": {
            "tags": null
          },
          "name": "stdout",
          "output_type": "stream",
          "text": [
            "[ Train | 089/200 ] loss = 0.24727, acc = 0.92111\n"
          ]
        },
        {
          "metadata": {
            "tags": null
          },
          "name": "stderr",
          "output_type": "stream",
          "text": [
            "100%|██████████| 21/21 [00:06<00:00,  3.12it/s]\n"
          ]
        },
        {
          "metadata": {
            "tags": null
          },
          "name": "stdout",
          "output_type": "stream",
          "text": [
            "[ Valid | 089/200 ] loss = 0.81618, acc = 0.78542\n"
          ]
        },
        {
          "metadata": {
            "tags": null
          },
          "name": "stderr",
          "output_type": "stream",
          "text": [
            "100%|██████████| 213/213 [01:06<00:00,  3.23it/s]\n"
          ]
        },
        {
          "metadata": {
            "tags": null
          },
          "name": "stdout",
          "output_type": "stream",
          "text": [
            "Using 81.40% of unlabeld data\n"
          ]
        },
        {
          "metadata": {
            "tags": null
          },
          "name": "stderr",
          "output_type": "stream",
          "text": [
            "100%|██████████| 268/268 [01:28<00:00,  3.03it/s]\n"
          ]
        },
        {
          "metadata": {
            "tags": null
          },
          "name": "stdout",
          "output_type": "stream",
          "text": [
            "[ Train | 090/200 ] loss = 0.24862, acc = 0.91616\n"
          ]
        },
        {
          "metadata": {
            "tags": null
          },
          "name": "stderr",
          "output_type": "stream",
          "text": [
            "100%|██████████| 21/21 [00:05<00:00,  3.76it/s]\n"
          ]
        },
        {
          "metadata": {
            "tags": null
          },
          "name": "stdout",
          "output_type": "stream",
          "text": [
            "[ Valid | 090/200 ] loss = 0.89541, acc = 0.78214\n"
          ]
        },
        {
          "metadata": {
            "tags": null
          },
          "name": "stderr",
          "output_type": "stream",
          "text": [
            "100%|██████████| 213/213 [01:05<00:00,  3.26it/s]\n"
          ]
        },
        {
          "metadata": {
            "tags": null
          },
          "name": "stdout",
          "output_type": "stream",
          "text": [
            "Using 82.46% of unlabeld data\n"
          ]
        },
        {
          "metadata": {
            "tags": null
          },
          "name": "stderr",
          "output_type": "stream",
          "text": [
            "100%|██████████| 271/271 [01:29<00:00,  3.04it/s]\n"
          ]
        },
        {
          "metadata": {
            "tags": null
          },
          "name": "stdout",
          "output_type": "stream",
          "text": [
            "[ Train | 091/200 ] loss = 0.26671, acc = 0.91363\n"
          ]
        },
        {
          "metadata": {
            "tags": null
          },
          "name": "stderr",
          "output_type": "stream",
          "text": [
            "100%|██████████| 21/21 [00:06<00:00,  3.11it/s]\n"
          ]
        },
        {
          "metadata": {
            "tags": null
          },
          "name": "stdout",
          "output_type": "stream",
          "text": [
            "[ Valid | 091/200 ] loss = 0.86479, acc = 0.77827\n"
          ]
        },
        {
          "metadata": {
            "tags": null
          },
          "name": "stderr",
          "output_type": "stream",
          "text": [
            "100%|██████████| 213/213 [01:06<00:00,  3.20it/s]\n"
          ]
        },
        {
          "metadata": {
            "tags": null
          },
          "name": "stdout",
          "output_type": "stream",
          "text": [
            "Using 83.02% of unlabeld data\n"
          ]
        },
        {
          "metadata": {
            "tags": null
          },
          "name": "stderr",
          "output_type": "stream",
          "text": [
            "100%|██████████| 272/272 [01:28<00:00,  3.06it/s]\n"
          ]
        },
        {
          "metadata": {
            "tags": null
          },
          "name": "stdout",
          "output_type": "stream",
          "text": [
            "[ Train | 092/200 ] loss = 0.24580, acc = 0.91935\n"
          ]
        },
        {
          "metadata": {
            "tags": null
          },
          "name": "stderr",
          "output_type": "stream",
          "text": [
            "100%|██████████| 21/21 [00:05<00:00,  3.86it/s]\n"
          ]
        },
        {
          "metadata": {
            "tags": null
          },
          "name": "stdout",
          "output_type": "stream",
          "text": [
            "[ Valid | 092/200 ] loss = 0.85098, acc = 0.77917\n"
          ]
        },
        {
          "metadata": {
            "tags": null
          },
          "name": "stderr",
          "output_type": "stream",
          "text": [
            "100%|██████████| 213/213 [01:07<00:00,  3.16it/s]\n"
          ]
        },
        {
          "metadata": {
            "tags": null
          },
          "name": "stdout",
          "output_type": "stream",
          "text": [
            "Using 82.26% of unlabeld data\n"
          ]
        },
        {
          "metadata": {
            "tags": null
          },
          "name": "stderr",
          "output_type": "stream",
          "text": [
            "100%|██████████| 270/270 [01:27<00:00,  3.10it/s]\n"
          ]
        },
        {
          "metadata": {
            "tags": null
          },
          "name": "stdout",
          "output_type": "stream",
          "text": [
            "[ Train | 093/200 ] loss = 0.28632, acc = 0.90637\n"
          ]
        },
        {
          "metadata": {
            "tags": null
          },
          "name": "stderr",
          "output_type": "stream",
          "text": [
            "100%|██████████| 21/21 [00:06<00:00,  3.25it/s]\n"
          ]
        },
        {
          "metadata": {
            "tags": null
          },
          "name": "stdout",
          "output_type": "stream",
          "text": [
            "[ Valid | 093/200 ] loss = 0.86836, acc = 0.78601\n"
          ]
        },
        {
          "metadata": {
            "tags": null
          },
          "name": "stderr",
          "output_type": "stream",
          "text": [
            "100%|██████████| 213/213 [01:06<00:00,  3.20it/s]\n"
          ]
        },
        {
          "metadata": {
            "tags": null
          },
          "name": "stdout",
          "output_type": "stream",
          "text": [
            "Using 78.35% of unlabeld data\n"
          ]
        },
        {
          "metadata": {
            "tags": null
          },
          "name": "stderr",
          "output_type": "stream",
          "text": [
            "100%|██████████| 262/262 [01:26<00:00,  3.02it/s]\n"
          ]
        },
        {
          "metadata": {
            "tags": null
          },
          "name": "stdout",
          "output_type": "stream",
          "text": [
            "[ Train | 094/200 ] loss = 0.25509, acc = 0.91448\n"
          ]
        },
        {
          "metadata": {
            "tags": null
          },
          "name": "stderr",
          "output_type": "stream",
          "text": [
            "100%|██████████| 21/21 [00:05<00:00,  3.78it/s]\n"
          ]
        },
        {
          "metadata": {
            "tags": null
          },
          "name": "stdout",
          "output_type": "stream",
          "text": [
            "[ Valid | 094/200 ] loss = 0.88020, acc = 0.75089\n"
          ]
        },
        {
          "metadata": {
            "tags": null
          },
          "name": "stderr",
          "output_type": "stream",
          "text": [
            "100%|██████████| 213/213 [01:06<00:00,  3.18it/s]\n"
          ]
        },
        {
          "metadata": {
            "tags": null
          },
          "name": "stdout",
          "output_type": "stream",
          "text": [
            "Using 77.56% of unlabeld data\n"
          ]
        },
        {
          "metadata": {
            "tags": null
          },
          "name": "stderr",
          "output_type": "stream",
          "text": [
            "100%|██████████| 260/260 [01:23<00:00,  3.12it/s]\n"
          ]
        },
        {
          "metadata": {
            "tags": null
          },
          "name": "stdout",
          "output_type": "stream",
          "text": [
            "[ Train | 095/200 ] loss = 0.30274, acc = 0.90517\n"
          ]
        },
        {
          "metadata": {
            "tags": null
          },
          "name": "stderr",
          "output_type": "stream",
          "text": [
            "100%|██████████| 21/21 [00:07<00:00,  2.75it/s]\n"
          ]
        },
        {
          "metadata": {
            "tags": null
          },
          "name": "stdout",
          "output_type": "stream",
          "text": [
            "[ Valid | 095/200 ] loss = 0.78434, acc = 0.75923\n"
          ]
        },
        {
          "metadata": {
            "tags": null
          },
          "name": "stderr",
          "output_type": "stream",
          "text": [
            "100%|██████████| 213/213 [01:04<00:00,  3.28it/s]\n"
          ]
        },
        {
          "metadata": {
            "tags": null
          },
          "name": "stdout",
          "output_type": "stream",
          "text": [
            "Using 78.84% of unlabeld data\n"
          ]
        },
        {
          "metadata": {
            "tags": null
          },
          "name": "stderr",
          "output_type": "stream",
          "text": [
            "100%|██████████| 263/263 [01:26<00:00,  3.06it/s]\n"
          ]
        },
        {
          "metadata": {
            "tags": null
          },
          "name": "stdout",
          "output_type": "stream",
          "text": [
            "[ Train | 096/200 ] loss = 0.25143, acc = 0.91694\n"
          ]
        },
        {
          "metadata": {
            "tags": null
          },
          "name": "stderr",
          "output_type": "stream",
          "text": [
            "100%|██████████| 21/21 [00:06<00:00,  3.45it/s]\n"
          ]
        },
        {
          "metadata": {
            "tags": null
          },
          "name": "stdout",
          "output_type": "stream",
          "text": [
            "[ Valid | 096/200 ] loss = 0.73787, acc = 0.79851\n"
          ]
        },
        {
          "metadata": {
            "tags": null
          },
          "name": "stderr",
          "output_type": "stream",
          "text": [
            "100%|██████████| 213/213 [01:06<00:00,  3.21it/s]\n"
          ]
        },
        {
          "metadata": {
            "tags": null
          },
          "name": "stdout",
          "output_type": "stream",
          "text": [
            "Using 80.28% of unlabeld data\n"
          ]
        },
        {
          "metadata": {
            "tags": null
          },
          "name": "stderr",
          "output_type": "stream",
          "text": [
            "100%|██████████| 266/266 [01:27<00:00,  3.06it/s]\n"
          ]
        },
        {
          "metadata": {
            "tags": null
          },
          "name": "stdout",
          "output_type": "stream",
          "text": [
            "[ Train | 097/200 ] loss = 0.24373, acc = 0.92000\n"
          ]
        },
        {
          "metadata": {
            "tags": null
          },
          "name": "stderr",
          "output_type": "stream",
          "text": [
            "100%|██████████| 21/21 [00:05<00:00,  3.80it/s]\n"
          ]
        },
        {
          "metadata": {
            "tags": null
          },
          "name": "stdout",
          "output_type": "stream",
          "text": [
            "[ Valid | 097/200 ] loss = 0.83732, acc = 0.78155\n"
          ]
        },
        {
          "metadata": {
            "tags": null
          },
          "name": "stderr",
          "output_type": "stream",
          "text": [
            "100%|██████████| 213/213 [01:06<00:00,  3.20it/s]\n"
          ]
        },
        {
          "metadata": {
            "tags": null
          },
          "name": "stdout",
          "output_type": "stream",
          "text": [
            "Using 82.01% of unlabeld data\n"
          ]
        },
        {
          "metadata": {
            "tags": null
          },
          "name": "stderr",
          "output_type": "stream",
          "text": [
            "100%|██████████| 270/270 [01:27<00:00,  3.08it/s]\n"
          ]
        },
        {
          "metadata": {
            "tags": null
          },
          "name": "stdout",
          "output_type": "stream",
          "text": [
            "[ Train | 098/200 ] loss = 0.25689, acc = 0.91123\n"
          ]
        },
        {
          "metadata": {
            "tags": null
          },
          "name": "stderr",
          "output_type": "stream",
          "text": [
            "100%|██████████| 21/21 [00:06<00:00,  3.15it/s]\n"
          ]
        },
        {
          "metadata": {
            "tags": null
          },
          "name": "stdout",
          "output_type": "stream",
          "text": [
            "[ Valid | 098/200 ] loss = 0.86469, acc = 0.78899\n"
          ]
        },
        {
          "metadata": {
            "tags": null
          },
          "name": "stderr",
          "output_type": "stream",
          "text": [
            "100%|██████████| 213/213 [01:06<00:00,  3.21it/s]\n"
          ]
        },
        {
          "metadata": {
            "tags": null
          },
          "name": "stdout",
          "output_type": "stream",
          "text": [
            "Using 80.59% of unlabeld data\n"
          ]
        },
        {
          "metadata": {
            "tags": null
          },
          "name": "stderr",
          "output_type": "stream",
          "text": [
            "100%|██████████| 267/267 [01:27<00:00,  3.04it/s]\n"
          ]
        },
        {
          "metadata": {
            "tags": null
          },
          "name": "stdout",
          "output_type": "stream",
          "text": [
            "[ Train | 099/200 ] loss = 0.27104, acc = 0.91269\n"
          ]
        },
        {
          "metadata": {
            "tags": null
          },
          "name": "stderr",
          "output_type": "stream",
          "text": [
            "100%|██████████| 21/21 [00:05<00:00,  3.80it/s]\n"
          ]
        },
        {
          "metadata": {
            "tags": null
          },
          "name": "stdout",
          "output_type": "stream",
          "text": [
            "[ Valid | 099/200 ] loss = 0.95083, acc = 0.76696\n"
          ]
        },
        {
          "metadata": {
            "tags": null
          },
          "name": "stderr",
          "output_type": "stream",
          "text": [
            "100%|██████████| 213/213 [01:05<00:00,  3.28it/s]\n"
          ]
        },
        {
          "metadata": {
            "tags": null
          },
          "name": "stdout",
          "output_type": "stream",
          "text": [
            "Using 81.84% of unlabeld data\n"
          ]
        },
        {
          "metadata": {
            "tags": null
          },
          "name": "stderr",
          "output_type": "stream",
          "text": [
            "100%|██████████| 269/269 [01:28<00:00,  3.05it/s]\n"
          ]
        },
        {
          "metadata": {
            "tags": null
          },
          "name": "stdout",
          "output_type": "stream",
          "text": [
            "[ Train | 100/200 ] loss = 0.26577, acc = 0.91217\n"
          ]
        },
        {
          "metadata": {
            "tags": null
          },
          "name": "stderr",
          "output_type": "stream",
          "text": [
            "100%|██████████| 21/21 [00:05<00:00,  3.74it/s]\n"
          ]
        },
        {
          "metadata": {
            "tags": null
          },
          "name": "stdout",
          "output_type": "stream",
          "text": [
            "[ Valid | 100/200 ] loss = 0.85849, acc = 0.77976\n"
          ]
        },
        {
          "metadata": {
            "tags": null
          },
          "name": "stderr",
          "output_type": "stream",
          "text": [
            "100%|██████████| 213/213 [01:07<00:00,  3.17it/s]\n"
          ]
        },
        {
          "metadata": {
            "tags": null
          },
          "name": "stdout",
          "output_type": "stream",
          "text": [
            "Using 82.30% of unlabeld data\n"
          ]
        },
        {
          "metadata": {
            "tags": null
          },
          "name": "stderr",
          "output_type": "stream",
          "text": [
            "100%|██████████| 270/270 [01:26<00:00,  3.12it/s]\n"
          ]
        },
        {
          "metadata": {
            "tags": null
          },
          "name": "stdout",
          "output_type": "stream",
          "text": [
            "[ Train | 101/200 ] loss = 0.24400, acc = 0.91968\n"
          ]
        },
        {
          "metadata": {
            "tags": null
          },
          "name": "stderr",
          "output_type": "stream",
          "text": [
            "100%|██████████| 21/21 [00:06<00:00,  3.12it/s]\n"
          ]
        },
        {
          "metadata": {
            "tags": null
          },
          "name": "stdout",
          "output_type": "stream",
          "text": [
            "[ Valid | 101/200 ] loss = 0.91393, acc = 0.76667\n"
          ]
        },
        {
          "metadata": {
            "tags": null
          },
          "name": "stderr",
          "output_type": "stream",
          "text": [
            "100%|██████████| 213/213 [01:05<00:00,  3.23it/s]\n"
          ]
        },
        {
          "metadata": {
            "tags": null
          },
          "name": "stdout",
          "output_type": "stream",
          "text": [
            "Using 81.76% of unlabeld data\n"
          ]
        },
        {
          "metadata": {
            "tags": null
          },
          "name": "stderr",
          "output_type": "stream",
          "text": [
            "100%|██████████| 269/269 [01:27<00:00,  3.07it/s]\n"
          ]
        },
        {
          "metadata": {
            "tags": null
          },
          "name": "stdout",
          "output_type": "stream",
          "text": [
            "[ Train | 102/200 ] loss = 0.27063, acc = 0.91357\n"
          ]
        },
        {
          "metadata": {
            "tags": null
          },
          "name": "stderr",
          "output_type": "stream",
          "text": [
            "100%|██████████| 21/21 [00:05<00:00,  3.79it/s]\n"
          ]
        },
        {
          "metadata": {
            "tags": null
          },
          "name": "stdout",
          "output_type": "stream",
          "text": [
            "[ Valid | 102/200 ] loss = 0.90650, acc = 0.75506\n"
          ]
        },
        {
          "metadata": {
            "tags": null
          },
          "name": "stderr",
          "output_type": "stream",
          "text": [
            "100%|██████████| 213/213 [01:07<00:00,  3.17it/s]\n"
          ]
        },
        {
          "metadata": {
            "tags": null
          },
          "name": "stdout",
          "output_type": "stream",
          "text": [
            "Using 80.55% of unlabeld data\n"
          ]
        },
        {
          "metadata": {
            "tags": null
          },
          "name": "stderr",
          "output_type": "stream",
          "text": [
            "100%|██████████| 267/267 [01:26<00:00,  3.10it/s]\n"
          ]
        },
        {
          "metadata": {
            "tags": null
          },
          "name": "stdout",
          "output_type": "stream",
          "text": [
            "[ Train | 103/200 ] loss = 0.26147, acc = 0.91304\n"
          ]
        },
        {
          "metadata": {
            "tags": null
          },
          "name": "stderr",
          "output_type": "stream",
          "text": [
            "100%|██████████| 21/21 [00:06<00:00,  3.12it/s]\n"
          ]
        },
        {
          "metadata": {
            "tags": null
          },
          "name": "stdout",
          "output_type": "stream",
          "text": [
            "[ Valid | 103/200 ] loss = 0.90209, acc = 0.76875\n"
          ]
        },
        {
          "metadata": {
            "tags": null
          },
          "name": "stderr",
          "output_type": "stream",
          "text": [
            "100%|██████████| 213/213 [01:05<00:00,  3.26it/s]\n"
          ]
        },
        {
          "metadata": {
            "tags": null
          },
          "name": "stdout",
          "output_type": "stream",
          "text": [
            "Using 82.18% of unlabeld data\n"
          ]
        },
        {
          "metadata": {
            "tags": null
          },
          "name": "stderr",
          "output_type": "stream",
          "text": [
            "100%|██████████| 270/270 [01:28<00:00,  3.06it/s]\n"
          ]
        },
        {
          "metadata": {
            "tags": null
          },
          "name": "stdout",
          "output_type": "stream",
          "text": [
            "[ Train | 104/200 ] loss = 0.24821, acc = 0.91528\n"
          ]
        },
        {
          "metadata": {
            "tags": null
          },
          "name": "stderr",
          "output_type": "stream",
          "text": [
            "100%|██████████| 21/21 [00:06<00:00,  3.29it/s]\n"
          ]
        },
        {
          "metadata": {
            "tags": null
          },
          "name": "stdout",
          "output_type": "stream",
          "text": [
            "[ Valid | 104/200 ] loss = 0.88656, acc = 0.80030\n"
          ]
        },
        {
          "metadata": {
            "tags": null
          },
          "name": "stderr",
          "output_type": "stream",
          "text": [
            "100%|██████████| 213/213 [01:06<00:00,  3.21it/s]\n"
          ]
        },
        {
          "metadata": {
            "tags": null
          },
          "name": "stdout",
          "output_type": "stream",
          "text": [
            "Using 83.79% of unlabeld data\n"
          ]
        },
        {
          "metadata": {
            "tags": null
          },
          "name": "stderr",
          "output_type": "stream",
          "text": [
            "100%|██████████| 273/273 [01:29<00:00,  3.06it/s]\n"
          ]
        },
        {
          "metadata": {
            "tags": null
          },
          "name": "stdout",
          "output_type": "stream",
          "text": [
            "[ Train | 105/200 ] loss = 0.28381, acc = 0.91094\n"
          ]
        },
        {
          "metadata": {
            "tags": null
          },
          "name": "stderr",
          "output_type": "stream",
          "text": [
            "100%|██████████| 21/21 [00:05<00:00,  3.72it/s]\n"
          ]
        },
        {
          "metadata": {
            "tags": null
          },
          "name": "stdout",
          "output_type": "stream",
          "text": [
            "[ Valid | 105/200 ] loss = 0.85420, acc = 0.77560\n"
          ]
        },
        {
          "metadata": {
            "tags": null
          },
          "name": "stderr",
          "output_type": "stream",
          "text": [
            "100%|██████████| 213/213 [01:06<00:00,  3.20it/s]\n"
          ]
        },
        {
          "metadata": {
            "tags": null
          },
          "name": "stdout",
          "output_type": "stream",
          "text": [
            "Using 81.40% of unlabeld data\n"
          ]
        },
        {
          "metadata": {
            "tags": null
          },
          "name": "stderr",
          "output_type": "stream",
          "text": [
            "100%|██████████| 268/268 [01:25<00:00,  3.13it/s]\n"
          ]
        },
        {
          "metadata": {
            "tags": null
          },
          "name": "stdout",
          "output_type": "stream",
          "text": [
            "[ Train | 106/200 ] loss = 0.25158, acc = 0.91826\n"
          ]
        },
        {
          "metadata": {
            "tags": null
          },
          "name": "stderr",
          "output_type": "stream",
          "text": [
            "100%|██████████| 21/21 [00:06<00:00,  3.28it/s]\n"
          ]
        },
        {
          "metadata": {
            "tags": null
          },
          "name": "stdout",
          "output_type": "stream",
          "text": [
            "[ Valid | 106/200 ] loss = 0.79517, acc = 0.79911\n"
          ]
        },
        {
          "metadata": {
            "tags": null
          },
          "name": "stderr",
          "output_type": "stream",
          "text": [
            "100%|██████████| 213/213 [01:03<00:00,  3.35it/s]\n"
          ]
        },
        {
          "metadata": {
            "tags": null
          },
          "name": "stdout",
          "output_type": "stream",
          "text": [
            "Using 81.36% of unlabeld data\n"
          ]
        },
        {
          "metadata": {
            "tags": null
          },
          "name": "stderr",
          "output_type": "stream",
          "text": [
            "100%|██████████| 268/268 [01:24<00:00,  3.16it/s]\n"
          ]
        },
        {
          "metadata": {
            "tags": null
          },
          "name": "stdout",
          "output_type": "stream",
          "text": [
            "[ Train | 107/200 ] loss = 0.25127, acc = 0.92211\n"
          ]
        },
        {
          "metadata": {
            "tags": null
          },
          "name": "stderr",
          "output_type": "stream",
          "text": [
            "100%|██████████| 21/21 [00:06<00:00,  3.28it/s]\n"
          ]
        },
        {
          "metadata": {
            "tags": null
          },
          "name": "stdout",
          "output_type": "stream",
          "text": [
            "[ Valid | 107/200 ] loss = 0.96596, acc = 0.75446\n"
          ]
        },
        {
          "metadata": {
            "tags": null
          },
          "name": "stderr",
          "output_type": "stream",
          "text": [
            "100%|██████████| 213/213 [01:04<00:00,  3.32it/s]\n"
          ]
        },
        {
          "metadata": {
            "tags": null
          },
          "name": "stdout",
          "output_type": "stream",
          "text": [
            "Using 83.07% of unlabeld data\n"
          ]
        },
        {
          "metadata": {
            "tags": null
          },
          "name": "stderr",
          "output_type": "stream",
          "text": [
            "100%|██████████| 272/272 [01:25<00:00,  3.19it/s]\n"
          ]
        },
        {
          "metadata": {
            "tags": null
          },
          "name": "stdout",
          "output_type": "stream",
          "text": [
            "[ Train | 108/200 ] loss = 0.28164, acc = 0.91062\n"
          ]
        },
        {
          "metadata": {
            "tags": null
          },
          "name": "stderr",
          "output_type": "stream",
          "text": [
            "100%|██████████| 21/21 [00:06<00:00,  3.32it/s]\n"
          ]
        },
        {
          "metadata": {
            "tags": null
          },
          "name": "stdout",
          "output_type": "stream",
          "text": [
            "[ Valid | 108/200 ] loss = 0.93351, acc = 0.78542\n"
          ]
        },
        {
          "metadata": {
            "tags": null
          },
          "name": "stderr",
          "output_type": "stream",
          "text": [
            "100%|██████████| 213/213 [01:03<00:00,  3.33it/s]\n"
          ]
        },
        {
          "metadata": {
            "tags": null
          },
          "name": "stdout",
          "output_type": "stream",
          "text": [
            "Using 81.71% of unlabeld data\n"
          ]
        },
        {
          "metadata": {
            "tags": null
          },
          "name": "stderr",
          "output_type": "stream",
          "text": [
            "100%|██████████| 269/269 [01:25<00:00,  3.16it/s]\n"
          ]
        },
        {
          "metadata": {
            "tags": null
          },
          "name": "stdout",
          "output_type": "stream",
          "text": [
            "[ Train | 109/200 ] loss = 0.25136, acc = 0.91787\n"
          ]
        },
        {
          "metadata": {
            "tags": null
          },
          "name": "stderr",
          "output_type": "stream",
          "text": [
            "100%|██████████| 21/21 [00:06<00:00,  3.31it/s]\n"
          ]
        },
        {
          "metadata": {
            "tags": null
          },
          "name": "stdout",
          "output_type": "stream",
          "text": [
            "[ Valid | 109/200 ] loss = 0.95687, acc = 0.74792\n"
          ]
        },
        {
          "metadata": {
            "tags": null
          },
          "name": "stderr",
          "output_type": "stream",
          "text": [
            "100%|██████████| 213/213 [01:03<00:00,  3.33it/s]\n"
          ]
        },
        {
          "metadata": {
            "tags": null
          },
          "name": "stdout",
          "output_type": "stream",
          "text": [
            "Using 80.03% of unlabeld data\n"
          ]
        },
        {
          "metadata": {
            "tags": null
          },
          "name": "stderr",
          "output_type": "stream",
          "text": [
            "100%|██████████| 265/265 [01:22<00:00,  3.20it/s]\n"
          ]
        },
        {
          "metadata": {
            "tags": null
          },
          "name": "stdout",
          "output_type": "stream",
          "text": [
            "[ Train | 110/200 ] loss = 0.28617, acc = 0.90920\n"
          ]
        },
        {
          "metadata": {
            "tags": null
          },
          "name": "stderr",
          "output_type": "stream",
          "text": [
            "100%|██████████| 21/21 [00:05<00:00,  3.77it/s]\n"
          ]
        },
        {
          "metadata": {
            "tags": null
          },
          "name": "stdout",
          "output_type": "stream",
          "text": [
            "[ Valid | 110/200 ] loss = 0.92201, acc = 0.78333\n"
          ]
        },
        {
          "metadata": {
            "tags": null
          },
          "name": "stderr",
          "output_type": "stream",
          "text": [
            "100%|██████████| 213/213 [01:04<00:00,  3.30it/s]\n"
          ]
        },
        {
          "metadata": {
            "tags": null
          },
          "name": "stdout",
          "output_type": "stream",
          "text": [
            "Using 80.73% of unlabeld data\n"
          ]
        },
        {
          "metadata": {
            "tags": null
          },
          "name": "stderr",
          "output_type": "stream",
          "text": [
            "100%|██████████| 267/267 [01:24<00:00,  3.16it/s]\n"
          ]
        },
        {
          "metadata": {
            "tags": null
          },
          "name": "stdout",
          "output_type": "stream",
          "text": [
            "[ Train | 111/200 ] loss = 0.28583, acc = 0.90765\n"
          ]
        },
        {
          "metadata": {
            "tags": null
          },
          "name": "stderr",
          "output_type": "stream",
          "text": [
            "100%|██████████| 21/21 [00:05<00:00,  3.85it/s]\n"
          ]
        },
        {
          "metadata": {
            "tags": null
          },
          "name": "stdout",
          "output_type": "stream",
          "text": [
            "[ Valid | 111/200 ] loss = 0.96481, acc = 0.76994\n"
          ]
        },
        {
          "metadata": {
            "tags": null
          },
          "name": "stderr",
          "output_type": "stream",
          "text": [
            "100%|██████████| 213/213 [01:03<00:00,  3.36it/s]\n"
          ]
        },
        {
          "metadata": {
            "tags": null
          },
          "name": "stdout",
          "output_type": "stream",
          "text": [
            "Using 81.01% of unlabeld data\n"
          ]
        },
        {
          "metadata": {
            "tags": null
          },
          "name": "stderr",
          "output_type": "stream",
          "text": [
            "100%|██████████| 268/268 [01:23<00:00,  3.19it/s]\n"
          ]
        },
        {
          "metadata": {
            "tags": null
          },
          "name": "stdout",
          "output_type": "stream",
          "text": [
            "[ Train | 112/200 ] loss = 0.24837, acc = 0.91733\n"
          ]
        },
        {
          "metadata": {
            "tags": null
          },
          "name": "stderr",
          "output_type": "stream",
          "text": [
            "100%|██████████| 21/21 [00:06<00:00,  3.33it/s]\n"
          ]
        },
        {
          "metadata": {
            "tags": null
          },
          "name": "stdout",
          "output_type": "stream",
          "text": [
            "[ Valid | 112/200 ] loss = 0.93764, acc = 0.77440\n"
          ]
        },
        {
          "metadata": {
            "tags": null
          },
          "name": "stderr",
          "output_type": "stream",
          "text": [
            "100%|██████████| 213/213 [01:03<00:00,  3.35it/s]\n"
          ]
        },
        {
          "metadata": {
            "tags": null
          },
          "name": "stdout",
          "output_type": "stream",
          "text": [
            "Using 82.27% of unlabeld data\n"
          ]
        },
        {
          "metadata": {
            "tags": null
          },
          "name": "stderr",
          "output_type": "stream",
          "text": [
            "100%|██████████| 270/270 [01:24<00:00,  3.18it/s]\n"
          ]
        },
        {
          "metadata": {
            "tags": null
          },
          "name": "stdout",
          "output_type": "stream",
          "text": [
            "[ Train | 113/200 ] loss = 0.26954, acc = 0.91285\n"
          ]
        },
        {
          "metadata": {
            "tags": null
          },
          "name": "stderr",
          "output_type": "stream",
          "text": [
            "100%|██████████| 21/21 [00:06<00:00,  3.36it/s]\n"
          ]
        },
        {
          "metadata": {
            "tags": null
          },
          "name": "stdout",
          "output_type": "stream",
          "text": [
            "[ Valid | 113/200 ] loss = 0.92895, acc = 0.76994\n"
          ]
        },
        {
          "metadata": {
            "tags": null
          },
          "name": "stderr",
          "output_type": "stream",
          "text": [
            "100%|██████████| 213/213 [01:03<00:00,  3.34it/s]\n"
          ]
        },
        {
          "metadata": {
            "tags": null
          },
          "name": "stdout",
          "output_type": "stream",
          "text": [
            "Using 82.49% of unlabeld data\n"
          ]
        },
        {
          "metadata": {
            "tags": null
          },
          "name": "stderr",
          "output_type": "stream",
          "text": [
            "100%|██████████| 271/271 [01:25<00:00,  3.17it/s]\n"
          ]
        },
        {
          "metadata": {
            "tags": null
          },
          "name": "stdout",
          "output_type": "stream",
          "text": [
            "[ Train | 114/200 ] loss = 0.25891, acc = 0.91605\n"
          ]
        },
        {
          "metadata": {
            "tags": null
          },
          "name": "stderr",
          "output_type": "stream",
          "text": [
            "100%|██████████| 21/21 [00:06<00:00,  3.28it/s]\n"
          ]
        },
        {
          "metadata": {
            "tags": null
          },
          "name": "stdout",
          "output_type": "stream",
          "text": [
            "[ Valid | 114/200 ] loss = 1.01781, acc = 0.75655\n"
          ]
        },
        {
          "metadata": {
            "tags": null
          },
          "name": "stderr",
          "output_type": "stream",
          "text": [
            "100%|██████████| 213/213 [01:03<00:00,  3.34it/s]\n"
          ]
        },
        {
          "metadata": {
            "tags": null
          },
          "name": "stdout",
          "output_type": "stream",
          "text": [
            "Using 81.51% of unlabeld data\n"
          ]
        },
        {
          "metadata": {
            "tags": null
          },
          "name": "stderr",
          "output_type": "stream",
          "text": [
            "100%|██████████| 269/269 [01:24<00:00,  3.18it/s]\n"
          ]
        },
        {
          "metadata": {
            "tags": null
          },
          "name": "stdout",
          "output_type": "stream",
          "text": [
            "[ Train | 115/200 ] loss = 0.26752, acc = 0.91276\n"
          ]
        },
        {
          "metadata": {
            "tags": null
          },
          "name": "stderr",
          "output_type": "stream",
          "text": [
            "100%|██████████| 21/21 [00:07<00:00,  2.99it/s]\n"
          ]
        },
        {
          "metadata": {
            "tags": null
          },
          "name": "stdout",
          "output_type": "stream",
          "text": [
            "[ Valid | 115/200 ] loss = 1.08781, acc = 0.76964\n"
          ]
        },
        {
          "metadata": {
            "tags": null
          },
          "name": "stderr",
          "output_type": "stream",
          "text": [
            "100%|██████████| 213/213 [01:03<00:00,  3.36it/s]\n"
          ]
        },
        {
          "metadata": {
            "tags": null
          },
          "name": "stdout",
          "output_type": "stream",
          "text": [
            "Using 82.39% of unlabeld data\n"
          ]
        },
        {
          "metadata": {
            "tags": null
          },
          "name": "stderr",
          "output_type": "stream",
          "text": [
            "100%|██████████| 270/270 [01:25<00:00,  3.17it/s]\n"
          ]
        },
        {
          "metadata": {
            "tags": null
          },
          "name": "stdout",
          "output_type": "stream",
          "text": [
            "[ Train | 116/200 ] loss = 0.26984, acc = 0.91030\n"
          ]
        },
        {
          "metadata": {
            "tags": null
          },
          "name": "stderr",
          "output_type": "stream",
          "text": [
            "100%|██████████| 21/21 [00:05<00:00,  3.83it/s]\n"
          ]
        },
        {
          "metadata": {
            "tags": null
          },
          "name": "stdout",
          "output_type": "stream",
          "text": [
            "[ Valid | 116/200 ] loss = 1.01504, acc = 0.75149\n"
          ]
        },
        {
          "metadata": {
            "tags": null
          },
          "name": "stderr",
          "output_type": "stream",
          "text": [
            "100%|██████████| 213/213 [01:04<00:00,  3.32it/s]\n"
          ]
        },
        {
          "metadata": {
            "tags": null
          },
          "name": "stdout",
          "output_type": "stream",
          "text": [
            "Using 80.77% of unlabeld data\n"
          ]
        },
        {
          "metadata": {
            "tags": null
          },
          "name": "stderr",
          "output_type": "stream",
          "text": [
            "100%|██████████| 267/267 [01:23<00:00,  3.19it/s]\n"
          ]
        },
        {
          "metadata": {
            "tags": null
          },
          "name": "stdout",
          "output_type": "stream",
          "text": [
            "[ Train | 117/200 ] loss = 0.27120, acc = 0.91163\n"
          ]
        },
        {
          "metadata": {
            "tags": null
          },
          "name": "stderr",
          "output_type": "stream",
          "text": [
            "100%|██████████| 21/21 [00:05<00:00,  3.67it/s]\n"
          ]
        },
        {
          "metadata": {
            "tags": null
          },
          "name": "stdout",
          "output_type": "stream",
          "text": [
            "[ Valid | 117/200 ] loss = 0.89085, acc = 0.77470\n"
          ]
        },
        {
          "output_type": "stream",
          "name": "stderr",
          "text": [
            "100%|██████████| 213/213 [01:04<00:00,  3.30it/s]\n"
          ]
        },
        {
          "output_type": "stream",
          "name": "stdout",
          "text": [
            "Using 81.89% of unlabeld data\n"
          ]
        },
        {
          "output_type": "stream",
          "name": "stderr",
          "text": [
            "100%|██████████| 269/269 [01:26<00:00,  3.11it/s]\n"
          ]
        },
        {
          "output_type": "stream",
          "name": "stdout",
          "text": [
            "[ Train | 118/200 ] loss = 0.24987, acc = 0.92100\n"
          ]
        },
        {
          "output_type": "stream",
          "name": "stderr",
          "text": [
            "100%|██████████| 21/21 [00:05<00:00,  3.67it/s]\n"
          ]
        },
        {
          "output_type": "stream",
          "name": "stdout",
          "text": [
            "[ Valid | 118/200 ] loss = 1.07752, acc = 0.75179\n"
          ]
        },
        {
          "output_type": "stream",
          "name": "stderr",
          "text": [
            "100%|██████████| 213/213 [01:04<00:00,  3.30it/s]\n"
          ]
        },
        {
          "output_type": "stream",
          "name": "stdout",
          "text": [
            "Using 81.82% of unlabeld data\n"
          ]
        },
        {
          "output_type": "stream",
          "name": "stderr",
          "text": [
            "100%|██████████| 269/269 [01:25<00:00,  3.13it/s]\n"
          ]
        },
        {
          "output_type": "stream",
          "name": "stdout",
          "text": [
            "[ Train | 119/200 ] loss = 0.26133, acc = 0.91415\n"
          ]
        },
        {
          "output_type": "stream",
          "name": "stderr",
          "text": [
            "100%|██████████| 21/21 [00:05<00:00,  3.56it/s]\n"
          ]
        },
        {
          "output_type": "stream",
          "name": "stdout",
          "text": [
            "[ Valid | 119/200 ] loss = 0.84205, acc = 0.79911\n"
          ]
        },
        {
          "output_type": "stream",
          "name": "stderr",
          "text": [
            "100%|██████████| 213/213 [01:04<00:00,  3.29it/s]\n"
          ]
        },
        {
          "output_type": "stream",
          "name": "stdout",
          "text": [
            "Using 82.27% of unlabeld data\n"
          ]
        },
        {
          "output_type": "stream",
          "name": "stderr",
          "text": [
            "100%|██████████| 270/270 [01:24<00:00,  3.21it/s]\n"
          ]
        },
        {
          "output_type": "stream",
          "name": "stdout",
          "text": [
            "[ Train | 120/200 ] loss = 0.24576, acc = 0.91875\n"
          ]
        },
        {
          "output_type": "stream",
          "name": "stderr",
          "text": [
            "100%|██████████| 21/21 [00:06<00:00,  3.49it/s]\n"
          ]
        },
        {
          "output_type": "stream",
          "name": "stdout",
          "text": [
            "[ Valid | 120/200 ] loss = 1.06495, acc = 0.76339\n"
          ]
        },
        {
          "output_type": "stream",
          "name": "stderr",
          "text": [
            "100%|██████████| 213/213 [01:05<00:00,  3.27it/s]\n"
          ]
        },
        {
          "output_type": "stream",
          "name": "stdout",
          "text": [
            "Using 80.89% of unlabeld data\n"
          ]
        },
        {
          "output_type": "stream",
          "name": "stderr",
          "text": [
            "100%|██████████| 267/267 [01:24<00:00,  3.15it/s]\n"
          ]
        },
        {
          "output_type": "stream",
          "name": "stdout",
          "text": [
            "[ Train | 121/200 ] loss = 0.27309, acc = 0.91035\n"
          ]
        },
        {
          "output_type": "stream",
          "name": "stderr",
          "text": [
            "100%|██████████| 21/21 [00:06<00:00,  3.32it/s]\n"
          ]
        },
        {
          "output_type": "stream",
          "name": "stdout",
          "text": [
            "[ Valid | 121/200 ] loss = 0.94767, acc = 0.78452\n"
          ]
        },
        {
          "output_type": "stream",
          "name": "stderr",
          "text": [
            "100%|██████████| 213/213 [01:04<00:00,  3.30it/s]\n"
          ]
        },
        {
          "output_type": "stream",
          "name": "stdout",
          "text": [
            "Using 82.23% of unlabeld data\n"
          ]
        },
        {
          "output_type": "stream",
          "name": "stderr",
          "text": [
            "100%|██████████| 270/270 [01:26<00:00,  3.13it/s]\n"
          ]
        },
        {
          "output_type": "stream",
          "name": "stdout",
          "text": [
            "[ Train | 122/200 ] loss = 0.26862, acc = 0.91586\n"
          ]
        },
        {
          "output_type": "stream",
          "name": "stderr",
          "text": [
            "100%|██████████| 21/21 [00:06<00:00,  3.18it/s]\n"
          ]
        },
        {
          "output_type": "stream",
          "name": "stdout",
          "text": [
            "[ Valid | 122/200 ] loss = 1.05524, acc = 0.73036\n"
          ]
        },
        {
          "output_type": "stream",
          "name": "stderr",
          "text": [
            "100%|██████████| 213/213 [01:05<00:00,  3.23it/s]\n"
          ]
        },
        {
          "output_type": "stream",
          "name": "stdout",
          "text": [
            "Using 81.86% of unlabeld data\n"
          ]
        },
        {
          "output_type": "stream",
          "name": "stderr",
          "text": [
            "100%|██████████| 269/269 [01:24<00:00,  3.18it/s]\n"
          ]
        },
        {
          "output_type": "stream",
          "name": "stdout",
          "text": [
            "[ Train | 123/200 ] loss = 0.26511, acc = 0.91078\n"
          ]
        },
        {
          "output_type": "stream",
          "name": "stderr",
          "text": [
            "100%|██████████| 21/21 [00:07<00:00,  2.94it/s]\n"
          ]
        },
        {
          "output_type": "stream",
          "name": "stdout",
          "text": [
            "[ Valid | 123/200 ] loss = 1.07123, acc = 0.76012\n"
          ]
        },
        {
          "output_type": "stream",
          "name": "stderr",
          "text": [
            "100%|██████████| 213/213 [01:04<00:00,  3.28it/s]\n"
          ]
        },
        {
          "output_type": "stream",
          "name": "stdout",
          "text": [
            "Using 80.18% of unlabeld data\n"
          ]
        },
        {
          "output_type": "stream",
          "name": "stderr",
          "text": [
            "100%|██████████| 266/266 [01:26<00:00,  3.09it/s]\n"
          ]
        },
        {
          "output_type": "stream",
          "name": "stdout",
          "text": [
            "[ Train | 124/200 ] loss = 0.26898, acc = 0.91353\n"
          ]
        },
        {
          "output_type": "stream",
          "name": "stderr",
          "text": [
            "100%|██████████| 21/21 [00:06<00:00,  3.26it/s]\n"
          ]
        },
        {
          "output_type": "stream",
          "name": "stdout",
          "text": [
            "[ Valid | 124/200 ] loss = 0.89753, acc = 0.78512\n"
          ]
        },
        {
          "output_type": "stream",
          "name": "stderr",
          "text": [
            "100%|██████████| 213/213 [01:04<00:00,  3.28it/s]\n"
          ]
        },
        {
          "output_type": "stream",
          "name": "stdout",
          "text": [
            "Using 82.48% of unlabeld data\n"
          ]
        },
        {
          "output_type": "stream",
          "name": "stderr",
          "text": [
            "100%|██████████| 271/271 [01:27<00:00,  3.10it/s]\n"
          ]
        },
        {
          "output_type": "stream",
          "name": "stdout",
          "text": [
            "[ Train | 125/200 ] loss = 0.24952, acc = 0.91767\n"
          ]
        },
        {
          "output_type": "stream",
          "name": "stderr",
          "text": [
            "100%|██████████| 21/21 [00:06<00:00,  3.26it/s]\n"
          ]
        },
        {
          "output_type": "stream",
          "name": "stdout",
          "text": [
            "[ Valid | 125/200 ] loss = 0.86656, acc = 0.78899\n"
          ]
        },
        {
          "output_type": "stream",
          "name": "stderr",
          "text": [
            "100%|██████████| 213/213 [01:05<00:00,  3.25it/s]\n"
          ]
        },
        {
          "output_type": "stream",
          "name": "stdout",
          "text": [
            "Using 81.39% of unlabeld data\n"
          ]
        },
        {
          "output_type": "stream",
          "name": "stderr",
          "text": [
            "100%|██████████| 268/268 [01:26<00:00,  3.09it/s]\n"
          ]
        },
        {
          "output_type": "stream",
          "name": "stdout",
          "text": [
            "[ Train | 126/200 ] loss = 0.25273, acc = 0.91535\n"
          ]
        },
        {
          "output_type": "stream",
          "name": "stderr",
          "text": [
            "100%|██████████| 21/21 [00:05<00:00,  3.51it/s]\n"
          ]
        },
        {
          "output_type": "stream",
          "name": "stdout",
          "text": [
            "[ Valid | 126/200 ] loss = 0.86308, acc = 0.80000\n"
          ]
        },
        {
          "output_type": "stream",
          "name": "stderr",
          "text": [
            "100%|██████████| 213/213 [01:05<00:00,  3.24it/s]\n"
          ]
        },
        {
          "output_type": "stream",
          "name": "stdout",
          "text": [
            "Using 83.41% of unlabeld data\n"
          ]
        },
        {
          "output_type": "stream",
          "name": "stderr",
          "text": [
            "100%|██████████| 273/273 [01:27<00:00,  3.12it/s]\n"
          ]
        },
        {
          "output_type": "stream",
          "name": "stdout",
          "text": [
            "[ Train | 127/200 ] loss = 0.23546, acc = 0.92079\n"
          ]
        },
        {
          "output_type": "stream",
          "name": "stderr",
          "text": [
            "100%|██████████| 21/21 [00:05<00:00,  3.76it/s]\n"
          ]
        },
        {
          "output_type": "stream",
          "name": "stdout",
          "text": [
            "[ Valid | 127/200 ] loss = 0.87239, acc = 0.79226\n"
          ]
        },
        {
          "output_type": "stream",
          "name": "stderr",
          "text": [
            "100%|██████████| 213/213 [01:06<00:00,  3.21it/s]\n"
          ]
        },
        {
          "output_type": "stream",
          "name": "stdout",
          "text": [
            "Using 80.95% of unlabeld data\n"
          ]
        },
        {
          "output_type": "stream",
          "name": "stderr",
          "text": [
            "100%|██████████| 267/267 [01:26<00:00,  3.09it/s]\n"
          ]
        },
        {
          "output_type": "stream",
          "name": "stdout",
          "text": [
            "[ Train | 128/200 ] loss = 0.28000, acc = 0.90777\n"
          ]
        },
        {
          "output_type": "stream",
          "name": "stderr",
          "text": [
            "100%|██████████| 21/21 [00:05<00:00,  3.73it/s]\n"
          ]
        },
        {
          "output_type": "stream",
          "name": "stdout",
          "text": [
            "[ Valid | 128/200 ] loss = 0.85845, acc = 0.77798\n"
          ]
        },
        {
          "output_type": "stream",
          "name": "stderr",
          "text": [
            "100%|██████████| 213/213 [01:05<00:00,  3.25it/s]\n"
          ]
        },
        {
          "output_type": "stream",
          "name": "stdout",
          "text": [
            "Using 80.75% of unlabeld data\n"
          ]
        },
        {
          "output_type": "stream",
          "name": "stderr",
          "text": [
            "100%|██████████| 267/267 [01:26<00:00,  3.10it/s]\n"
          ]
        },
        {
          "output_type": "stream",
          "name": "stdout",
          "text": [
            "[ Train | 129/200 ] loss = 0.25541, acc = 0.91585\n"
          ]
        },
        {
          "output_type": "stream",
          "name": "stderr",
          "text": [
            "100%|██████████| 21/21 [00:05<00:00,  3.75it/s]\n"
          ]
        },
        {
          "output_type": "stream",
          "name": "stdout",
          "text": [
            "[ Valid | 129/200 ] loss = 0.97371, acc = 0.76994\n"
          ]
        },
        {
          "output_type": "stream",
          "name": "stderr",
          "text": [
            "100%|██████████| 213/213 [01:05<00:00,  3.23it/s]\n"
          ]
        },
        {
          "output_type": "stream",
          "name": "stdout",
          "text": [
            "Using 82.17% of unlabeld data\n"
          ]
        },
        {
          "output_type": "stream",
          "name": "stderr",
          "text": [
            "100%|██████████| 270/270 [01:26<00:00,  3.11it/s]\n"
          ]
        },
        {
          "output_type": "stream",
          "name": "stdout",
          "text": [
            "[ Train | 130/200 ] loss = 0.27049, acc = 0.91065\n"
          ]
        },
        {
          "output_type": "stream",
          "name": "stderr",
          "text": [
            "100%|██████████| 21/21 [00:05<00:00,  3.78it/s]\n"
          ]
        },
        {
          "output_type": "stream",
          "name": "stdout",
          "text": [
            "[ Valid | 130/200 ] loss = 0.85041, acc = 0.78631\n"
          ]
        },
        {
          "output_type": "stream",
          "name": "stderr",
          "text": [
            "100%|██████████| 213/213 [01:06<00:00,  3.21it/s]\n"
          ]
        },
        {
          "output_type": "stream",
          "name": "stdout",
          "text": [
            "Using 81.11% of unlabeld data\n"
          ]
        },
        {
          "output_type": "stream",
          "name": "stderr",
          "text": [
            "100%|██████████| 268/268 [01:26<00:00,  3.10it/s]\n"
          ]
        },
        {
          "output_type": "stream",
          "name": "stdout",
          "text": [
            "[ Train | 131/200 ] loss = 0.24911, acc = 0.92001\n"
          ]
        },
        {
          "output_type": "stream",
          "name": "stderr",
          "text": [
            "100%|██████████| 21/21 [00:05<00:00,  3.82it/s]\n"
          ]
        },
        {
          "output_type": "stream",
          "name": "stdout",
          "text": [
            "[ Valid | 131/200 ] loss = 0.77412, acc = 0.80238\n"
          ]
        },
        {
          "output_type": "stream",
          "name": "stderr",
          "text": [
            "100%|██████████| 213/213 [01:06<00:00,  3.22it/s]\n"
          ]
        },
        {
          "output_type": "stream",
          "name": "stdout",
          "text": [
            "Using 81.51% of unlabeld data\n"
          ]
        },
        {
          "output_type": "stream",
          "name": "stderr",
          "text": [
            "100%|██████████| 269/269 [01:26<00:00,  3.09it/s]\n"
          ]
        },
        {
          "output_type": "stream",
          "name": "stdout",
          "text": [
            "[ Train | 132/200 ] loss = 0.26211, acc = 0.91612\n"
          ]
        },
        {
          "output_type": "stream",
          "name": "stderr",
          "text": [
            "100%|██████████| 21/21 [00:06<00:00,  3.32it/s]\n"
          ]
        },
        {
          "output_type": "stream",
          "name": "stdout",
          "text": [
            "[ Valid | 132/200 ] loss = 0.87599, acc = 0.79196\n"
          ]
        },
        {
          "output_type": "stream",
          "name": "stderr",
          "text": [
            "100%|██████████| 213/213 [01:05<00:00,  3.27it/s]\n"
          ]
        },
        {
          "output_type": "stream",
          "name": "stdout",
          "text": [
            "Using 81.26% of unlabeld data\n"
          ]
        },
        {
          "output_type": "stream",
          "name": "stderr",
          "text": [
            "100%|██████████| 268/268 [01:25<00:00,  3.15it/s]\n"
          ]
        },
        {
          "output_type": "stream",
          "name": "stdout",
          "text": [
            "[ Train | 133/200 ] loss = 0.26895, acc = 0.91465\n"
          ]
        },
        {
          "output_type": "stream",
          "name": "stderr",
          "text": [
            "100%|██████████| 21/21 [00:05<00:00,  3.52it/s]\n"
          ]
        },
        {
          "output_type": "stream",
          "name": "stdout",
          "text": [
            "[ Valid | 133/200 ] loss = 0.77518, acc = 0.80625\n"
          ]
        },
        {
          "output_type": "stream",
          "name": "stderr",
          "text": [
            "100%|██████████| 213/213 [01:04<00:00,  3.28it/s]\n"
          ]
        },
        {
          "output_type": "stream",
          "name": "stdout",
          "text": [
            "Using 81.40% of unlabeld data\n"
          ]
        },
        {
          "output_type": "stream",
          "name": "stderr",
          "text": [
            "100%|██████████| 268/268 [01:26<00:00,  3.10it/s]\n"
          ]
        },
        {
          "output_type": "stream",
          "name": "stdout",
          "text": [
            "[ Train | 134/200 ] loss = 0.24444, acc = 0.91803\n"
          ]
        },
        {
          "output_type": "stream",
          "name": "stderr",
          "text": [
            "100%|██████████| 21/21 [00:05<00:00,  3.50it/s]\n"
          ]
        },
        {
          "output_type": "stream",
          "name": "stdout",
          "text": [
            "[ Valid | 134/200 ] loss = 0.85650, acc = 0.78155\n"
          ]
        },
        {
          "output_type": "stream",
          "name": "stderr",
          "text": [
            "100%|██████████| 213/213 [01:04<00:00,  3.30it/s]\n"
          ]
        },
        {
          "output_type": "stream",
          "name": "stdout",
          "text": [
            "Using 83.24% of unlabeld data\n"
          ]
        },
        {
          "output_type": "stream",
          "name": "stderr",
          "text": [
            "100%|██████████| 272/272 [01:26<00:00,  3.14it/s]\n"
          ]
        },
        {
          "output_type": "stream",
          "name": "stdout",
          "text": [
            "[ Train | 135/200 ] loss = 0.23899, acc = 0.91981\n"
          ]
        },
        {
          "output_type": "stream",
          "name": "stderr",
          "text": [
            "100%|██████████| 21/21 [00:06<00:00,  3.38it/s]\n"
          ]
        },
        {
          "output_type": "stream",
          "name": "stdout",
          "text": [
            "[ Valid | 135/200 ] loss = 0.87489, acc = 0.78423\n"
          ]
        },
        {
          "output_type": "stream",
          "name": "stderr",
          "text": [
            "100%|██████████| 213/213 [01:04<00:00,  3.29it/s]\n"
          ]
        },
        {
          "output_type": "stream",
          "name": "stdout",
          "text": [
            "Using 80.67% of unlabeld data\n"
          ]
        },
        {
          "output_type": "stream",
          "name": "stderr",
          "text": [
            "100%|██████████| 267/267 [01:24<00:00,  3.16it/s]\n"
          ]
        },
        {
          "output_type": "stream",
          "name": "stdout",
          "text": [
            "[ Train | 136/200 ] loss = 0.26915, acc = 0.91128\n"
          ]
        },
        {
          "output_type": "stream",
          "name": "stderr",
          "text": [
            "100%|██████████| 21/21 [00:05<00:00,  3.74it/s]\n"
          ]
        },
        {
          "output_type": "stream",
          "name": "stdout",
          "text": [
            "[ Valid | 136/200 ] loss = 0.88021, acc = 0.78423\n"
          ]
        },
        {
          "output_type": "stream",
          "name": "stderr",
          "text": [
            "100%|██████████| 213/213 [01:04<00:00,  3.28it/s]\n"
          ]
        },
        {
          "output_type": "stream",
          "name": "stdout",
          "text": [
            "Using 81.87% of unlabeld data\n"
          ]
        },
        {
          "output_type": "stream",
          "name": "stderr",
          "text": [
            "100%|██████████| 269/269 [01:26<00:00,  3.13it/s]\n"
          ]
        },
        {
          "output_type": "stream",
          "name": "stdout",
          "text": [
            "[ Train | 137/200 ] loss = 0.26926, acc = 0.91392\n"
          ]
        },
        {
          "output_type": "stream",
          "name": "stderr",
          "text": [
            "100%|██████████| 21/21 [00:05<00:00,  3.74it/s]\n"
          ]
        },
        {
          "output_type": "stream",
          "name": "stdout",
          "text": [
            "[ Valid | 137/200 ] loss = 0.82979, acc = 0.79107\n"
          ]
        },
        {
          "output_type": "stream",
          "name": "stderr",
          "text": [
            "100%|██████████| 213/213 [01:05<00:00,  3.27it/s]\n"
          ]
        },
        {
          "output_type": "stream",
          "name": "stdout",
          "text": [
            "Using 79.90% of unlabeld data\n"
          ]
        },
        {
          "output_type": "stream",
          "name": "stderr",
          "text": [
            "100%|██████████| 265/265 [01:24<00:00,  3.13it/s]\n"
          ]
        },
        {
          "output_type": "stream",
          "name": "stdout",
          "text": [
            "[ Train | 138/200 ] loss = 0.29700, acc = 0.90507\n"
          ]
        },
        {
          "output_type": "stream",
          "name": "stderr",
          "text": [
            "100%|██████████| 21/21 [00:05<00:00,  3.75it/s]\n"
          ]
        },
        {
          "output_type": "stream",
          "name": "stdout",
          "text": [
            "[ Valid | 138/200 ] loss = 0.90121, acc = 0.77232\n"
          ]
        },
        {
          "output_type": "stream",
          "name": "stderr",
          "text": [
            "100%|██████████| 213/213 [01:05<00:00,  3.27it/s]\n"
          ]
        },
        {
          "output_type": "stream",
          "name": "stdout",
          "text": [
            "Using 77.69% of unlabeld data\n"
          ]
        },
        {
          "output_type": "stream",
          "name": "stderr",
          "text": [
            "100%|██████████| 261/261 [01:24<00:00,  3.10it/s]\n"
          ]
        },
        {
          "output_type": "stream",
          "name": "stdout",
          "text": [
            "[ Train | 139/200 ] loss = 0.26818, acc = 0.91355\n"
          ]
        },
        {
          "output_type": "stream",
          "name": "stderr",
          "text": [
            "100%|██████████| 21/21 [00:05<00:00,  3.77it/s]\n"
          ]
        },
        {
          "output_type": "stream",
          "name": "stdout",
          "text": [
            "[ Valid | 139/200 ] loss = 0.91356, acc = 0.77202\n"
          ]
        },
        {
          "output_type": "stream",
          "name": "stderr",
          "text": [
            "100%|██████████| 213/213 [01:05<00:00,  3.26it/s]\n"
          ]
        },
        {
          "output_type": "stream",
          "name": "stdout",
          "text": [
            "Using 80.09% of unlabeld data\n"
          ]
        },
        {
          "output_type": "stream",
          "name": "stderr",
          "text": [
            "100%|██████████| 266/266 [01:24<00:00,  3.15it/s]\n"
          ]
        },
        {
          "output_type": "stream",
          "name": "stdout",
          "text": [
            "[ Train | 140/200 ] loss = 0.24502, acc = 0.91823\n"
          ]
        },
        {
          "output_type": "stream",
          "name": "stderr",
          "text": [
            "100%|██████████| 21/21 [00:05<00:00,  3.53it/s]\n"
          ]
        },
        {
          "output_type": "stream",
          "name": "stdout",
          "text": [
            "[ Valid | 140/200 ] loss = 0.89336, acc = 0.79345\n"
          ]
        },
        {
          "output_type": "stream",
          "name": "stderr",
          "text": [
            "100%|██████████| 213/213 [01:05<00:00,  3.27it/s]\n"
          ]
        },
        {
          "output_type": "stream",
          "name": "stdout",
          "text": [
            "Using 80.18% of unlabeld data\n"
          ]
        },
        {
          "output_type": "stream",
          "name": "stderr",
          "text": [
            "100%|██████████| 266/266 [01:25<00:00,  3.13it/s]\n"
          ]
        },
        {
          "output_type": "stream",
          "name": "stdout",
          "text": [
            "[ Train | 141/200 ] loss = 0.25696, acc = 0.91424\n"
          ]
        },
        {
          "output_type": "stream",
          "name": "stderr",
          "text": [
            "100%|██████████| 21/21 [00:05<00:00,  3.57it/s]\n"
          ]
        },
        {
          "output_type": "stream",
          "name": "stdout",
          "text": [
            "[ Valid | 141/200 ] loss = 0.96587, acc = 0.77232\n"
          ]
        },
        {
          "output_type": "stream",
          "name": "stderr",
          "text": [
            "100%|██████████| 213/213 [01:05<00:00,  3.27it/s]\n"
          ]
        },
        {
          "output_type": "stream",
          "name": "stdout",
          "text": [
            "Using 78.68% of unlabeld data\n"
          ]
        },
        {
          "output_type": "stream",
          "name": "stderr",
          "text": [
            "100%|██████████| 263/263 [01:23<00:00,  3.15it/s]\n"
          ]
        },
        {
          "output_type": "stream",
          "name": "stdout",
          "text": [
            "[ Train | 142/200 ] loss = 0.27484, acc = 0.91148\n"
          ]
        },
        {
          "output_type": "stream",
          "name": "stderr",
          "text": [
            "100%|██████████| 21/21 [00:06<00:00,  3.23it/s]\n"
          ]
        },
        {
          "output_type": "stream",
          "name": "stdout",
          "text": [
            "[ Valid | 142/200 ] loss = 0.86453, acc = 0.79732\n"
          ]
        },
        {
          "output_type": "stream",
          "name": "stderr",
          "text": [
            "100%|██████████| 213/213 [01:04<00:00,  3.30it/s]\n"
          ]
        },
        {
          "output_type": "stream",
          "name": "stdout",
          "text": [
            "Using 79.96% of unlabeld data\n"
          ]
        },
        {
          "output_type": "stream",
          "name": "stderr",
          "text": [
            "100%|██████████| 265/265 [01:24<00:00,  3.14it/s]\n"
          ]
        },
        {
          "output_type": "stream",
          "name": "stdout",
          "text": [
            "[ Train | 143/200 ] loss = 0.26814, acc = 0.91085\n"
          ]
        },
        {
          "output_type": "stream",
          "name": "stderr",
          "text": [
            "100%|██████████| 21/21 [00:06<00:00,  3.25it/s]\n"
          ]
        },
        {
          "output_type": "stream",
          "name": "stdout",
          "text": [
            "[ Valid | 143/200 ] loss = 0.85657, acc = 0.80476\n"
          ]
        },
        {
          "output_type": "stream",
          "name": "stderr",
          "text": [
            "100%|██████████| 213/213 [01:04<00:00,  3.31it/s]\n"
          ]
        },
        {
          "output_type": "stream",
          "name": "stdout",
          "text": [
            "Using 79.80% of unlabeld data\n"
          ]
        },
        {
          "output_type": "stream",
          "name": "stderr",
          "text": [
            "100%|██████████| 265/265 [01:25<00:00,  3.12it/s]\n"
          ]
        },
        {
          "output_type": "stream",
          "name": "stdout",
          "text": [
            "[ Train | 144/200 ] loss = 0.26385, acc = 0.91368\n"
          ]
        },
        {
          "output_type": "stream",
          "name": "stderr",
          "text": [
            "100%|██████████| 21/21 [00:06<00:00,  3.30it/s]\n"
          ]
        },
        {
          "output_type": "stream",
          "name": "stdout",
          "text": [
            "[ Valid | 144/200 ] loss = 0.82588, acc = 0.80030\n"
          ]
        },
        {
          "output_type": "stream",
          "name": "stderr",
          "text": [
            "100%|██████████| 213/213 [01:04<00:00,  3.31it/s]\n"
          ]
        },
        {
          "output_type": "stream",
          "name": "stdout",
          "text": [
            "Using 80.65% of unlabeld data\n"
          ]
        },
        {
          "output_type": "stream",
          "name": "stderr",
          "text": [
            "100%|██████████| 267/267 [01:25<00:00,  3.12it/s]\n"
          ]
        },
        {
          "output_type": "stream",
          "name": "stdout",
          "text": [
            "[ Train | 145/200 ] loss = 0.25288, acc = 0.92018\n"
          ]
        },
        {
          "output_type": "stream",
          "name": "stderr",
          "text": [
            "100%|██████████| 21/21 [00:05<00:00,  3.79it/s]\n"
          ]
        },
        {
          "output_type": "stream",
          "name": "stdout",
          "text": [
            "[ Valid | 145/200 ] loss = 0.83417, acc = 0.79435\n"
          ]
        },
        {
          "output_type": "stream",
          "name": "stderr",
          "text": [
            "100%|██████████| 213/213 [01:05<00:00,  3.27it/s]\n"
          ]
        },
        {
          "output_type": "stream",
          "name": "stdout",
          "text": [
            "Using 80.93% of unlabeld data\n"
          ]
        },
        {
          "output_type": "stream",
          "name": "stderr",
          "text": [
            "100%|██████████| 267/267 [01:25<00:00,  3.12it/s]\n"
          ]
        },
        {
          "output_type": "stream",
          "name": "stdout",
          "text": [
            "[ Train | 146/200 ] loss = 0.27567, acc = 0.91128\n"
          ]
        },
        {
          "output_type": "stream",
          "name": "stderr",
          "text": [
            "100%|██████████| 21/21 [00:05<00:00,  3.79it/s]\n"
          ]
        },
        {
          "output_type": "stream",
          "name": "stdout",
          "text": [
            "[ Valid | 146/200 ] loss = 0.73775, acc = 0.79583\n"
          ]
        },
        {
          "output_type": "stream",
          "name": "stderr",
          "text": [
            "100%|██████████| 213/213 [01:05<00:00,  3.27it/s]\n"
          ]
        },
        {
          "output_type": "stream",
          "name": "stdout",
          "text": [
            "Using 79.99% of unlabeld data\n"
          ]
        },
        {
          "output_type": "stream",
          "name": "stderr",
          "text": [
            "100%|██████████| 265/265 [01:25<00:00,  3.10it/s]\n"
          ]
        },
        {
          "output_type": "stream",
          "name": "stdout",
          "text": [
            "[ Train | 147/200 ] loss = 0.24158, acc = 0.91946\n"
          ]
        },
        {
          "output_type": "stream",
          "name": "stderr",
          "text": [
            "100%|██████████| 21/21 [00:05<00:00,  3.79it/s]\n"
          ]
        },
        {
          "output_type": "stream",
          "name": "stdout",
          "text": [
            "[ Valid | 147/200 ] loss = 0.88384, acc = 0.77500\n"
          ]
        },
        {
          "output_type": "stream",
          "name": "stderr",
          "text": [
            "100%|██████████| 213/213 [01:05<00:00,  3.26it/s]\n"
          ]
        },
        {
          "output_type": "stream",
          "name": "stdout",
          "text": [
            "Using 79.61% of unlabeld data\n"
          ]
        },
        {
          "output_type": "stream",
          "name": "stderr",
          "text": [
            "100%|██████████| 265/265 [01:24<00:00,  3.12it/s]\n"
          ]
        },
        {
          "output_type": "stream",
          "name": "stdout",
          "text": [
            "[ Train | 148/200 ] loss = 0.27957, acc = 0.91144\n"
          ]
        },
        {
          "output_type": "stream",
          "name": "stderr",
          "text": [
            "100%|██████████| 21/21 [00:05<00:00,  3.74it/s]\n"
          ]
        },
        {
          "output_type": "stream",
          "name": "stdout",
          "text": [
            "[ Valid | 148/200 ] loss = 0.85360, acc = 0.77768\n"
          ]
        },
        {
          "output_type": "stream",
          "name": "stderr",
          "text": [
            "100%|██████████| 213/213 [01:05<00:00,  3.27it/s]\n"
          ]
        },
        {
          "output_type": "stream",
          "name": "stdout",
          "text": [
            "Using 81.74% of unlabeld data\n"
          ]
        },
        {
          "output_type": "stream",
          "name": "stderr",
          "text": [
            "100%|██████████| 269/269 [01:26<00:00,  3.13it/s]\n"
          ]
        },
        {
          "output_type": "stream",
          "name": "stdout",
          "text": [
            "[ Train | 149/200 ] loss = 0.26470, acc = 0.91368\n"
          ]
        },
        {
          "output_type": "stream",
          "name": "stderr",
          "text": [
            "100%|██████████| 21/21 [00:05<00:00,  3.78it/s]\n"
          ]
        },
        {
          "output_type": "stream",
          "name": "stdout",
          "text": [
            "[ Valid | 149/200 ] loss = 0.82137, acc = 0.79018\n"
          ]
        },
        {
          "output_type": "stream",
          "name": "stderr",
          "text": [
            "100%|██████████| 213/213 [01:05<00:00,  3.26it/s]\n"
          ]
        },
        {
          "output_type": "stream",
          "name": "stdout",
          "text": [
            "Using 79.63% of unlabeld data\n"
          ]
        },
        {
          "output_type": "stream",
          "name": "stderr",
          "text": [
            "100%|██████████| 265/265 [01:25<00:00,  3.10it/s]\n"
          ]
        },
        {
          "output_type": "stream",
          "name": "stdout",
          "text": [
            "[ Train | 150/200 ] loss = 0.25890, acc = 0.91380\n"
          ]
        },
        {
          "output_type": "stream",
          "name": "stderr",
          "text": [
            "100%|██████████| 21/21 [00:05<00:00,  3.76it/s]\n"
          ]
        },
        {
          "output_type": "stream",
          "name": "stdout",
          "text": [
            "[ Valid | 150/200 ] loss = 0.81789, acc = 0.78899\n"
          ]
        },
        {
          "output_type": "stream",
          "name": "stderr",
          "text": [
            "100%|██████████| 213/213 [01:05<00:00,  3.26it/s]\n"
          ]
        },
        {
          "output_type": "stream",
          "name": "stdout",
          "text": [
            "Using 81.08% of unlabeld data\n"
          ]
        },
        {
          "output_type": "stream",
          "name": "stderr",
          "text": [
            "100%|██████████| 268/268 [01:25<00:00,  3.14it/s]\n"
          ]
        },
        {
          "output_type": "stream",
          "name": "stdout",
          "text": [
            "[ Train | 151/200 ] loss = 0.24665, acc = 0.92176\n"
          ]
        },
        {
          "output_type": "stream",
          "name": "stderr",
          "text": [
            "100%|██████████| 21/21 [00:05<00:00,  3.71it/s]\n"
          ]
        },
        {
          "output_type": "stream",
          "name": "stdout",
          "text": [
            "[ Valid | 151/200 ] loss = 0.85378, acc = 0.77560\n"
          ]
        },
        {
          "output_type": "stream",
          "name": "stderr",
          "text": [
            "100%|██████████| 213/213 [01:05<00:00,  3.27it/s]\n"
          ]
        },
        {
          "output_type": "stream",
          "name": "stdout",
          "text": [
            "Using 78.13% of unlabeld data\n"
          ]
        },
        {
          "output_type": "stream",
          "name": "stderr",
          "text": [
            "100%|██████████| 261/261 [01:22<00:00,  3.15it/s]\n"
          ]
        },
        {
          "output_type": "stream",
          "name": "stdout",
          "text": [
            "[ Train | 152/200 ] loss = 0.27018, acc = 0.91367\n"
          ]
        },
        {
          "output_type": "stream",
          "name": "stderr",
          "text": [
            "100%|██████████| 21/21 [00:06<00:00,  3.19it/s]\n"
          ]
        },
        {
          "output_type": "stream",
          "name": "stdout",
          "text": [
            "[ Valid | 152/200 ] loss = 0.72791, acc = 0.79970\n"
          ]
        },
        {
          "output_type": "stream",
          "name": "stderr",
          "text": [
            "100%|██████████| 213/213 [01:04<00:00,  3.30it/s]\n"
          ]
        },
        {
          "output_type": "stream",
          "name": "stdout",
          "text": [
            "Using 81.89% of unlabeld data\n"
          ]
        },
        {
          "output_type": "stream",
          "name": "stderr",
          "text": [
            "100%|██████████| 269/269 [01:27<00:00,  3.08it/s]\n"
          ]
        },
        {
          "output_type": "stream",
          "name": "stdout",
          "text": [
            "[ Train | 153/200 ] loss = 0.24414, acc = 0.92077\n"
          ]
        },
        {
          "output_type": "stream",
          "name": "stderr",
          "text": [
            "100%|██████████| 21/21 [00:05<00:00,  3.52it/s]\n"
          ]
        },
        {
          "output_type": "stream",
          "name": "stdout",
          "text": [
            "[ Valid | 153/200 ] loss = 0.84208, acc = 0.78304\n"
          ]
        },
        {
          "output_type": "stream",
          "name": "stderr",
          "text": [
            "100%|██████████| 213/213 [01:05<00:00,  3.25it/s]\n"
          ]
        },
        {
          "output_type": "stream",
          "name": "stdout",
          "text": [
            "Using 81.21% of unlabeld data\n"
          ]
        },
        {
          "output_type": "stream",
          "name": "stderr",
          "text": [
            "100%|██████████| 268/268 [01:25<00:00,  3.13it/s]\n"
          ]
        },
        {
          "output_type": "stream",
          "name": "stdout",
          "text": [
            "[ Train | 154/200 ] loss = 0.26158, acc = 0.91465\n"
          ]
        },
        {
          "output_type": "stream",
          "name": "stderr",
          "text": [
            "100%|██████████| 21/21 [00:05<00:00,  3.77it/s]\n"
          ]
        },
        {
          "output_type": "stream",
          "name": "stdout",
          "text": [
            "[ Valid | 154/200 ] loss = 0.81023, acc = 0.80655\n"
          ]
        },
        {
          "output_type": "stream",
          "name": "stderr",
          "text": [
            "100%|██████████| 213/213 [01:05<00:00,  3.26it/s]\n"
          ]
        },
        {
          "output_type": "stream",
          "name": "stdout",
          "text": [
            "Using 82.57% of unlabeld data\n"
          ]
        },
        {
          "output_type": "stream",
          "name": "stderr",
          "text": [
            "100%|██████████| 271/271 [01:25<00:00,  3.16it/s]\n"
          ]
        },
        {
          "output_type": "stream",
          "name": "stdout",
          "text": [
            "[ Train | 155/200 ] loss = 0.23907, acc = 0.92274\n"
          ]
        },
        {
          "output_type": "stream",
          "name": "stderr",
          "text": [
            "100%|██████████| 21/21 [00:05<00:00,  3.81it/s]\n"
          ]
        },
        {
          "output_type": "stream",
          "name": "stdout",
          "text": [
            "[ Valid | 155/200 ] loss = 0.79569, acc = 0.78006\n"
          ]
        },
        {
          "output_type": "stream",
          "name": "stderr",
          "text": [
            "100%|██████████| 213/213 [01:04<00:00,  3.30it/s]\n"
          ]
        },
        {
          "output_type": "stream",
          "name": "stdout",
          "text": [
            "Using 82.15% of unlabeld data\n"
          ]
        },
        {
          "output_type": "stream",
          "name": "stderr",
          "text": [
            "100%|██████████| 270/270 [01:26<00:00,  3.11it/s]\n"
          ]
        },
        {
          "output_type": "stream",
          "name": "stdout",
          "text": [
            "[ Train | 156/200 ] loss = 0.25424, acc = 0.91551\n"
          ]
        },
        {
          "output_type": "stream",
          "name": "stderr",
          "text": [
            "100%|██████████| 21/21 [00:05<00:00,  3.73it/s]\n"
          ]
        },
        {
          "output_type": "stream",
          "name": "stdout",
          "text": [
            "[ Valid | 156/200 ] loss = 0.78004, acc = 0.80030\n"
          ]
        },
        {
          "output_type": "stream",
          "name": "stderr",
          "text": [
            "100%|██████████| 213/213 [01:05<00:00,  3.23it/s]\n"
          ]
        },
        {
          "output_type": "stream",
          "name": "stdout",
          "text": [
            "Using 82.14% of unlabeld data\n"
          ]
        },
        {
          "output_type": "stream",
          "name": "stderr",
          "text": [
            "100%|██████████| 270/270 [01:27<00:00,  3.09it/s]\n"
          ]
        },
        {
          "output_type": "stream",
          "name": "stdout",
          "text": [
            "[ Train | 157/200 ] loss = 0.24971, acc = 0.91782\n"
          ]
        },
        {
          "output_type": "stream",
          "name": "stderr",
          "text": [
            "100%|██████████| 21/21 [00:05<00:00,  3.62it/s]\n"
          ]
        },
        {
          "output_type": "stream",
          "name": "stdout",
          "text": [
            "[ Valid | 157/200 ] loss = 0.89888, acc = 0.79345\n"
          ]
        },
        {
          "output_type": "stream",
          "name": "stderr",
          "text": [
            "100%|██████████| 213/213 [01:05<00:00,  3.23it/s]\n"
          ]
        },
        {
          "output_type": "stream",
          "name": "stdout",
          "text": [
            "Using 82.20% of unlabeld data\n"
          ]
        },
        {
          "output_type": "stream",
          "name": "stderr",
          "text": [
            "100%|██████████| 270/270 [01:26<00:00,  3.12it/s]\n"
          ]
        },
        {
          "output_type": "stream",
          "name": "stdout",
          "text": [
            "[ Train | 158/200 ] loss = 0.26280, acc = 0.91250\n"
          ]
        },
        {
          "output_type": "stream",
          "name": "stderr",
          "text": [
            "100%|██████████| 21/21 [00:05<00:00,  3.74it/s]\n"
          ]
        },
        {
          "output_type": "stream",
          "name": "stdout",
          "text": [
            "[ Valid | 158/200 ] loss = 0.81248, acc = 0.78899\n"
          ]
        },
        {
          "output_type": "stream",
          "name": "stderr",
          "text": [
            "100%|██████████| 213/213 [01:06<00:00,  3.22it/s]\n"
          ]
        },
        {
          "output_type": "stream",
          "name": "stdout",
          "text": [
            "Using 82.51% of unlabeld data\n"
          ]
        },
        {
          "output_type": "stream",
          "name": "stderr",
          "text": [
            "100%|██████████| 271/271 [01:27<00:00,  3.10it/s]\n"
          ]
        },
        {
          "output_type": "stream",
          "name": "stdout",
          "text": [
            "[ Train | 159/200 ] loss = 0.24242, acc = 0.91836\n"
          ]
        },
        {
          "output_type": "stream",
          "name": "stderr",
          "text": [
            "100%|██████████| 21/21 [00:05<00:00,  3.75it/s]\n"
          ]
        },
        {
          "output_type": "stream",
          "name": "stdout",
          "text": [
            "[ Valid | 159/200 ] loss = 0.83501, acc = 0.77560\n"
          ]
        },
        {
          "output_type": "stream",
          "name": "stderr",
          "text": [
            "100%|██████████| 213/213 [01:06<00:00,  3.22it/s]\n"
          ]
        },
        {
          "output_type": "stream",
          "name": "stdout",
          "text": [
            "Using 82.36% of unlabeld data\n"
          ]
        },
        {
          "output_type": "stream",
          "name": "stderr",
          "text": [
            "100%|██████████| 270/270 [01:26<00:00,  3.13it/s]\n"
          ]
        },
        {
          "output_type": "stream",
          "name": "stdout",
          "text": [
            "[ Train | 160/200 ] loss = 0.25935, acc = 0.91551\n"
          ]
        },
        {
          "output_type": "stream",
          "name": "stderr",
          "text": [
            "100%|██████████| 21/21 [00:06<00:00,  3.28it/s]\n"
          ]
        },
        {
          "output_type": "stream",
          "name": "stdout",
          "text": [
            "[ Valid | 160/200 ] loss = 0.82454, acc = 0.78899\n"
          ]
        },
        {
          "output_type": "stream",
          "name": "stderr",
          "text": [
            "100%|██████████| 213/213 [01:04<00:00,  3.31it/s]\n"
          ]
        },
        {
          "output_type": "stream",
          "name": "stdout",
          "text": [
            "Using 81.54% of unlabeld data\n"
          ]
        },
        {
          "output_type": "stream",
          "name": "stderr",
          "text": [
            "100%|██████████| 269/269 [01:25<00:00,  3.14it/s]\n"
          ]
        },
        {
          "output_type": "stream",
          "name": "stdout",
          "text": [
            "[ Train | 161/200 ] loss = 0.26504, acc = 0.91566\n"
          ]
        },
        {
          "output_type": "stream",
          "name": "stderr",
          "text": [
            "100%|██████████| 21/21 [00:06<00:00,  3.38it/s]\n"
          ]
        },
        {
          "output_type": "stream",
          "name": "stdout",
          "text": [
            "[ Valid | 161/200 ] loss = 0.78779, acc = 0.78304\n"
          ]
        },
        {
          "output_type": "stream",
          "name": "stderr",
          "text": [
            "100%|██████████| 213/213 [01:04<00:00,  3.30it/s]\n"
          ]
        },
        {
          "output_type": "stream",
          "name": "stdout",
          "text": [
            "Using 81.80% of unlabeld data\n"
          ]
        },
        {
          "output_type": "stream",
          "name": "stderr",
          "text": [
            "100%|██████████| 269/269 [01:25<00:00,  3.14it/s]\n"
          ]
        },
        {
          "output_type": "stream",
          "name": "stdout",
          "text": [
            "[ Train | 162/200 ] loss = 0.25247, acc = 0.91601\n"
          ]
        },
        {
          "output_type": "stream",
          "name": "stderr",
          "text": [
            "100%|██████████| 21/21 [00:05<00:00,  3.58it/s]\n"
          ]
        },
        {
          "output_type": "stream",
          "name": "stdout",
          "text": [
            "[ Valid | 162/200 ] loss = 0.87407, acc = 0.77589\n"
          ]
        },
        {
          "output_type": "stream",
          "name": "stderr",
          "text": [
            "100%|██████████| 213/213 [01:05<00:00,  3.27it/s]\n"
          ]
        },
        {
          "output_type": "stream",
          "name": "stdout",
          "text": [
            "Using 80.53% of unlabeld data\n"
          ]
        },
        {
          "output_type": "stream",
          "name": "stderr",
          "text": [
            "100%|██████████| 267/267 [01:25<00:00,  3.14it/s]\n"
          ]
        },
        {
          "output_type": "stream",
          "name": "stdout",
          "text": [
            "[ Train | 163/200 ] loss = 0.28238, acc = 0.91152\n"
          ]
        },
        {
          "output_type": "stream",
          "name": "stderr",
          "text": [
            "100%|██████████| 21/21 [00:05<00:00,  3.82it/s]\n"
          ]
        },
        {
          "output_type": "stream",
          "name": "stdout",
          "text": [
            "[ Valid | 163/200 ] loss = 0.82102, acc = 0.78720\n"
          ]
        },
        {
          "output_type": "stream",
          "name": "stderr",
          "text": [
            "100%|██████████| 213/213 [01:05<00:00,  3.27it/s]\n"
          ]
        },
        {
          "output_type": "stream",
          "name": "stdout",
          "text": [
            "Using 81.30% of unlabeld data\n"
          ]
        },
        {
          "output_type": "stream",
          "name": "stderr",
          "text": [
            "100%|██████████| 268/268 [01:25<00:00,  3.14it/s]\n"
          ]
        },
        {
          "output_type": "stream",
          "name": "stdout",
          "text": [
            "[ Train | 164/200 ] loss = 0.24826, acc = 0.91908\n"
          ]
        },
        {
          "output_type": "stream",
          "name": "stderr",
          "text": [
            "100%|██████████| 21/21 [00:05<00:00,  3.66it/s]\n"
          ]
        },
        {
          "output_type": "stream",
          "name": "stdout",
          "text": [
            "[ Valid | 164/200 ] loss = 0.80986, acc = 0.79226\n"
          ]
        },
        {
          "output_type": "stream",
          "name": "stderr",
          "text": [
            "100%|██████████| 213/213 [01:05<00:00,  3.27it/s]\n"
          ]
        },
        {
          "output_type": "stream",
          "name": "stdout",
          "text": [
            "Using 83.88% of unlabeld data\n"
          ]
        },
        {
          "output_type": "stream",
          "name": "stderr",
          "text": [
            "100%|██████████| 274/274 [01:26<00:00,  3.16it/s]\n"
          ]
        },
        {
          "output_type": "stream",
          "name": "stdout",
          "text": [
            "[ Train | 165/200 ] loss = 0.24465, acc = 0.92119\n"
          ]
        },
        {
          "output_type": "stream",
          "name": "stderr",
          "text": [
            "100%|██████████| 21/21 [00:05<00:00,  3.78it/s]\n"
          ]
        },
        {
          "output_type": "stream",
          "name": "stdout",
          "text": [
            "[ Valid | 165/200 ] loss = 0.73846, acc = 0.81637\n",
            "Saving model with acc 0.81637\n"
          ]
        },
        {
          "output_type": "stream",
          "name": "stderr",
          "text": [
            "100%|██████████| 213/213 [01:04<00:00,  3.28it/s]\n"
          ]
        },
        {
          "output_type": "stream",
          "name": "stdout",
          "text": [
            "Using 83.04% of unlabeld data\n"
          ]
        },
        {
          "output_type": "stream",
          "name": "stderr",
          "text": [
            "100%|██████████| 272/272 [01:26<00:00,  3.13it/s]\n"
          ]
        },
        {
          "output_type": "stream",
          "name": "stdout",
          "text": [
            "[ Train | 166/200 ] loss = 0.24763, acc = 0.91820\n"
          ]
        },
        {
          "output_type": "stream",
          "name": "stderr",
          "text": [
            "100%|██████████| 21/21 [00:05<00:00,  3.82it/s]\n"
          ]
        },
        {
          "output_type": "stream",
          "name": "stdout",
          "text": [
            "[ Valid | 166/200 ] loss = 0.82651, acc = 0.79911\n"
          ]
        },
        {
          "output_type": "stream",
          "name": "stderr",
          "text": [
            "100%|██████████| 213/213 [01:05<00:00,  3.28it/s]\n"
          ]
        },
        {
          "output_type": "stream",
          "name": "stdout",
          "text": [
            "Using 82.14% of unlabeld data\n"
          ]
        },
        {
          "output_type": "stream",
          "name": "stderr",
          "text": [
            "100%|██████████| 270/270 [01:26<00:00,  3.14it/s]\n"
          ]
        },
        {
          "output_type": "stream",
          "name": "stdout",
          "text": [
            "[ Train | 167/200 ] loss = 0.26694, acc = 0.90984\n"
          ]
        },
        {
          "output_type": "stream",
          "name": "stderr",
          "text": [
            "100%|██████████| 21/21 [00:05<00:00,  3.74it/s]\n"
          ]
        },
        {
          "output_type": "stream",
          "name": "stdout",
          "text": [
            "[ Valid | 167/200 ] loss = 0.86275, acc = 0.78214\n"
          ]
        },
        {
          "output_type": "stream",
          "name": "stderr",
          "text": [
            "100%|██████████| 213/213 [01:05<00:00,  3.27it/s]\n"
          ]
        },
        {
          "output_type": "stream",
          "name": "stdout",
          "text": [
            "Using 80.36% of unlabeld data\n"
          ]
        },
        {
          "output_type": "stream",
          "name": "stderr",
          "text": [
            "100%|██████████| 266/266 [01:25<00:00,  3.12it/s]\n"
          ]
        },
        {
          "output_type": "stream",
          "name": "stdout",
          "text": [
            "[ Train | 168/200 ] loss = 0.23752, acc = 0.92317\n"
          ]
        },
        {
          "output_type": "stream",
          "name": "stderr",
          "text": [
            "100%|██████████| 21/21 [00:05<00:00,  3.80it/s]\n"
          ]
        },
        {
          "output_type": "stream",
          "name": "stdout",
          "text": [
            "[ Valid | 168/200 ] loss = 0.86759, acc = 0.78006\n"
          ]
        },
        {
          "output_type": "stream",
          "name": "stderr",
          "text": [
            "100%|██████████| 213/213 [01:05<00:00,  3.28it/s]\n"
          ]
        },
        {
          "output_type": "stream",
          "name": "stdout",
          "text": [
            "Using 80.90% of unlabeld data\n"
          ]
        },
        {
          "output_type": "stream",
          "name": "stderr",
          "text": [
            "100%|██████████| 267/267 [01:24<00:00,  3.16it/s]\n"
          ]
        },
        {
          "output_type": "stream",
          "name": "stdout",
          "text": [
            "[ Train | 169/200 ] loss = 0.27539, acc = 0.91456\n"
          ]
        },
        {
          "output_type": "stream",
          "name": "stderr",
          "text": [
            "100%|██████████| 21/21 [00:05<00:00,  3.77it/s]\n"
          ]
        },
        {
          "output_type": "stream",
          "name": "stdout",
          "text": [
            "[ Valid | 169/200 ] loss = 0.76053, acc = 0.80357\n"
          ]
        },
        {
          "output_type": "stream",
          "name": "stderr",
          "text": [
            "100%|██████████| 213/213 [01:05<00:00,  3.28it/s]\n"
          ]
        },
        {
          "output_type": "stream",
          "name": "stdout",
          "text": [
            "Using 79.09% of unlabeld data\n"
          ]
        },
        {
          "output_type": "stream",
          "name": "stderr",
          "text": [
            "100%|██████████| 263/263 [01:23<00:00,  3.14it/s]\n"
          ]
        },
        {
          "output_type": "stream",
          "name": "stdout",
          "text": [
            "[ Train | 170/200 ] loss = 0.25440, acc = 0.91445\n"
          ]
        },
        {
          "output_type": "stream",
          "name": "stderr",
          "text": [
            "100%|██████████| 21/21 [00:06<00:00,  3.44it/s]\n"
          ]
        },
        {
          "output_type": "stream",
          "name": "stdout",
          "text": [
            "[ Valid | 170/200 ] loss = 0.69621, acc = 0.80476\n"
          ]
        },
        {
          "output_type": "stream",
          "name": "stderr",
          "text": [
            "100%|██████████| 213/213 [01:04<00:00,  3.28it/s]\n"
          ]
        },
        {
          "output_type": "stream",
          "name": "stdout",
          "text": [
            "Using 81.28% of unlabeld data\n"
          ]
        },
        {
          "output_type": "stream",
          "name": "stderr",
          "text": [
            "100%|██████████| 268/268 [01:25<00:00,  3.14it/s]\n"
          ]
        },
        {
          "output_type": "stream",
          "name": "stdout",
          "text": [
            "[ Train | 171/200 ] loss = 0.26153, acc = 0.91371\n"
          ]
        },
        {
          "output_type": "stream",
          "name": "stderr",
          "text": [
            "100%|██████████| 21/21 [00:06<00:00,  3.34it/s]\n"
          ]
        },
        {
          "output_type": "stream",
          "name": "stdout",
          "text": [
            "[ Valid | 171/200 ] loss = 0.81426, acc = 0.79167\n"
          ]
        },
        {
          "output_type": "stream",
          "name": "stderr",
          "text": [
            "100%|██████████| 213/213 [01:05<00:00,  3.27it/s]\n"
          ]
        },
        {
          "output_type": "stream",
          "name": "stdout",
          "text": [
            "Using 79.09% of unlabeld data\n"
          ]
        },
        {
          "output_type": "stream",
          "name": "stderr",
          "text": [
            "100%|██████████| 263/263 [01:23<00:00,  3.14it/s]\n"
          ]
        },
        {
          "output_type": "stream",
          "name": "stdout",
          "text": [
            "[ Train | 172/200 ] loss = 0.25541, acc = 0.91873\n"
          ]
        },
        {
          "output_type": "stream",
          "name": "stderr",
          "text": [
            "100%|██████████| 21/21 [00:06<00:00,  3.15it/s]\n"
          ]
        },
        {
          "output_type": "stream",
          "name": "stdout",
          "text": [
            "[ Valid | 172/200 ] loss = 0.83915, acc = 0.77976\n"
          ]
        },
        {
          "output_type": "stream",
          "name": "stderr",
          "text": [
            "100%|██████████| 213/213 [01:04<00:00,  3.30it/s]\n"
          ]
        },
        {
          "output_type": "stream",
          "name": "stdout",
          "text": [
            "Using 82.29% of unlabeld data\n"
          ]
        },
        {
          "output_type": "stream",
          "name": "stderr",
          "text": [
            "100%|██████████| 270/270 [01:26<00:00,  3.12it/s]\n"
          ]
        },
        {
          "output_type": "stream",
          "name": "stdout",
          "text": [
            "[ Train | 173/200 ] loss = 0.26891, acc = 0.91111\n"
          ]
        },
        {
          "output_type": "stream",
          "name": "stderr",
          "text": [
            "100%|██████████| 21/21 [00:06<00:00,  3.25it/s]\n"
          ]
        },
        {
          "output_type": "stream",
          "name": "stdout",
          "text": [
            "[ Valid | 173/200 ] loss = 0.77603, acc = 0.78214\n"
          ]
        },
        {
          "output_type": "stream",
          "name": "stderr",
          "text": [
            "100%|██████████| 213/213 [01:04<00:00,  3.30it/s]\n"
          ]
        },
        {
          "output_type": "stream",
          "name": "stdout",
          "text": [
            "Using 83.19% of unlabeld data\n"
          ]
        },
        {
          "output_type": "stream",
          "name": "stderr",
          "text": [
            "100%|██████████| 272/272 [01:27<00:00,  3.12it/s]\n"
          ]
        },
        {
          "output_type": "stream",
          "name": "stdout",
          "text": [
            "[ Train | 174/200 ] loss = 0.25783, acc = 0.91567\n"
          ]
        },
        {
          "output_type": "stream",
          "name": "stderr",
          "text": [
            "100%|██████████| 21/21 [00:05<00:00,  3.55it/s]\n"
          ]
        },
        {
          "output_type": "stream",
          "name": "stdout",
          "text": [
            "[ Valid | 174/200 ] loss = 0.79633, acc = 0.78363\n"
          ]
        },
        {
          "output_type": "stream",
          "name": "stderr",
          "text": [
            "100%|██████████| 213/213 [01:04<00:00,  3.31it/s]\n"
          ]
        },
        {
          "output_type": "stream",
          "name": "stdout",
          "text": [
            "Using 81.01% of unlabeld data\n"
          ]
        },
        {
          "output_type": "stream",
          "name": "stderr",
          "text": [
            "100%|██████████| 268/268 [01:24<00:00,  3.15it/s]\n"
          ]
        },
        {
          "output_type": "stream",
          "name": "stdout",
          "text": [
            "[ Train | 175/200 ] loss = 0.24618, acc = 0.91884\n"
          ]
        },
        {
          "output_type": "stream",
          "name": "stderr",
          "text": [
            "100%|██████████| 21/21 [00:06<00:00,  3.19it/s]\n"
          ]
        },
        {
          "output_type": "stream",
          "name": "stdout",
          "text": [
            "[ Valid | 175/200 ] loss = 0.79932, acc = 0.78244\n"
          ]
        },
        {
          "output_type": "stream",
          "name": "stderr",
          "text": [
            "100%|██████████| 213/213 [01:04<00:00,  3.30it/s]\n"
          ]
        },
        {
          "output_type": "stream",
          "name": "stdout",
          "text": [
            "Using 82.63% of unlabeld data\n"
          ]
        },
        {
          "output_type": "stream",
          "name": "stderr",
          "text": [
            "100%|██████████| 271/271 [01:26<00:00,  3.12it/s]\n"
          ]
        },
        {
          "output_type": "stream",
          "name": "stdout",
          "text": [
            "[ Train | 176/200 ] loss = 0.24381, acc = 0.92009\n"
          ]
        },
        {
          "output_type": "stream",
          "name": "stderr",
          "text": [
            "100%|██████████| 21/21 [00:06<00:00,  3.34it/s]\n"
          ]
        },
        {
          "output_type": "stream",
          "name": "stdout",
          "text": [
            "[ Valid | 176/200 ] loss = 0.83231, acc = 0.76845\n"
          ]
        },
        {
          "output_type": "stream",
          "name": "stderr",
          "text": [
            "100%|██████████| 213/213 [01:04<00:00,  3.31it/s]\n"
          ]
        },
        {
          "output_type": "stream",
          "name": "stdout",
          "text": [
            "Using 83.20% of unlabeld data\n"
          ]
        },
        {
          "output_type": "stream",
          "name": "stderr",
          "text": [
            "100%|██████████| 272/272 [01:26<00:00,  3.13it/s]\n"
          ]
        },
        {
          "output_type": "stream",
          "name": "stdout",
          "text": [
            "[ Train | 177/200 ] loss = 0.25153, acc = 0.91613\n"
          ]
        },
        {
          "output_type": "stream",
          "name": "stderr",
          "text": [
            "100%|██████████| 21/21 [00:06<00:00,  3.50it/s]\n"
          ]
        },
        {
          "output_type": "stream",
          "name": "stdout",
          "text": [
            "[ Valid | 177/200 ] loss = 0.90007, acc = 0.76429\n"
          ]
        },
        {
          "output_type": "stream",
          "name": "stderr",
          "text": [
            "100%|██████████| 213/213 [01:05<00:00,  3.26it/s]\n"
          ]
        },
        {
          "output_type": "stream",
          "name": "stdout",
          "text": [
            "Using 82.94% of unlabeld data\n"
          ]
        },
        {
          "output_type": "stream",
          "name": "stderr",
          "text": [
            "100%|██████████| 272/272 [01:26<00:00,  3.15it/s]\n"
          ]
        },
        {
          "output_type": "stream",
          "name": "stdout",
          "text": [
            "[ Train | 178/200 ] loss = 0.25340, acc = 0.91923\n"
          ]
        },
        {
          "output_type": "stream",
          "name": "stderr",
          "text": [
            "100%|██████████| 21/21 [00:05<00:00,  3.78it/s]\n"
          ]
        },
        {
          "output_type": "stream",
          "name": "stdout",
          "text": [
            "[ Valid | 178/200 ] loss = 0.82766, acc = 0.78006\n"
          ]
        },
        {
          "output_type": "stream",
          "name": "stderr",
          "text": [
            "100%|██████████| 213/213 [01:05<00:00,  3.25it/s]\n"
          ]
        },
        {
          "output_type": "stream",
          "name": "stdout",
          "text": [
            "Using 82.49% of unlabeld data\n"
          ]
        },
        {
          "output_type": "stream",
          "name": "stderr",
          "text": [
            "100%|██████████| 271/271 [01:26<00:00,  3.12it/s]\n"
          ]
        },
        {
          "output_type": "stream",
          "name": "stdout",
          "text": [
            "[ Train | 179/200 ] loss = 0.24776, acc = 0.92147\n"
          ]
        },
        {
          "output_type": "stream",
          "name": "stderr",
          "text": [
            "100%|██████████| 21/21 [00:05<00:00,  3.66it/s]\n"
          ]
        },
        {
          "output_type": "stream",
          "name": "stdout",
          "text": [
            "[ Valid | 179/200 ] loss = 0.99524, acc = 0.74702\n"
          ]
        },
        {
          "output_type": "stream",
          "name": "stderr",
          "text": [
            "100%|██████████| 213/213 [01:05<00:00,  3.24it/s]\n"
          ]
        },
        {
          "output_type": "stream",
          "name": "stdout",
          "text": [
            "Using 80.93% of unlabeld data\n"
          ]
        },
        {
          "output_type": "stream",
          "name": "stderr",
          "text": [
            "100%|██████████| 267/267 [01:25<00:00,  3.12it/s]\n"
          ]
        },
        {
          "output_type": "stream",
          "name": "stdout",
          "text": [
            "[ Train | 180/200 ] loss = 0.26913, acc = 0.90953\n"
          ]
        },
        {
          "output_type": "stream",
          "name": "stderr",
          "text": [
            "100%|██████████| 21/21 [00:05<00:00,  3.76it/s]\n"
          ]
        },
        {
          "output_type": "stream",
          "name": "stdout",
          "text": [
            "[ Valid | 180/200 ] loss = 0.85194, acc = 0.79464\n"
          ]
        },
        {
          "output_type": "stream",
          "name": "stderr",
          "text": [
            "100%|██████████| 213/213 [01:05<00:00,  3.26it/s]\n"
          ]
        },
        {
          "output_type": "stream",
          "name": "stdout",
          "text": [
            "Using 80.33% of unlabeld data\n"
          ]
        },
        {
          "output_type": "stream",
          "name": "stderr",
          "text": [
            "100%|██████████| 266/266 [01:25<00:00,  3.11it/s]\n"
          ]
        },
        {
          "output_type": "stream",
          "name": "stdout",
          "text": [
            "[ Train | 181/200 ] loss = 0.26937, acc = 0.91283\n"
          ]
        },
        {
          "output_type": "stream",
          "name": "stderr",
          "text": [
            "100%|██████████| 21/21 [00:05<00:00,  3.70it/s]\n"
          ]
        },
        {
          "output_type": "stream",
          "name": "stdout",
          "text": [
            "[ Valid | 181/200 ] loss = 1.01163, acc = 0.76607\n"
          ]
        },
        {
          "output_type": "stream",
          "name": "stderr",
          "text": [
            "100%|██████████| 213/213 [01:06<00:00,  3.20it/s]\n"
          ]
        },
        {
          "output_type": "stream",
          "name": "stdout",
          "text": [
            "Using 80.45% of unlabeld data\n"
          ]
        },
        {
          "output_type": "stream",
          "name": "stderr",
          "text": [
            "100%|██████████| 266/266 [01:25<00:00,  3.13it/s]\n"
          ]
        },
        {
          "output_type": "stream",
          "name": "stdout",
          "text": [
            "[ Train | 182/200 ] loss = 0.29536, acc = 0.90273\n"
          ]
        },
        {
          "output_type": "stream",
          "name": "stderr",
          "text": [
            "100%|██████████| 21/21 [00:05<00:00,  3.73it/s]\n"
          ]
        },
        {
          "output_type": "stream",
          "name": "stdout",
          "text": [
            "[ Valid | 182/200 ] loss = 0.88461, acc = 0.76101\n"
          ]
        },
        {
          "output_type": "stream",
          "name": "stderr",
          "text": [
            "100%|██████████| 213/213 [01:05<00:00,  3.27it/s]\n"
          ]
        },
        {
          "output_type": "stream",
          "name": "stdout",
          "text": [
            "Using 81.39% of unlabeld data\n"
          ]
        },
        {
          "output_type": "stream",
          "name": "stderr",
          "text": [
            "100%|██████████| 268/268 [01:26<00:00,  3.11it/s]\n"
          ]
        },
        {
          "output_type": "stream",
          "name": "stdout",
          "text": [
            "[ Train | 183/200 ] loss = 0.26460, acc = 0.91535\n"
          ]
        },
        {
          "output_type": "stream",
          "name": "stderr",
          "text": [
            "100%|██████████| 21/21 [00:05<00:00,  3.78it/s]\n"
          ]
        },
        {
          "output_type": "stream",
          "name": "stdout",
          "text": [
            "[ Valid | 183/200 ] loss = 0.87448, acc = 0.75774\n"
          ]
        },
        {
          "output_type": "stream",
          "name": "stderr",
          "text": [
            "100%|██████████| 213/213 [01:04<00:00,  3.28it/s]\n"
          ]
        },
        {
          "output_type": "stream",
          "name": "stdout",
          "text": [
            "Using 83.22% of unlabeld data\n"
          ]
        },
        {
          "output_type": "stream",
          "name": "stderr",
          "text": [
            "100%|██████████| 272/272 [01:26<00:00,  3.15it/s]\n"
          ]
        },
        {
          "output_type": "stream",
          "name": "stdout",
          "text": [
            "[ Train | 184/200 ] loss = 0.25125, acc = 0.92153\n"
          ]
        },
        {
          "output_type": "stream",
          "name": "stderr",
          "text": [
            "100%|██████████| 21/21 [00:05<00:00,  3.78it/s]\n"
          ]
        },
        {
          "output_type": "stream",
          "name": "stdout",
          "text": [
            "[ Valid | 184/200 ] loss = 0.86468, acc = 0.77351\n"
          ]
        },
        {
          "output_type": "stream",
          "name": "stderr",
          "text": [
            "100%|██████████| 213/213 [01:05<00:00,  3.26it/s]\n"
          ]
        },
        {
          "output_type": "stream",
          "name": "stdout",
          "text": [
            "Using 80.98% of unlabeld data\n"
          ]
        },
        {
          "output_type": "stream",
          "name": "stderr",
          "text": [
            "100%|██████████| 267/267 [01:24<00:00,  3.14it/s]\n"
          ]
        },
        {
          "output_type": "stream",
          "name": "stdout",
          "text": [
            "[ Train | 185/200 ] loss = 0.25215, acc = 0.92088\n"
          ]
        },
        {
          "output_type": "stream",
          "name": "stderr",
          "text": [
            "100%|██████████| 21/21 [00:05<00:00,  3.84it/s]\n"
          ]
        },
        {
          "output_type": "stream",
          "name": "stdout",
          "text": [
            "[ Valid | 185/200 ] loss = 0.92680, acc = 0.77827\n"
          ]
        },
        {
          "output_type": "stream",
          "name": "stderr",
          "text": [
            "100%|██████████| 213/213 [01:05<00:00,  3.27it/s]\n"
          ]
        },
        {
          "output_type": "stream",
          "name": "stdout",
          "text": [
            "Using 81.52% of unlabeld data\n"
          ]
        },
        {
          "output_type": "stream",
          "name": "stderr",
          "text": [
            "100%|██████████| 269/269 [01:26<00:00,  3.13it/s]\n"
          ]
        },
        {
          "output_type": "stream",
          "name": "stdout",
          "text": [
            "[ Train | 186/200 ] loss = 0.27292, acc = 0.91403\n"
          ]
        },
        {
          "output_type": "stream",
          "name": "stderr",
          "text": [
            "100%|██████████| 21/21 [00:05<00:00,  3.64it/s]\n"
          ]
        },
        {
          "output_type": "stream",
          "name": "stdout",
          "text": [
            "[ Valid | 186/200 ] loss = 1.08085, acc = 0.73333\n"
          ]
        },
        {
          "output_type": "stream",
          "name": "stderr",
          "text": [
            "100%|██████████| 213/213 [01:05<00:00,  3.25it/s]\n"
          ]
        },
        {
          "output_type": "stream",
          "name": "stdout",
          "text": [
            "Using 77.70% of unlabeld data\n"
          ]
        },
        {
          "output_type": "stream",
          "name": "stderr",
          "text": [
            "100%|██████████| 261/261 [01:23<00:00,  3.12it/s]\n"
          ]
        },
        {
          "output_type": "stream",
          "name": "stdout",
          "text": [
            "[ Train | 187/200 ] loss = 0.29277, acc = 0.91020\n"
          ]
        },
        {
          "output_type": "stream",
          "name": "stderr",
          "text": [
            "100%|██████████| 21/21 [00:05<00:00,  3.66it/s]\n"
          ]
        },
        {
          "output_type": "stream",
          "name": "stdout",
          "text": [
            "[ Valid | 187/200 ] loss = 0.88483, acc = 0.77798\n"
          ]
        },
        {
          "output_type": "stream",
          "name": "stderr",
          "text": [
            "100%|██████████| 213/213 [01:05<00:00,  3.25it/s]\n"
          ]
        },
        {
          "output_type": "stream",
          "name": "stdout",
          "text": [
            "Using 79.00% of unlabeld data\n"
          ]
        },
        {
          "output_type": "stream",
          "name": "stderr",
          "text": [
            "100%|██████████| 263/263 [01:24<00:00,  3.10it/s]\n"
          ]
        },
        {
          "output_type": "stream",
          "name": "stdout",
          "text": [
            "[ Train | 188/200 ] loss = 0.25932, acc = 0.91813\n"
          ]
        },
        {
          "output_type": "stream",
          "name": "stderr",
          "text": [
            "100%|██████████| 21/21 [00:05<00:00,  3.80it/s]\n"
          ]
        },
        {
          "output_type": "stream",
          "name": "stdout",
          "text": [
            "[ Valid | 188/200 ] loss = 0.98052, acc = 0.77351\n"
          ]
        },
        {
          "output_type": "stream",
          "name": "stderr",
          "text": [
            "100%|██████████| 213/213 [01:05<00:00,  3.26it/s]\n"
          ]
        },
        {
          "output_type": "stream",
          "name": "stdout",
          "text": [
            "Using 82.05% of unlabeld data\n"
          ]
        },
        {
          "output_type": "stream",
          "name": "stderr",
          "text": [
            "100%|██████████| 270/270 [01:26<00:00,  3.13it/s]\n"
          ]
        },
        {
          "output_type": "stream",
          "name": "stdout",
          "text": [
            "[ Train | 189/200 ] loss = 0.26668, acc = 0.91343\n"
          ]
        },
        {
          "output_type": "stream",
          "name": "stderr",
          "text": [
            "100%|██████████| 21/21 [00:05<00:00,  3.82it/s]\n"
          ]
        },
        {
          "output_type": "stream",
          "name": "stdout",
          "text": [
            "[ Valid | 189/200 ] loss = 0.92807, acc = 0.78869\n"
          ]
        },
        {
          "output_type": "stream",
          "name": "stderr",
          "text": [
            "100%|██████████| 213/213 [01:05<00:00,  3.25it/s]\n"
          ]
        },
        {
          "output_type": "stream",
          "name": "stdout",
          "text": [
            "Using 80.45% of unlabeld data\n"
          ]
        },
        {
          "output_type": "stream",
          "name": "stderr",
          "text": [
            "100%|██████████| 266/266 [01:24<00:00,  3.14it/s]\n"
          ]
        },
        {
          "output_type": "stream",
          "name": "stdout",
          "text": [
            "[ Train | 190/200 ] loss = 0.26307, acc = 0.91400\n"
          ]
        },
        {
          "output_type": "stream",
          "name": "stderr",
          "text": [
            "100%|██████████| 21/21 [00:05<00:00,  3.83it/s]\n"
          ]
        },
        {
          "output_type": "stream",
          "name": "stdout",
          "text": [
            "[ Valid | 190/200 ] loss = 0.87380, acc = 0.78929\n"
          ]
        },
        {
          "output_type": "stream",
          "name": "stderr",
          "text": [
            "100%|██████████| 213/213 [01:05<00:00,  3.27it/s]\n"
          ]
        },
        {
          "output_type": "stream",
          "name": "stdout",
          "text": [
            "Using 81.67% of unlabeld data\n"
          ]
        },
        {
          "output_type": "stream",
          "name": "stderr",
          "text": [
            "100%|██████████| 269/269 [01:25<00:00,  3.15it/s]\n"
          ]
        },
        {
          "output_type": "stream",
          "name": "stdout",
          "text": [
            "[ Train | 191/200 ] loss = 0.24498, acc = 0.92309\n"
          ]
        },
        {
          "output_type": "stream",
          "name": "stderr",
          "text": [
            "100%|██████████| 21/21 [00:05<00:00,  3.78it/s]\n"
          ]
        },
        {
          "output_type": "stream",
          "name": "stdout",
          "text": [
            "[ Valid | 191/200 ] loss = 0.78363, acc = 0.79762\n"
          ]
        },
        {
          "output_type": "stream",
          "name": "stderr",
          "text": [
            "100%|██████████| 213/213 [01:04<00:00,  3.28it/s]\n"
          ]
        },
        {
          "output_type": "stream",
          "name": "stdout",
          "text": [
            "Using 82.58% of unlabeld data\n"
          ]
        },
        {
          "output_type": "stream",
          "name": "stderr",
          "text": [
            "100%|██████████| 271/271 [01:25<00:00,  3.17it/s]\n"
          ]
        },
        {
          "output_type": "stream",
          "name": "stdout",
          "text": [
            "[ Train | 192/200 ] loss = 0.24406, acc = 0.91917\n"
          ]
        },
        {
          "output_type": "stream",
          "name": "stderr",
          "text": [
            "100%|██████████| 21/21 [00:05<00:00,  3.82it/s]\n"
          ]
        },
        {
          "output_type": "stream",
          "name": "stdout",
          "text": [
            "[ Valid | 192/200 ] loss = 0.84120, acc = 0.77917\n"
          ]
        },
        {
          "output_type": "stream",
          "name": "stderr",
          "text": [
            "100%|██████████| 213/213 [01:04<00:00,  3.29it/s]\n"
          ]
        },
        {
          "output_type": "stream",
          "name": "stdout",
          "text": [
            "Using 82.23% of unlabeld data\n"
          ]
        },
        {
          "output_type": "stream",
          "name": "stderr",
          "text": [
            "100%|██████████| 270/270 [01:25<00:00,  3.15it/s]\n"
          ]
        },
        {
          "output_type": "stream",
          "name": "stdout",
          "text": [
            "[ Train | 193/200 ] loss = 0.24833, acc = 0.91840\n"
          ]
        },
        {
          "output_type": "stream",
          "name": "stderr",
          "text": [
            "100%|██████████| 21/21 [00:05<00:00,  3.78it/s]\n"
          ]
        },
        {
          "output_type": "stream",
          "name": "stdout",
          "text": [
            "[ Valid | 193/200 ] loss = 1.02269, acc = 0.77351\n"
          ]
        },
        {
          "output_type": "stream",
          "name": "stderr",
          "text": [
            "100%|██████████| 213/213 [01:05<00:00,  3.27it/s]\n"
          ]
        },
        {
          "output_type": "stream",
          "name": "stdout",
          "text": [
            "Using 83.97% of unlabeld data\n"
          ]
        },
        {
          "output_type": "stream",
          "name": "stderr",
          "text": [
            "100%|██████████| 274/274 [01:26<00:00,  3.18it/s]\n"
          ]
        },
        {
          "output_type": "stream",
          "name": "stdout",
          "text": [
            "[ Train | 194/200 ] loss = 0.27360, acc = 0.91070\n"
          ]
        },
        {
          "output_type": "stream",
          "name": "stderr",
          "text": [
            "100%|██████████| 21/21 [00:05<00:00,  3.73it/s]\n"
          ]
        },
        {
          "output_type": "stream",
          "name": "stdout",
          "text": [
            "[ Valid | 194/200 ] loss = 0.86653, acc = 0.78065\n"
          ]
        },
        {
          "output_type": "stream",
          "name": "stderr",
          "text": [
            "100%|██████████| 213/213 [01:04<00:00,  3.28it/s]\n"
          ]
        },
        {
          "output_type": "stream",
          "name": "stdout",
          "text": [
            "Using 80.67% of unlabeld data\n"
          ]
        },
        {
          "output_type": "stream",
          "name": "stderr",
          "text": [
            "100%|██████████| 267/267 [01:23<00:00,  3.18it/s]\n"
          ]
        },
        {
          "output_type": "stream",
          "name": "stdout",
          "text": [
            "[ Train | 195/200 ] loss = 0.24724, acc = 0.91807\n"
          ]
        },
        {
          "output_type": "stream",
          "name": "stderr",
          "text": [
            "100%|██████████| 21/21 [00:06<00:00,  3.40it/s]\n"
          ]
        },
        {
          "output_type": "stream",
          "name": "stdout",
          "text": [
            "[ Valid | 195/200 ] loss = 0.97705, acc = 0.76369\n"
          ]
        },
        {
          "output_type": "stream",
          "name": "stderr",
          "text": [
            "100%|██████████| 213/213 [01:04<00:00,  3.29it/s]\n"
          ]
        },
        {
          "output_type": "stream",
          "name": "stdout",
          "text": [
            "Using 82.12% of unlabeld data\n"
          ]
        },
        {
          "output_type": "stream",
          "name": "stderr",
          "text": [
            "100%|██████████| 270/270 [01:25<00:00,  3.14it/s]\n"
          ]
        },
        {
          "output_type": "stream",
          "name": "stdout",
          "text": [
            "[ Train | 196/200 ] loss = 0.26489, acc = 0.91528\n"
          ]
        },
        {
          "output_type": "stream",
          "name": "stderr",
          "text": [
            "100%|██████████| 21/21 [00:06<00:00,  3.35it/s]\n"
          ]
        },
        {
          "output_type": "stream",
          "name": "stdout",
          "text": [
            "[ Valid | 196/200 ] loss = 1.00280, acc = 0.77411\n"
          ]
        },
        {
          "output_type": "stream",
          "name": "stderr",
          "text": [
            "100%|██████████| 213/213 [01:05<00:00,  3.24it/s]\n"
          ]
        },
        {
          "output_type": "stream",
          "name": "stdout",
          "text": [
            "Using 82.14% of unlabeld data\n"
          ]
        },
        {
          "output_type": "stream",
          "name": "stderr",
          "text": [
            "100%|██████████| 270/270 [01:25<00:00,  3.17it/s]\n"
          ]
        },
        {
          "output_type": "stream",
          "name": "stdout",
          "text": [
            "[ Train | 197/200 ] loss = 0.26219, acc = 0.91331\n"
          ]
        },
        {
          "output_type": "stream",
          "name": "stderr",
          "text": [
            "100%|██████████| 21/21 [00:05<00:00,  3.70it/s]\n"
          ]
        },
        {
          "output_type": "stream",
          "name": "stdout",
          "text": [
            "[ Valid | 197/200 ] loss = 0.80792, acc = 0.80238\n"
          ]
        },
        {
          "output_type": "stream",
          "name": "stderr",
          "text": [
            "100%|██████████| 213/213 [01:04<00:00,  3.31it/s]\n"
          ]
        },
        {
          "output_type": "stream",
          "name": "stdout",
          "text": [
            "Using 79.78% of unlabeld data\n"
          ]
        },
        {
          "output_type": "stream",
          "name": "stderr",
          "text": [
            "100%|██████████| 265/265 [01:24<00:00,  3.12it/s]\n"
          ]
        },
        {
          "output_type": "stream",
          "name": "stdout",
          "text": [
            "[ Train | 198/200 ] loss = 0.26688, acc = 0.91722\n"
          ]
        },
        {
          "output_type": "stream",
          "name": "stderr",
          "text": [
            "100%|██████████| 21/21 [00:06<00:00,  3.34it/s]\n"
          ]
        },
        {
          "output_type": "stream",
          "name": "stdout",
          "text": [
            "[ Valid | 198/200 ] loss = 0.83194, acc = 0.79226\n"
          ]
        },
        {
          "output_type": "stream",
          "name": "stderr",
          "text": [
            "100%|██████████| 213/213 [01:04<00:00,  3.28it/s]\n"
          ]
        },
        {
          "output_type": "stream",
          "name": "stdout",
          "text": [
            "Using 81.62% of unlabeld data\n"
          ]
        },
        {
          "output_type": "stream",
          "name": "stderr",
          "text": [
            "100%|██████████| 269/269 [01:25<00:00,  3.16it/s]\n"
          ]
        },
        {
          "output_type": "stream",
          "name": "stdout",
          "text": [
            "[ Train | 199/200 ] loss = 0.24897, acc = 0.91671\n"
          ]
        },
        {
          "output_type": "stream",
          "name": "stderr",
          "text": [
            "100%|██████████| 21/21 [00:06<00:00,  3.29it/s]\n"
          ]
        },
        {
          "output_type": "stream",
          "name": "stdout",
          "text": [
            "[ Valid | 199/200 ] loss = 0.95493, acc = 0.78750\n"
          ]
        },
        {
          "output_type": "stream",
          "name": "stderr",
          "text": [
            "100%|██████████| 213/213 [01:04<00:00,  3.30it/s]\n"
          ]
        },
        {
          "output_type": "stream",
          "name": "stdout",
          "text": [
            "Using 83.61% of unlabeld data\n"
          ]
        },
        {
          "output_type": "stream",
          "name": "stderr",
          "text": [
            "100%|██████████| 273/273 [01:27<00:00,  3.11it/s]\n"
          ]
        },
        {
          "output_type": "stream",
          "name": "stdout",
          "text": [
            "[ Train | 200/200 ] loss = 0.24107, acc = 0.91678\n"
          ]
        },
        {
          "output_type": "stream",
          "name": "stderr",
          "text": [
            "100%|██████████| 21/21 [00:05<00:00,  3.76it/s]"
          ]
        },
        {
          "output_type": "stream",
          "name": "stdout",
          "text": [
            "[ Valid | 200/200 ] loss = 0.97733, acc = 0.78958\n"
          ]
        },
        {
          "output_type": "stream",
          "name": "stderr",
          "text": [
            "\n"
          ]
        }
      ],
      "source": [
        "total_epochs = 650\n",
        "no_semi_epochs = 200\n",
        "best_acc = 0.0\n",
        "for epoch in range(total_epochs):\n",
        "    if epoch >= no_semi_epochs:\n",
        "        pseudo_set = get_pseudo_labels(unlabeled_set, model, threshold=0.8)\n",
        "        print('Using {0:.2f}% of unlabeld data'.format(len(pseudo_set) / len(unlabeled_set) * 100))\n",
        "        concat_dataset = ConcatDataset([train_set, pseudo_set])\n",
        "        train_loader = DataLoader(concat_dataset, batch_size=batch_size, shuffle=True, num_workers=2, pin_memory=True, drop_last=True)\n",
        "    model.train()\n",
        "    opt_model.train()\n",
        "\n",
        "    train_loss = []\n",
        "    train_accs = []\n",
        "\n",
        "    for batch in tqdm(train_loader):\n",
        "        imgs, labels = batch\n",
        "\n",
        "        if len(imgs) == batch_size:\n",
        "          logits = opt_model(imgs.to(device))\n",
        "        else:\n",
        "          logits = model(imgs.to(device))\n",
        "        \n",
        "\n",
        "        # Calculate the cross-entropy loss.\n",
        "        # We don't need to apply softmax before computing cross-entropy as it is done automatically.\n",
        "        loss = criterion(logits, labels.to(device))\n",
        "\n",
        "        # Gradients stored in the parameters in the previous step should be cleared out first.\n",
        "        optimizer.zero_grad()\n",
        "\n",
        "        # Compute the gradients for parameters.\n",
        "        loss.backward()\n",
        "\n",
        "        # Clip the gradient norms for stable training.\n",
        "        grad_norm = nn.utils.clip_grad_norm_(opt_model.parameters(), max_norm=10)\n",
        "\n",
        "        # Update the parameters with computed gradients.\n",
        "        optimizer.step()\n",
        "\n",
        "        # Compute the accuracy for current batch.\n",
        "        acc = (logits.argmax(dim=-1) == labels.to(device)).float().mean()\n",
        "\n",
        "        # Record the loss and accuracy.\n",
        "        train_loss.append(loss.item())\n",
        "        train_accs.append(acc)\n",
        "\n",
        "    # The average loss and accuracy of the training set is the average of the recorded values.\n",
        "    train_loss = sum(train_loss) / len(train_loss)\n",
        "    train_acc = sum(train_accs) / len(train_accs)\n",
        "\n",
        "    # Print the information.\n",
        "    print(f\"[ Train | {epoch + 1:03d}/{total_epochs:03d} ] loss = {train_loss:.5f}, acc = {train_acc:.5f}\")\n",
        "\n",
        "    # ---------- Validation ----------\n",
        "    # Make sure the model is in eval mode so that some modules like dropout are disabled and work normally.\n",
        "    model.eval()\n",
        "    opt_model.eval()\n",
        "\n",
        "    # These are used to record information in validation.\n",
        "    valid_loss = []\n",
        "    valid_accs = []\n",
        "\n",
        "    # Iterate the validation set by batches.\n",
        "    for batch in tqdm(valid_loader):\n",
        "\n",
        "        # A batch consists of image data and corresponding labels.\n",
        "        imgs, labels = batch\n",
        "\n",
        "        # We don't need gradient in validation.\n",
        "        # Using torch.no_grad() accelerates the forward process.\n",
        "        with torch.no_grad():\n",
        "          logits = model(imgs.to(device))\n",
        "\n",
        "        # We can still compute the loss (but not the gradient).\n",
        "        loss = criterion(logits, labels.to(device))\n",
        "\n",
        "        # Compute the accuracy for current batch.\n",
        "        acc = (logits.argmax(dim=-1) == labels.to(device)).float().mean()\n",
        "\n",
        "        # Record the loss and accuracy.\n",
        "        valid_loss.append(loss.item())\n",
        "        valid_accs.append(acc)\n",
        "\n",
        "    # The average loss and accuracy for entire validation set is the average of the recorded values.\n",
        "    valid_loss = sum(valid_loss) / len(valid_loss)\n",
        "    valid_acc = sum(valid_accs) / len(valid_accs)\n",
        "\n",
        "    # Print the information.\n",
        "    print(f\"[ Valid | {epoch + 1:03d}/{total_epochs:03d} ] loss = {valid_loss:.5f}, acc = {valid_acc:.5f}\")\n",
        "    if valid_acc > best_acc:\n",
        "        best_acc = valid_acc\n",
        "        torch.save(model.state_dict(), './model.ckpt')\n",
        "        print('Saving model with acc {:.5f}'.format(best_acc))\n",
        "    if epoch == no_semi_epochs-1:\n",
        "        print('Start semi-supervising with previous best acc {:.5f}'.format(best_acc))\n",
        "        model.load_state_dict(torch.load('./model.ckpt'))"
      ]
    },
    {
      "cell_type": "markdown",
      "metadata": {
        "id": "2o1oCMXy61_3"
      },
      "source": [
        "## **Testing**\n",
        "\n",
        "For inference, we need to make sure the model is in eval mode, and the order of the dataset should not be shuffled (\"shuffle=False\" in test_loader).\n",
        "\n",
        "Last but not least, don't forget to save the predictions into a single CSV file.\n",
        "The format of CSV file should follow the rules mentioned in the slides.\n",
        "\n",
        "### **WARNING -- Keep in Mind**\n",
        "\n",
        "Cheating includes but not limited to:\n",
        "1.   using testing labels,\n",
        "2.   submitting results to previous Kaggle competitions,\n",
        "3.   sharing predictions with others,\n",
        "4.   copying codes from any creatures on Earth,\n",
        "5.   asking other people to do it for you.\n",
        "\n",
        "Any violations bring you punishments from getting a discount on the final grade to failing the course.\n",
        "\n",
        "It is your responsibility to check whether your code violates the rules.\n",
        "When citing codes from the Internet, you should know what these codes exactly do.\n",
        "You will **NOT** be tolerated if you break the rule and claim you don't know what these codes do.\n"
      ]
    },
    {
      "cell_type": "code",
      "execution_count": 11,
      "metadata": {
        "id": "4HznI9_-ocrq",
        "colab": {
          "base_uri": "https://localhost:8080/"
        },
        "outputId": "842cfe0e-97b0-46df-9003-29e73cf6ce21"
      },
      "outputs": [
        {
          "output_type": "stream",
          "name": "stderr",
          "text": [
            "100%|██████████| 105/105 [00:33<00:00,  3.12it/s]\n"
          ]
        }
      ],
      "source": [
        "model.load_state_dict(torch.load('./model.ckpt'))\n",
        "model.eval()\n",
        "opt_model.eval()\n",
        "\n",
        "# Initialize a list to store the predictions.\n",
        "predictions = []\n",
        "\n",
        "# Iterate the testing set by batches.\n",
        "for batch in tqdm(test_loader):\n",
        "    imgs, _ = batch\n",
        "    with torch.no_grad():\n",
        "      logits = model(imgs.to(device))\n",
        "\n",
        "    # Take the class with greatest logit as prediction and record it.\n",
        "    predictions.extend(logits.argmax(dim=-1).cpu().numpy().tolist())"
      ]
    },
    {
      "cell_type": "code",
      "execution_count": 12,
      "metadata": {
        "id": "3t2q2Th85ZUE"
      },
      "outputs": [],
      "source": [
        "# Save predictions into the file.\n",
        "with open(\"predict.csv\", \"w\") as f:\n",
        "\n",
        "    # The first row must be \"Id, Category\"\n",
        "    f.write(\"Id,Category\\n\")\n",
        "\n",
        "    # For the rest of the rows, each image id corresponds to a predicted class.\n",
        "    for i, pred in  enumerate(predictions):\n",
        "         f.write(f\"{i},{pred}\\n\")"
      ]
    }
  ],
  "metadata": {
    "accelerator": "GPU",
    "colab": {
      "provenance": []
    },
    "gpuClass": "standard",
    "kernelspec": {
      "display_name": "Python 3",
      "name": "python3"
    }
  },
  "nbformat": 4,
  "nbformat_minor": 0
}